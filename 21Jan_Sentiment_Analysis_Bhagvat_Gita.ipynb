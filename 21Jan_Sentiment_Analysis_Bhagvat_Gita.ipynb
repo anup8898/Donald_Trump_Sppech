{
  "nbformat": 4,
  "nbformat_minor": 0,
  "metadata": {
    "colab": {
      "name": "21Jan_Sentiment_Analysis_Bhagvat_Gita.ipynb",
      "provenance": [],
      "collapsed_sections": [],
      "toc_visible": true,
      "authorship_tag": "ABX9TyNC0TmrP1v/pFxKzcqs+5Mk",
      "include_colab_link": true
    },
    "kernelspec": {
      "name": "python3",
      "display_name": "Python 3"
    }
  },
  "cells": [
    {
      "cell_type": "markdown",
      "metadata": {
        "id": "view-in-github",
        "colab_type": "text"
      },
      "source": [
        "<a href=\"https://colab.research.google.com/github/anup8898/Donald_Trump_Sppech/blob/main/21Jan_Sentiment_Analysis_Bhagvat_Gita.ipynb\" target=\"_parent\"><img src=\"https://colab.research.google.com/assets/colab-badge.svg\" alt=\"Open In Colab\"/></a>"
      ]
    },
    {
      "cell_type": "code",
      "metadata": {
        "id": "TPmVGeqA8Nzx"
      },
      "source": [
        "from google.colab import files \n",
        "import pandas as pd\n",
        "\n"
      ],
      "execution_count": null,
      "outputs": []
    },
    {
      "cell_type": "markdown",
      "metadata": {
        "id": "roGetTii1Eu3"
      },
      "source": [
        "# Import of Initial Libraries"
      ]
    },
    {
      "cell_type": "code",
      "metadata": {
        "colab": {
          "resources": {
            "http://localhost:8080/nbextensions/google.colab/files.js": {
              "data": "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",
              "ok": true,
              "headers": [
                [
                  "content-type",
                  "application/javascript"
                ]
              ],
              "status": 200,
              "status_text": ""
            }
          },
          "base_uri": "https://localhost:8080/",
          "height": 73
        },
        "id": "sXpOHvpP8cuJ",
        "outputId": "d8929bb9-0021-4fab-9e7d-45df263e1d3c"
      },
      "source": [
        "uploaded = files.upload()"
      ],
      "execution_count": null,
      "outputs": [
        {
          "output_type": "display_data",
          "data": {
            "text/html": [
              "\n",
              "     <input type=\"file\" id=\"files-ccbc3c14-7efb-4b13-a201-35340e5f25bc\" name=\"files[]\" multiple disabled\n",
              "        style=\"border:none\" />\n",
              "     <output id=\"result-ccbc3c14-7efb-4b13-a201-35340e5f25bc\">\n",
              "      Upload widget is only available when the cell has been executed in the\n",
              "      current browser session. Please rerun this cell to enable.\n",
              "      </output>\n",
              "      <script src=\"/nbextensions/google.colab/files.js\"></script> "
            ],
            "text/plain": [
              "<IPython.core.display.HTML object>"
            ]
          },
          "metadata": {
            "tags": []
          }
        },
        {
          "output_type": "stream",
          "text": [
            "Saving Geeta_clean.csv to Geeta_clean.csv\n"
          ],
          "name": "stdout"
        }
      ]
    },
    {
      "cell_type": "code",
      "metadata": {
        "id": "xyDIHaHf8q3Q"
      },
      "source": [
        "import io\n"
      ],
      "execution_count": null,
      "outputs": []
    },
    {
      "cell_type": "code",
      "metadata": {
        "id": "cCnMNBRPNvho"
      },
      "source": [
        "df = pd.read_csv(io.BytesIO(uploaded['Geeta_clean.csv']))"
      ],
      "execution_count": null,
      "outputs": []
    },
    {
      "cell_type": "markdown",
      "metadata": {
        "id": "8QawSeMsE-aQ"
      },
      "source": [
        "# Raw Data Frame"
      ]
    },
    {
      "cell_type": "code",
      "metadata": {
        "colab": {
          "base_uri": "https://localhost:8080/",
          "height": 587
        },
        "id": "0kJ_TPixCwKU",
        "outputId": "056fd3ab-b84e-4238-dab0-c1e5f2069fc6"
      },
      "source": [
        "df\n"
      ],
      "execution_count": null,
      "outputs": [
        {
          "output_type": "execute_result",
          "data": {
            "text/html": [
              "<div>\n",
              "<style scoped>\n",
              "    .dataframe tbody tr th:only-of-type {\n",
              "        vertical-align: middle;\n",
              "    }\n",
              "\n",
              "    .dataframe tbody tr th {\n",
              "        vertical-align: top;\n",
              "    }\n",
              "\n",
              "    .dataframe thead th {\n",
              "        text-align: right;\n",
              "    }\n",
              "</style>\n",
              "<table border=\"1\" class=\"dataframe\">\n",
              "  <thead>\n",
              "    <tr style=\"text-align: right;\">\n",
              "      <th></th>\n",
              "      <th>Chapter</th>\n",
              "      <th>Description</th>\n",
              "    </tr>\n",
              "  </thead>\n",
              "  <tbody>\n",
              "    <tr>\n",
              "      <th>0</th>\n",
              "      <td>CHAPTER I</td>\n",
              "      <td>Dhritirashtra:\\nRanged thus for battle on the ...</td>\n",
              "    </tr>\n",
              "    <tr>\n",
              "      <th>1</th>\n",
              "      <td>CHAPTER II</td>\n",
              "      <td>Sanjaya.\\nHim, filled with such compassion and...</td>\n",
              "    </tr>\n",
              "    <tr>\n",
              "      <th>2</th>\n",
              "      <td>CHAPTER III</td>\n",
              "      <td>Arjuna.\\nThou whom all mortals praise, Janarda...</td>\n",
              "    </tr>\n",
              "    <tr>\n",
              "      <th>3</th>\n",
              "      <td>CHAPTER IV</td>\n",
              "      <td>Krishna.\\nThis deathless Yoga, this deep union...</td>\n",
              "    </tr>\n",
              "    <tr>\n",
              "      <th>4</th>\n",
              "      <td>CHAPTER V</td>\n",
              "      <td>Arjuna.\\nYet, Krishna! at the one time thou do...</td>\n",
              "    </tr>\n",
              "    <tr>\n",
              "      <th>5</th>\n",
              "      <td>CHAPTER VI</td>\n",
              "      <td>Krishna.\\nTherefore, who doeth work rightful t...</td>\n",
              "    </tr>\n",
              "    <tr>\n",
              "      <th>6</th>\n",
              "      <td>CHAPTER VII</td>\n",
              "      <td>Krishna.\\nLearn now, dear Prince! how, if thy ...</td>\n",
              "    </tr>\n",
              "    <tr>\n",
              "      <th>7</th>\n",
              "      <td>CHAPTER VIII</td>\n",
              "      <td>Arjuna.\\nWho is that BRAHMA? What that Soul of...</td>\n",
              "    </tr>\n",
              "    <tr>\n",
              "      <th>8</th>\n",
              "      <td>CHAPTER IX</td>\n",
              "      <td>Krishna.\\nNow will I open unto thee--whose hea...</td>\n",
              "    </tr>\n",
              "    <tr>\n",
              "      <th>9</th>\n",
              "      <td>CHAPTER X</td>\n",
              "      <td>Hear farther yet, thou Long-Armed Lord! these ...</td>\n",
              "    </tr>\n",
              "    <tr>\n",
              "      <th>10</th>\n",
              "      <td>CHAPTER XI</td>\n",
              "      <td>Arjuna.\\nThis, for my soul's peace, have I hea...</td>\n",
              "    </tr>\n",
              "    <tr>\n",
              "      <th>11</th>\n",
              "      <td>CHAPTER XII</td>\n",
              "      <td>Arjuna.\\nLord! of the men who serve Thee--true...</td>\n",
              "    </tr>\n",
              "    <tr>\n",
              "      <th>12</th>\n",
              "      <td>CHAPTER XIII</td>\n",
              "      <td>Arjuna.\\nNow would I hear, O gracious Kesava![...</td>\n",
              "    </tr>\n",
              "    <tr>\n",
              "      <th>13</th>\n",
              "      <td>CHAPTER XIV</td>\n",
              "      <td>Krishna.\\nYet farther will I open unto thee\\nT...</td>\n",
              "    </tr>\n",
              "    <tr>\n",
              "      <th>14</th>\n",
              "      <td>CHAPTER XV</td>\n",
              "      <td>Krishna.\\nMen call the Aswattha,--the Banyan-t...</td>\n",
              "    </tr>\n",
              "    <tr>\n",
              "      <th>15</th>\n",
              "      <td>CHAPTER XVI</td>\n",
              "      <td>rishna.\\nFearlessness, singleness of soul, the...</td>\n",
              "    </tr>\n",
              "    <tr>\n",
              "      <th>16</th>\n",
              "      <td>CHAPTER XVII</td>\n",
              "      <td>Arjuna.\\nIf men forsake the holy ordinance,Hee...</td>\n",
              "    </tr>\n",
              "    <tr>\n",
              "      <th>17</th>\n",
              "      <td>CHAPTER XVIII</td>\n",
              "      <td>Arjuna.\\nFain would I better know, Thou Glorio...</td>\n",
              "    </tr>\n",
              "  </tbody>\n",
              "</table>\n",
              "</div>"
            ],
            "text/plain": [
              "          Chapter                                        Description\n",
              "0       CHAPTER I  Dhritirashtra:\\nRanged thus for battle on the ...\n",
              "1      CHAPTER II  Sanjaya.\\nHim, filled with such compassion and...\n",
              "2     CHAPTER III  Arjuna.\\nThou whom all mortals praise, Janarda...\n",
              "3      CHAPTER IV  Krishna.\\nThis deathless Yoga, this deep union...\n",
              "4       CHAPTER V  Arjuna.\\nYet, Krishna! at the one time thou do...\n",
              "5      CHAPTER VI  Krishna.\\nTherefore, who doeth work rightful t...\n",
              "6     CHAPTER VII  Krishna.\\nLearn now, dear Prince! how, if thy ...\n",
              "7    CHAPTER VIII  Arjuna.\\nWho is that BRAHMA? What that Soul of...\n",
              "8      CHAPTER IX  Krishna.\\nNow will I open unto thee--whose hea...\n",
              "9       CHAPTER X  Hear farther yet, thou Long-Armed Lord! these ...\n",
              "10     CHAPTER XI  Arjuna.\\nThis, for my soul's peace, have I hea...\n",
              "11    CHAPTER XII  Arjuna.\\nLord! of the men who serve Thee--true...\n",
              "12   CHAPTER XIII  Arjuna.\\nNow would I hear, O gracious Kesava![...\n",
              "13    CHAPTER XIV  Krishna.\\nYet farther will I open unto thee\\nT...\n",
              "14     CHAPTER XV  Krishna.\\nMen call the Aswattha,--the Banyan-t...\n",
              "15    CHAPTER XVI  rishna.\\nFearlessness, singleness of soul, the...\n",
              "16   CHAPTER XVII  Arjuna.\\nIf men forsake the holy ordinance,Hee...\n",
              "17  CHAPTER XVIII  Arjuna.\\nFain would I better know, Thou Glorio..."
            ]
          },
          "metadata": {
            "tags": []
          },
          "execution_count": 52
        }
      ]
    },
    {
      "cell_type": "markdown",
      "metadata": {
        "id": "ccMBQ4XYFLpY"
      },
      "source": [
        "# Initial Cleaning of Data"
      ]
    },
    {
      "cell_type": "code",
      "metadata": {
        "id": "wf3a3UGBUB82"
      },
      "source": [
        "df.dropna(axis=0,how='all',inplace=True)"
      ],
      "execution_count": null,
      "outputs": []
    },
    {
      "cell_type": "code",
      "metadata": {
        "colab": {
          "base_uri": "https://localhost:8080/",
          "height": 587
        },
        "id": "LU1GfpNNYir5",
        "outputId": "7f6402a7-7369-4e00-8ac5-39efb8aedd76"
      },
      "source": [
        "df"
      ],
      "execution_count": null,
      "outputs": [
        {
          "output_type": "execute_result",
          "data": {
            "text/html": [
              "<div>\n",
              "<style scoped>\n",
              "    .dataframe tbody tr th:only-of-type {\n",
              "        vertical-align: middle;\n",
              "    }\n",
              "\n",
              "    .dataframe tbody tr th {\n",
              "        vertical-align: top;\n",
              "    }\n",
              "\n",
              "    .dataframe thead th {\n",
              "        text-align: right;\n",
              "    }\n",
              "</style>\n",
              "<table border=\"1\" class=\"dataframe\">\n",
              "  <thead>\n",
              "    <tr style=\"text-align: right;\">\n",
              "      <th></th>\n",
              "      <th>Chapter</th>\n",
              "      <th>Description</th>\n",
              "    </tr>\n",
              "  </thead>\n",
              "  <tbody>\n",
              "    <tr>\n",
              "      <th>0</th>\n",
              "      <td>CHAPTER I</td>\n",
              "      <td>Dhritirashtra:\\nRanged thus for battle on the ...</td>\n",
              "    </tr>\n",
              "    <tr>\n",
              "      <th>1</th>\n",
              "      <td>CHAPTER II</td>\n",
              "      <td>Sanjaya.\\nHim, filled with such compassion and...</td>\n",
              "    </tr>\n",
              "    <tr>\n",
              "      <th>2</th>\n",
              "      <td>CHAPTER III</td>\n",
              "      <td>Arjuna.\\nThou whom all mortals praise, Janarda...</td>\n",
              "    </tr>\n",
              "    <tr>\n",
              "      <th>3</th>\n",
              "      <td>CHAPTER IV</td>\n",
              "      <td>Krishna.\\nThis deathless Yoga, this deep union...</td>\n",
              "    </tr>\n",
              "    <tr>\n",
              "      <th>4</th>\n",
              "      <td>CHAPTER V</td>\n",
              "      <td>Arjuna.\\nYet, Krishna! at the one time thou do...</td>\n",
              "    </tr>\n",
              "    <tr>\n",
              "      <th>5</th>\n",
              "      <td>CHAPTER VI</td>\n",
              "      <td>Krishna.\\nTherefore, who doeth work rightful t...</td>\n",
              "    </tr>\n",
              "    <tr>\n",
              "      <th>6</th>\n",
              "      <td>CHAPTER VII</td>\n",
              "      <td>Krishna.\\nLearn now, dear Prince! how, if thy ...</td>\n",
              "    </tr>\n",
              "    <tr>\n",
              "      <th>7</th>\n",
              "      <td>CHAPTER VIII</td>\n",
              "      <td>Arjuna.\\nWho is that BRAHMA? What that Soul of...</td>\n",
              "    </tr>\n",
              "    <tr>\n",
              "      <th>8</th>\n",
              "      <td>CHAPTER IX</td>\n",
              "      <td>Krishna.\\nNow will I open unto thee--whose hea...</td>\n",
              "    </tr>\n",
              "    <tr>\n",
              "      <th>9</th>\n",
              "      <td>CHAPTER X</td>\n",
              "      <td>Hear farther yet, thou Long-Armed Lord! these ...</td>\n",
              "    </tr>\n",
              "    <tr>\n",
              "      <th>10</th>\n",
              "      <td>CHAPTER XI</td>\n",
              "      <td>Arjuna.\\nThis, for my soul's peace, have I hea...</td>\n",
              "    </tr>\n",
              "    <tr>\n",
              "      <th>11</th>\n",
              "      <td>CHAPTER XII</td>\n",
              "      <td>Arjuna.\\nLord! of the men who serve Thee--true...</td>\n",
              "    </tr>\n",
              "    <tr>\n",
              "      <th>12</th>\n",
              "      <td>CHAPTER XIII</td>\n",
              "      <td>Arjuna.\\nNow would I hear, O gracious Kesava![...</td>\n",
              "    </tr>\n",
              "    <tr>\n",
              "      <th>13</th>\n",
              "      <td>CHAPTER XIV</td>\n",
              "      <td>Krishna.\\nYet farther will I open unto thee\\nT...</td>\n",
              "    </tr>\n",
              "    <tr>\n",
              "      <th>14</th>\n",
              "      <td>CHAPTER XV</td>\n",
              "      <td>Krishna.\\nMen call the Aswattha,--the Banyan-t...</td>\n",
              "    </tr>\n",
              "    <tr>\n",
              "      <th>15</th>\n",
              "      <td>CHAPTER XVI</td>\n",
              "      <td>rishna.\\nFearlessness, singleness of soul, the...</td>\n",
              "    </tr>\n",
              "    <tr>\n",
              "      <th>16</th>\n",
              "      <td>CHAPTER XVII</td>\n",
              "      <td>Arjuna.\\nIf men forsake the holy ordinance,Hee...</td>\n",
              "    </tr>\n",
              "    <tr>\n",
              "      <th>17</th>\n",
              "      <td>CHAPTER XVIII</td>\n",
              "      <td>Arjuna.\\nFain would I better know, Thou Glorio...</td>\n",
              "    </tr>\n",
              "  </tbody>\n",
              "</table>\n",
              "</div>"
            ],
            "text/plain": [
              "          Chapter                                        Description\n",
              "0       CHAPTER I  Dhritirashtra:\\nRanged thus for battle on the ...\n",
              "1      CHAPTER II  Sanjaya.\\nHim, filled with such compassion and...\n",
              "2     CHAPTER III  Arjuna.\\nThou whom all mortals praise, Janarda...\n",
              "3      CHAPTER IV  Krishna.\\nThis deathless Yoga, this deep union...\n",
              "4       CHAPTER V  Arjuna.\\nYet, Krishna! at the one time thou do...\n",
              "5      CHAPTER VI  Krishna.\\nTherefore, who doeth work rightful t...\n",
              "6     CHAPTER VII  Krishna.\\nLearn now, dear Prince! how, if thy ...\n",
              "7    CHAPTER VIII  Arjuna.\\nWho is that BRAHMA? What that Soul of...\n",
              "8      CHAPTER IX  Krishna.\\nNow will I open unto thee--whose hea...\n",
              "9       CHAPTER X  Hear farther yet, thou Long-Armed Lord! these ...\n",
              "10     CHAPTER XI  Arjuna.\\nThis, for my soul's peace, have I hea...\n",
              "11    CHAPTER XII  Arjuna.\\nLord! of the men who serve Thee--true...\n",
              "12   CHAPTER XIII  Arjuna.\\nNow would I hear, O gracious Kesava![...\n",
              "13    CHAPTER XIV  Krishna.\\nYet farther will I open unto thee\\nT...\n",
              "14     CHAPTER XV  Krishna.\\nMen call the Aswattha,--the Banyan-t...\n",
              "15    CHAPTER XVI  rishna.\\nFearlessness, singleness of soul, the...\n",
              "16   CHAPTER XVII  Arjuna.\\nIf men forsake the holy ordinance,Hee...\n",
              "17  CHAPTER XVIII  Arjuna.\\nFain would I better know, Thou Glorio..."
            ]
          },
          "metadata": {
            "tags": []
          },
          "execution_count": 54
        }
      ]
    },
    {
      "cell_type": "code",
      "metadata": {
        "colab": {
          "base_uri": "https://localhost:8080/"
        },
        "id": "G9mab_Q7E9RN",
        "outputId": "ef0b21b1-038d-4037-9002-2f838b128550"
      },
      "source": [
        "df.Description.value_counts()"
      ],
      "execution_count": null,
      "outputs": [
        {
          "output_type": "execute_result",
          "data": {
            "text/plain": [
              "Krishna.\\nTherefore, who doeth work rightful to do,\\nNot seeking gain from work, that man, O Prince!\\nIs Sanyasi and Yogi--both in one\\nAnd he is neither who lights not the flame\\nOf sacrifice, nor setteth hand to task.\\nRegard as true Renouncer him that makes\\nWorship by work, for who renounceth not\\nWorks not as Yogin. So is that well said:\\n\"By works the votary doth rise to faith,\\nAnd saintship is the ceasing from all works;\\nBecause the perfect Yogin acts--but acts\\nUnmoved by passions and unbound by deeds,\\nSetting result aside.\\nLet each man raise\\nThe Self by Soul, not trample down his Self,\\nSince Soul that is Self's friend may grow Self's foe.\\nSoul is Self's friend when Self doth rule o'er Self,\\nBut Self turns enemy if Soul's own self\\nHates Self as not itself.[FN#10]\\nThe sovereign soul\\nOf him who lives self-governed and at peace\\nIs centred in itself, taking alike\\nPleasure and pain; heat, cold; glory and shame.\\nHe is the Yogi, he is Yukta, glad\\nWith joy of light and truth; dwelling apart\\nUpon a peak, with senses subjugate\\nWhereto the clod, the rock, the glistering gold\\nShow all as one. By this sign is he known\\nBeing of equal grace to comrades, friends,\\nChance-comers, strangers, lovers, enemies,\\nAliens and kinsmen; loving all alike,\\nEvil or good.\\nSequestered should he sit,\\nSteadfastly meditating, solitary,\\nHis thoughts controlled, his passions laid away,\\nQuit of belongings. In a fair, still spot\\nHaving his fixed abode,--not too much raised,\\nNor yet too low,--let him abide, his goods\\nA cloth, a deerskin, and the Kusa-grass.\\nThere, setting hard his mind upon The One,\\nRestraining heart and senses, silent, calm,\\nLet him accomplish Yoga, and achieve\\nPureness of soul, holding immovable\\nBody and neck and head, his gaze absorbed\\nUpon his nose-end,[FN#11] rapt from all around,\\nTranquil in spirit, free of fear, intent\\nUpon his Brahmacharya vow, devout,\\nMusing on Me, lost in the thought of Me.\\nThat Yojin, so devoted, so controlled,\\nComes to the peace beyond,--My peace, the peace\\nOf high Nirvana!\\nBut for earthly needs\\nReligion is not his who too much fasts\\nOr too much feasts, nor his who sleeps away\\nAn idle mind; nor his who wears to waste\\nHis strength in vigils. Nay, Arjuna! call\\nThat the true piety which most removes\\nEarth-aches and ills, where one is moderate\\nIn eating and in resting, and in sport;\\nMeasured in wish and act; sleeping betimes,\\nWaking betimes for duty.\\nWhen the man,\\nSo living, centres on his soul the thought\\nStraitly restrained--untouched internally\\nBy stress of sense--then is he Yukta. See!\\nSteadfast a lamp burns sheltered from the wind;\\nSuch is the likeness of the Yogi's mind\\nShut from sense-storms and burning bright to Heaven.\\nWhen mind broods placid, soothed with holy wont;\\nWhen Self contemplates self, and in itself\\nHath comfort; when it knows the nameless joy\\nBeyond all scope of sense, revealed to soul--\\nOnly to soul! and, knowing, wavers not,\\nTrue to the farther Truth; when, holding this,\\nIt deems no other treasure comparable,\\nBut, harboured there, cannot be stirred or shook\\nBy any gravest grief, call that state \"peace,\"\\nThat happy severance Yoga; call that man\\nThe perfect Yogin!\\nSteadfastly the will\\nMust toil thereto, till efforts end in ease,\\nAnd thought has passed from thinking. Shaking off\\nAll longings bred by dreams of fame and gain,\\nShutting the doorways of the senses close\\nWith watchful ward; so, step by step, it comes\\nTo gift of peace assured and heart assuaged,\\nWhen the mind dwells self-wrapped, and the soul broods\\nCumberless. But, as often as the heart\\nBreaks--wild and wavering--from control, so oft\\nLet him re-curb it, let him rein it back\\nTo the soul's governance; for perfect bliss\\nGrows only in the bosom tranquillised,\\nThe spirit passionless, purged from offence,\\nVowed to the Infinite. He who thus vows\\nHis soul to the Supreme Soul, quitting sin,\\nPasses unhindered to the endless bliss\\nOf unity with Brahma. He so vowed,\\nSo blended, sees the Life-Soul resident\\nIn all things living, and all living things\\nIn that Life-Soul contained. And whoso thus\\nDiscerneth Me in all, and all in Me,\\nI never let him go; nor looseneth he\\nHold upon Me; but, dwell he where he may,\\nWhate'er his life, in Me he dwells and lives,\\nBecause he knows and worships Me, Who dwell\\nIn all which lives, and cleaves to Me in all.\\nArjuna! if a man sees everywhere--\\nTaught by his own similitude--one Life,\\nOne Essence in the Evil and the Good,\\nHold him a Yogi, yea! well-perfected!\\nArjuna.\\nSlayer of Madhu! yet again, this Yog,\\nThis Peace, derived from equanimity,\\nMade known by thee--I see no fixity\\nTherein, no rest, because the heart of men\\nIs unfixed, Krishna! rash, tumultuous,\\nWilful and strong. It were all one, I think,\\nTo hold the wayward wind, as tame man's heart.\\nKrishna.\\nHero long-armed! beyond denial, hard\\nMan's heart is to restrain, and wavering;\\nYet may it grow restrained by habit, Prince!\\nBy wont of self-command. This Yog, I say,\\nCometh not lightly to th' ungoverned ones;\\nBut he who will be master of himself\\nShall win it, if he stoutly strive thereto.\\nArjuna.\\nAnd what road goeth he who, having faith,\\nFails, Krishna! in the striving; falling back\\nFrom holiness, missing the perfect rule?\\nIs he not lost, straying from Brahma's light,\\nLike the vain cloud, which floats 'twixt earth and heaven\\nWhen lightning splits it, and it vanisheth?\\nFain would I hear thee answer me herein,\\nSince, Krishna! none save thou can clear the doubt.\\nKrishna.\\nHe is not lost, thou Son of Pritha! No!\\nNor earth, nor heaven is forfeit, even for him,\\nBecause no heart that holds one right desire\\nTreadeth the road of loss! He who should fail,\\nDesiring righteousness, cometh at death\\nUnto the Region of the Just; dwells there\\nMeasureless years, and being born anew,\\nBeginneth life again in some fair home\\nAmid the mild and happy. It may chance\\nHe doth descend into a Yogin house\\nOn Virtue's breast; but that is rare! Such birth\\nIs hard to be obtained on this earth, Chief!\\nSo hath he back again what heights of heart\\nHe did achieve, and so he strives anew\\nTo perfectness, with better hope, dear Prince!\\nFor by the old desire he is drawn on\\nUnwittingly; and only to desire\\nThe purity of Yog is to pass\\nBeyond the Sabdabrahm, the spoken Ved.\\nBut, being Yogi, striving strong and long,\\nPurged from transgressions, perfected by births\\nFollowing on births, he plants his feet at last\\nUpon the farther path. Such as one ranks\\nAbove ascetics, higher than the wise,\\nBeyond achievers of vast deeds! Be thou\\nYogi Arjuna! And of such believe,\\nTruest and best is he who worships Me\\nWith inmost soul, stayed on My Mystery!\\nHERE ENDETH CHAPTER VI. OF THE BHAGAVAD-GITA,\\nEntitled \"Atmasanyamayog,\"\\nOr \"The Book of Religion by Self-Restraint.\"                                                                                                                                                                                                                                                                                                                                                                                                                                                                                                                                                                                                                                                                                                                                                                                                                                                                                                                                                                                                                                                                                                                                                                                                                                                                                                                                                                                                                                                                                                                                                                                                                                                                                                                                                                                                                                                                                                                                                                                                                                                                                                                                                                                                                                                                                                                                                                                                                                                                                                                                                                                                                                                                                                                                                                                                                                                                                                                                                                                                                                                                                                                                                                                                                                                                                                                                                                                                                                                                                                                                                                                                                                                                                                                                                                                                                                                                                                                                                                                                                                                                                                                                                                                                                                                                                                                                                                                                                                                                                                                                                                                                                                                                                                                                                                                                                                                                                                                                                                                                                                                                                                                                                                                                                                                                                                                                                                                                                                                                                                                                                                                                                                                                                                                                                                                                                                                                                                                                                                                     1\n",
              "Arjuna.\\nThis, for my soul's peace, have I heard from Thee,\\nThe unfolding of the Mystery Supreme\\nNamed Adhyatman; comprehending which,My darkness is dispelled; for now I know--\\nO Lotus-eyed![FN#21]--whence is the birth of men,And whence their death, and what the majesties\\nOf Thine immortal rule. Fain would I see,As thou Thyself declar'st it, Sovereign Lord!\\nThe likeness of that glory of Thy FormWholly revealed. O Thou Divinest One!\\nIf this can be, if I may bear the sight,Make Thyself visible, Lord of all prayers!\\nShow me Thy very self, the Eternal God!Krishna.\\nGaze, then, thou Son of Pritha! I manifest for thee\\nThose hundred thousand thousand shapes that clothe my Mystery:I show thee all my semblances, infinite, rich, divine,\\nMy changeful hues, my countless forms. See! in this face of mine,Adityas, Vasus, Rudras, Aswins, and Maruts; see\\nWonders unnumbered, Indian Prince! revealed to none save thee.Behold! this is the Universe!--Look! what is live and dead\\nI gather all in one--in Me! Gaze, as thy lips have said,On GOD ETERNAL, VERY GOD! See Me! see what thou prayest!\\nThou canst not!--nor, with human eyes, Arjuna! ever mayest!Therefore I give thee sense divine. Have other eyes, new light!\\nAnd, look! This is My glory, unveiled to mortal sight!Sanjaya.\\nThen, O King! the God, so saying,Stood, to Pritha's Son displaying\\nAll the splendour, wonder, dread Of His vast Almighty-head.\\nOut of countless eyes beholding,Out of countless mouths commanding,\\nCountless mystic forms enfolding\\nIn one Form: supremely standing\\nCountless radiant glories wearing,Countless heavenly weapons bearing,\\nCrowned with garlands of star-clusters,Robed in garb of woven lustres,\\nBreathing from His perfect Presence\\nBreaths of every subtle essence\\nOf all heavenly odours; shedding\\nBlinding brilliance; overspreading--\\nBoundless, beautiful--all spaces\\nWith His all-regarding faces;So He showed! If there should rise\\nSuddenly within the skies\\nSunburst of a thousand suns\\nFlooding earth with beams undeemed-of,Then might be that Holy One's\\nMajesty and radiance dreamed of!So did Pandu's Son behold\\nAll this universe enfold\\nAll its huge diversity\\nInto one vast shape, and be\\nVisible, and viewed, and blended\\nIn one Body--subtle, splendid,Nameless--th' All-comprehending\\nGod of Gods, the Never-Ending\\nDeity!\\nBut, sore amazed,\\nThrilled, o'erfilled, dazzled, and dazed,Arjuna knelt; and bowed his head,\\nAnd clasped his palms; and cried, and said:Arjuna.\\nYea! I have seen! I see!Lord! all is wrapped in Thee!The gods are in Thy glorious frame! the creatures\\nOf earth, and heaven, and hell\\nIn Thy Divine form dwell,And in Thy countenance shine all the features\\nOf Brahma, sitting lone\\nUpon His lotus-throne;Of saints and sages, and the serpent races\\nAnanta, Vasuki;Yea! mightiest Lord! I see\\nThy thousand thousand arms, and breasts, and faces,\\nAnd eyes,--on every side\\nPerfect, diversified;And nowhere end of Thee, nowhere beginning,\\nNowhere a centre! Shifts--Wherever soul's gaze lifts--Thy central Self, all-wielding, and all-winning!\\nInfinite King! I seeThe anadem on Thee,The club, the shell, the discus; see Thee burning\\nIn beams insufferable,Lighting earth, heaven, and hell\\nWith brilliance blazing, glowing, flashing; turning\\nDarkness to dazzling day,Look I whichever way;\\nAh, Lord! I worship Thee, the Undivided,The Uttermost of thought,\\nThe Treasure-Palace wroughtTo hold the wealth of the worlds; the Shield provided\\nTo shelter Virtue's laws;The Fount whence Life's stream draws\\nAll waters of all rivers of all being:\\nThe One Unborn, Unending:\\nUnchanging and Unblending!With might and majesty, past thought, past seeing!\\nSilver of moon and gold\\nOf sun are glories rolled\\nFrom Thy great eyes; Thy visage, beaming tender\\nThroughout the stars and skies,Doth to warm life surprise\\nThy Universe. The worlds are filled with wonder\\nOf Thy perfections! Space\\nStar-sprinkled, and void place\\nFrom pole to pole of the Blue, from bound to bound,Hath Thee in every spot,\\nThee, Thee!--Where Thou art not,O Holy, Marvellous Form! is nowhere found!\\nO Mystic, Awful One!At sight of Thee, made known,The Three Worlds quake; the lower gods draw nigh Thee;\\nThey fold their palms, and bow\\nBody, and breast, and brow,And, whispering worship, laud and magnify Thee!\\nRishis and Siddhas cry\\n\"Hail! Highest Majesty!\"From sage and singer breaks the hymn of glory\\nIn dulcet harmony,Sounding the praise of Thee;\\nWhile countless companies take up the story,Rudras, who ride the storms,\\nTh' Adityas' shining forms,Vasus and Sadhyas, Viswas, Ushmapas;Maruts, and those great Twins\\nThe heavenly, fair, Aswins,Gandharvas, Rakshasas, Siddhas, and Asuras,[FN#22]--\\nThese see Thee, and revere\\nIn sudden-stricken fear;Yea! the Worlds,--seeing Thee with form stupendous,\\nWith faces manifold,With eyes which all behold,Unnumbered eyes, vast arms, members tremendous,\\nFlanks, lit with sun and star,Feet planted near and far,\\nTushes of terror, mouths wrathful and tender;--The Three wide Worlds before Thee\\nAdore, as I adore Thee,Quake, as I quake, to witness so much splendour!\\nI mark Thee strike the skies\\nWith front, in wondrous wise\\nHuge, rainbow-painted, glittering; and thy mouth\\nOpened, and orbs which see\\nAll things, whatever be\\nIn all Thy worlds, east, west, and north and south.\\nO Eyes of God! O Head!My strength of soul is fled,\\nGone is heart's force, rebuked is mind's desire!\\nWhen I behold Thee so,With awful brows a-glow,\\nWith burning glance, and lips lighted by fire\\nFierce as those flames which shall\\nConsume, at close of all,Earth, Heaven! Ah me! I see no Earth and Heaven!\\nThee, Lord of Lords! I see,Thee only-only Thee!\\nNow let Thy mercy unto me be given,Thou Refuge of the World!\\nLo! to the cavern hurled\\nOf Thy wide-opened throat, and lips white-tushed,\\nI see our noblest ones,Great Dhritarashtra's sons,\\nBhishma, Drona, and Karna, caught and crushed!\\nThe Kings and Chiefs drawn in,That gaping gorge within;\\nThe best of both these armies torn and riven!\\nBetween Thy jaws they lie\\nMangled full bloodily,Ground into dust and death! Like streams down-driven\\nWith helpless haste, which go\\nIn headlong furious flow\\nStraight to the gulfing deeps of th' unfilled ocean,So to that flaming cave\\nThose heroes great and brave\\nPour, in unending streams, with helpless motion!\\nLike moths which in the night\\nFlutter towards a light,Drawn to their fiery doom, flying and dying,\\nSo to their death still throng,\\nBlind, dazzled, borne along\\nCeaselessly, all those multitudes, wild flying!\\nThou, that hast fashioned men,Devourest them again,\\nOne with another, great and small, alike!\\nThe creatures whom Thou mak'st,With flaming jaws Thou tak'st,\\nLapping them up! Lord God! Thy terrors strike\\nFrom end to end of earth,Filling life full, from birth\\nTo death, with deadly, burning, lurid dread!Ah, Vishnu! make me know\\nWhy is Thy visage so?Who art Thou, feasting thus upon Thy dead?\\nWho? awful Deity!\\nI bow myself to Thee,\\nNamostu Te, Devavara! Prasid![FN#23]O Mightiest Lord! rehearse\\nWhy hast Thou face so fierce?Whence doth this aspect horrible proceed?\\nKrishna.\\nThou seest Me as Time who kills,Time who brings all to doom,The Slayer Time, Ancient of Days, come hither to consume;\\nExcepting thee, of all these hosts of hostile chiefs arrayed,There stands not one shall leave alive the battlefield! Dismayed\\nNo longer be! Arise! obtain renown! destroy thy foes!\\nFight for the kingdom waiting thee when thou hast vanquished those.By Me they fall--not thee! the stroke of death is dealt them now,\\nEven as they show thus gallantly; My instrument art thou!\\nStrike, strong-armed Prince, at Drona! at Bhishma strike! deal death\\nOn Karna, Jyadratha; stay all their warlike breath!\\n'Tis I who bid them perish! Thou wilt but slay the slain;\\nFight! they must fall, and thou must live, victor upon this plain!\\nSanjaya.\\nHearing mighty Keshav's word,Tremblingly that helmed Lord\\nClasped his lifted palms, and--praying\\nGrace of Krishna--stood there, saying,\\nWith bowed brow and accents broken,These words, timorously spoken:\\nArjuna.\\nWorthily, Lord of Might!\\nThe whole world hath delight\\nIn Thy surpassing power, obeying Thee;The Rakshasas, in dread\\nAt sight of Thee, are sped\\nTo all four quarters; and the company\\nOf Siddhas sound Thy name.\\nHow should they not proclaim\\nThy Majesties, Divinest, Mightiest?Thou Brahm, than Brahma greater!\\nThou Infinite Creator!\\nThou God of gods, Life's Dwelling-place and Rest!Thou, of all souls the Soul!\\nThe Comprehending Whole!Of being formed, and formless being the Framer;\\nO Utmost One! O Lord!\\nOlder than eld, Who stored\\nThe worlds with wealth of life! O Treasure-Claimer,Who wottest all, and artWisdom Thyself! O Part\\nIn all, and All; for all from Thee have risen\\nNumberless now I see\\nThe aspects are of Thee!Vayu[FN#24] Thou art, and He who keeps the prison\\nOf Narak, Yama dark;And Agni's shining spark;Varuna's waves are Thy waves. Moon and starlight\\nAre Thine! Prajapati\\nArt Thou, and 'tis to Thee\\nThey knelt in worshipping the old world's far light,The first of mortal men.\\nAgain, Thou God! again\\nA thousand thousand times be magnified!Honour and worship be--\\nGlory and praise,--to Thee\\nNamo, Namaste, cried on every side;Cried here, above, below,\\nUttered when Thou dost go,Uttered where Thou dost come! Namo! we call;\\nNamostu! God adored!Namostu! Nameless Lord!Hail to Thee! Praise to Thee! Thou One in all;\\nFor Thou art All! Yea, Thou!Ah! if in anger now\\nThou shouldst remember I did think Thee Friend,\\nSpeaking with easy speech,As men use each to each;\\nDid call Thee \"Krishna,\" \"Prince,\" nor comprehend\\nThy hidden majesty,\\nThe might, the awe of Thee;Did, in my heedlessness, or in my love,\\nOn journey, or in jest,Or when we lay at rest,\\nSitting at council, straying in the grove,Alone, or in the throng,\\nDo Thee, most Holy! wrong,Be Thy grace granted for that witless sin!For Thou art, now I know,\\nFather of all below,Of all above, of all the worlds within\\nGuru of Gurus; more\\nTo reverence and adore\\nThan all which is adorable and high!How, in the wide worlds three\\nShould any equal be?Should any other share Thy Majesty?Therefore, with body bent\\nAnd reverent intent,I praise, and serve, and seek Thee, asking grace.\\nAs father to a son,As friend to friend, as one\\nWho loveth to his lover, turn Thy face\\nIn gentleness on me!Good is it I did see\\nThis unknown marvel of Thy Form! But fear\\nMingles with joy! Retake,Dear Lord! for pity's sake\\nThine earthly shape, which earthly eyes may bear!\\nBe merciful, and show\\nThe visage that I know;Let me regard Thee, as of yore, arrayed\\nWith disc and forehead-gem,With mace and anadem,\\nThou that sustainest all things! Undismayed\\nLet me once more behold\\nThe form I loved of old,Thou of the thousand arms and countless eyes!\\nThis frightened heart is fain\\nTo see restored again\\nMy Charioteer, in Krishna's kind disguise.Krishna.\\nYea! thou hast seen, Arjuna! because I loved thee well,The secret countenance of Me, revealed by mystic spell,\\nShining, and wonderful, and vast, majestic, manifold,Which none save thou in all the years had favour to behold;\\nFor not by Vedas cometh this, nor sacrifice, nor alms,Nor works well-done, nor penance long, nor prayers, nor chaunted\\npsalms,That mortal eyes should bear to view the Immortal Soul unclad,\\nPrince of the Kurus! This was kept for thee alone! Be glad!Let no more trouble shake thy heart, because thine eyes have seen\\nMy terror with My glory. As I before have been\\nSo will I be again for thee; with lightened heart behold!Once more I am thy Krishna, the form thou knew'st of old!\\nSanjaya.These words to Arjuna spake\\nVasudev, and straight did take\\nBack again the semblance dear\\nOf the well-loved charioteer;Peace and joy it did restore\\nWhen the Prince beheld once more\\nMighty BRAHMA's form and face\\nClothed in Krishna's gentle grace.Arjuna.\\nNow that I see come back, Janardana!This friendly human frame, my mind can think\\nCalm thoughts once more; my heart beats still again!Krishna.\\nYea! it was wonderful and terrible\\nTo view me as thou didst, dear Prince! The gods\\nDread and desire continually to view!Yet not by Vedas, nor from sacrifice,\\nNor penance, nor gift-giving, nor with prayer\\nShall any so behold, as thou hast seen!Only by fullest service, perfect faith,\\nAnd uttermost surrender am I known\\nAnd seen, and entered into, Indian Prince!Who doeth all for Me; who findeth Me\\nIn all; adoreth always; loveth all\\nWhich I have made, and Me, for Love's sole end\\nThat man, Arjuna! unto Me doth wend.    1\n",
              "Krishna.\\nNow will I open unto thee--whose heart\\nRejects not--that last lore, deepest-concealed,\\nThat farthest secret of My Heavens and Earths,\\nWhich but to know shall set thee free from ills,--\\nA royal lore! a Kingly mystery!\\nYea! for the soul such light as purgeth it\\nFrom every sin; a light of holiness\\nWith inmost splendour shining; plain to see;\\nEasy to walk by, inexhaustible!\\nThey that receive not this, failing in faith\\nTo grasp the greater wisdom, reach not Me,\\nDestroyer of thy foes! They sink anew\\nInto the realm of Flesh, where all things change!\\nBy Me the whole vast Universe of things\\nIs spread abroad;--by Me, the Unmanifest!\\nIn Me are all existences contained;\\nNot I in them!\\nYet they are not contained,\\nThose visible things! Receive and strive to embrace\\nThe mystery majestical! My Being--\\nCreating all, sustaining all--still dwells\\nOutside of all!\\nSee! as the shoreless airs\\nMove in the measureless space, but are not space,\\n[And space were space without the moving airs];\\nSo all things are in Me, but are not I.\\nAt closing of each Kalpa, Indian Prince!\\nAll things which be back to My Being come:\\nAt the beginning of each Kalpa, all\\nIssue new-born from Me.\\nBy Energy\\nAnd help of Prakriti my outer Self,\\nAgain, and yet again, I make go forth\\nThe realms of visible things--without their will--\\nAll of them--by the power of Prakriti.\\nYet these great makings, Prince! involve Me not\\nEnchain Me not! I sit apart from them,\\nOther, and Higher, and Free; nowise attached!\\nThus doth the stuff of worlds, moulded by Me,\\nBring forth all that which is, moving or still,\\nLiving or lifeless! Thus the worlds go on!\\nThe minds untaught mistake Me, veiled in form;--\\nNaught see they of My secret Presence, nought\\nOf My hid Nature, ruling all which lives.\\nVain hopes pursuing, vain deeds doing; fed\\nOn vainest knowledge, senselessly they seek\\nAn evil way, the way of brutes and fiends.\\nBut My Mahatmas, those of noble soul\\nWho tread the path celestial, worship Me\\nWith hearts unwandering,--knowing Me the Source,\\nTh' Eternal Source, of Life. Unendingly\\nThey glorify Me; seek Me; keep their vows\\nOf reverence and love, with changeless faith\\nAdoring Me. Yea, and those too adore,\\nWho, offering sacrifice of wakened hearts,\\nHave sense of one pervading Spirit's stress,\\nOne Force in every place, though manifold!\\nI am the Sacrifice! I am the Prayer!\\nI am the Funeral-Cake set for the dead!\\nI am the healing herb! I am the ghee,\\nThe Mantra, and the flame, and that which burns!\\nI am-of all this boundless Universe-\\nThe Father, Mother, Ancestor, and Guard!\\nThe end of Learning! That which purifies\\nIn lustral water! I am OM! I am\\nRig-Veda, Sama-Veda, Yajur-Ved;\\nThe Way, the Fosterer, the Lord, the Judge,\\nThe Witness; the Abode, the Refuge-House,\\nThe Friend, the Fountain and the Sea of Life\\nWhich sends, and swallows up; Treasure of Worlds\\nAnd Treasure-Chamber! Seed and Seed-Sower,\\nWhence endless harvests spring! Sun's heat is mine;\\nHeaven's rain is mine to grant or to withhold;\\nDeath am I, and Immortal Life I am,\\nArjuna! SAT and ASAT, Visible Life,\\nAnd Life Invisible!\\nYea! those who learn\\nThe threefold Veds, who drink the Soma-wine,\\nPurge sins, pay sacrifice--from Me they earn\\nPassage to Swarga; where the meats divine\\nOf great gods feed them in high Indra's heaven.\\nYet they, when that prodigious joy is o'er,\\nParadise spent, and wage for merits given,\\nCome to the world of death and change once more.\\nThey had their recompense! they stored their treasure,\\nFollowing the threefold Scripture and its writ;\\nWho seeketh such gaineth the fleeting pleasure\\nOf joy which comes and goes! I grant them it!\\nBut to those blessed ones who worship Me,\\nTurning not otherwhere, with minds set fast,\\nI bring assurance of full bliss beyond.\\nNay, and of hearts which follow other gods\\nIn simple faith, their prayers arise to me,\\nO Kunti's Son! though they pray wrongfully;\\nFor I am the Receiver and the Lord\\nOf every sacrifice, which these know not\\nRightfully; so they fall to earth again!\\nWho follow gods go to their gods; who vow\\nTheir souls to Pitris go to Pitris; minds\\nTo evil Bhuts given o'er sink to the Bhuts;\\nAnd whoso loveth Me cometh to Me.\\nWhoso shall offer Me in faith and love\\nA leaf, a flower, a fruit, water poured forth,\\nThat offering I accept, lovingly made\\nWith pious will. Whate'er thou doest, Prince!\\nEating or sacrificing, giving gifts,\\nPraying or fasting, let it all be done\\nFor Me, as Mine. So shalt thou free thyself\\nFrom Karmabandh, the chain which holdeth men\\nTo good and evil issue, so shalt come\\nSafe unto Me-when thou art quit of flesh--\\nBy faith and abdication joined to Me!\\nI am alike for all! I know not hate,\\nI know not favour! What is made is Mine!\\nBut them that worship Me with love, I love;\\nThey are in Me, and I in them!\\nNay, Prince!\\nIf one of evil life turn in his thought\\nStraightly to Me, count him amidst the good;\\nHe hath the high way chosen; he shall grow\\nRighteous ere long; he shall attain that peace\\nWhich changes not. Thou Prince of India!\\nBe certain none can perish, trusting Me!\\nO Pritha's Son! whoso will turn to Me,\\nThough they be born from the very womb of Sin,\\nWoman or man; sprung of the Vaisya caste\\nOr lowly disregarded Sudra,--all\\nPlant foot upon the highest path; how then\\nThe holy Brahmans and My Royal Saints?\\nAh! ye who into this ill world are come--\\nFleeting and false--set your faith fast on Me!\\nFix heart and thought on Me! Adore Me! Bring\\nOfferings to Me! Make Me prostrations! Make\\nMe your supremest joy! and, undivided,\\nUnto My rest your spirits shall be guided.\\nHERE ENDS CHAPTER IX. OF THE BHAGAVAD-GITA,\\nEntitled \"Rajavidyarajaguhyayog,\"\\nOr \"The Book of Religion by the Kingly Knowledge and the Kingly\\nMystery.\"\\n                                                                                                                                                                                                                                                                                                                                                                                                                                                                                                                                                                                                                                                                                                                                                                                                                                                                                                                                                                                                                                                                                                                                                                                                                                                                                                                                                                                                                                                                                                                                                                                                                                                                                                                                                                                                                                                                                                                                                                                                                                                                                                                                                                                                                                                                                                                                                                                                                                                                                                                                                                                                                                                                                                                                                                                                                                                                                                                                                                                                                                                                                                                                                                                                                                                                                                                                                                                                                                                                                                                                                                                                                                                                                                                                                                                                                                                                                                                                                                                                                                                                                                                                                                                                                                                                                                                                                                                                                                                                                                                                                                                                                                                                                                                                                                                                                                                                                                                                                                                                                                                                                                                                                                                                                                                                                                                                                                                                                                                                                                                                                                                                                                                                                                                                                                                                                                                                                                                                                                                                                                                                                                                                                                                                                                                                                                                                                                                                                                                                                                                                                                                                                                                                                                                                                                                                                                                                                                                                                                                                                                                                1\n",
              "Arjuna.\\nThou whom all mortals praise, Janardana!\\nIf meditation be a nobler thing\\nThan action, wherefore, then, great Kesava!\\nDost thou impel me to this dreadful fight?\\nNow am I by thy doubtful speech disturbed!\\nTell me one thing, and tell me certainly;\\nBy what road shall I find the better end?\\nKrishna.\\nI told thee, blameless Lord! there be two paths\\nShown to this world; two schools of wisdom.\\nFirst\\nThe Sankhya's, which doth save in way of works\\nPrescribed[FN#4] by reason; next, the Yog, which bids\\nAttain by meditation, spiritually:\\nYet these are one! No man shall 'scape from act\\nBy shunning action; nay, and none shall come\\nBy mere renouncements unto perfectness.\\nNay, and no jot of time, at any time,\\nRests any actionless; his nature's law\\nCompels him, even unwilling, into act;\\n[For thought is act in fancy]. He who sits\\nSuppressing all the instruments of flesh,\\nYet in his idle heart thinking on them,\\nPlays the inept and guilty hypocrite:\\nBut he who, with strong body serving mind,\\nGives up his mortal powers to worthy work,\\nNot seeking gain, Arjuna! such an one\\nIs honourable. Do thine allotted task!\\nWork is more excellent than idleness;\\nThe body's life proceeds not, lacking work.\\nThere is a task of holiness to do,\\nUnlike world-binding toil, which bindeth not\\nThe faithful soul; such earthly duty do\\nFree from desire, and thou shalt well perform\\nThy heavenly purpose. Spake Prajapati--\\nIn the beginning, when all men were made,\\nAnd, with mankind, the sacrifice-- \"Do this!\\nWork! sacrifice! Increase and multiply\\nWith sacrifice! This shall be Kamaduk,\\nYour 'Cow of Plenty,' giving back her milk\\nOf all abundance. Worship the gods thereby;\\nThe gods shall yield thee grace. Those meats ye crave\\nThe gods will grant to Labour, when it pays\\nTithes in the altar-flame. But if one eats\\nFruits of the earth, rendering to kindly Heaven\\nNo gift of toil, that thief steals from his world.\"\\nWho eat of food after their sacrifice\\nAre quit of fault, but they that spread a feast\\nAll for themselves, eat sin and drink of sin.\\nBy food the living live; food comes of rain,\\nAnd rain comes by the pious sacrifice,\\nAnd sacrifice is paid with tithes of toil;\\nThus action is of Brahma, who is One,\\nThe Only, All-pervading; at all times\\nPresent in sacrifice. He that abstains\\nTo help the rolling wheels of this great world,\\nGlutting his idle sense, lives a lost life,\\nShameful and vain. Existing for himself,\\nSelf-concentrated, serving self alone,\\nNo part hath he in aught; nothing achieved,\\nNought wrought or unwrought toucheth him; no hope\\nOf help for all the living things of earth\\nDepends from him.[FN#5] Therefore, thy task prescribed\\nWith spirit unattached gladly perform,\\nSince in performance of plain duty man\\nMounts to his highest bliss. By works alone\\nJanak and ancient saints reached blessedness!\\nMoreover, for the upholding of thy kind,\\nAction thou should'st embrace. What the wise choose\\nThe unwise people take; what best men do\\nThe multitude will follow. Look on me,\\nThou Son of Pritha! in the three wide worlds\\nI am not bound to any toil, no height\\nAwaits to scale, no gift remains to gain,\\nYet I act here! and, if I acted not--\\nEarnest and watchful--those that look to me\\nFor guidance, sinking back to sloth again\\nBecause I slumbered, would decline from good,\\nAnd I should break earth's order and commit\\nHer offspring unto ruin, Bharata!\\nEven as the unknowing toil, wedded to sense,\\nSo let the enlightened toil, sense-freed, but set\\nTo bring the world deliverance, and its bliss;\\nNot sowing in those simple, busy hearts\\nSeed of despair. Yea! let each play his part\\nIn all he finds to do, with unyoked soul.\\nAll things are everywhere by Nature wrought\\nIn interaction of the qualities.\\nThe fool, cheated by self, thinks, \"This I did\"\\nAnd \"That I wrought; \"but--ah, thou strong-armed Prince!--\\nA better-lessoned mind, knowing the play\\nOf visible things within the world of sense,\\nAnd how the qualities must qualify,\\nStandeth aloof even from his acts. Th' untaught\\nLive mixed with them, knowing not Nature's way,\\nOf highest aims unwitting, slow and dull.\\nThose make thou not to stumble, having the light;\\nBut all thy dues discharging, for My sake,\\nWith meditation centred inwardly,\\nSeeking no profit, satisfied, serene,\\nHeedless of issue--fight! They who shall keep\\nMy ordinance thus, the wise and willing hearts,\\nHave quittance from all issue of their acts;\\nBut those who disregard My ordinance,\\nThinking they know, know nought, and fall to loss,\\nConfused and foolish. 'Sooth, the instructed one\\nDoth of his kind, following what fits him most:\\nAnd lower creatures of their kind; in vain\\nContending 'gainst the law. Needs must it be\\nThe objects of the sense will stir the sense\\nTo like and dislike, yet th' enlightened man\\nYields not to these, knowing them enemies.\\nFinally, this is better, that one do\\nHis own task as he may, even though he fail,\\nThan take tasks not his own, though they seem good.\\nTo die performing duty is no ill;\\nBut who seeks other roads shall wander still.\\nArjuna.\\nYet tell me, Teacher! by what force doth man\\nGo to his ill, unwilling; as if one\\nPushed him that evil path?\\nKrishna.\\nKama it is!\\nPassion it is! born of the Darknesses,\\nWhich pusheth him. Mighty of appetite,\\nSinful, and strong is this!--man's enemy!\\nAs smoke blots the white fire, as clinging rust\\nMars the bright mirror, as the womb surrounds\\nThe babe unborn, so is the world of things\\nFoiled, soiled, enclosed in this desire of flesh.\\nThe wise fall, caught in it; the unresting foe\\nIt is of wisdom, wearing countless forms,\\nFair but deceitful, subtle as a flame.\\nSense, mind, and reason--these, O Kunti's Son!\\nAre booty for it; in its play with these\\nIt maddens man, beguiling, blinding him.\\nTherefore, thou noblest child of Bharata!\\nGovern thy heart! Constrain th' entangled sense!\\nResist the false, soft sinfulness which saps\\nKnowledge and judgment! Yea, the world is strong,\\nBut what discerns it stronger, and the mind\\nStrongest; and high o'er all the ruling Soul.\\nWherefore, perceiving Him who reigns supreme,\\nPut forth full force of Soul in thy own soul!\\nFight! vanquish foes and doubts, dear Hero! slay\\nWhat haunts thee in fond shapes, and would betray!\\nHERE ENDETH CHAPTER III. OF THE BHAGAVAD-GITA,\\nEntitled \"Karma-Yog,\"\\nOr \"The Book of Virtue in Work.\"                                                                                                                                                                                                                                                                                                                                                                                                                                                                                                                                                                                                                                                                                                                                                                                                                                                                                                                                                                                                                                                                                                                                                                                                                                                                                                                                                                                                                                                                                                                                                                                                                                                                                                                                                                                                                                                                                                                                                                                                                                                                                                                                                                                                                                                                                                                                                                                                                                                                                                                                                                                                                                                                                                                                                                                                                                                                                                                                                                                                                                                                                                                                                                                                                                                                                                                                                                                                                                                                                                                                                                                                                                                                                                                                                                                                                                                                                                                                                                                                                                                                                                                                                                                                                                                                                                                                                                                                                                                                                                                                                                                                                                                                                                                                                                                                                                                                                                                                                                                                                                                                                                                                                                                                                                                                                                                                                                                                                                                                                                                                                                                                                                                                                                                                                                                                                                                                                                                                                                                                                                                                                                                                                                                                                                                                                                                                                                                                                                               1\n",
              "Arjuna.\\nIf men forsake the holy ordinance,Heedless of Shastras, yet keep faith at heart And worship, what shall be the state of those,Great Krishna! Sattwan, Rajas, Tamas? Say!\\nKrishna.\\nThreefold the faith is of mankind and springs From those three qualities,--becoming \"true,\"Or \"passion-stained,\" or \"dark,\" as thou shalt hear!The faith of each believer, Indian Prince!\\nConforms itself to what he truly is. Where thou shalt see a worshipper, that one To what he worships lives assimilate,[Such as the shrine, so is the votary,]The \"soothfast\" souls adore true gods; the soulObeying Rajas worship Rakshasas[FN#34] Or Yakshas; and the men of Darkness pray To Pretas and to Bhutas.[FN#35] Yea, and those\\nWho practise bitter penance, not enjoined By rightful rule--penance which hath its root\\nIn self-sufficient, proud hypocrisies--Those men, passion-beset, violent, wild,Torturing--the witless ones--My elements Shut in fair company within their flesh,\\n(Nay, Me myself, present within the flesh!),Know them to devils devoted, not to Heaven!\\nFor like as foods are threefold for mankind,In nourishing, so is there threefold way\\nOf worship, abstinence, and almsgiving!,Hear this of Me! there is a food which brings\\nForce, substance, strength, and health, and joy to live,,Being well-seasoned, cordial, comforting,\\nThe \"Soothfast\" meat. And there be foods which bring,Aches and unrests, and burning blood, and grief,\\nBeing too biting, heating, salt, and sharp,And therefore craved by too strong appetite.\\nAnd there is foul food--kept from over-night,[FN#36],Savourless, filthy, which the foul will eat,\\nA feast of rottenness, meet for the lips,Of such as love the \"Darkness.\"\\nThus with rites;--,A sacrifice not for rewardment made,\\nOffered in rightful wise, when he who vows,Sayeth, with heart devout, \"This I should do!\"\\nIs \"Soothfast\" rite. But sacrifice for gain,Offered for good repute, be sure that this,O Best of Bharatas! is Rajas-rite,\\nWith stamp of \"passion.\" And a sacrifice,Offered against the laws, with no due dole,Of food-giving, with no accompaniment\\nOf hallowed hymn, nor largesse to the priests,In faithless celebration, call it vile,The deed of \"Darkness!\"--lost!\\nWorship of gods,Meriting worship; lowly reverence,Of Twice-borns, Teachers, Elders; Purity,\\nRectitude, and the Brahmacharya's vow,And not to injure any helpless thing,--\\nThese make a true religiousness of Act.Words causing no man woe, words ever true,\\nGentle and pleasing words, and those ye say\\nIn murmured reading of a Sacred Writ,--\\nThese make the true religiousness of Speech.\\nSerenity of soul, benignity,\\nSway of the silent Spirit, constant stress\\nTo sanctify the Nature,--these things make\\nGood rite, and true religiousness of Mind.\\nSuch threefold faith, in highest piety\\nKept, with no hope of gain, by hearts devote,\\nIs perfect work of Sattwan, true belief.\\nReligion shown in act of proud display\\nTo win good entertainment, worship, fame,\\nSuch--say I--is of Rajas, rash and vain.\\nReligion followed by a witless will\\nTo torture self, or come at power to hurt\\nAnother,--'tis of Tamas, dark and ill.\\nThe gift lovingly given, when one shall say\\n\"Now must I gladly give!\" when he who takes\\nCan render nothing back; made in due place,\\nDue time, and to a meet recipient,\\nIs gift of Sattwan, fair and profitable.\\nThe gift selfishly given, where to receive\\nIs hoped again, or when some end is sought,\\nOr where the gift is proffered with a grudge,\\nThis is of Rajas, stained with impulse, ill.\\nThe gift churlishly flung, at evil time,\\nIn wrongful place, to base recipient,\\nMade in disdain or harsh unkindliness,\\nIs gift of Tamas, dark; it doth not bless![FN#37]\\nHERE ENDETH CHAPTER XVII. OF THE BHAGAVAD-GITA,\\nEntitled \"Sraddhatrayavibhagayog,\"\\nOr \"The Book of Religion by the Threefold Kinds of Faith.\"                                                                                                                                                                                                                                                                                                                                                                                                                                                                                                                                                                                                                                                                                                                                                                                                                                                                                                                                                                                                                                                                                                                                                                                                                                                                                                                                                                                                                                                                                                                                                                                                                                                                                                                                                                                                                                                                                                                                                                                                                                                                                                                                                                                                                                                                                                                                                                                                                                                                                                                                                                                                                                                                                                                                                                                                                                                                                                                                                                                                                                                                                                                                                                                                                                                                                                                                                                                                                                                                                                                                                                                                                                                                                                                                                                                                                                                                                                                                                                                                                                                                                                                                                                                                                                                                                                                                                                                                                                                                                                                                                                                                                                                                                                                                                                                                                                                                                                                                                                                                                                                                                                                                                                                                                                                                                                                                                                                                                                                                                                                                                                                                                                                                                                                                                                                                                                                                                                                                                                                                                                                                                                                                                                                                                                                                                                                                                                                                                                                                                                                                                                                                                                                                                                                                                                                                                                                                                                                                                                                                                                                                                                                                                                                                                                                                                                                                                                                                                                                                                                                                                                                                                                                                                                                                                                                                                                                                                                                                                                                                                                                                                                                                                                                                                                                                                                                                                                                                                                                                                                                                                                                                                                                                                                                                                                                                                                                                                                                                                                                                                                                                                                                            1\n",
              "Hear farther yet, thou Long-Armed Lord! these latest words I say--\\nUttered to bring thee bliss and peace, who lovest Me alway--\\nNot the great company of gods nor kingly Rishis know\\nMy Nature, Who have made the gods and Rishis long ago;\\nHe only knoweth-only he is free of sin, and wise,\\nWho seeth Me, Lord of the Worlds, with faith-enlightened eyes,\\nUnborn, undying, unbegun. Whatever Natures be\\nTo mortal men distributed, those natures spring from Me!\\nIntellect, skill, enlightenment, endurance, self-control,\\nTruthfulness, equability, and grief or joy of soul,\\nAnd birth and death, and fearfulness, and fearlessness, and shame,\\nAnd honour, and sweet harmlessness,[FN#17] and peace which is the\\nsame\\nWhate'er befalls, and mirth, and tears, and piety, and thrift,\\nAnd wish to give, and will to help,--all cometh of My gift!\\nThe Seven Chief Saints, the Elders Four, the Lordly Manus set--\\nSharing My work--to rule the worlds, these too did I beget;\\nAnd Rishis, Pitris, Manus, all, by one thought of My mind;\\nThence did arise, to fill this world, the races of mankind;\\nWherefrom who comprehends My Reign of mystic Majesty--\\nThat truth of truths--is thenceforth linked in faultless faith to Me:\\nYea! knowing Me the source of all, by Me all creatures wrought,\\nThe wise in spirit cleave to Me, into My Being brought;\\nHearts fixed on Me; breaths breathed to Me; praising Me, each to each,\\nSo have they happiness and peace, with pious thought and speech;\\nAnd unto these--thus serving well, thus loving ceaselessly--\\nI give a mind of perfect mood, whereby they draw to Me;\\nAnd, all for love of them, within their darkened souls I dwell,\\nAnd, with bright rays of wisdom's lamp, their ignorance dispel.\\nArjuna.\\nYes! Thou art Parabrahm! The High Abode!\\nThe Great Purification! Thou art God\\nEternal, All-creating, Holy, First,\\nWithout beginning! Lord of Lords and Gods!\\nDeclared by all the Saints--by Narada,\\nVyasa Asita, and Devalas;\\nAnd here Thyself declaring unto me!\\nWhat Thou hast said now know I to be truth,\\nO Kesava! that neither gods nor men\\nNor demons comprehend Thy mystery\\nMade manifest, Divinest! Thou Thyself\\nThyself alone dost know, Maker Supreme!\\nMaster of all the living! Lord of Gods!\\nKing of the Universe! To Thee alone\\nBelongs to tell the heavenly excellence\\nOf those perfections wherewith Thou dost fill\\nThese worlds of Thine; Pervading, Immanent!\\nHow shall I learn, Supremest Mystery!\\nTo know Thee, though I muse continually?\\nUnder what form of Thine unnumbered forms\\nMayst Thou be grasped? Ah! yet again recount,\\nClear and complete, Thy great appearances,\\nThe secrets of Thy Majesty and Might,\\nThou High Delight of Men! Never enough\\nCan mine ears drink the Amrit[FN#18] of such words!\\nKrishna.\\nHanta! So be it! Kuru Prince! I will to thee unfold\\nSome portions of My Majesty, whose powers are manifold!\\nI am the Spirit seated deep in every creature's heart;\\nFrom Me they come; by Me they live; at My word they depart!\\nVishnu of the Adityas I am, those Lords of Light;\\nMaritchi of the Maruts, the Kings of Storm and Blight;\\nBy day I gleam, the golden Sun of burning cloudless Noon;\\nBy Night, amid the asterisms I glide, the dappled Moon!\\nOf Vedas I am Sama-Ved, of gods in Indra's Heaven\\nVasava; of the faculties to living beings given\\nThe mind which apprehends and thinks; of Rudras Sankara;\\nOf Yakshas and of Rakshasas, Vittesh; and Pavaka\\nOf Vasus, and of mountain-peaks Meru; Vrihaspati\\nKnow Me 'mid planetary Powers; 'mid Warriors heavenly\\nSkanda; of all the water-floods the Sea which drinketh each,\\nAnd Bhrigu of the holy Saints, and OM of sacred speech;\\nOf prayers the prayer ye whisper;[FN#19] of hills Himala's snow,\\nAnd Aswattha, the fig-tree, of all the trees that grow;\\nOf the Devarshis, Narada; and Chitrarath of them\\nThat sing in Heaven, and Kapila of Munis, and the gem\\nOf flying steeds, Uchchaisravas, from Amrit-wave which burst;\\nOf elephants Airavata; of males the Best and First;\\nOf weapons Heav'n's hot thunderbolt; of cows white Kamadhuk,\\nFrom whose great milky udder-teats all hearts' desires are strook;\\nVasuki of the serpent-tribes, round Mandara entwined;\\nAnd thousand-fanged Ananta, on whose broad coils reclined\\nLeans Vishnu; and of water-things Varuna; Aryam\\nOf Pitris, and, of those that judge, Yama the Judge I am;\\nOf Daityas dread Prahlada; of what metes days and years,\\nTime's self I am; of woodland-beasts-buffaloes, deers, and bears-\\nThe lordly-painted tiger; of birds the vast Garud,\\nThe whirlwind 'mid the winds; 'mid chiefs Rama with blood imbrued,\\nMakar 'mid fishes of the sea, and Ganges 'mid the streams;\\nYea! First, and Last, and Centre of all which is or seems\\nI am, Arjuna! Wisdom Supreme of what is wise,\\nWords on the uttering lips I am, and eyesight of the eyes,\\nAnd \"A\" of written characters, Dwandwa[FN#20] of knitted speech,\\nAnd Endless Life, and boundless Love, whose power sustaineth each;\\nAnd bitter Death which seizes all, and joyous sudden Birth,\\nWhich brings to light all beings that are to be on earth;\\nAnd of the viewless virtues, Fame, Fortune, Song am I,\\nAnd Memory, and Patience; and Craft, and Constancy:\\nOf Vedic hymns the Vrihatsam, of metres Gayatri,\\nOf months the Margasirsha, of all the seasons three\\nThe flower-wreathed Spring; in dicer's-play the conquering\\nDouble-Eight;\\nThe splendour of the splendid, and the greatness of the great,\\nVictory I am, and Action! and the goodness of the good,\\nAnd Vasudev of Vrishni's race, and of this Pandu brood\\nThyself!--Yea, my Arjuna! thyself; for thou art Mine!\\nOf poets Usana, of saints Vyasa, sage divine;\\nThe policy of conquerors, the potency of kings,\\nThe great unbroken silence in learning's secret things;\\nThe lore of all the learned, the seed of all which springs.\\nLiving or lifeless, still or stirred, whatever beings be,\\nNone of them is in all the worlds, but it exists by Me!\\nNor tongue can tell, Arjuna! nor end of telling come\\nOf these My boundless glories, whereof I teach thee some;\\nFor wheresoe'er is wondrous work, and majesty, and might,\\nFrom Me hath all proceeded. Receive thou this aright!\\nYet how shouldst thou receive, O Prince! the vastness of this word?\\nI, who am all, and made it all, abide its separate Lord!\\nHERE ENDETH CHAPTER X. OF THE BHAGAVAD-GITA,\\nEntitled \"Vibhuti Yog,\"\\nOr \"The Book of Religion by the Heavenly Perfections.\"\\n                                                                                                                                                                                                                                                                                                                                                                                                                                                                                                                                                                                                                                                                                                                                                                                                                                                                                                                                                                                                                                                                                                                                                                                                                                                                                                                                                                                                                                                                                                                                                                                                                                                                                                                                                                                                                                                                                                                                                                                                                                                                                                                                                                                                                                                                                                                                                                                                                                                                                                                                                                                                                                                                                                                                                                                                                                                                                                                                                                                                                                                                                                                                                                                                                                                                                                                                                                                                                                                                                                                                                                                                                                                                                                                                                                                                                                                                                                                                                                                                                                                                                                                                                                                                                                                                                                                                                                                                                                                                                                                                                                                                                                                                                                                                                                                                                                                                                                                                                                                                                                                                                                                                                                                                                                                                                                                                                                                                                                                                                                                                                                                                                                                                                                                                                                                                                                                                                                                                                                                                                                                                                                                                                                                                                                                                                                                                                                                                                                                         1\n",
              "Dhritirashtra:\\nRanged thus for battle on the sacred plain--\\nOn Kurukshetra--say, Sanjaya! say\\nWhat wrought my people, and the Pandavas?\\nSanjaya:\\nWhen he beheld the host of Pandavas,\\nRaja Duryodhana to Drona drew,\\nAnd spake these words: \"Ah, Guru! see this line,\\nHow vast it is of Pandu fighting-men,\\nEmbattled by the son of Drupada,\\nThy scholar in the war! Therein stand ranked\\nChiefs like Arjuna, like to Bhima chiefs,\\nBenders of bows; Virata, Yuyudhan,\\nDrupada, eminent upon his car,\\nDhrishtaket, Chekitan, Kasi's stout lord,\\nPurujit, Kuntibhoj, and Saivya,\\nWith Yudhamanyu, and Uttamauj\\nSubhadra's child; and Drupadi's;-all famed!\\nAll mounted on their shining chariots!\\nOn our side, too,--thou best of Brahmans! see\\nExcellent chiefs, commanders of my line,\\nWhose names I joy to count: thyself the first,\\nThen Bhishma, Karna, Kripa fierce in fight,\\nVikarna, Aswatthaman; next to these\\nStrong Saumadatti, with full many more\\nValiant and tried, ready this day to die\\nFor me their king, each with his weapon grasped,\\nEach skilful in the field. Weakest-meseems-\\nOur battle shows where Bhishma holds command,\\nAnd Bhima, fronting him, something too strong!\\nHave care our captains nigh to Bhishma's ranks\\nPrepare what help they may! Now, blow my shell!\"\\nThen, at the signal of the aged king,\\nWith blare to wake the blood, rolling around\\nLike to a lion's roar, the trumpeter\\nBlew the great Conch; and, at the noise of it,\\nTrumpets and drums, cymbals and gongs and horns\\nBurst into sudden clamour; as the blasts\\nOf loosened tempest, such the tumult seemed!\\nThen might be seen, upon their car of gold\\nYoked with white steeds, blowing their battle-shells,\\nKrishna the God, Arjuna at his side:\\nKrishna, with knotted locks, blew his great conch\\nCarved of the \"Giant's bone;\" Arjuna blew\\nIndra's loud gift; Bhima the terrible--\\nWolf-bellied Bhima-blew a long reed-conch;\\nAnd Yudhisthira, Kunti's blameless son,\\nWinded a mighty shell, \"Victory's Voice;\"\\nAnd Nakula blew shrill upon his conch\\nNamed the \"Sweet-sounding,\" Sahadev on his\\nCalled\"Gem-bedecked,\" and Kasi's Prince on his.\\nSikhandi on his car, Dhrishtadyumn,\\nVirata, Satyaki the Unsubdued,\\nDrupada, with his sons, (O Lord of Earth!)\\nLong-armed Subhadra's children, all blew loud,\\nSo that the clangour shook their foemen's hearts,\\nWith quaking earth and thundering heav'n.\\nThen 'twas-\\nBeholding Dhritirashtra's battle set,\\nWeapons unsheathing, bows drawn forth, the war\\nInstant to break-Arjun, whose ensign-badge\\nWas Hanuman the monkey, spake this thing\\nTo Krishna the Divine, his charioteer:\\n\"Drive, Dauntless One! to yonder open ground\\nBetwixt the armies; I would see more nigh\\nThese who will fight with us, those we must slay\\nTo-day, in war's arbitrament; for, sure,\\nOn bloodshed all are bent who throng this plain,\\nObeying Dhritirashtra's sinful son.\"\\nThus, by Arjuna prayed, (O Bharata!)\\nBetween the hosts that heavenly Charioteer\\nDrove the bright car, reining its milk-white steeds\\nWhere Bhishma led,and Drona,and their Lords.\\n\"See!\" spake he to Arjuna, \"where they stand,\\nThy kindred of the Kurus:\" and the Prince\\nMarked on each hand the kinsmen of his house,\\nGrandsires and sires, uncles and brothers and sons,\\nCousins and sons-in-law and nephews, mixed\\nWith friends and honoured elders; some this side,\\nSome that side ranged: and, seeing those opposed,\\nSuch kith grown enemies-Arjuna's heart\\nMelted with pity, while he uttered this:\\nArjuna.\\nKrishna! as I behold, come here to shed\\nTheir common blood, yon concourse of our kin,\\nMy members fail, my tongue dries in my mouth,\\nA shudder thrills my body, and my hair\\nBristles with horror; from my weak hand slips\\nGandiv, the goodly bow; a fever burns\\nMy skin to parching; hardly may I stand;\\nThe life within me seems to swim and faint;\\nNothing do I foresee save woe and wail!\\nIt is not good, O Keshav! nought of good\\nCan spring from mutual slaughter! Lo, I hate\\nTriumph and domination, wealth and ease,\\nThus sadly won! Aho! what victory\\nCan bring delight, Govinda! what rich spoils\\nCould profit; what rule recompense; what span\\nOf life itself seem sweet, bought with such blood?\\nSeeing that these stand here, ready to die,\\nFor whose sake life was fair, and pleasure pleased,\\nAnd power grew precious:-grandsires, sires, and sons,\\nBrothers, and fathers-in-law, and sons-in-law,\\nElders and friends! Shall I deal death on these\\nEven though they seek to slay us? Not one blow,\\nO Madhusudan! will I strike to gain\\nThe rule of all Three Worlds; then, how much less\\nTo seize an earthly kingdom! Killing these\\nMust breed but anguish, Krishna! If they be\\nGuilty, we shall grow guilty by their deaths;\\nTheir sins will light on us, if we shall slay\\nThose sons of Dhritirashtra, and our kin;\\nWhat peace could come of that, O Madhava?\\nFor if indeed, blinded by lust and wrath,\\nThese cannot see, or will not see, the sin\\nOf kingly lines o'erthrown and kinsmen slain,\\nHow should not we, who see, shun such a crime--\\nWe who perceive the guilt and feel the shame--\\nO thou Delight of Men, Janardana?\\nBy overthrow of houses perisheth\\nTheir sweet continuous household piety,\\nAnd-rites neglected, piety extinct--\\nEnters impiety upon that home;\\nIts women grow unwomaned, whence there spring\\nMad passions, and the mingling-up of castes,\\nSending a Hell-ward road that family,\\nAnd whoso wrought its doom by wicked wrath.\\nNay, and the souls of honoured ancestors\\nFall from their place of peace, being bereft\\nOf funeral-cakes and the wan death-water.[FN#1]\\nSo teach our holy hymns. Thus, if we slay\\nKinsfolk and friends for love of earthly power,\\nAhovat! what an evil fault it were!\\nBetter I deem it, if my kinsmen strike,\\nTo face them weaponless, and bare my breast\\nTo shaft and spear, than answer blow with blow.\\nSo speaking, in the face of those two hosts,\\nArjuna sank upon his chariot-seat,\\nAnd let fall bow and arrows, sick at heart.\\nHERE ENDETH CHAPTER I. OF THE BHAGAVAD-GITA,\\nEntitled \"Arjun-Vishad,\"\\nOr \"The Book of the Distress of Arjuna.\"                                                                                                                                                                                                                                                                                                                                                                                                                                                                                                                                                                                                                                                                                                                                                                                                                                                                                                                                                                                                                                                                                                                                                                                                                                                                                                                                                                                                                                                                                                                                                                                                                                                                                                                                                                                                                                                                                                                                                                                                                                                                                                                                                                                                                                                                                                                                                                                                                                                                                                                                                                                                                                                                                                                                                                                                                                                                                                                                                                                                                                                                                                                                                                                                                                                                                                                                                                                                                                                                                                                                                                                                                                                                                                                                                                                                                                                                                                                                                                                                                                                                                                                                                                                                                                                                                                                                                                                                                                                                                                                                                                                                                                                                                                                                                                                                                                                                                                                                                                                                                                                                                                                                                                                                                                                                                                                                                                                                                                                                                                                                                                                                                                                                                                                                                                                                                                                                                                                                                                                                                                                                                                                                                                                                                                                                                                                                                                                                                                                                                                                                                                                                                                                                                                                                                                                                    1\n",
              "rishna.\\nFearlessness, singleness of soul, the will\\nAlways to strive for wisdom; opened hand\\nAnd governed appetites; and piety,\\nAnd love of lonely study; humbleness,\\nUprightness, heed to injure nought which lives,\\nTruthfulness, slowness unto wrath, a mind\\nThat lightly letteth go what others prize;\\nAnd equanimity, and charity\\nWhich spieth no man's faults; and tenderness\\nTowards all that suffer; a contented heart,\\nFluttered by no desires; a bearing mild,\\nModest, and grave, with manhood nobly mixed,\\nWith patience, fortitude, and purity;\\nAn unrevengeful spirit, never given\\nTo rate itself too high;--such be the signs,\\nO Indian Prince! of him whose feet are set\\nOn that fair path which leads to heavenly birth!\\nDeceitfulness, and arrogance, and pride,\\nQuickness to anger, harsh and evil speech,\\nAnd ignorance, to its own darkness blind,--\\nThese be the signs, My Prince! of him whose birth\\nIs fated for the regions of the vile.[FN#32]\\nThe Heavenly Birth brings to deliverance,\\nSo should'st thou know! The birth with Asuras\\nBrings into bondage. Be thou joyous, Prince!\\nWhose lot is set apart for heavenly Birth.\\nTwo stamps there are marked on all living men,\\nDivine and Undivine; I spake to thee\\nBy what marks thou shouldst know the Heavenly Man,\\nHear from me now of the Unheavenly!\\nThey comprehend not, the Unheavenly,\\nHow Souls go forth from Me; nor how they come\\nBack unto Me: nor is there Truth in these,\\nNor purity, nor rule of Life. \"This world\\nHath not a Law, nor Order, nor a Lord,\"\\nSo say they: \"nor hath risen up by Cause\\nFollowing on Cause, in perfect purposing,\\nBut is none other than a House of Lust.\"\\nAnd, this thing thinking, all those ruined ones--\\nOf little wit, dark-minded--give themselves\\nTo evil deeds, the curses of their kind.\\nSurrendered to desires insatiable,\\nFull of deceitfulness, folly, and pride,\\nIn blindness cleaving to their errors, caught\\nInto the sinful course, they trust this lie\\nAs it were true--this lie which leads to death--\\nFinding in Pleasure all the good which is,\\nAnd crying \"Here it finisheth!\"\\nEnsnared\\nIn nooses of a hundred idle hopes,\\nSlaves to their passion and their wrath, they buy\\nWealth with base deeds, to glut hot appetites;\\n\"Thus much, to-day,\" they say, \"we gained! thereby\\nSuch and such wish of heart shall have its fill;\\nAnd this is ours! and th' other shall be ours!\\nTo-day we slew a foe, and we will slay\\nOur other enemy to-morrow! Look!\\nAre we not lords? Make we not goodly cheer?\\nIs not our fortune famous, brave, and great?\\nRich are we, proudly born! What other men\\nLive like to us? Kill, then, for sacrifice!\\nCast largesse, and be merry!\" So they speak\\nDarkened by ignorance; and so they fall--\\nTossed to and fro with projects, tricked, and bound\\nIn net of black delusion, lost in lusts--\\nDown to foul Naraka. Conceited, fond,\\nStubborn and proud, dead-drunken with the wine\\nOf wealth, and reckless, all their offerings\\nHave but a show of reverence, being not made\\nIn piety of ancient faith. Thus vowed\\nTo self-hood, force, insolence, feasting, wrath,\\nThese My blasphemers, in the forms they wear\\nAnd in the forms they breed, my foemen are,\\nHateful and hating; cruel, evil, vile,\\nLowest and least of men, whom I cast down\\nAgain, and yet again, at end of lives,\\nInto some devilish womb, whence--birth by birth--\\nThe devilish wombs re-spawn them, all beguiled;\\nAnd, till they find and worship Me, sweet Prince!\\nTread they that Nether Road.\\nThe Doors of Hell\\nAre threefold, whereby men to ruin pass,--\\nThe door of Lust, the door of Wrath, the door\\nOf Avarice. Let a man shun those three!\\nHe who shall turn aside from entering\\nAll those three gates of Narak, wendeth straight\\nTo find his peace, and comes to Swarga's gate.\\n. . . . . . . . . . . .[FN#33]\\nHERE ENDETH CHAPTER XVI. OF THE BHAGAVAD-GITA,\\nEntitled \"Daivasarasaupadwibhagayog,\"\\nOr \"The Book of the Separateness of the Divine and Undivine.\"                                                                                                                                                                                                                                                                                                                                                                                                                                                                                                                                                                                                                                                                                                                                                                                                                                                                                                                                                                                                                                                                                                                                                                                                                                                                                                                                                                                                                                                                                                                                                                                                                                                                                                                                                                                                                                                                                                                                                                                                                                                                                                                                                                                                                                                                                                                                                                                                                                                                                                                                                                                                                                                                                                                                                                                                                                                                                                                                                                                                                                                                                                                                                                                                                                                                                                                                                                                                                                                                                                                                                                                                                                                                                                                                                                                                                                                                                                                                                                                                                                                                                                                                                                                                                                                                                                                                                                                                                                                                                                                                                                                                                                                                                                                                                                                                                                                                                                                                                                                                                                                                                                                                                                                                                                                                                                                                                                                                                                                                                                                                                                                                                                                                                                                                                                                                                                                                                                                                                                                                                                                                                                                                                                                                                                                                                                                                                                                                                                                                                                                                                                                                                                                                                                                                                                                                                                                                                                                                                                                                                                                                                                                                                                                                                                                                                                                                                                                                                                                                                                                                                                                                                                                                                                                                                                                                                                                                                                                                                                                                                                                                                                                                                                                                                                                                                                                                                                                                                                                                                                                                                                                                                                                                                                                                                                                                                                                                                                                                                                                                   1\n",
              "Krishna.\\nThis deathless Yoga, this deep union,\\nI taught Vivaswata,[FN#6] the Lord of Light;\\nVivaswata to Manu gave it; he\\nTo Ikshwaku; so passed it down the line\\nOf all my royal Rishis. Then, with years,\\nThe truth grew dim and perished, noble Prince!\\nNow once again to thee it is declared--\\nThis ancient lore, this mystery supreme--\\nSeeing I find thee votary and friend.\\nArjuna.\\nThy birth, dear Lord, was in these later days,\\nAnd bright Vivaswata's preceded time!\\nHow shall I comprehend this thing thou sayest,\\n\"From the beginning it was I who taught?\"\\nKrishna.\\nManifold the renewals of my birth\\nHave been, Arjuna! and of thy births, too!\\nBut mine I know, and thine thou knowest not,\\nO Slayer of thy Foes! Albeit I be\\nUnborn, undying, indestructible,\\nThe Lord of all things living; not the less--\\nBy Maya, by my magic which I stamp\\nOn floating Nature-forms, the primal vast--\\nI come, and go, and come. When Righteousness\\nDeclines, O Bharata! when Wickedness\\nIs strong, I rise, from age to age, and take\\nVisible shape, and move a man with men,\\nSuccouring the good, thrusting the evil back,\\nAnd setting Virtue on her seat again.\\nWho knows the truth touching my births on earth\\nAnd my divine work, when he quits the flesh\\nPuts on its load no more, falls no more down\\nTo earthly birth: to Me he comes, dear Prince!\\nMany there be who come! from fear set free,\\nFrom anger, from desire; keeping their hearts\\nFixed upon me--my Faithful--purified\\nBy sacred flame of Knowledge. Such as these\\nMix with my being. Whoso worship me,\\nThem I exalt; but all men everywhere\\nShall fall into my path; albeit, those souls\\nWhich seek reward for works, make sacrifice\\nNow, to the lower gods. I say to thee\\nHere have they their reward. But I am He\\nMade the Four Castes, and portioned them a place\\nAfter their qualities and gifts. Yea, I\\nCreated, the Reposeful; I that live\\nImmortally, made all those mortal births:\\nFor works soil not my essence, being works\\nWrought uninvolved.[FN#7] Who knows me acting thus\\nUnchained by action, action binds not him;\\nAnd, so perceiving, all those saints of old\\nWorked, seeking for deliverance. Work thou\\nAs, in the days gone by, thy fathers did.\\nThou sayst, perplexed, It hath been asked before\\nBy singers and by sages, \"What is act,\\nAnd what inaction? \"I will teach thee this,\\nAnd, knowing, thou shalt learn which work doth save\\nNeeds must one rightly meditate those three--\\nDoing,--not doing,--and undoing. Here\\nThorny and dark the path is! He who sees\\nHow action may be rest, rest action--he\\nIs wisest 'mid his kind; he hath the truth!\\nHe doeth well, acting or resting. Freed\\nIn all his works from prickings of desire,\\nBurned clean in act by the white fire of truth,\\nThe wise call that man wise; and such an one,\\nRenouncing fruit of deeds, always content.\\nAlways self-satisfying, if he works,\\nDoth nothing that shall stain his separate soul,\\nWhich--quit of fear and hope--subduing self--\\nRejecting outward impulse--yielding up\\nTo body's need nothing save body, dwells\\nSinless amid all sin, with equal calm\\nTaking what may befall, by grief unmoved,\\nUnmoved by joy, unenvyingly; the same\\nIn good and evil fortunes; nowise bound\\nBy bond of deeds. Nay, but of such an one,\\nWhose crave is gone, whose soul is liberate,\\nWhose heart is set on truth--of such an one\\nWhat work he does is work of sacrifice,\\nWhich passeth purely into ash and smoke\\nConsumed upon the altar! All's then God!\\nThe sacrifice is Brahm, the ghee and grain\\nAre Brahm, the fire is Brahm, the flesh it eats\\nIs Brahm, and unto Brahm attaineth he\\nWho, in such office, meditates on Brahm.\\nSome votaries there be who serve the gods\\nWith flesh and altar-smoke; but other some\\nWho, lighting subtler fires, make purer rite\\nWith will of worship. Of the which be they\\nWho, in white flame of continence, consume\\nJoys of the sense, delights of eye and ear,\\nForgoing tender speech and sound of song:\\nAnd they who, kindling fires with torch of Truth,\\nBurn on a hidden altar-stone the bliss\\nOf youth and love, renouncing happiness:\\nAnd they who lay for offering there their wealth,\\nTheir penance, meditation, piety,\\nTheir steadfast reading of the scrolls, their lore\\nPainfully gained with long austerities:\\nAnd they who, making silent sacrifice,\\nDraw in their breath to feed the flame of thought,\\nAnd breathe it forth to waft the heart on high,\\nGoverning the ventage of each entering air\\nLest one sigh pass which helpeth not the soul:\\nAnd they who, day by day denying needs,\\nLay life itself upon the altar-flame,\\nBurning the body wan. Lo! all these keep\\nThe rite of offering, as if they slew\\nVictims; and all thereby efface much sin.\\nYea! and who feed on the immortal food\\nLeft of such sacrifice, to Brahma pass,\\nTo The Unending. But for him that makes\\nNo sacrifice, he hath nor part nor lot\\nEven in the present world. How should he share\\nAnother, O thou Glory of thy Line?\\nIn sight of Brahma all these offerings\\nAre spread and are accepted! Comprehend\\nThat all proceed by act; for knowing this,\\nThou shalt be quit of doubt. The sacrifice\\nWhich Knowledge pays is better than great gifts\\nOffered by wealth, since gifts' worth--O my Prince!\\nLies in the mind which gives, the will that serves:\\nAnd these are gained by reverence, by strong search,\\nBy humble heed of those who see the Truth\\nAnd teach it. Knowing Truth, thy heart no more\\nWill ache with error, for the Truth shall show\\nAll things subdued to thee, as thou to Me.\\nMoreover, Son of Pandu! wert thou worst\\nOf all wrong-doers, this fair ship of Truth\\nShould bear thee safe and dry across the sea\\nOf thy transgressions. As the kindled flame\\nFeeds on the fuel till it sinks to ash,\\nSo unto ash, Arjuna! unto nought\\nThe flame of Knowledge wastes works' dross away!\\nThere is no purifier like thereto\\nIn all this world, and he who seeketh it\\nShall find it--being grown perfect--in himself.\\nBelieving, he receives it when the soul\\nMasters itself, and cleaves to Truth, and comes--\\nPossessing knowledge--to the higher peace,\\nThe uttermost repose. But those untaught,\\nAnd those without full faith, and those who fear\\nAre shent; no peace is here or other where,\\nNo hope, nor happiness for whoso doubts.\\nHe that, being self-contained, hath vanquished doubt,\\nDisparting self from service, soul from works,\\nEnlightened and emancipate, my Prince!\\nWorks fetter him no more! Cut then atwain\\nWith sword of wisdom, Son of Bharata!\\nThis doubt that binds thy heart-beats! cleave the bond\\nBorn of thy ignorance! Be bold and wise!\\nGive thyself to the field with me! Arise!\\nHERE ENDETH CHAPTER IV. OF THE BHAGAVAD-GITA,\\nEntitled \"Jnana Yog,\"\\nOr \"The Book of the Religion of Knowledge,\"                                                                                                                                                                                                                                                                                                                                                                                                                                                                                                                                                                                                                                                                                                                                                                                                                                                                                                                                                                                                                                                                                                                                                                                                                                                                                                                                                                                                                                                                                                                                                                                                                                                                                                                                                                                                                                                                                                                                                                                                                                                                                                                                                                                                                                                                                                                                                                                                                                                                                                                                                                                                                                                                                                                                                                                                                                                                                                                                                                                                                                                                                                                                                                                                                                                                                                                                                                                                                                                                                                                                                                                                                                                                                                                                                                                                                                                                                                                                                                                                                                                                                                                                                                                                                                                                                                                                                                                                                                                                                                                                                                                                                                                                                                                                                                                                                                                                                                                                                                                                                                                                                                                                                                                                                                                                                                                                                                                                                                                                                                                                                                                                                                                                                                                                                                                                                                                                                                                                                                                                                                                                                                1\n",
              "Krishna.\\nLearn now, dear Prince! how, if thy soul be set\\nEver on Me--still exercising Yog,\\nStill making Me thy Refuge--thou shalt come\\nMost surely unto perfect hold of Me.\\nI will declare to thee that utmost lore,\\nWhole and particular, which, when thou knowest,\\nLeaveth no more to know here in this world.\\nOf many thousand mortals, one, perchance,\\nStriveth for Truth; and of those few that strive--\\nNay, and rise high--one only--here and there--\\nKnoweth Me, as I am, the very Truth.\\nEarth, water, flame, air, ether, life, and mind,\\nAnd individuality--those eight\\nMake up the showing of Me, Manifest.\\nThese be my lower Nature; learn the higher,\\nWhereby, thou Valiant One! this Universe\\nIs, by its principle of life, produced;\\nWhereby the worlds of visible things are born\\nAs from a Yoni. Know! I am that womb:\\nI make and I unmake this Universe:\\nThan me there is no other Master, Prince!\\nNo other Maker! All these hang on me\\nAs hangs a row of pearls upon its string.\\nI am the fresh taste of the water; I\\nThe silver of the moon, the gold o' the sun,\\nThe word of worship in the Veds, the thrill\\nThat passeth in the ether, and the strength\\nOf man's shed seed. I am the good sweet smell\\nOf the moistened earth, I am the fire's red light,\\nThe vital air moving in all which moves,\\nThe holiness of hallowed souls, the root\\nUndying, whence hath sprung whatever is;\\nThe wisdom of the wise, the intellect\\nOf the informed, the greatness of the great.\\nThe splendour of the splendid. Kunti's Son!\\nThese am I, free from passion and desire;\\nYet am I right desire in all who yearn,\\nChief of the Bharatas! for all those moods,\\nSoothfast, or passionate, or ignorant,\\nWhich Nature frames, deduce from me; but all\\nAre merged in me--not I in them! The world--\\nDeceived by those three qualities of being--\\nWotteth not Me Who am outside them all,\\nAbove them all, Eternal! Hard it is\\nTo pierce that veil divine of various shows\\nWhich hideth Me; yet they who worship Me\\nPierce it and pass beyond.\\nI am not known\\nTo evil-doers, nor to foolish ones,\\nNor to the base and churlish; nor to those\\nWhose mind is cheated by the show of things,\\nNor those that take the way of Asuras.[FN#12]\\nFour sorts of mortals know me: he who weeps,\\nArjuna! and the man who yearns to know;\\nAnd he who toils to help; and he who sits\\nCertain of me, enlightened.\\nOf these four,\\nO Prince of India! highest, nearest, best\\nThat last is, the devout soul, wise, intent\\nUpon \"The One.\" Dear, above all, am I\\nTo him; and he is dearest unto me!\\nAll four are good, and seek me; but mine own,\\nThe true of heart, the faithful--stayed on me,\\nTaking me as their utmost blessedness,\\nThey are not \"mine,\"but I--even I myself!\\nAt end of many births to Me they come!\\nYet hard the wise Mahatma is to find,\\nThat man who sayeth, \"All is Vasudev!\"[FN#13]\\nThere be those, too, whose knowledge, turned aside\\nBy this desire or that, gives them to serve\\nSome lower gods, with various rites, constrained\\nBy that which mouldeth them. Unto all such--\\nWorship what shrine they will, what shapes, in faith--\\n'Tis I who give them faith! I am content!\\nThe heart thus asking favour from its God,\\nDarkened but ardent, hath the end it craves,\\nThe lesser blessing--but 'tis I who give!\\nYet soon is withered what small fruit they reap:\\nThose men of little minds, who worship so,\\nGo where they worship, passing with their gods.\\nBut Mine come unto me! Blind are the eyes\\nWhich deem th' Unmanifested manifest,\\nNot comprehending Me in my true Self!\\nImperishable, viewless, undeclared,\\nHidden behind my magic veil of shows,\\nI am not seen by all; I am not known--\\nUnborn and changeless--to the idle world.\\nBut I, Arjuna! know all things which were,\\nAnd all which are, and all which are to be,\\nAlbeit not one among them knoweth Me!\\nBy passion for the \"pairs of opposites,\"\\nBy those twain snares of Like and Dislike, Prince!\\nAll creatures live bewildered, save some few\\nWho, quit of sins, holy in act, informed,\\nFreed from the \"opposites,\"and fixed in faith,\\nCleave unto Me.\\nWho cleave, who seek in Me\\nRefuge from birth[FN#14] and death, those have the Truth!\\nThose know Me BRAHMA; know Me Soul of Souls,\\nThe ADHYATMAN; know KARMA, my work;\\nKnow I am ADHIBHUTA, Lord of Life,\\nAnd ADHIDAIVA, Lord of all the Gods,\\nAnd ADHIYAJNA, Lord of Sacrifice;\\nWorship Me well, with hearts of love and faith,\\nAnd find and hold me in the hour of death.\\nHERE ENDETH CHAPTER VII. OF THE BHAGAVAD-GITA,\\nEntitled \"Vijnanayog,\"\\nOr \"The Book of Religion by Discernment.\"                                                                                                                                                                                                                                                                                                                                                                                                                                                                                                                                                                                                                                                                                                                                                                                                                                                                                                                                                                                                                                                                                                                                                                                                                                                                                                                                                                                                                                                                                                                                                                                                                                                                                                                                                                                                                                                                                                                                                                                                                                                                                                                                                                                                                                                                                                                                                                                                                                                                                                                                                                                                                                                                                                                                                                                                                                                                                                                                                                                                                                                                                                                                                                                                                                                                                                                                                                                                                                                                                                                                                                                                                                                                                                                                                                                                                                                                                                                                                                                                                                                                                                                                                                                                                                                                                                                                                                                                                                                                                                                                                                                                                                                                                                                                                                                                                                                                                                                                                                                                                                                                                                                                                                                                                                                                                                                                                                                                                                                                                                                                                                                                                                                                                                                                                                                                                                                                                                                                                                                                                                                                                                                                                                                                                                                                                                                                                                                                                                                                                                                                                                                                                                                                                                                                                                                                                                                                                                                                                                                                                                                                                                                                                                                                                                                                                                                                                                                                                                                                                                                                                                                                                                                                                                                                                                                                                                                                                                                                                                                                                                                                                                                                                                                                                                                                                                                                                                    1\n",
              "Arjuna.\\nNow would I hear, O gracious Kesava![FN#26]\\nOf Life which seems, and Soul beyond, which sees,\\nAnd what it is we know-or think to know.\\nKrishna.\\nYea! Son of Kunti! for this flesh ye see\\nIs Kshetra, is the field where Life disports;\\nAnd that which views and knows it is the Soul,\\nKshetrajna. In all \"fields,\" thou Indian prince!\\nI am Kshetrajna. I am what surveys!\\nOnly that knowledge knows which knows the known\\nBy the knower![FN#27] What it is, that \"field\" of life,\\nWhat qualities it hath, and whence it is,\\nAnd why it changeth, and the faculty\\nThat wotteth it, the mightiness of this,\\nAnd how it wotteth-hear these things from Me!\\n. . . . . . . . . . . .[FN#28]\\nThe elements, the conscious life, the mind,\\nThe unseen vital force, the nine strange gates\\nOf the body, and the five domains of sense;\\nDesire, dislike, pleasure and pain, and thought\\nDeep-woven, and persistency of being;\\nThese all are wrought on Matter by the Soul!\\nHumbleness, truthfulness, and harmlessness,\\nPatience and honour, reverence for the wise.\\nPurity, constancy, control of self,\\nContempt of sense-delights, self-sacrifice,\\nPerception of the certitude of ill\\nIn birth, death, age, disease, suffering, and sin;\\nDetachment, lightly holding unto home,\\nChildren, and wife, and all that bindeth men;\\nAn ever-tranquil heart in fortunes good\\nAnd fortunes evil, with a will set firm\\nTo worship Me--Me only! ceasing not;\\nLoving all solitudes, and shunning noise\\nOf foolish crowds; endeavours resolute\\nTo reach perception of the Utmost Soul,\\nAnd grace to understand what gain it were\\nSo to attain,--this is true Wisdom, Prince!\\nAnd what is otherwise is ignorance!\\nNow will I speak of knowledge best to know-\\nThat Truth which giveth man Amrit to drink,\\nThe Truth of HIM, the Para-Brahm, the All,\\nThe Uncreated;; not Asat, not Sat,\\nNot Form, nor the Unformed; yet both, and more;--\\nWhose hands are everywhere, and everywhere\\nPlanted His feet, and everywhere His eyes\\nBeholding, and His ears in every place\\nHearing, and all His faces everywhere\\nEnlightening and encompassing His worlds.\\nGlorified in the senses He hath given,\\nYet beyond sense He is; sustaining all,\\nYet dwells He unattached: of forms and modes\\nMaster, yet neither form nor mode hath He;\\nHe is within all beings--and without--\\nMotionless, yet still moving; not discerned\\nFor subtlety of instant presence; close\\nTo all, to each; yet measurelessly far!\\nNot manifold, and yet subsisting still\\nIn all which lives; for ever to be known\\nAs the Sustainer, yet, at the End of Times,\\nHe maketh all to end--and re-creates.\\nThe Light of Lights He is, in the heart of the Dark\\nShining eternally. Wisdom He is\\nAnd Wisdom's way, and Guide of all the wise,\\nPlanted in every heart.\\nSo have I told\\nOf Life's stuff, and the moulding, and the lore\\nTo comprehend. Whoso, adoring Me,\\nPerceiveth this, shall surely come to Me!\\nKnow thou that Nature and the Spirit both\\nHave no beginning! Know that qualities\\nAnd changes of them are by Nature wrought;\\nThat Nature puts to work the acting frame,\\nBut Spirit doth inform it, and so cause\\nFeeling of pain and pleasure. Spirit, linked\\nTo moulded matter, entereth into bond\\nWith qualities by Nature framed, and, thus\\nMarried to matter, breeds the birth again\\nIn good or evil yonis.[FN#29]\\nYet is this\\nYea! in its bodily prison!--Spirit pure,\\nSpirit supreme; surveying, governing,\\nGuarding, possessing; Lord and Master still\\nPURUSHA, Ultimate, One Soul with Me.\\nWhoso thus knows himself, and knows his soul\\nPURUSHA, working through the qualities\\nWith Nature's modes, the light hath come for him!\\nWhatever flesh he bears, never again\\nShall he take on its load. Some few there be\\nBy meditation find the Soul in Self\\nSelf-schooled; and some by long philosophy\\nAnd holy life reach thither; some by works:\\nSome, never so attaining, hear of light\\nFrom other lips, and seize, and cleave to it\\nWorshipping; yea! and those--to teaching true--\\nOverpass Death!\\nWherever, Indian Prince!\\nLife is--of moving things, or things unmoved,\\nPlant or still seed--know, what is there hath grown\\nBy bond of Matter and of Spirit: Know\\nHe sees indeed who sees in all alike\\nThe living, lordly Soul; the Soul Supreme,\\nImperishable amid the Perishing:\\nFor, whoso thus beholds, in every place,\\nIn every form, the same, one, Living Life,\\nDoth no more wrongfulness unto himself,\\nBut goes the highest road which brings to bliss.\\nSeeing, he sees, indeed, who sees that works\\nAre Nature's wont, for Soul to practise by\\nActing, yet not the agent; sees the mass\\nOf separate living things--each of its kind--\\nIssue from One, and blend again to One:\\nThen hath he BRAHMA, he attains!\\nO Prince!\\nThat Ultimate, High Spirit, Uncreate,\\nUnqualified, even when it entereth flesh\\nTaketh no stain of acts, worketh in nought!\\nLike to the ethereal air, pervading all,\\nWhich, for sheer subtlety, avoideth taint,\\nThe subtle Soul sits everywhere, unstained:\\nLike to the light of the all-piercing sun\\n[Which is not changed by aught it shines upon,]\\nThe Soul's light shineth pure in every place;\\nAnd they who, by such eye of wisdom, see\\nHow Matter, and what deals with it, divide;\\nAnd how the Spirit and the flesh have strife,\\nThose wise ones go the way which leads to Life!\\nHERE ENDS CHAPTER XIII. OF THE BHAGAVAD-GITA,\\nEntitled \"Kshetrakshetrajnavibhagayog,\"\\nOr \"The Book of Religion by Separation of Matter and Spirit.\"\\n                                                                                                                                                                                                                                                                                                                                                                                                                                                                                                                                                                                                                                                                                                                                                                                                                                                                                                                                                                                                                                                                                                                                                                                                                                                                                                                                                                                                                                                                                                                                                                                                                                                                                                                                                                                                                                                                                                                                                                                                                                                                                                                                                                                                                                                                                                                                                                                                                                                                                                                                                                                                                                                                                                                                                                                                                                                                                                                                                                                                                                                                                                                                                                                                                                                                                                                                                                                                                                                                                                                                                                                                                                                                                                                                                                                                                                                                                                                                                                                                                                                                                                                                                                                                                                                                                                                                                                                                                                                                                                                                                                                                                                                                                                                                                                                                                                                                                                                                                                                                                                                                                                                                                                                                                                                                                                                                                                                                                                                                                                                                                                                                                                                                                                                                                                                                                                                                                                                                                                                                                                                                                                                                                                                                                                                                                                                                                                                                                                                                                                                                                                                                                                                                                                                                                                                                                                                                                                                                                                                                                                                                                                                                                                                                                                                                                                                                                                                                                                  1\n",
              "Arjuna.\\nYet, Krishna! at the one time thou dost laud\\nSurcease of works, and, at another time,\\nService through work. Of these twain plainly tell\\nWhich is the better way?\\nKrishna.\\nTo cease from works\\nIs well, and to do works in holiness\\nIs well; and both conduct to bliss supreme;\\nBut of these twain the better way is his\\nWho working piously refraineth not.\\nThat is the true Renouncer, firm and fixed,\\nWho--seeking nought, rejecting nought--dwells proof\\nAgainst the \"opposites.\"[FN#8] O valiant Prince!\\nIn doing, such breaks lightly from all deed:\\n'Tis the new scholar talks as they were two,\\nThis Sankhya and this Yoga: wise men know\\nWho husbands one plucks golden fruit of both!\\nThe region of high rest which Sankhyans reach\\nYogins attain. Who sees these twain as one\\nSees with clear eyes! Yet such abstraction, Chief!\\nIs hard to win without much holiness.\\nWhoso is fixed in holiness, self-ruled,\\nPure-hearted, lord of senses and of self,\\nLost in the common life of all which lives--\\nA \"Yogayukt\"--he is a Saint who wends\\nStraightway to Brahm. Such an one is not touched\\nBy taint of deeds. \"Nought of myself I do!\"\\nThus will he think-who holds the truth of truths--\\nIn seeing, hearing, touching, smelling; when\\nHe eats, or goes, or breathes; slumbers or talks,\\nHolds fast or loosens, opes his eyes or shuts;\\nAlways assured \"This is the sense-world plays\\nWith senses.\"He that acts in thought of Brahm,\\nDetaching end from act, with act content,\\nThe world of sense can no more stain his soul\\nThan waters mar th' enamelled lotus-leaf.\\nWith life, with heart, with mind,-nay, with the help\\nOf all five senses--letting selfhood go--\\nYogins toil ever towards their souls' release.\\nSuch votaries, renouncing fruit of deeds,\\nGain endless peace: the unvowed, the passion-bound,\\nSeeking a fruit from works, are fastened down.\\nThe embodied sage, withdrawn within his soul,\\nAt every act sits godlike in \"the town\\nWhich hath nine gateways,\"[FN#9] neither doing aught\\nNor causing any deed. This world's Lord makes\\nNeither the work, nor passion for the work,\\nNor lust for fruit of work; the man's own self\\nPushes to these! The Master of this World\\nTakes on himself the good or evil deeds\\nOf no man--dwelling beyond! Mankind errs here\\nBy folly, darkening knowledge. But, for whom\\nThat darkness of the soul is chased by light,\\nSplendid and clear shines manifest the Truth\\nAs if a Sun of Wisdom sprang to shed\\nIts beams of dawn. Him meditating still,\\nHim seeking, with Him blended, stayed on Him,\\nThe souls illuminated take that road\\nWhich hath no turning back--their sins flung off\\nBy strength of faith. [Who will may have this Light;\\nWho hath it sees.] To him who wisely sees,\\nThe Brahman with his scrolls and sanctities,\\nThe cow, the elephant, the unclean dog,\\nThe Outcast gorging dog's meat, are all one.\\nThe world is overcome--aye! even here!\\nBy such as fix their faith on Unity.\\nThe sinless Brahma dwells in Unity,\\nAnd they in Brahma. Be not over-glad\\nAttaining joy, and be not over-sad\\nEncountering grief, but, stayed on Brahma, still\\nConstant let each abide! The sage whose soul\\nHolds off from outer contacts, in himself\\nFinds bliss; to Brahma joined by piety,\\nHis spirit tastes eternal peace. The joys\\nSpringing from sense-life are but quickening wombs\\nWhich breed sure griefs: those joys begin and end!\\nThe wise mind takes no pleasure, Kunti's Son!\\nIn such as those! But if a man shall learn,\\nEven while he lives and bears his body's chain,\\nTo master lust and anger, he is blest!\\nHe is the Yukta; he hath happiness,\\nContentment, light, within: his life is merged\\nIn Brahma's life; he doth Nirvana touch!\\nThus go the Rishis unto rest, who dwell\\nWith sins effaced, with doubts at end, with hearts\\nGoverned and calm. Glad in all good they live,\\nNigh to the peace of God; and all those live\\nWho pass their days exempt from greed and wrath,\\nSubduing self and senses, knowing the Soul!\\nThe Saint who shuts outside his placid soul\\nAll touch of sense, letting no contact through;\\nWhose quiet eyes gaze straight from fixed brows,\\nWhose outward breath and inward breath are drawn\\nEqual and slow through nostrils still and close;\\nThat one-with organs, heart, and mind constrained,\\nBent on deliverance, having put away\\nPassion, and fear, and rage;--hath, even now,\\nObtained deliverance, ever and ever freed.\\nYea! for he knows Me Who am He that heeds\\nThe sacrifice and worship, God revealed;\\nAnd He who heeds not, being Lord of Worlds,\\nLover of all that lives, God unrevealed,\\nWherein who will shall find surety and shield!\\nHERE ENDS CHAPTER V. OF THE BHAGAVAD-GITA,\\nEntitled \"Karmasanyasayog,\"\\nOr \"The Book of Religion by Renouncing Fruit of Works.\"\\n                                                                                                                                                                                                                                                                                                                                                                                                                                                                                                                                                                                                                                                                                                                                                                                                                                                                                                                                                                                                                                                                                                                                                                                                                                                                                                                                                                                                                                                                                                                                                                                                                                                                                                                                                                                                                                                                                                                                                                                                                                                                                                                                                                                                                                                                                                                                                                                                                                                                                                                                                                                                                                                                                                                                                                                                                                                                                                                                                                                                                                                                                                                                                                                                                                                                                                                                                                                                                                                                                                                                                                                                                                                                                                                                                                                                                                                                                                                                                                                                                                                                                                                                                                                                                                                                                                                                                                                                                                                                                                                                                                                                                                                                                                                                                                                                                                                                                                                                                                                                                                                                                                                                                                                                                                                                                                                                                                                                                                                                                                                                                                                                                                                                                                                                                                                                                                                                                                                                                                                                                                                                                                                                                                                                                                                                                                                                                                                                                                                                                                                                                                                                                                                                                                                                                                                                                                                                                                                                                                                                                                                                                                                                                                                                                                                                                                                                                                                                                                                                                                                                                                                                                                                                                                                                                                                                                                                                                                                                                                                                                                                                                                                                                                                   1\n",
              "Krishna.\\nYet farther will I open unto thee\\nThis wisdom of all wisdoms, uttermost,\\nThe which possessing, all My saints have passed\\nTo perfectness. On such high verities\\nReliant, rising into fellowship\\nWith Me, they are not born again at birth\\nOf Kalpas, nor at Pralyas suffer change!\\nThis Universe the womb is where I plant\\nSeed of all lives! Thence, Prince of India, comes\\nBirth to all beings! Whoso, Kunti's Son!\\nMothers each mortal form, Brahma conceives,\\nAnd I am He that fathers, sending seed!\\nSattwan, Rajas, and Tamas, so are named\\nThe qualities of Nature, \"Soothfastness,\"\\n\"Passion,\" and \"Ignorance.\" These three bind down\\nThe changeless Spirit in the changeful flesh.\\nWhereof sweet \"Soothfastness,\" by purity\\nLiving unsullied and enlightened, binds\\nThe sinless Soul to happiness and truth;\\nAnd Passion, being kin to appetite,\\nAnd breeding impulse and propensity,\\nBinds the embodied Soul, O Kunti's Son!\\nBy tie of works. But Ignorance, begot\\nOf Darkness, blinding mortal men, binds down\\nTheir souls to stupor, sloth, and drowsiness.\\nYea, Prince of India! Soothfastness binds souls\\nIn pleasant wise to flesh; and Passion binds\\nBy toilsome strain; but Ignorance, which blots\\nThe beams of wisdom, binds the soul to sloth.\\nPassion and Ignorance, once overcome,\\nLeave Soothfastness, O Bharata! Where this\\nWith Ignorance are absent, Passion rules;\\nAnd Ignorance in hearts not good nor quick.\\nWhen at all gateways of the Body shines\\nThe Lamp of Knowledge, then may one see well\\nSoothfastness settled in that city reigns;\\nWhere longing is, and ardour, and unrest,\\nImpulse to strive and gain, and avarice,\\nThose spring from Passion--Prince!--engrained; and where\\nDarkness and dulness, sloth and stupor are,\\n'Tis Ignorance hath caused them, Kuru Chief!\\nMoreover, when a soul departeth, fixed\\nIn Soothfastness, it goeth to the place--\\nPerfect and pure--of those that know all Truth.\\nIf it departeth in set habitude\\nOf Impulse, it shall pass into the world\\nOf spirits tied to works; and, if it dies\\nIn hardened Ignorance, that blinded soul\\nIs born anew in some unlighted womb.\\nThe fruit of Soothfastness is true and sweet;\\nThe fruit of lusts is pain and toil; the fruit\\nOf Ignorance is deeper darkness. Yea!\\nFor Light brings light, and Passion ache to have;\\nAnd gloom, bewilderments, and ignorance\\nGrow forth from Ignorance. Those of the first\\nRise ever higher; those of the second mode\\nTake a mid place; the darkened souls sink back\\nTo lower deeps, loaded with witlessness!\\nWhen, watching life, the living man perceives\\nThe only actors are the Qualities,\\nAnd knows what rules beyond the Qualities,\\nThen is he come nigh unto Me!\\nThe Soul,\\nThus passing forth from the Three Qualities--\\nWhereby arise all bodies--overcomes\\nBirth, Death, Sorrow, and Age; and drinketh deep\\nThe undying wine of Amrit.\\nArjuna.\\nOh, my Lord!\\nWhich be the signs to know him that hath gone\\nPast the Three Modes? How liveth he? What way\\nLeadeth him safe beyond the threefold Modes?\\nKrishna.\\nHe who with equanimity surveys\\nLustre of goodness, strife of passion, sloth\\nOf ignorance, not angry if they are,\\nNot wishful when they are not: he who sits\\nA sojourner and stranger in their midst\\nUnruffled, standing off, saying--serene--\\nWhen troubles break, \"These be the Qualities!\"\\nHe unto whom--self-centred--grief and joy\\nSound as one word; to whose deep-seeing eyes\\nThe clod, the marble, and the gold are one;\\nWhose equal heart holds the same gentleness\\nFor lovely and unlovely things, firm-set,\\nWell-pleased in praise and dispraise; satisfied\\nWith honour or dishonour; unto friends\\nAnd unto foes alike in tolerance;\\nDetached from undertakings,--he is named\\nSurmounter of the Qualities!\\nAnd such--\\nWith single, fervent faith adoring Me,\\nPassing beyond the Qualities, conforms\\nTo Brahma, and attains Me!\\nFor I am\\nThat whereof Brahma is the likeness! Mine\\nThe Amrit is; and Immortality\\nIs mine; and mine perfect Felicity!\\nHERE ENDS CHAPTER XIV. OF THE BHAGAVAD-GITA\\nEntitled \"Gunatrayavibhagayog,\"\\nOr \"The Book of Religion by Separation from the Qualities.\"\\n\\n\\n                                                                                                                                                                                                                                                                                                                                                                                                                                                                                                                                                                                                                                                                                                                                                                                                                                                                                                                                                                                                                                                                                                                                                                                                                                                                                                                                                                                                                                                                                                                                                                                                                                                                                                                                                                                                                                                                                                                                                                                                                                                                                                                                                                                                                                                                                                                                                                                                                                                                                                                                                                                                                                                                                                                                                                                                                                                                                                                                                                                                                                                                                                                                                                                                                                                                                                                                                                                                                                                                                                                                                                                                                                                                                                                                                                                                                                                                                                                                                                                                                                                                                                                                                                                                                                                                                                                                                                                                                                                                                                                                                                                                                                                                                                                                                                                                                                                                                                                                                                                                                                                                                                                                                                                                                                                                                                                                                                                                                                                                                                                                                                                                                                                                                                                                                                                                                                                                                                                                                                                                                                                                                                                                                                                                                                                                                                                                                                                                                                                                                                                                                                                                                                                                                                                                                                                                                                                                                                                                                                                                                                                                                                                                                                                                                                                                                                                                                                                                                                                                                                                                                                                                                                                                                                                                                                                                                                                                                                                                                                                                                                                                                                                                                                                                                                                                                                                                                                                                                                                                                                                                                                                                                                                                                                                                                                                                                   1\n",
              "Arjuna.\\nWho is that BRAHMA? What that Soul of Souls,\\nThe ADHYATMAN? What, Thou Best of All!\\nThy work, the KARMA? Tell me what it is\\nThou namest ADHIBHUTA? What again\\nMeans ADHIDAIVA? Yea, and how it comes\\nThou canst be ADHIYAJNA in thy flesh?\\nSlayer of Madhu! Further, make me know\\nHow good men find thee in the hour of death?\\nKrishna.\\nI BRAHMA am! the One Eternal GOD,\\nAnd ADHYATMAN is My Being's name,\\nThe Soul of Souls! What goeth forth from Me,\\nCausing all life to live, is KARMA called:\\nAnd, Manifested in divided forms,\\nI am the ADHIBHUTA, Lord of Lives;\\nAnd ADHIDAIVA, Lord of all the Gods,\\nBecause I am PURUSHA, who begets.\\nAnd ADHIYAJNA, Lord of Sacrifice,\\nI--speaking with thee in this body here--\\nAm, thou embodied one! (for all the shrines\\nFlame unto Me!) And, at the hour of death,\\nHe that hath meditated Me alone,\\nIn putting off his flesh, comes forth to Me,\\nEnters into My Being--doubt thou not!\\nBut, if he meditated otherwise\\nAt hour of death, in putting off the flesh,\\nHe goes to what he looked for, Kunti's Son!\\nBecause the Soul is fashioned to its like.\\nHave Me, then, in thy heart always! and fight!\\nThou too, when heart and mind are fixed on Me,\\nShalt surely come to Me! All come who cleave\\nWith never-wavering will of firmest faith,\\nOwning none other Gods: all come to Me,\\nThe Uttermost, Purusha, Holiest!\\nWhoso hath known Me, Lord of sage and singer,\\nAncient of days; of all the Three Worlds Stay,\\nBoundless,--but unto every atom Bringer\\nOf that which quickens it: whoso, I say,\\nHath known My form, which passeth mortal knowing;\\nSeen my effulgence--which no eye hath seen--\\nThan the sun's burning gold more brightly glowing,\\nDispersing darkness,--unto him hath been\\nRight life! And, in the hour when life is ending,\\nWith mind set fast and trustful piety,\\nDrawing still breath beneath calm brows unbending,\\nIn happy peace that faithful one doth die,--\\nIn glad peace passeth to Purusha's heaven.\\nThe place which they who read the Vedas name\\nAKSHARAM, \"Ultimate;\" whereto have striven\\nSaints and ascetics--their road is the same.\\nThat way--the highest way--goes he who shuts\\nThe gates of all his senses, locks desire\\nSafe in his heart, centres the vital airs\\nUpon his parting thought, steadfastly set;\\nAnd, murmuring OM, the sacred syllable--\\nEmblem of BRAHM--dies, meditating Me.\\nFor who, none other Gods regarding, looks\\nEver to Me, easily am I gained\\nBy such a Yogi; and, attaining Me,\\nThey fall not--those Mahatmas--back to birth,\\nTo life, which is the place of pain, which ends,\\nBut take the way of utmost blessedness.\\nThe worlds, Arjuna!--even Brahma's world--\\nRoll back again from Death to Life's unrest;\\nBut they, O Kunti's Son! that reach to Me,\\nTaste birth no more. If ye know Brahma's Day\\nWhich is a thousand Yugas; if ye know\\nThe thousand Yugas making Brahma's Night,\\nThen know ye Day and Night as He doth know!\\nWhen that vast Dawn doth break, th' Invisible\\nIs brought anew into the Visible;\\nWhen that deep Night doth darken, all which is\\nFades back again to Him Who sent it forth;\\nYea! this vast company of living things--\\nAgain and yet again produced--expires\\nAt Brahma's Nightfall; and, at Brahma's Dawn,\\nRiseth, without its will, to life new-born.\\nBut--higher, deeper, innermost--abides\\nAnother Life, not like the life of sense,\\nEscaping sight, unchanging. This endures\\nWhen all created things have passed away:\\nThis is that Life named the Unmanifest,\\nThe Infinite! the All! the Uttermost.\\nThither arriving none return. That Life\\nIs Mine, and I am there! And, Prince! by faith\\nWhich wanders not, there is a way to come\\nThither. I, the PURUSHA, I Who spread\\nThe Universe around me--in Whom dwell\\nAll living Things--may so be reached and seen!\\n. . . . . . . . . . . . . . [FN#14]\\nRicher than holy fruit on Vedas growing,\\nGreater than gifts, better than prayer or fast,\\nSuch wisdom is! The Yogi, this way knowing,\\nComes to the Utmost Perfect Peace at last.\\nHERE ENDETH CHAPTER VIII. OF THE BHAGAVAD-GITA,\\nEntitled \"Aksharaparabrahmayog,\"\\nOr \"The book of Religion by Devotion to the One Supreme God.\"\\n                                                                                                                                                                                                                                                                                                                                                                                                                                                                                                                                                                                                                                                                                                                                                                                                                                                                                                                                                                                                                                                                                                                                                                                                                                                                                                                                                                                                                                                                                                                                                                                                                                                                                                                                                                                                                                                                                                                                                                                                                                                                                                                                                                                                                                                                                                                                                                                                                                                                                                                                                                                                                                                                                                                                                                                                                                                                                                                                                                                                                                                                                                                                                                                                                                                                                                                                                                                                                                                                                                                                                                                                                                                                                                                                                                                                                                                                                                                                                                                                                                                                                                                                                                                                                                                                                                                                                                                                                                                                                                                                                                                                                                                                                                                                                                                                                                                                                                                                                                                                                                                                                                                                                                                                                                                                                                                                                                                                                                                                                                                                                                                                                                                                                                                                                                                                                                                                                                                                                                                                                                                                                                                                                                                                                                                                                                                                                                                                                                                                                                                                                                                                                                                                                                                                                                                                                                                                                                                                                                                                                                                                                                                                                                                                                                                                                                                                                                                                                                                                                                                                                                                                                                                                                                                                                                                                                                                                                                                                                                                                                                                                                                                                                                                                                                                                                                                                                                                                                                                                                                                                                                                                                                                                                                                                                                                                               1\n",
              "Arjuna.\\nLord! of the men who serve Thee--true in heart--\\nAs God revealed; and of the men who serve,\\nWorshipping Thee Unrevealed, Unbodied, Far,\\nWhich take the better way of faith and life?\\nKrishna.\\nWhoever serve Me--as I show Myself--\\nConstantly true, in full devotion fixed,\\nThose hold I very holy. But who serve--\\nWorshipping Me The One, The Invisible,\\nThe Unrevealed, Unnamed, Unthinkable,\\nUttermost, All-pervading, Highest, Sure--\\nWho thus adore Me, mastering their sense,\\nOf one set mind to all, glad in all good,\\nThese blessed souls come unto Me.\\nYet, hard\\nThe travail is for such as bend their minds\\nTo reach th' Unmanifest That viewless path\\nShall scarce be trod by man bearing the flesh!\\nBut whereso any doeth all his deeds\\nRenouncing self for Me, full of Me, fixed\\nTo serve only the Highest, night and day\\nMusing on Me--him will I swiftly lift\\nForth from life's ocean of distress and death,\\nWhose soul clings fast to Me. Cling thou to Me!\\nClasp Me with heart and mind! so shalt thou dwell\\nSurely with Me on high. But if thy thought\\nDroops from such height; if thou be'st weak to set\\nBody and soul upon Me constantly,\\nDespair not! give Me lower service! seek\\nTo reach Me, worshipping with steadfast will;\\nAnd, if thou canst not worship steadfastly,\\nWork for Me, toil in works pleasing to Me!\\nFor he that laboureth right for love of Me\\nShall finally attain! But, if in this\\nThy faint heart fails, bring Me thy failure! find\\nRefuge in Me! let fruits of labour go,\\nRenouncing hope for Me, with lowliest heart,\\nSo shalt thou come; for, though to know is more\\nThan diligence, yet worship better is\\nThan knowing, and renouncing better still.\\nNear to renunciation--very near--\\nDwelleth Eternal Peace!\\nWho hateth nought\\nOf all which lives, living himself benign,\\nCompassionate, from arrogance exempt,\\nExempt from love of self, unchangeable\\nBy good or ill; patient, contented, firm\\nIn faith, mastering himself, true to his word,\\nSeeking Me, heart and soul; vowed unto Me,--\\nThat man I love! Who troubleth not his kind,\\nAnd is not troubled by them; clear of wrath,\\nLiving too high for gladness, grief, or fear,\\nThat man I love! Who, dwelling quiet-eyed,[FN#25]\\nStainless, serene, well-balanced, unperplexed,\\nWorking with Me, yet from all works detached,\\nThat man I love! Who, fixed in faith on Me,\\nDotes upon none, scorns none; rejoices not,\\nAnd grieves not, letting good or evil hap\\nLight when it will, and when it will depart,\\nThat man I love! Who, unto friend and foe\\nKeeping an equal heart, with equal mind\\nBears shame and glory; with an equal peace\\nTakes heat and cold, pleasure and pain; abides\\nQuit of desires, hears praise or calumny\\nIn passionless restraint, unmoved by each;\\nLinked by no ties to earth, steadfast in Me,\\nThat man I love! But most of all I love\\nThose happy ones to whom 'tis life to live\\nIn single fervid faith and love unseeing,\\nDrinking the blessed Amrit of my Being!\\nHERE ENDETH CHAPTER XII. OF THE BHAGAVAD-GITA,\\nEntitled \"Bhaktiyog,\"\\nOr\"The Book of the Religion of Faith.\"\\n\\n\\n                                                                                                                                                                                                                                                                                                                                                                                                                                                                                                                                                                                                                                                                                                                                                                                                                                                                                                                                                                                                                                                                                                                                                                                                                                                                                                                                                                                                                                                                                                                                                                                                                                                                                                                                                                                                                                                                                                                                                                                                                                                                                                                                                                                                                                                                                                                                                                                                                                                                                                                                                                                                                                                                                                                                                                                                                                                                                                                                                                                                                                                                                                                                                                                                                                                                                                                                                                                                                                                                                                                                                                                                                                                                                                                                                                                                                                                                                                                                                                                                                                                                                                                                                                                                                                                                                                                                                                                                                                                                                                                                                                                                                                                                                                                                                                                                                                                                                                                                                                                                                                                                                                                                                                                                                                                                                                                                                                                                                                                                                                                                                                                                                                                                                                                                                                                                                                                                                                                                                                                                                                                                                                                                                                                                                                                                                                                                                                                                                                                                                                                                                                                                                                                                                                                                                                                                                                                                                                                                                                                                                                                                                                                                                                                                                                                                                                                                                                                                                                                                                                                                                                                                                                                                                                                                                                                                                                                                                                                                                                                                                                                                                                                                                                                                                                                                                                                                                                                                                                                                                                                                                                                                                                                                                                                                                                                                                                                                                                                                                                                                                                                                                                                                                                                                                                                                                                                                                                                                                                                                                                                                                                                                                                                                                                                                                                                                                                                                                                          1\n",
              "Arjuna.\\nFain would I better know, Thou Glorious One!The very truth--Heart's Lord!--of Sannyas,\\nAbstention; and enunciation, Lord!Tyaga; and what separates these twain!\\nKrishna.The poets rightly teach that Sannyas\\nIs the foregoing of all acts which spring\\nOut of desire; and their wisest say\\nTyaga is renouncing fruit of acts.\\nThere be among the saints some who have held\\nAll action sinful, and to be renounced;And some who answer, \"Nay! the goodly acts--\\nAs worship, penance, alms--must be performed!\"Hear now My sentence, Best of Bharatas!\\n'Tis well set forth, O Chaser of thy Foes!Renunciation is of threefold form,\\nAnd Worship, Penance, Alms, not to be stayed;Nay, to be gladly done; for all those three\\nAre purifying waters for true souls!Yet must be practised even those high works\\nIn yielding up attachment, and all fruit\\nProduced by works. This is My judgment, Prince!\\nThis My insuperable and fixed decree!Abstaining from a work by right prescribed\\nNever is meet! So to abstain doth spring\\nFrom \"Darkness,\" and Delusion teacheth it.Abstaining from a work grievous to flesh,\\nWhen one saith \"'Tis unpleasing!\" this is null!\\nSuch an one acts from \"passion;\" nought of gain\\nWins his Renunciation! But, Arjun!Abstaining from attachment to the work,\\nAbstaining from rewardment in the work,While yet one doeth it full faithfully,\\nSaying, \"Tis right to do!\" that is \"true \" act\\nAnd abstinence! Who doeth duties so,Unvexed if his work fail, if it succeed\\nUnflattered, in his own heart justified,Quit of debates and doubts, his is \"true\" act:\\nFor, being in the body, none may stand\\nWholly aloof from act; yet, who abstains\\nFrom profit of his acts is abstinent.The fruit of labours, in the lives to come,\\nIs threefold for all men,--Desirable,And Undesirable, and mixed of both;\\nBut no fruit is at all where no work was.Hear from me, Long-armed Lord! the makings five\\nWhich go to every act, in Sankhya taught\\nAs necessary. First the force; and then\\nThe agent; next, the various instruments;Fourth, the especial effort; fifth, the God.\\nWhat work soever any mortal dothOf body, mind, or speech, evil or good,\\nBy these five doth he that. Which being thus,Whoso, for lack of knowledge, seeth himself\\nAs the sole actor, knoweth nought at all\\nAnd seeth nought. Therefore, I say, if one--Holding aloof from self--with unstained mind\\nShould slay all yonder host, being bid to slay,He doth not slay; he is not bound thereby!\\nKnowledge, the thing known, and the mind which knows,These make the threefold starting-ground of act.\\nThe act, the actor, and the instrument,These make the threefold total of the deed.\\nBut knowledge, agent, act, are differenced\\nBy three dividing qualities. Hear now\\nWhich be the qualities dividing them.\\nThere is \"true\" Knowledge. Learn thou it is this:To see one changeless Life in all the Lives,\\nAnd in the Separate, One Inseparable.There is imperfect Knowledge: that which sees\\nThe separate existences apart,And, being separated, holds them real.There is false Knowledge: that which blindly clings\\nTo one as if 'twere all, seeking no Cause,Deprived of light, narrow, and dull, and \"dark.\"There is \"right\" Action: that which being enjoined--\\nIs wrought without attachment, passionlessly,For duty, not for love, nor hate, nor gain.\\nThere is \"vain\" Action: that which men pursue\\nAching to satisfy desires, impelled\\nBy sense of self, with all-absorbing stress:This is of Rajas--passionate and vain.There is \"dark\" Action: when one doth a thing\\nHeedless of issues, heedless of the hurt\\nOr wrong for others, heedless if he harm\\nHis own soul--'tis of Tamas, black and bad!There is the \"rightful\"doer. He who acts\\nFree from self-seeking, humble, resolute,Steadfast, in good or evil hap the same,\\nContent to do aright-he \"truly\" acts.There is th' \"impassioned\" doer. He that works\\nFrom impulse, seeking profit, rude and bold\\nTo overcome, unchastened; slave by turns\\nOf sorrow and of joy: of Rajas he!\\nAnd there be evil doers; loose of heart,Low-minded, stubborn, fraudulent, remiss,\\nDull, slow, despondent--children of the \"dark.\"Hear, too, of Intellect and Steadfastness\\nThe threefold separation, Conqueror-Prince!How these are set apart by Qualities.\\nGood is the Intellect which comprehends\\nThe coming forth and going back of life,What must be done, and what must not be done,What should be feared, and what should not be feared,\\nWhat binds and what emancipates the soul:That is of Sattwan, Prince! of \"soothfastness.\"\\nMarred is the Intellect which, knowing right\\nAnd knowing wrong, and what is well to do\\nAnd what must not be done, yet understands\\nNought with firm mind, nor as the calm truth is:This is of Rajas, Prince! and \"passionate!\"\\nEvil is Intellect which, wrapped in gloom,Looks upon wrong as right, and sees all things\\nContrariwise of Truth. O Pritha's Son!That is of Tamas, \"dark\" and desperate!\\nGood is the steadfastness whereby a man\\nMasters his beats of heart, his very breath\\nOf life, the action of his senses; fixed\\nIn never-shaken faith and piety:That is of Sattwan, Prince! \"soothfast\" and fair!\\nStained is the steadfastness whereby a man\\nHolds to his duty, purpose, effort, end,For life's sake, and the love of goods to gain,\\nArjuna! 'tis of Rajas, passion-stamped!Sad is the steadfastness wherewith the fool\\nCleaves to his sloth, his sorrow, and his fears,His folly and despair. This--Pritha's Son!--\\nIs born of Tamas, \"dark\" and miserable!Hear further, Chief of Bharatas! from Me\\nThe threefold kinds of Pleasure which there be.Good Pleasure is the pleasure that endures,\\nBanishing pain for aye; bitter at first\\nAs poison to the soul, but afterward\\nSweet as the taste of Amrit. Drink of that!It springeth in the Spirit's deep content.\\nAnd painful Pleasure springeth from the bond\\nBetween the senses and the sense-world. Sweet\\nAs Amrit is its first taste, but its last\\nBitter as poison. 'Tis of Rajas, Prince!\\nAnd foul and \"dark\" the Pleasure is which springs\\nFrom sloth and sin and foolishness; at first\\nAnd at the last, and all the way of life\\nThe soul bewildering. 'Tis of Tamas, Prince!For nothing lives on earth, nor 'midst the gods\\nIn utmost heaven, but hath its being bound\\nWith these three Qualities, by Nature framed.The work of Brahmans, Kshatriyas, Vaisyas,\\nAnd Sudras, O thou Slayer of thy Foes!Is fixed by reason of the Qualities\\nPlanted in each:\\nA Brahman's virtues, Prince!Born of his nature, are serenity,\\nSelf-mastery, religion, purity,Patience, uprightness, learning, and to know\\nThe truth of things which be. A Kshatriya's pride,Born of his nature, lives in valour, fire,\\nConstancy, skilfulness, spirit in fight,And open-handedness and noble mien,\\nAs of a lord of men. A Vaisya's task,Born with his nature, is to till the ground,\\nTend cattle, venture trade. A Sudra's state,Suiting his nature, is to minister.\\nWhoso performeth--diligent, content--\\nThe work allotted him, whate'er it be,Lays hold of perfectness! Hear how a man\\nFindeth perfection, being so content:\\nHe findeth it through worship--wrought by work--\\nOf Him that is the Source of all which lives,Of HIM by Whom the universe was stretched.\\nBetter thine own work is, though done with fault,\\nThan doing others' work, ev'n excellently.He shall not fall in sin who fronts the task\\nSet him by Nature's hand! Let no man leave\\nHis natural duty, Prince! though it bear blame!For every work hath blame, as every flame\\nIs wrapped in smoke! Only that man attains\\nPerfect surcease of work whose work was wrought\\nWith mind unfettered, soul wholly subdued,\\nDesires for ever dead, results renounced.Learn from me, Son of Kunti! also this,\\nHow one, attaining perfect peace, attains\\nBRAHM, the supreme, the highest height of all!Devoted--with a heart grown pure, restrained\\nIn lordly self-control, forgoing wiles\\nOf song and senses, freed from love and hate,Dwelling 'mid solitudes, in diet spare,\\nWith body, speech, and will tamed to obey,Ever to holy meditation vowed,\\nFrom passions liberate, quit of the Self,Of arrogance, impatience, anger, pride;\\nFreed from surroundings, quiet, lacking nought--Such an one grows to oneness with the BRAHM;\\nSuch an one, growing one with BRAHM, serene,Sorrows no more, desires no more; his soul,Equally loving all that lives, loves well\\nMe, Who have made them, and attains to Me.By this same love and worship doth he know\\nMe as I am, how high and wonderful,And knowing, straightway enters into Me.\\nAnd whatsoever deeds he doeth--fixed\\nIn Me, as in his refuge--he hath won\\nFor ever and for ever by My grace\\nTh' Eternal Rest! So win thou! In thy thoughts\\nDo all thou dost for Me! Renounce for Me!Sacrifice heart and mind and will to Me!\\nLive in the faith of Me! In faith of Me\\nAll dangers thou shalt vanquish, by My grace;But, trusting to thyself and heeding not,\\nThou can'st but perish! If this day thou say'st,Relying on thyself, \"I will not fight!\"\\nVain will the purpose prove! thy qualities\\nWould spur thee to the war. What thou dost shun,Misled by fair illusions, thou wouldst seek\\nAgainst thy will, when the task comes to thee\\nWaking the promptings in thy nature set.There lives a Master in the hearts of men\\nMaketh their deeds, by subtle pulling--strings,Dance to what tune HE will. With all thy soul\\nTrust Him, and take Him for thy succour, Prince!So--only so, Arjuna!--shalt thou gain--\\nBy grace of Him--the uttermost repose,The Eternal Place!\\nThus hath been opened thee\\nThis Truth of Truths, the Mystery more hid\\nThan any secret mystery. Meditate!And--as thou wilt--then act!\\nNay! but once more\\nTake My last word, My utmost meaning have!Precious thou art to Me; right well-beloved!\\nListen! I tell thee for thy comfort this.Give Me thy heart! adore Me! serve Me! cling\\nIn faith and love and reverence to Me!So shalt thou come to Me! I promise true,\\nFor thou art sweet to Me!And let go those--\\nRites and writ duties! Fly to Me alone!Make Me thy single refuge! I will free\\nThy soul from all its sins! Be of good cheer![Hide, the holy Krishna saith,\\nThis from him that hath no faith,Him that worships not, nor seeks\\nWisdom's teaching when she speaks:Hide it from all men who mock;\\nBut, wherever, 'mid the flock\\nOf My lovers, one shall teach\\nThis divinest, wisest, speech--Teaching in the faith to bring\\nTruth to them, and offeringOf all honour unto Me--\\nUnto Brahma cometh he!\\nNay, and nowhere shall ye find Any man of all mankind\\nDoing dearer deed for Me;Nor shall any dearer be\\nIn My earth. Yea, furthermore,Whoso reads this converse o'er,Held by Us upon the plain,\\nPondering piously and fain,He hath paid Me sacrifice!\\n(Krishna speaketh in this wise!)\\nYea, and whoso, full of faith,\\nHeareth wisely what it saith,Heareth meekly,--when he dies,\\nSurely shall his spirit rise\\nTo those regions where the Blest,Free of flesh, in joyance rest.]\\nHath this been heard by thee, O Indian Prince!\\nWith mind intent? hath all the ignorance--\\nWhich bred thy trouble--vanished, My Arjun?Arjuna.\\nTrouble and ignorance are gone! the Light\\nHath come unto me, by Thy favour, Lord!Now am I fixed! my doubt is fled away!\\nAccording to Thy word, so will I do!Sanjaya.Thus gathered I the gracious speech of Krishna, O my King!\\nThus have I told, with heart a-thrill, this wise and wondrous thing\\nBy great Vyasa's learning writ, how Krishna's self made known\\nThe Yoga, being Yoga's Lord. So is the high truth shown!And aye, when I remember, O Lord my King, again\\nArjuna and the God in talk, and all this holy strain,Great is my gladness: when I muse that splendour, passing speech,\\nOf Hari, visible and plain, there is no tongue to reach\\nMy marvel and my love and bliss. O Archer-Prince! all hail!O Krishna, Lord of Yoga! surely there shall not fail\\nBlessing, and victory, and power, for Thy most mighty sake,\\nWhere this song comes of Arjun, and how with God he spake.\\nHERE ENDS, WITH CHAPTER XVIII.                                                                                                                                                                                                                                                                                                                                                                                                                                                                                                                                                                                                                                                                                                                                   1\n",
              "Sanjaya.\\nHim, filled with such compassion and such grief,With eyes tear-dimmed, despondent, in stern words,The Driver, Madhusudan, thus addressed:\\nKrishna.\\nHow hath this weakness taken thee? Whence springs\\nThe inglorious trouble, shameful to the brave,arring the path of virtue? Nay, Arjun!\\nForbid thyself to feebleness! it mars,Thy warrior-name! cast off the coward-fit!\\nWake! Be thyself! Arise, Scourge of thy Foes!\\nArjuna.\\nHow can I, in the battle, shoot with shafts\\nOn Bhishma, or on Drona-O thou Chief!--\\nBoth worshipful, both honourable men?\\nBetter to live on beggar's bread\\nWith those we love alive,\\nThan taste their blood in rich feasts spread,\\nAnd guiltily survive!\\nAh! were it worse-who knows?--to be\\nVictor or vanquished here,\\nWhen those confront us angrily\\nWhose death leaves living drear?\\nIn pity lost, by doubtings tossed,\\nMy thoughts-distracted-turn\\nTo Thee, the Guide I reverence most,\\nThat I may counsel learn:\\nI know not what would heal the grief\\nBurned into soul and sense,\\nIf I were earth's unchallenged chief--\\nA god--and these gone thence!\\nSanjaya.\\nSo spake Arjuna to the Lord of Hearts,\\nAnd sighing,\"I will not fight!\" held silence then.\\nTo whom, with tender smile, (O Bharata! )\\nWhile the Prince wept despairing 'twixt those hosts,\\nKrishna made answer in divinest verse:\\nKrishna.\\nThou grievest where no grief should be! thou speak'st\\nWords lacking wisdom! for the wise in heart\\nMourn not for those that live, nor those that die.\\nNor I, nor thou, nor any one of these,\\nEver was not, nor ever will not be,\\nFor ever and for ever afterwards.\\nAll, that doth live, lives always! To man's frame\\nAs there come infancy and youth and age,\\nSo come there raisings-up and layings-down\\nOf other and of other life-abodes,\\nWhich the wise know, and fear not. This that irks--\\nThy sense-life, thrilling to the elements--\\nBringing thee heat and cold, sorrows and joys,\\n'Tis brief and mutable! Bear with it, Prince!\\nAs the wise bear. The soul which is not moved,\\nThe soul that with a strong and constant calm\\nTakes sorrow and takes joy indifferently,\\nLives in the life undying! That which is\\nCan never cease to be; that which is not\\nWill not exist. To see this truth of both\\nIs theirs who part essence from accident,\\nSubstance from shadow. Indestructible,\\nLearn thou! the Life is, spreading life through all;\\nIt cannot anywhere, by any means,\\nBe anywise diminished, stayed, or changed.\\nBut for these fleeting frames which it informs\\nWith spirit deathless, endless, infinite,\\nThey perish. Let them perish, Prince! and fight!\\nHe who shall say, \"Lo! I have slain a man!\"\\nHe who shall think, \"Lo! I am slain!\" those both\\nKnow naught! Life cannot slay. Life is not slain!\\nNever the spirit was born; the spirit shall cease to be never;\\nNever was time it was not; End and Beginning are dreams!\\nBirthless and deathless and changeless remaineth the spirit for ever;\\nDeath hath not touched it at all, dead though the house of it seems!\\nWho knoweth it exhaustless, self-sustained,\\nImmortal, indestructible,--shall such\\nSay, \"I have killed a man, or caused to kill?\"\\nNay, but as when one layeth\\nHis worn-out robes away,\\nAnd taking new ones, sayeth,\\n\"These will I wear to-day!\"\\nSo putteth by the spirit\\nLightly its garb of flesh,\\nAnd passeth to inherit\\nA residence afresh.\\nI say to thee weapons reach not the Life;\\nFlame burns it not, waters cannot o'erwhelm,\\nNor dry winds wither it. Impenetrable,\\nUnentered, unassailed, unharmed, untouched,\\nImmortal, all-arriving, stable, sure,\\nInvisible, ineffable, by word\\nAnd thought uncompassed, ever all itself,\\nThus is the Soul declared! How wilt thou, then,--\\nKnowing it so,--grieve when thou shouldst not grieve?\\nHow, if thou hearest that the man new-dead\\nIs, like the man new-born, still living man--\\nOne same, existent Spirit--wilt thou weep?\\nThe end of birth is death; the end of death\\nIs birth: this is ordained! and mournest thou,\\nChief of the stalwart arm! for what befalls\\nWhich could not otherwise befall? The birth\\nOf living things comes unperceived; the death\\nComes unperceived; between them, beings perceive:\\nWhat is there sorrowful herein, dear Prince?\\nWonderful, wistful, to contemplate!\\nDifficult, doubtful, to speak upon!\\nStrange and great for tongue to relate,\\nMystical hearing for every one!\\nNor wotteth man this, what a marvel it is,\\nWhen seeing, and saying, and hearing are done!\\nThis Life within all living things, my Prince!\\nHides beyond harm; scorn thou to suffer, then,\\nFor that which cannot suffer. Do thy part!\\nBe mindful of thy name, and tremble not!\\nNought better can betide a martial soul\\nThan lawful war; happy the warrior\\nTo whom comes joy of battle--comes, as now,\\nGlorious and fair, unsought; opening for him\\nA gateway unto Heav'n. But, if thou shunn'st\\nThis honourable field--a Kshattriya--\\nIf, knowing thy duty and thy task, thou bidd'st\\nDuty and task go by--that shall be sin!\\nAnd those to come shall speak thee infamy\\nFrom age to age; but infamy is worse\\nFor men of noble blood to bear than death!\\nThe chiefs upon their battle-chariots\\nWill deem 'twas fear that drove thee from the fray.\\nOf those who held thee mighty-souled the scorn\\nThou must abide, while all thine enemies\\nWill scatter bitter speech of thee, to mock\\nThe valour which thou hadst; what fate could fall\\nMore grievously than this? Either--being killed--\\nThou wilt win Swarga's safety, or--alive\\nAnd victor--thou wilt reign an earthly king.\\nTherefore, arise, thou Son of Kunti! brace\\nThine arm for conflict, nerve thy heart to meet--\\nAs things alike to thee--pleasure or pain,\\nProfit or ruin, victory or defeat:\\nSo minded, gird thee to the fight, for so\\nThou shalt not sin!\\nThus far I speak to thee\\nAs from the \"Sankhya\"--unspiritually--\\nHear now the deeper teaching of the Yog,\\nWhich holding, understanding, thou shalt burst\\nThy Karmabandh, the bondage of wrought deeds.\\nHere shall no end be hindered, no hope marred,\\nNo loss be feared: faith--yea, a little faith--\\nShall save thee from the anguish of thy dread.\\nHere, Glory of the Kurus! shines one rule--\\nOne steadfast rule--while shifting souls have laws\\nMany and hard. Specious, but wrongful deem\\nThe speech of those ill-taught ones who extol\\nThe letter of their Vedas, saying, \"This\\nIs all we have, or need;\" being weak at heart\\nWith wants, seekers of Heaven: which comes--they say--\\nAs \"fruit of good deeds done;\" promising men\\nMuch profit in new births for works of faith;\\nIn various rites abounding; following whereon\\nLarge merit shall accrue towards wealth and power;\\nAlbeit, who wealth and power do most desire\\nLeast fixity of soul have such, least hold\\nOn heavenly meditation. Much these teach,\\nFrom Veds, concerning the \"three qualities;\"\\nBut thou, be free of the \"three qualities,\"\\nFree of the \"pairs of opposites,\"[FN#2] and free\\nFrom that sad righteousness which calculates;\\nSelf-ruled, Arjuna! simple, satisfied![FN#3]\\nLook! like as when a tank pours water forth\\nTo suit all needs, so do these Brahmans draw\\nText for all wants from tank of Holy Writ.\\nBut thou, want not! ask not! Find full reward\\nOf doing right in right! Let right deeds be\\nThy motive, not the fruit which comes from them.\\nAnd live in action! Labour! Make thine acts\\nThy piety, casting all self aside,\\nContemning gain and merit; equable\\nIn good or evil: equability\\nIs Yog, is piety!\\nYet, the right act\\nIs less, far less, than the right-thinking mind.\\nSeek refuge in thy soul; have there thy heaven!\\nScorn them that follow virtue for her gifts!\\nThe mind of pure devotion--even here--\\nCasts equally aside good deeds and bad,\\nPassing above them. Unto pure devotion\\nDevote thyself: with perfect meditation\\nComes perfect act, and the right-hearted rise--\\nMore certainly because they seek no gain--\\nForth from the bands of body, step by step,\\nTo highest seats of bliss. When thy firm soul\\nHath shaken off those tangled oracles\\nWhich ignorantly guide, then shall it soar\\nTo high neglect of what's denied or said,\\nThis way or that way, in doctrinal writ.\\nTroubled no longer by the priestly lore,\\nSafe shall it live, and sure; steadfastly bent\\nOn meditation. This is Yog--and Peace!\\nArjuna.\\nWhat is his mark who hath that steadfast heart,\\nConfirmed in holy meditation? How\\nKnow we his speech, Kesava? Sits he, moves he\\nLike other men?\\nKrishna.\\nWhen one, O Pritha's Son!\\nAbandoning desires which shake the mind--\\nFinds in his soul full comfort for his soul,\\nHe hath attained the Yog--that man is such!,In sorrows not dejected, and in joys\\nNot overjoyed; dwelling outside the stress,Of passion, fear, and anger; fixed in calms\\nOf lofty contemplation;--such an one,\\nIs Muni, is the Sage, the true Recluse!\\nHe who to none and nowhere overbound,By ties of flesh, takes evil things and good\\nNeither desponding nor exulting, such,Bears wisdom's plainest mark! He who shall draw\\nAs the wise tortoise draws its four feet safe\\nUnder its shield, his five frail senses back\\nUnder the spirit's buckler from the world\\nWhich else assails them, such an one, my Prince!\\nHath wisdom's mark! Things that solicit sense\\nHold off from the self-governed; nay, it comes,\\nThe appetites of him who lives beyond,Depart,--aroused no more. Yet may it chance,\\nO Son of Kunti! that a governed mind,Shall some time feel the sense-storms sweep, and wrest\\nStrong self-control by the roots. Let him regain\\nHis kingdom! let him conquer this, and sit\\nOn Me intent. That man alone is wise,Who keeps the mastery of himself! If one\\nPonders on objects of the sense, there springs\\nAttraction; from attraction grows desire,Desire flames to fierce passion, passion breeds\\nRecklessness; then the memory--all betrayed--\\nLets noble purpose go, and saps the mind,Till purpose, mind, and man are all undone.\\nBut, if one deals with objects of the sense\\nNot loving and not hating, making them,Serve his free soul, which rests serenely lord,\\nLo! such a man comes to tranquillity;And out of that tranquillity shall rise\\nThe end and healing of his earthly pains,\\nSince the will governed sets the soul at peace.\\nThe soul of the ungoverned is not his,Nor hath he knowledge of himself; which lacked,\\nHow grows serenity? and, wanting that,Whence shall he hope for happiness?\\nThe mind,That gives itself to follow shows of sense\\nSeeth its helm of wisdom rent away,,And, like a ship in waves of whirlwind, drives\\nTo wreck and death. Only with him, great Prince!\\nWhose senses are not swayed by things of sense--\\nOnly with him who holds his mastery,Shows wisdom perfect. What is midnight-gloom\\nTo unenlightened souls shines wakeful day\\nTo his clear gaze; what seems as wakeful day\\nIs known for night, thick night of ignorance,\\nTo his true-seeing eyes. Such is the Saint!\\nAnd like the ocean, day by day receiving,Floods from all lands, which never overflows\\nIts boundary-line not leaping, and not leaving,Fed by the rivers, but unswelled by those;--\\nSo is the perfect one! to his soul's ocean,The world of sense pours streams of witchery;\\nThey leave him as they find, without commotion,\\nTaking their tribute, but remaining sea.Yea! whoso, shaking off the yoke of flesh\\nLives lord, not servant, of his lusts; set free\\nFrom pride, from passion, from the sin of \"Self,\"\\nToucheth tranquillity! O Pritha's Son!,That is the state of Brahm! There rests no dread\\nWhen that last step is reached! Live where he will,\\nDie when he may, such passeth from all 'plaining,\\nTo blest Nirvana, with the Gods, attaining.\\nHERE ENDETH CHAPTER II. OF THE BHAGAVAD-GITA,\\nEntitled \"Sankhya-Yog,\"\\nOr \"The Book of Doctrines.\"\\n\\n\\n                                                                                                                                                                                                                                                                                                                                                                                                                                                                                                                                                                                                                                                                                                                                                                                                                                                                                                                                                                              1\n",
              "Krishna.\\nMen call the Aswattha,--the Banyan-tree,--\\nWhich hath its boughs beneath, its roots above,--\\nThe ever-holy tree. Yea! for its leaves\\nAre green and waving hymns which whisper Truth!\\nWho knows the Aswattha, knows Veds, and all.\\nIts branches shoot to heaven and sink to earth,[FN#30]\\nEven as the deeds of men, which take their birth\\nFrom qualities: its silver sprays and blooms,\\nAnd all the eager verdure of its girth,\\nLeap to quick life at kiss of sun and air,\\nAs men's lives quicken to the temptings fair\\nOf wooing sense: its hanging rootlets seek\\nThe soil beneath, helping to hold it there,\\nAs actions wrought amid this world of men\\nBind them by ever-tightening bonds again.\\nIf ye knew well the teaching of the Tree,\\nWhat its shape saith; and whence it springs; and, then\\nHow it must end, and all the ills of it,\\nThe axe of sharp Detachment ye would whet,\\nAnd cleave the clinging snaky roots, and lay\\nThis Aswattha of sense-life low,--to set\\nNew growths upspringing to that happier sky,--\\nWhich they who reach shall have no day to die,\\nNor fade away, nor fall--to Him, I mean,\\nFATHER and FIRST, Who made the mystery\\nOf old Creation; for to Him come they\\nFrom passion and from dreams who break away;\\nWho part the bonds constraining them to flesh,\\nAnd,--Him, the Highest, worshipping alway--\\nNo longer grow at mercy of what breeze\\nOf summer pleasure stirs the sleeping trees,\\nWhat blast of tempest tears them, bough and stem\\nTo the eternal world pass such as these!\\nAnother Sun gleams there! another Moon!\\nAnother Light,--not Dusk, nor Dawn, nor Noon--\\nWhich they who once behold return no more;\\nThey have attained My rest, life's Utmost boon!\\nWhen, in this world of manifested life,\\nThe undying Spirit, setting forth from Me,\\nTaketh on form, it draweth to itself\\nFrom Being's storehouse,--which containeth all,--\\nSenses and intellect. The Sovereign Soul\\nThus entering the flesh, or quitting it,\\nGathers these up, as the wind gathers scents,\\nBlowing above the flower-beds. Ear and Eye,\\nAnd Touch and Taste, and Smelling, these it takes,--\\nYea, and a sentient mind;--linking itself\\nTo sense-things so.\\nThe unenlightened ones\\nMark not that Spirit when he goes or comes,\\nNor when he takes his pleasure in the form,\\nConjoined with qualities; but those see plain\\nWho have the eyes to see. Holy souls see\\nWhich strive thereto. Enlightened, they perceive\\nThat Spirit in themselves; but foolish ones,\\nEven though they strive, discern not, having hearts\\nUnkindled, ill-informed!\\nKnow, too, from Me\\nShineth the gathered glory of the suns\\nWhich lighten all the world: from Me the moons\\nDraw silvery beams, and fire fierce loveliness.\\nI penetrate the clay, and lend all shapes\\nTheir living force; I glide into the plant--\\nRoot, leaf, and bloom--to make the woodlands green\\nWith springing sap. Becoming vital warmth,\\nI glow in glad, respiring frames, and pass,\\nWith outward and with inward breath, to feed\\nThe body by all meats.[FN#31]\\nFor in this world\\nBeing is twofold: the Divided, one;\\nThe Undivided, one. All things that live\\nAre \"the Divided.\" That which sits apart,\\n\"The Undivided.\"\\nHigher still is He,\\nThe Highest, holding all, whose Name is LORD,\\nThe Eternal, Sovereign, First! Who fills all worlds,\\nSustaining them. And--dwelling thus beyond\\nDivided Being and Undivided--I\\nAm called of men and Vedas, Life Supreme,\\nThe PURUSHOTTAMA.\\nWho knows Me thus,\\nWith mind unclouded, knoweth all, dear Prince!\\nAnd with his whole soul ever worshippeth Me.\\nNow is the sacred, secret Mystery\\nDeclared to thee! Who comprehendeth this\\nHath wisdom! He is quit of works in bliss!\\nHERE ENDS CHAPTER XV. OF THE BHAGAVAD-GITA\\nEntitled \"Purushottamapraptiyog,\"\\nOr \"The Book of Religion by attaining the Supreme.\"                                                                                                                                                                                                                                                                                                                                                                                                                                                                                                                                                                                                                                                                                                                                                                                                                                                                                                                                                                                                                                                                                                                                                                                                                                                                                                                                                                                                                                                                                                                                                                                                                                                                                                                                                                                                                                                                                                                                                                                                                                                                                                                                                                                                                                                                                                                                                                                                                                                                                                                                                                                                                                                                                                                                                                                                                                                                                                                                                                                                                                                                                                                                                                                                                                                                                                                                                                                                                                                                                                                                                                                                                                                                                                                                                                                                                                                                                                                                                                                                                                                                                                                                                                                                                                                                                                                                                                                                                                                                                                                                                                                                                                                                                                                                                                                                                                                                                                                                                                                                                                                                                                                                                                                                                                                                                                                                                                                                                                                                                                                                                                                                                                                                                                                                                                                                                                                                                                                                                                                                                                                                                                                                                                                                                                                                                                                                                                                                                                                                                                                                                                                                                                                                                                                                                                                                                                                                                                                                                                                                                                                                                                                                                                                                                                                                                                                                                                                                                                                                                                                                                                                                                                                                                                                                                                                                                                                                                                                                                                                                                                                                                                                                                                                                                                                                                                                                                                                                                                                                                                                                                                                                                                                                                                                                                                                                                                                                                                                                                                                                                                                                                                                                                                           1\n",
              "Name: Description, dtype: int64"
            ]
          },
          "metadata": {
            "tags": []
          },
          "execution_count": 55
        }
      ]
    },
    {
      "cell_type": "code",
      "metadata": {
        "id": "E3h2sJQTmIqe"
      },
      "source": [
        "from textblob import TextBlob"
      ],
      "execution_count": null,
      "outputs": []
    },
    {
      "cell_type": "code",
      "metadata": {
        "id": "m5VYYtQEmNnF"
      },
      "source": [
        "df['Description'] = df['Description'].str.replace('\\d+', ' ')"
      ],
      "execution_count": null,
      "outputs": []
    },
    {
      "cell_type": "code",
      "metadata": {
        "id": "ZnKXVeZho_GD"
      },
      "source": [
        "df['Description'] = df['Description'].str.replace('[^0-9a-zA-Z]+', ' ')"
      ],
      "execution_count": null,
      "outputs": []
    },
    {
      "cell_type": "code",
      "metadata": {
        "id": "t5g-eJsWpHjp"
      },
      "source": [
        "df['Description'] = df['Description'].str.lower()"
      ],
      "execution_count": null,
      "outputs": []
    },
    {
      "cell_type": "code",
      "metadata": {
        "id": "MeruA2NLqBm9"
      },
      "source": [
        "df['Description'] = df['Description'].astype(str) "
      ],
      "execution_count": null,
      "outputs": []
    },
    {
      "cell_type": "code",
      "metadata": {
        "colab": {
          "base_uri": "https://localhost:8080/",
          "height": 587
        },
        "id": "gMtQ2mKCpQJP",
        "outputId": "a527fc20-4801-4080-cf40-44826849eea4"
      },
      "source": [
        "df"
      ],
      "execution_count": null,
      "outputs": [
        {
          "output_type": "execute_result",
          "data": {
            "text/html": [
              "<div>\n",
              "<style scoped>\n",
              "    .dataframe tbody tr th:only-of-type {\n",
              "        vertical-align: middle;\n",
              "    }\n",
              "\n",
              "    .dataframe tbody tr th {\n",
              "        vertical-align: top;\n",
              "    }\n",
              "\n",
              "    .dataframe thead th {\n",
              "        text-align: right;\n",
              "    }\n",
              "</style>\n",
              "<table border=\"1\" class=\"dataframe\">\n",
              "  <thead>\n",
              "    <tr style=\"text-align: right;\">\n",
              "      <th></th>\n",
              "      <th>Chapter</th>\n",
              "      <th>Description</th>\n",
              "    </tr>\n",
              "  </thead>\n",
              "  <tbody>\n",
              "    <tr>\n",
              "      <th>0</th>\n",
              "      <td>CHAPTER I</td>\n",
              "      <td>dhritirashtra ranged thus for battle on the sa...</td>\n",
              "    </tr>\n",
              "    <tr>\n",
              "      <th>1</th>\n",
              "      <td>CHAPTER II</td>\n",
              "      <td>sanjaya him filled with such compassion and su...</td>\n",
              "    </tr>\n",
              "    <tr>\n",
              "      <th>2</th>\n",
              "      <td>CHAPTER III</td>\n",
              "      <td>arjuna thou whom all mortals praise janardana ...</td>\n",
              "    </tr>\n",
              "    <tr>\n",
              "      <th>3</th>\n",
              "      <td>CHAPTER IV</td>\n",
              "      <td>krishna this deathless yoga this deep union i ...</td>\n",
              "    </tr>\n",
              "    <tr>\n",
              "      <th>4</th>\n",
              "      <td>CHAPTER V</td>\n",
              "      <td>arjuna yet krishna at the one time thou dost l...</td>\n",
              "    </tr>\n",
              "    <tr>\n",
              "      <th>5</th>\n",
              "      <td>CHAPTER VI</td>\n",
              "      <td>krishna therefore who doeth work rightful to d...</td>\n",
              "    </tr>\n",
              "    <tr>\n",
              "      <th>6</th>\n",
              "      <td>CHAPTER VII</td>\n",
              "      <td>krishna learn now dear prince how if thy soul ...</td>\n",
              "    </tr>\n",
              "    <tr>\n",
              "      <th>7</th>\n",
              "      <td>CHAPTER VIII</td>\n",
              "      <td>arjuna who is that brahma what that soul of so...</td>\n",
              "    </tr>\n",
              "    <tr>\n",
              "      <th>8</th>\n",
              "      <td>CHAPTER IX</td>\n",
              "      <td>krishna now will i open unto thee whose heart ...</td>\n",
              "    </tr>\n",
              "    <tr>\n",
              "      <th>9</th>\n",
              "      <td>CHAPTER X</td>\n",
              "      <td>hear farther yet thou long armed lord these la...</td>\n",
              "    </tr>\n",
              "    <tr>\n",
              "      <th>10</th>\n",
              "      <td>CHAPTER XI</td>\n",
              "      <td>arjuna this for my soul s peace have i heard f...</td>\n",
              "    </tr>\n",
              "    <tr>\n",
              "      <th>11</th>\n",
              "      <td>CHAPTER XII</td>\n",
              "      <td>arjuna lord of the men who serve thee true in ...</td>\n",
              "    </tr>\n",
              "    <tr>\n",
              "      <th>12</th>\n",
              "      <td>CHAPTER XIII</td>\n",
              "      <td>arjuna now would i hear o gracious kesava fn o...</td>\n",
              "    </tr>\n",
              "    <tr>\n",
              "      <th>13</th>\n",
              "      <td>CHAPTER XIV</td>\n",
              "      <td>krishna yet farther will i open unto thee this...</td>\n",
              "    </tr>\n",
              "    <tr>\n",
              "      <th>14</th>\n",
              "      <td>CHAPTER XV</td>\n",
              "      <td>krishna men call the aswattha the banyan tree ...</td>\n",
              "    </tr>\n",
              "    <tr>\n",
              "      <th>15</th>\n",
              "      <td>CHAPTER XVI</td>\n",
              "      <td>rishna fearlessness singleness of soul the wil...</td>\n",
              "    </tr>\n",
              "    <tr>\n",
              "      <th>16</th>\n",
              "      <td>CHAPTER XVII</td>\n",
              "      <td>arjuna if men forsake the holy ordinance heedl...</td>\n",
              "    </tr>\n",
              "    <tr>\n",
              "      <th>17</th>\n",
              "      <td>CHAPTER XVIII</td>\n",
              "      <td>arjuna fain would i better know thou glorious ...</td>\n",
              "    </tr>\n",
              "  </tbody>\n",
              "</table>\n",
              "</div>"
            ],
            "text/plain": [
              "          Chapter                                        Description\n",
              "0       CHAPTER I  dhritirashtra ranged thus for battle on the sa...\n",
              "1      CHAPTER II  sanjaya him filled with such compassion and su...\n",
              "2     CHAPTER III  arjuna thou whom all mortals praise janardana ...\n",
              "3      CHAPTER IV  krishna this deathless yoga this deep union i ...\n",
              "4       CHAPTER V  arjuna yet krishna at the one time thou dost l...\n",
              "5      CHAPTER VI  krishna therefore who doeth work rightful to d...\n",
              "6     CHAPTER VII  krishna learn now dear prince how if thy soul ...\n",
              "7    CHAPTER VIII  arjuna who is that brahma what that soul of so...\n",
              "8      CHAPTER IX  krishna now will i open unto thee whose heart ...\n",
              "9       CHAPTER X  hear farther yet thou long armed lord these la...\n",
              "10     CHAPTER XI  arjuna this for my soul s peace have i heard f...\n",
              "11    CHAPTER XII  arjuna lord of the men who serve thee true in ...\n",
              "12   CHAPTER XIII  arjuna now would i hear o gracious kesava fn o...\n",
              "13    CHAPTER XIV  krishna yet farther will i open unto thee this...\n",
              "14     CHAPTER XV  krishna men call the aswattha the banyan tree ...\n",
              "15    CHAPTER XVI  rishna fearlessness singleness of soul the wil...\n",
              "16   CHAPTER XVII  arjuna if men forsake the holy ordinance heedl...\n",
              "17  CHAPTER XVIII  arjuna fain would i better know thou glorious ..."
            ]
          },
          "metadata": {
            "tags": []
          },
          "execution_count": 61
        }
      ]
    },
    {
      "cell_type": "markdown",
      "metadata": {
        "id": "VN489EXgF7_v"
      },
      "source": [
        "# Word Count of All Chapters"
      ]
    },
    {
      "cell_type": "code",
      "metadata": {
        "colab": {
          "base_uri": "https://localhost:8080/",
          "height": 587
        },
        "id": "f1A0z7OAnhXB",
        "outputId": "75265715-2d0f-4dbd-e3a0-f44e2d1b711e"
      },
      "source": [
        "df['Word_Count'] = df['Description'].str.split().str.len()\n",
        "\n",
        "df"
      ],
      "execution_count": null,
      "outputs": [
        {
          "output_type": "execute_result",
          "data": {
            "text/html": [
              "<div>\n",
              "<style scoped>\n",
              "    .dataframe tbody tr th:only-of-type {\n",
              "        vertical-align: middle;\n",
              "    }\n",
              "\n",
              "    .dataframe tbody tr th {\n",
              "        vertical-align: top;\n",
              "    }\n",
              "\n",
              "    .dataframe thead th {\n",
              "        text-align: right;\n",
              "    }\n",
              "</style>\n",
              "<table border=\"1\" class=\"dataframe\">\n",
              "  <thead>\n",
              "    <tr style=\"text-align: right;\">\n",
              "      <th></th>\n",
              "      <th>Chapter</th>\n",
              "      <th>Description</th>\n",
              "      <th>Word_Count</th>\n",
              "    </tr>\n",
              "  </thead>\n",
              "  <tbody>\n",
              "    <tr>\n",
              "      <th>0</th>\n",
              "      <td>CHAPTER I</td>\n",
              "      <td>dhritirashtra ranged thus for battle on the sa...</td>\n",
              "      <td>1037</td>\n",
              "    </tr>\n",
              "    <tr>\n",
              "      <th>1</th>\n",
              "      <td>CHAPTER II</td>\n",
              "      <td>sanjaya him filled with such compassion and su...</td>\n",
              "      <td>2019</td>\n",
              "    </tr>\n",
              "    <tr>\n",
              "      <th>2</th>\n",
              "      <td>CHAPTER III</td>\n",
              "      <td>arjuna thou whom all mortals praise janardana ...</td>\n",
              "      <td>1107</td>\n",
              "    </tr>\n",
              "    <tr>\n",
              "      <th>3</th>\n",
              "      <td>CHAPTER IV</td>\n",
              "      <td>krishna this deathless yoga this deep union i ...</td>\n",
              "      <td>1190</td>\n",
              "    </tr>\n",
              "    <tr>\n",
              "      <th>4</th>\n",
              "      <td>CHAPTER V</td>\n",
              "      <td>arjuna yet krishna at the one time thou dost l...</td>\n",
              "      <td>829</td>\n",
              "    </tr>\n",
              "    <tr>\n",
              "      <th>5</th>\n",
              "      <td>CHAPTER VI</td>\n",
              "      <td>krishna therefore who doeth work rightful to d...</td>\n",
              "      <td>1204</td>\n",
              "    </tr>\n",
              "    <tr>\n",
              "      <th>6</th>\n",
              "      <td>CHAPTER VII</td>\n",
              "      <td>krishna learn now dear prince how if thy soul ...</td>\n",
              "      <td>832</td>\n",
              "    </tr>\n",
              "    <tr>\n",
              "      <th>7</th>\n",
              "      <td>CHAPTER VIII</td>\n",
              "      <td>arjuna who is that brahma what that soul of so...</td>\n",
              "      <td>727</td>\n",
              "    </tr>\n",
              "    <tr>\n",
              "      <th>8</th>\n",
              "      <td>CHAPTER IX</td>\n",
              "      <td>krishna now will i open unto thee whose heart ...</td>\n",
              "      <td>1038</td>\n",
              "    </tr>\n",
              "    <tr>\n",
              "      <th>9</th>\n",
              "      <td>CHAPTER X</td>\n",
              "      <td>hear farther yet thou long armed lord these la...</td>\n",
              "      <td>1104</td>\n",
              "    </tr>\n",
              "    <tr>\n",
              "      <th>10</th>\n",
              "      <td>CHAPTER XI</td>\n",
              "      <td>arjuna this for my soul s peace have i heard f...</td>\n",
              "      <td>2184</td>\n",
              "    </tr>\n",
              "    <tr>\n",
              "      <th>11</th>\n",
              "      <td>CHAPTER XII</td>\n",
              "      <td>arjuna lord of the men who serve thee true in ...</td>\n",
              "      <td>537</td>\n",
              "    </tr>\n",
              "    <tr>\n",
              "      <th>12</th>\n",
              "      <td>CHAPTER XIII</td>\n",
              "      <td>arjuna now would i hear o gracious kesava fn o...</td>\n",
              "      <td>927</td>\n",
              "    </tr>\n",
              "    <tr>\n",
              "      <th>13</th>\n",
              "      <td>CHAPTER XIV</td>\n",
              "      <td>krishna yet farther will i open unto thee this...</td>\n",
              "      <td>672</td>\n",
              "    </tr>\n",
              "    <tr>\n",
              "      <th>14</th>\n",
              "      <td>CHAPTER XV</td>\n",
              "      <td>krishna men call the aswattha the banyan tree ...</td>\n",
              "      <td>647</td>\n",
              "    </tr>\n",
              "    <tr>\n",
              "      <th>15</th>\n",
              "      <td>CHAPTER XVI</td>\n",
              "      <td>rishna fearlessness singleness of soul the wil...</td>\n",
              "      <td>676</td>\n",
              "    </tr>\n",
              "    <tr>\n",
              "      <th>16</th>\n",
              "      <td>CHAPTER XVII</td>\n",
              "      <td>arjuna if men forsake the holy ordinance heedl...</td>\n",
              "      <td>641</td>\n",
              "    </tr>\n",
              "    <tr>\n",
              "      <th>17</th>\n",
              "      <td>CHAPTER XVIII</td>\n",
              "      <td>arjuna fain would i better know thou glorious ...</td>\n",
              "      <td>2109</td>\n",
              "    </tr>\n",
              "  </tbody>\n",
              "</table>\n",
              "</div>"
            ],
            "text/plain": [
              "          Chapter  ... Word_Count\n",
              "0       CHAPTER I  ...       1037\n",
              "1      CHAPTER II  ...       2019\n",
              "2     CHAPTER III  ...       1107\n",
              "3      CHAPTER IV  ...       1190\n",
              "4       CHAPTER V  ...        829\n",
              "5      CHAPTER VI  ...       1204\n",
              "6     CHAPTER VII  ...        832\n",
              "7    CHAPTER VIII  ...        727\n",
              "8      CHAPTER IX  ...       1038\n",
              "9       CHAPTER X  ...       1104\n",
              "10     CHAPTER XI  ...       2184\n",
              "11    CHAPTER XII  ...        537\n",
              "12   CHAPTER XIII  ...        927\n",
              "13    CHAPTER XIV  ...        672\n",
              "14     CHAPTER XV  ...        647\n",
              "15    CHAPTER XVI  ...        676\n",
              "16   CHAPTER XVII  ...        641\n",
              "17  CHAPTER XVIII  ...       2109\n",
              "\n",
              "[18 rows x 3 columns]"
            ]
          },
          "metadata": {
            "tags": []
          },
          "execution_count": 62
        }
      ]
    },
    {
      "cell_type": "code",
      "metadata": {
        "id": "T4ICN-Vpph6M"
      },
      "source": [
        "def senti(x):\n",
        "    return TextBlob(x).polarity\n",
        "\n",
        "df['Polarity'] = df['Description'].apply(senti)"
      ],
      "execution_count": null,
      "outputs": []
    },
    {
      "cell_type": "markdown",
      "metadata": {
        "id": "Q6-L4gbmGNtl"
      },
      "source": [
        ""
      ]
    },
    {
      "cell_type": "markdown",
      "metadata": {
        "id": "oLQr16JNGOWy"
      },
      "source": [
        "#  Polarity Analysis Initiated"
      ]
    },
    {
      "cell_type": "code",
      "metadata": {
        "colab": {
          "base_uri": "https://localhost:8080/",
          "height": 587
        },
        "id": "3YDfo83BuV3u",
        "outputId": "f29e38d4-1a22-48c4-8956-ec0d6c0e8597"
      },
      "source": [
        "df"
      ],
      "execution_count": null,
      "outputs": [
        {
          "output_type": "execute_result",
          "data": {
            "text/html": [
              "<div>\n",
              "<style scoped>\n",
              "    .dataframe tbody tr th:only-of-type {\n",
              "        vertical-align: middle;\n",
              "    }\n",
              "\n",
              "    .dataframe tbody tr th {\n",
              "        vertical-align: top;\n",
              "    }\n",
              "\n",
              "    .dataframe thead th {\n",
              "        text-align: right;\n",
              "    }\n",
              "</style>\n",
              "<table border=\"1\" class=\"dataframe\">\n",
              "  <thead>\n",
              "    <tr style=\"text-align: right;\">\n",
              "      <th></th>\n",
              "      <th>Chapter</th>\n",
              "      <th>Description</th>\n",
              "      <th>Word_Count</th>\n",
              "      <th>Polarity</th>\n",
              "    </tr>\n",
              "  </thead>\n",
              "  <tbody>\n",
              "    <tr>\n",
              "      <th>0</th>\n",
              "      <td>CHAPTER I</td>\n",
              "      <td>dhritirashtra ranged thus for battle on the sa...</td>\n",
              "      <td>1037</td>\n",
              "      <td>0.080852</td>\n",
              "    </tr>\n",
              "    <tr>\n",
              "      <th>1</th>\n",
              "      <td>CHAPTER II</td>\n",
              "      <td>sanjaya him filled with such compassion and su...</td>\n",
              "      <td>2019</td>\n",
              "      <td>0.148465</td>\n",
              "    </tr>\n",
              "    <tr>\n",
              "      <th>2</th>\n",
              "      <td>CHAPTER III</td>\n",
              "      <td>arjuna thou whom all mortals praise janardana ...</td>\n",
              "      <td>1107</td>\n",
              "      <td>0.183326</td>\n",
              "    </tr>\n",
              "    <tr>\n",
              "      <th>3</th>\n",
              "      <td>CHAPTER IV</td>\n",
              "      <td>krishna this deathless yoga this deep union i ...</td>\n",
              "      <td>1190</td>\n",
              "      <td>0.127799</td>\n",
              "    </tr>\n",
              "    <tr>\n",
              "      <th>4</th>\n",
              "      <td>CHAPTER V</td>\n",
              "      <td>arjuna yet krishna at the one time thou dost l...</td>\n",
              "      <td>829</td>\n",
              "      <td>0.151562</td>\n",
              "    </tr>\n",
              "    <tr>\n",
              "      <th>5</th>\n",
              "      <td>CHAPTER VI</td>\n",
              "      <td>krishna therefore who doeth work rightful to d...</td>\n",
              "      <td>1204</td>\n",
              "      <td>0.186174</td>\n",
              "    </tr>\n",
              "    <tr>\n",
              "      <th>6</th>\n",
              "      <td>CHAPTER VII</td>\n",
              "      <td>krishna learn now dear prince how if thy soul ...</td>\n",
              "      <td>832</td>\n",
              "      <td>0.175584</td>\n",
              "    </tr>\n",
              "    <tr>\n",
              "      <th>7</th>\n",
              "      <td>CHAPTER VIII</td>\n",
              "      <td>arjuna who is that brahma what that soul of so...</td>\n",
              "      <td>727</td>\n",
              "      <td>0.237941</td>\n",
              "    </tr>\n",
              "    <tr>\n",
              "      <th>8</th>\n",
              "      <td>CHAPTER IX</td>\n",
              "      <td>krishna now will i open unto thee whose heart ...</td>\n",
              "      <td>1038</td>\n",
              "      <td>0.135154</td>\n",
              "    </tr>\n",
              "    <tr>\n",
              "      <th>9</th>\n",
              "      <td>CHAPTER X</td>\n",
              "      <td>hear farther yet thou long armed lord these la...</td>\n",
              "      <td>1104</td>\n",
              "      <td>0.254076</td>\n",
              "    </tr>\n",
              "    <tr>\n",
              "      <th>10</th>\n",
              "      <td>CHAPTER XI</td>\n",
              "      <td>arjuna this for my soul s peace have i heard f...</td>\n",
              "      <td>2184</td>\n",
              "      <td>0.155817</td>\n",
              "    </tr>\n",
              "    <tr>\n",
              "      <th>11</th>\n",
              "      <td>CHAPTER XII</td>\n",
              "      <td>arjuna lord of the men who serve thee true in ...</td>\n",
              "      <td>537</td>\n",
              "      <td>0.186079</td>\n",
              "    </tr>\n",
              "    <tr>\n",
              "      <th>12</th>\n",
              "      <td>CHAPTER XIII</td>\n",
              "      <td>arjuna now would i hear o gracious kesava fn o...</td>\n",
              "      <td>927</td>\n",
              "      <td>0.133605</td>\n",
              "    </tr>\n",
              "    <tr>\n",
              "      <th>13</th>\n",
              "      <td>CHAPTER XIV</td>\n",
              "      <td>krishna yet farther will i open unto thee this...</td>\n",
              "      <td>672</td>\n",
              "      <td>0.199434</td>\n",
              "    </tr>\n",
              "    <tr>\n",
              "      <th>14</th>\n",
              "      <td>CHAPTER XV</td>\n",
              "      <td>krishna men call the aswattha the banyan tree ...</td>\n",
              "      <td>647</td>\n",
              "      <td>0.064171</td>\n",
              "    </tr>\n",
              "    <tr>\n",
              "      <th>15</th>\n",
              "      <td>CHAPTER XVI</td>\n",
              "      <td>rishna fearlessness singleness of soul the wil...</td>\n",
              "      <td>676</td>\n",
              "      <td>0.046027</td>\n",
              "    </tr>\n",
              "    <tr>\n",
              "      <th>16</th>\n",
              "      <td>CHAPTER XVII</td>\n",
              "      <td>arjuna if men forsake the holy ordinance heedl...</td>\n",
              "      <td>641</td>\n",
              "      <td>0.170664</td>\n",
              "    </tr>\n",
              "    <tr>\n",
              "      <th>17</th>\n",
              "      <td>CHAPTER XVIII</td>\n",
              "      <td>arjuna fain would i better know thou glorious ...</td>\n",
              "      <td>2109</td>\n",
              "      <td>0.130688</td>\n",
              "    </tr>\n",
              "  </tbody>\n",
              "</table>\n",
              "</div>"
            ],
            "text/plain": [
              "          Chapter  ...  Polarity\n",
              "0       CHAPTER I  ...  0.080852\n",
              "1      CHAPTER II  ...  0.148465\n",
              "2     CHAPTER III  ...  0.183326\n",
              "3      CHAPTER IV  ...  0.127799\n",
              "4       CHAPTER V  ...  0.151562\n",
              "5      CHAPTER VI  ...  0.186174\n",
              "6     CHAPTER VII  ...  0.175584\n",
              "7    CHAPTER VIII  ...  0.237941\n",
              "8      CHAPTER IX  ...  0.135154\n",
              "9       CHAPTER X  ...  0.254076\n",
              "10     CHAPTER XI  ...  0.155817\n",
              "11    CHAPTER XII  ...  0.186079\n",
              "12   CHAPTER XIII  ...  0.133605\n",
              "13    CHAPTER XIV  ...  0.199434\n",
              "14     CHAPTER XV  ...  0.064171\n",
              "15    CHAPTER XVI  ...  0.046027\n",
              "16   CHAPTER XVII  ...  0.170664\n",
              "17  CHAPTER XVIII  ...  0.130688\n",
              "\n",
              "[18 rows x 4 columns]"
            ]
          },
          "metadata": {
            "tags": []
          },
          "execution_count": 64
        }
      ]
    },
    {
      "cell_type": "markdown",
      "metadata": {
        "id": "htglOAW9GmYk"
      },
      "source": [
        "#  Subjectivity Analysis Initiated"
      ]
    },
    {
      "cell_type": "code",
      "metadata": {
        "id": "_WYtyDc1qjjG"
      },
      "source": [
        "def sub(x):\n",
        "    return TextBlob(x).subjectivity\n",
        "\n",
        "df['Subjectivity'] = df['Description'].apply(sub)"
      ],
      "execution_count": null,
      "outputs": []
    },
    {
      "cell_type": "markdown",
      "metadata": {
        "id": "njRG0ptJGl7l"
      },
      "source": [
        ""
      ]
    },
    {
      "cell_type": "code",
      "metadata": {
        "colab": {
          "base_uri": "https://localhost:8080/",
          "height": 587
        },
        "id": "9f2n96GTqzD2",
        "outputId": "2748f73d-1e04-4f7a-f65b-e8706453b65c"
      },
      "source": [
        "df"
      ],
      "execution_count": null,
      "outputs": [
        {
          "output_type": "execute_result",
          "data": {
            "text/html": [
              "<div>\n",
              "<style scoped>\n",
              "    .dataframe tbody tr th:only-of-type {\n",
              "        vertical-align: middle;\n",
              "    }\n",
              "\n",
              "    .dataframe tbody tr th {\n",
              "        vertical-align: top;\n",
              "    }\n",
              "\n",
              "    .dataframe thead th {\n",
              "        text-align: right;\n",
              "    }\n",
              "</style>\n",
              "<table border=\"1\" class=\"dataframe\">\n",
              "  <thead>\n",
              "    <tr style=\"text-align: right;\">\n",
              "      <th></th>\n",
              "      <th>Chapter</th>\n",
              "      <th>Description</th>\n",
              "      <th>Word_Count</th>\n",
              "      <th>Polarity</th>\n",
              "      <th>Subjectivity</th>\n",
              "    </tr>\n",
              "  </thead>\n",
              "  <tbody>\n",
              "    <tr>\n",
              "      <th>0</th>\n",
              "      <td>CHAPTER I</td>\n",
              "      <td>dhritirashtra ranged thus for battle on the sa...</td>\n",
              "      <td>1037</td>\n",
              "      <td>0.080852</td>\n",
              "      <td>0.593103</td>\n",
              "    </tr>\n",
              "    <tr>\n",
              "      <th>1</th>\n",
              "      <td>CHAPTER II</td>\n",
              "      <td>sanjaya him filled with such compassion and su...</td>\n",
              "      <td>2019</td>\n",
              "      <td>0.148465</td>\n",
              "      <td>0.555117</td>\n",
              "    </tr>\n",
              "    <tr>\n",
              "      <th>2</th>\n",
              "      <td>CHAPTER III</td>\n",
              "      <td>arjuna thou whom all mortals praise janardana ...</td>\n",
              "      <td>1107</td>\n",
              "      <td>0.183326</td>\n",
              "      <td>0.575842</td>\n",
              "    </tr>\n",
              "    <tr>\n",
              "      <th>3</th>\n",
              "      <td>CHAPTER IV</td>\n",
              "      <td>krishna this deathless yoga this deep union i ...</td>\n",
              "      <td>1190</td>\n",
              "      <td>0.127799</td>\n",
              "      <td>0.466798</td>\n",
              "    </tr>\n",
              "    <tr>\n",
              "      <th>4</th>\n",
              "      <td>CHAPTER V</td>\n",
              "      <td>arjuna yet krishna at the one time thou dost l...</td>\n",
              "      <td>829</td>\n",
              "      <td>0.151562</td>\n",
              "      <td>0.518083</td>\n",
              "    </tr>\n",
              "    <tr>\n",
              "      <th>5</th>\n",
              "      <td>CHAPTER VI</td>\n",
              "      <td>krishna therefore who doeth work rightful to d...</td>\n",
              "      <td>1204</td>\n",
              "      <td>0.186174</td>\n",
              "      <td>0.569743</td>\n",
              "    </tr>\n",
              "    <tr>\n",
              "      <th>6</th>\n",
              "      <td>CHAPTER VII</td>\n",
              "      <td>krishna learn now dear prince how if thy soul ...</td>\n",
              "      <td>832</td>\n",
              "      <td>0.175584</td>\n",
              "      <td>0.545161</td>\n",
              "    </tr>\n",
              "    <tr>\n",
              "      <th>7</th>\n",
              "      <td>CHAPTER VIII</td>\n",
              "      <td>arjuna who is that brahma what that soul of so...</td>\n",
              "      <td>727</td>\n",
              "      <td>0.237941</td>\n",
              "      <td>0.547478</td>\n",
              "    </tr>\n",
              "    <tr>\n",
              "      <th>8</th>\n",
              "      <td>CHAPTER IX</td>\n",
              "      <td>krishna now will i open unto thee whose heart ...</td>\n",
              "      <td>1038</td>\n",
              "      <td>0.135154</td>\n",
              "      <td>0.559052</td>\n",
              "    </tr>\n",
              "    <tr>\n",
              "      <th>9</th>\n",
              "      <td>CHAPTER X</td>\n",
              "      <td>hear farther yet thou long armed lord these la...</td>\n",
              "      <td>1104</td>\n",
              "      <td>0.254076</td>\n",
              "      <td>0.508346</td>\n",
              "    </tr>\n",
              "    <tr>\n",
              "      <th>10</th>\n",
              "      <td>CHAPTER XI</td>\n",
              "      <td>arjuna this for my soul s peace have i heard f...</td>\n",
              "      <td>2184</td>\n",
              "      <td>0.155817</td>\n",
              "      <td>0.584753</td>\n",
              "    </tr>\n",
              "    <tr>\n",
              "      <th>11</th>\n",
              "      <td>CHAPTER XII</td>\n",
              "      <td>arjuna lord of the men who serve thee true in ...</td>\n",
              "      <td>537</td>\n",
              "      <td>0.186079</td>\n",
              "      <td>0.588723</td>\n",
              "    </tr>\n",
              "    <tr>\n",
              "      <th>12</th>\n",
              "      <td>CHAPTER XIII</td>\n",
              "      <td>arjuna now would i hear o gracious kesava fn o...</td>\n",
              "      <td>927</td>\n",
              "      <td>0.133605</td>\n",
              "      <td>0.605911</td>\n",
              "    </tr>\n",
              "    <tr>\n",
              "      <th>13</th>\n",
              "      <td>CHAPTER XIV</td>\n",
              "      <td>krishna yet farther will i open unto thee this...</td>\n",
              "      <td>672</td>\n",
              "      <td>0.199434</td>\n",
              "      <td>0.498645</td>\n",
              "    </tr>\n",
              "    <tr>\n",
              "      <th>14</th>\n",
              "      <td>CHAPTER XV</td>\n",
              "      <td>krishna men call the aswattha the banyan tree ...</td>\n",
              "      <td>647</td>\n",
              "      <td>0.064171</td>\n",
              "      <td>0.506634</td>\n",
              "    </tr>\n",
              "    <tr>\n",
              "      <th>15</th>\n",
              "      <td>CHAPTER XVI</td>\n",
              "      <td>rishna fearlessness singleness of soul the wil...</td>\n",
              "      <td>676</td>\n",
              "      <td>0.046027</td>\n",
              "      <td>0.605052</td>\n",
              "    </tr>\n",
              "    <tr>\n",
              "      <th>16</th>\n",
              "      <td>CHAPTER XVII</td>\n",
              "      <td>arjuna if men forsake the holy ordinance heedl...</td>\n",
              "      <td>641</td>\n",
              "      <td>0.170664</td>\n",
              "      <td>0.622867</td>\n",
              "    </tr>\n",
              "    <tr>\n",
              "      <th>17</th>\n",
              "      <td>CHAPTER XVIII</td>\n",
              "      <td>arjuna fain would i better know thou glorious ...</td>\n",
              "      <td>2109</td>\n",
              "      <td>0.130688</td>\n",
              "      <td>0.550737</td>\n",
              "    </tr>\n",
              "  </tbody>\n",
              "</table>\n",
              "</div>"
            ],
            "text/plain": [
              "          Chapter  ... Subjectivity\n",
              "0       CHAPTER I  ...     0.593103\n",
              "1      CHAPTER II  ...     0.555117\n",
              "2     CHAPTER III  ...     0.575842\n",
              "3      CHAPTER IV  ...     0.466798\n",
              "4       CHAPTER V  ...     0.518083\n",
              "5      CHAPTER VI  ...     0.569743\n",
              "6     CHAPTER VII  ...     0.545161\n",
              "7    CHAPTER VIII  ...     0.547478\n",
              "8      CHAPTER IX  ...     0.559052\n",
              "9       CHAPTER X  ...     0.508346\n",
              "10     CHAPTER XI  ...     0.584753\n",
              "11    CHAPTER XII  ...     0.588723\n",
              "12   CHAPTER XIII  ...     0.605911\n",
              "13    CHAPTER XIV  ...     0.498645\n",
              "14     CHAPTER XV  ...     0.506634\n",
              "15    CHAPTER XVI  ...     0.605052\n",
              "16   CHAPTER XVII  ...     0.622867\n",
              "17  CHAPTER XVIII  ...     0.550737\n",
              "\n",
              "[18 rows x 5 columns]"
            ]
          },
          "metadata": {
            "tags": []
          },
          "execution_count": 66
        }
      ]
    },
    {
      "cell_type": "markdown",
      "metadata": {
        "id": "_cwY9BePG50C"
      },
      "source": [
        ""
      ]
    },
    {
      "cell_type": "markdown",
      "metadata": {
        "id": "s4ynxXlqG6gH"
      },
      "source": [
        "#  Language Libraries Initiated"
      ]
    },
    {
      "cell_type": "code",
      "metadata": {
        "id": "MKxYAQAErtg4",
        "colab": {
          "base_uri": "https://localhost:8080/"
        },
        "outputId": "bff6b9ff-33cd-4669-f3c1-727fa60d4c5b"
      },
      "source": [
        "from textblob import TextBlob\n",
        "import nltk\n",
        "nltk.download('movie_reviews')\n",
        "nltk.download('punkt')"
      ],
      "execution_count": null,
      "outputs": [
        {
          "output_type": "stream",
          "text": [
            "[nltk_data] Downloading package movie_reviews to /root/nltk_data...\n",
            "[nltk_data]   Package movie_reviews is already up-to-date!\n",
            "[nltk_data] Downloading package punkt to /root/nltk_data...\n",
            "[nltk_data]   Package punkt is already up-to-date!\n"
          ],
          "name": "stdout"
        },
        {
          "output_type": "execute_result",
          "data": {
            "text/plain": [
              "True"
            ]
          },
          "metadata": {
            "tags": []
          },
          "execution_count": 67
        }
      ]
    },
    {
      "cell_type": "markdown",
      "metadata": {
        "id": "rw3HCUVnqRDd"
      },
      "source": [
        ""
      ]
    },
    {
      "cell_type": "code",
      "metadata": {
        "id": "W5McclhEuxB_"
      },
      "source": [
        "import matplotlib.pyplot as plt\n",
        "import seaborn as sns"
      ],
      "execution_count": null,
      "outputs": []
    },
    {
      "cell_type": "code",
      "metadata": {
        "id": "bxVGzUyboNEm"
      },
      "source": [
        ""
      ],
      "execution_count": null,
      "outputs": []
    },
    {
      "cell_type": "code",
      "metadata": {
        "colab": {
          "base_uri": "https://localhost:8080/",
          "height": 296
        },
        "id": "c9V6hvZCCv_J",
        "outputId": "017a8553-6dc9-44bf-be74-d5d69fe298fd"
      },
      "source": [
        "sns.barplot(data=df, x=\"Chapter\",y=\"Word_Count\")\n",
        "\n"
      ],
      "execution_count": null,
      "outputs": [
        {
          "output_type": "execute_result",
          "data": {
            "text/plain": [
              "<matplotlib.axes._subplots.AxesSubplot at 0x7f9642e536a0>"
            ]
          },
          "metadata": {
            "tags": []
          },
          "execution_count": 69
        },
        {
          "output_type": "display_data",
          "data": {
            "image/png": "[encoded data removed]",
            "text/plain": [
              "<Figure size 432x288 with 1 Axes>"
            ]
          },
          "metadata": {
            "tags": [],
            "needs_background": "light"
          }
        }
      ]
    },
    {
      "cell_type": "markdown",
      "metadata": {
        "id": "TEYSVjbWp8k-"
      },
      "source": [
        "# **Observation - Length of Chapters : Chapter 2, Chapter 11 and Chapter 18 are longest having more than 2000 Words per Chapter**"
      ]
    },
    {
      "cell_type": "markdown",
      "metadata": {
        "id": "XenseX8DIDqn"
      },
      "source": [
        ""
      ]
    },
    {
      "cell_type": "code",
      "metadata": {
        "colab": {
          "base_uri": "https://localhost:8080/",
          "height": 377
        },
        "id": "Fj_2VNMnjTii",
        "outputId": "7b1de90e-f159-456c-bdc1-ec4e2662fc6e"
      },
      "source": [
        "g = sns.relplot(x=\"Chapter\", y=\"Polarity\", kind=\"scatter\", data=df)\n",
        "g. set(ylim=(-1.0, 1.0))\n",
        "plt.axhline(0.0, color='green')\n",
        "g.fig.autofmt_xdate()"
      ],
      "execution_count": null,
      "outputs": [
        {
          "output_type": "display_data",
          "data": {
            "image/png": "[encoded data removed]",
            "text/plain": [
              "<Figure size 360x360 with 1 Axes>"
            ]
          },
          "metadata": {
            "tags": [],
            "needs_background": "light"
          }
        }
      ]
    },
    {
      "cell_type": "markdown",
      "metadata": {
        "id": "230SyWn5Ibf6"
      },
      "source": [
        ""
      ]
    },
    {
      "cell_type": "markdown",
      "metadata": {
        "id": "PKOyw6IqIgcQ"
      },
      "source": [
        "# Observation -There is No Negative Talks in All 18 Chapters of Bhavgad Gita  (Polarity *is a float value within the range [-1.0 to 1.0] where 0 indicates neutral, +1 indicates a very positive sentiment and -1 represents a very negative sentiment)\n"
      ]
    },
    {
      "cell_type": "code",
      "metadata": {
        "colab": {
          "base_uri": "https://localhost:8080/",
          "height": 377
        },
        "id": "EqjbI-_hjS4D",
        "outputId": "7f80b02f-08f2-4e8c-ce72-fadc92a2cf14"
      },
      "source": [
        "g = sns.relplot(x=\"Chapter\", y=\"Subjectivity\", kind=\"scatter\", data=df)\n",
        "g. set(ylim=(0.0, 1.0))\n",
        "plt.axhline(0.5, color='green')\n",
        "g.fig.autofmt_xdate()"
      ],
      "execution_count": null,
      "outputs": [
        {
          "output_type": "display_data",
          "data": {
            "image/png": "[encoded data removed]",
            "text/plain": [
              "<Figure size 360x360 with 1 Axes>"
            ]
          },
          "metadata": {
            "tags": [],
            "needs_background": "light"
          }
        }
      ]
    },
    {
      "cell_type": "markdown",
      "metadata": {
        "id": "3n_hPuTumYjy"
      },
      "source": [
        ""
      ]
    },
    {
      "cell_type": "markdown",
      "metadata": {
        "id": "dR0OT5n8JK6U"
      },
      "source": [
        "# Observation - **There is No Objective  Talks in All 18 Chapters of Bhavgad Gita. Only Subjective Talks are mentioned** (Subjectivity** is a float value within the range [0.0 to 1.0] where 0.0 is very objective and 1.0 is very subjective. Subjective sentence expresses some personal feelings, views, beliefs, opinions, allegations, desires, beliefs, suspicions, and speculations where as Objective sentences are factual.)\n",
        "\n"
      ]
    },
    {
      "cell_type": "code",
      "metadata": {
        "colab": {
          "base_uri": "https://localhost:8080/",
          "height": 404
        },
        "id": "XWHcilWn5ORK",
        "outputId": "f6fe5acc-1210-4f68-8bd7-dce2eb130fb6"
      },
      "source": [
        "g = sns.relplot(x=\"Subjectivity\", y=\"Polarity\", kind=\"scatter\", data=df)\n",
        "g. set(xlim=(0.0, 1.0))\n",
        "g. set(ylim=(-1.0, 1.0))\n",
        "plt.axvline(0.5, color='r')\n",
        "plt.axhline(0.0, color='green')\n"
      ],
      "execution_count": null,
      "outputs": [
        {
          "output_type": "execute_result",
          "data": {
            "text/plain": [
              "<matplotlib.lines.Line2D at 0x7f9642c5fbe0>"
            ]
          },
          "metadata": {
            "tags": []
          },
          "execution_count": 29
        },
        {
          "output_type": "display_data",
          "data": {
            "image/png": "[encoded data removed]",
            "text/plain": [
              "<Figure size 360x360 with 1 Axes>"
            ]
          },
          "metadata": {
            "tags": [],
            "needs_background": "light"
          }
        }
      ]
    },
    {
      "cell_type": "code",
      "metadata": {
        "id": "_req3L4_mW_7"
      },
      "source": [
        ""
      ],
      "execution_count": null,
      "outputs": []
    },
    {
      "cell_type": "markdown",
      "metadata": {
        "id": "2OZJG4zDLWi0"
      },
      "source": [
        ""
      ]
    },
    {
      "cell_type": "markdown",
      "metadata": {
        "id": "b_Wq-oMBqXGs"
      },
      "source": [
        "## Observation: In Gita, All 18 Chapters are related to Positive_Subjective Talks. There are No Negative_Objective Talks. Even Positive Talks are not Highly Positive .  We can see the output is categorized between two — Polarity and Subjectivity.\n",
        "**Polarity** is a float value within the range [-1.0 to 1.0] where 0 indicates neutral, +1 indicates a very positive sentiment and -1 represents a very negative sentiment.\n",
        "**## Subjectivity** is a float value within the range [0.0 to 1.0] where 0.0 is very objective and 1.0 is very subjective. Subjective sentence expresses some personal feelings, views, beliefs, opinions, allegations, desires, beliefs, suspicions, and speculations where as Objective sentences are factual.\n"
      ]
    },
    {
      "cell_type": "markdown",
      "metadata": {
        "id": "rKegCwcAKGaP"
      },
      "source": [
        "# Import of Importnant NLP Libraries"
      ]
    },
    {
      "cell_type": "code",
      "metadata": {
        "colab": {
          "base_uri": "https://localhost:8080/"
        },
        "id": "7eaD8Y7dxAIY",
        "outputId": "cd8f56dd-8959-48f3-9127-1172b667ab3d"
      },
      "source": [
        "import nltk\n",
        "nltk.download('punkt')\n",
        "from nltk.tokenize import RegexpTokenizer\n",
        "from nltk.corpus import stopwords\n",
        "from nltk.stem.porter import PorterStemmer\n",
        "nltk.download('stopwords')"
      ],
      "execution_count": null,
      "outputs": [
        {
          "output_type": "stream",
          "text": [
            "[nltk_data] Downloading package punkt to /root/nltk_data...\n",
            "[nltk_data]   Package punkt is already up-to-date!\n",
            "[nltk_data] Downloading package stopwords to /root/nltk_data...\n",
            "[nltk_data]   Package stopwords is already up-to-date!\n"
          ],
          "name": "stdout"
        },
        {
          "output_type": "execute_result",
          "data": {
            "text/plain": [
              "True"
            ]
          },
          "metadata": {
            "tags": []
          },
          "execution_count": 76
        }
      ]
    },
    {
      "cell_type": "code",
      "metadata": {
        "colab": {
          "base_uri": "https://localhost:8080/"
        },
        "id": "Gul81my0u3PK",
        "outputId": "7bd76636-aa28-4bbe-b4c0-982d1863dac9"
      },
      "source": [
        "import nltk\n",
        "nltk.download('wordnet')"
      ],
      "execution_count": null,
      "outputs": [
        {
          "output_type": "stream",
          "text": [
            "[nltk_data] Downloading package wordnet to /root/nltk_data...\n",
            "[nltk_data]   Package wordnet is already up-to-date!\n"
          ],
          "name": "stdout"
        },
        {
          "output_type": "execute_result",
          "data": {
            "text/plain": [
              "True"
            ]
          },
          "metadata": {
            "tags": []
          },
          "execution_count": 77
        }
      ]
    },
    {
      "cell_type": "code",
      "metadata": {
        "id": "P5EIQuNknbE-",
        "colab": {
          "base_uri": "https://localhost:8080/"
        },
        "outputId": "7e3c8b75-7faa-41ac-8eef-ebf3015c1184"
      },
      "source": [
        "from nltk.corpus import stopwords\n",
        "stop = stopwords.words('english')\n",
        "stopwords = nltk.corpus.stopwords.words(\"english\")\n",
        "nltk.download('averaged_perceptron_tagger')\n"
      ],
      "execution_count": null,
      "outputs": [
        {
          "output_type": "stream",
          "text": [
            "[nltk_data] Downloading package averaged_perceptron_tagger to\n",
            "[nltk_data]     /root/nltk_data...\n",
            "[nltk_data]   Package averaged_perceptron_tagger is already up-to-\n",
            "[nltk_data]       date!\n"
          ],
          "name": "stdout"
        },
        {
          "output_type": "execute_result",
          "data": {
            "text/plain": [
              "True"
            ]
          },
          "metadata": {
            "tags": []
          },
          "execution_count": 78
        }
      ]
    },
    {
      "cell_type": "code",
      "metadata": {
        "id": "PUlzABLlJJHK"
      },
      "source": [
        "df['content'] = df['Description'].apply(lambda x: ' '.join([word for word in x.split() if word not in (stopwords)]))"
      ],
      "execution_count": null,
      "outputs": []
    },
    {
      "cell_type": "code",
      "metadata": {
        "colab": {
          "base_uri": "https://localhost:8080/",
          "height": 587
        },
        "id": "JRmaNEq4vFSi",
        "outputId": "0fa846f0-1c84-4b19-99ff-4e98f3ee43ca"
      },
      "source": [
        "df"
      ],
      "execution_count": null,
      "outputs": [
        {
          "output_type": "execute_result",
          "data": {
            "text/html": [
              "<div>\n",
              "<style scoped>\n",
              "    .dataframe tbody tr th:only-of-type {\n",
              "        vertical-align: middle;\n",
              "    }\n",
              "\n",
              "    .dataframe tbody tr th {\n",
              "        vertical-align: top;\n",
              "    }\n",
              "\n",
              "    .dataframe thead th {\n",
              "        text-align: right;\n",
              "    }\n",
              "</style>\n",
              "<table border=\"1\" class=\"dataframe\">\n",
              "  <thead>\n",
              "    <tr style=\"text-align: right;\">\n",
              "      <th></th>\n",
              "      <th>Chapter</th>\n",
              "      <th>Description</th>\n",
              "      <th>Word_Count</th>\n",
              "      <th>Polarity</th>\n",
              "      <th>Subjectivity</th>\n",
              "      <th>content</th>\n",
              "    </tr>\n",
              "  </thead>\n",
              "  <tbody>\n",
              "    <tr>\n",
              "      <th>0</th>\n",
              "      <td>CHAPTER I</td>\n",
              "      <td>dhritirashtra ranged thus for battle on the sa...</td>\n",
              "      <td>1037</td>\n",
              "      <td>0.080852</td>\n",
              "      <td>0.593103</td>\n",
              "      <td>dhritirashtra ranged thus battle sacred plain ...</td>\n",
              "    </tr>\n",
              "    <tr>\n",
              "      <th>1</th>\n",
              "      <td>CHAPTER II</td>\n",
              "      <td>sanjaya him filled with such compassion and su...</td>\n",
              "      <td>2019</td>\n",
              "      <td>0.148465</td>\n",
              "      <td>0.555117</td>\n",
              "      <td>sanjaya filled compassion grief eyes tear dimm...</td>\n",
              "    </tr>\n",
              "    <tr>\n",
              "      <th>2</th>\n",
              "      <td>CHAPTER III</td>\n",
              "      <td>arjuna thou whom all mortals praise janardana ...</td>\n",
              "      <td>1107</td>\n",
              "      <td>0.183326</td>\n",
              "      <td>0.575842</td>\n",
              "      <td>arjuna thou mortals praise janardana meditatio...</td>\n",
              "    </tr>\n",
              "    <tr>\n",
              "      <th>3</th>\n",
              "      <td>CHAPTER IV</td>\n",
              "      <td>krishna this deathless yoga this deep union i ...</td>\n",
              "      <td>1190</td>\n",
              "      <td>0.127799</td>\n",
              "      <td>0.466798</td>\n",
              "      <td>krishna deathless yoga deep union taught vivas...</td>\n",
              "    </tr>\n",
              "    <tr>\n",
              "      <th>4</th>\n",
              "      <td>CHAPTER V</td>\n",
              "      <td>arjuna yet krishna at the one time thou dost l...</td>\n",
              "      <td>829</td>\n",
              "      <td>0.151562</td>\n",
              "      <td>0.518083</td>\n",
              "      <td>arjuna yet krishna one time thou dost laud sur...</td>\n",
              "    </tr>\n",
              "    <tr>\n",
              "      <th>5</th>\n",
              "      <td>CHAPTER VI</td>\n",
              "      <td>krishna therefore who doeth work rightful to d...</td>\n",
              "      <td>1204</td>\n",
              "      <td>0.186174</td>\n",
              "      <td>0.569743</td>\n",
              "      <td>krishna therefore doeth work rightful seeking ...</td>\n",
              "    </tr>\n",
              "    <tr>\n",
              "      <th>6</th>\n",
              "      <td>CHAPTER VII</td>\n",
              "      <td>krishna learn now dear prince how if thy soul ...</td>\n",
              "      <td>832</td>\n",
              "      <td>0.175584</td>\n",
              "      <td>0.545161</td>\n",
              "      <td>krishna learn dear prince thy soul set ever st...</td>\n",
              "    </tr>\n",
              "    <tr>\n",
              "      <th>7</th>\n",
              "      <td>CHAPTER VIII</td>\n",
              "      <td>arjuna who is that brahma what that soul of so...</td>\n",
              "      <td>727</td>\n",
              "      <td>0.237941</td>\n",
              "      <td>0.547478</td>\n",
              "      <td>arjuna brahma soul souls adhyatman thou best t...</td>\n",
              "    </tr>\n",
              "    <tr>\n",
              "      <th>8</th>\n",
              "      <td>CHAPTER IX</td>\n",
              "      <td>krishna now will i open unto thee whose heart ...</td>\n",
              "      <td>1038</td>\n",
              "      <td>0.135154</td>\n",
              "      <td>0.559052</td>\n",
              "      <td>krishna open unto thee whose heart rejects las...</td>\n",
              "    </tr>\n",
              "    <tr>\n",
              "      <th>9</th>\n",
              "      <td>CHAPTER X</td>\n",
              "      <td>hear farther yet thou long armed lord these la...</td>\n",
              "      <td>1104</td>\n",
              "      <td>0.254076</td>\n",
              "      <td>0.508346</td>\n",
              "      <td>hear farther yet thou long armed lord latest w...</td>\n",
              "    </tr>\n",
              "    <tr>\n",
              "      <th>10</th>\n",
              "      <td>CHAPTER XI</td>\n",
              "      <td>arjuna this for my soul s peace have i heard f...</td>\n",
              "      <td>2184</td>\n",
              "      <td>0.155817</td>\n",
              "      <td>0.584753</td>\n",
              "      <td>arjuna soul peace heard thee unfolding mystery...</td>\n",
              "    </tr>\n",
              "    <tr>\n",
              "      <th>11</th>\n",
              "      <td>CHAPTER XII</td>\n",
              "      <td>arjuna lord of the men who serve thee true in ...</td>\n",
              "      <td>537</td>\n",
              "      <td>0.186079</td>\n",
              "      <td>0.588723</td>\n",
              "      <td>arjuna lord men serve thee true heart god reve...</td>\n",
              "    </tr>\n",
              "    <tr>\n",
              "      <th>12</th>\n",
              "      <td>CHAPTER XIII</td>\n",
              "      <td>arjuna now would i hear o gracious kesava fn o...</td>\n",
              "      <td>927</td>\n",
              "      <td>0.133605</td>\n",
              "      <td>0.605911</td>\n",
              "      <td>arjuna would hear gracious kesava fn life seem...</td>\n",
              "    </tr>\n",
              "    <tr>\n",
              "      <th>13</th>\n",
              "      <td>CHAPTER XIV</td>\n",
              "      <td>krishna yet farther will i open unto thee this...</td>\n",
              "      <td>672</td>\n",
              "      <td>0.199434</td>\n",
              "      <td>0.498645</td>\n",
              "      <td>krishna yet farther open unto thee wisdom wisd...</td>\n",
              "    </tr>\n",
              "    <tr>\n",
              "      <th>14</th>\n",
              "      <td>CHAPTER XV</td>\n",
              "      <td>krishna men call the aswattha the banyan tree ...</td>\n",
              "      <td>647</td>\n",
              "      <td>0.064171</td>\n",
              "      <td>0.506634</td>\n",
              "      <td>krishna men call aswattha banyan tree hath bou...</td>\n",
              "    </tr>\n",
              "    <tr>\n",
              "      <th>15</th>\n",
              "      <td>CHAPTER XVI</td>\n",
              "      <td>rishna fearlessness singleness of soul the wil...</td>\n",
              "      <td>676</td>\n",
              "      <td>0.046027</td>\n",
              "      <td>0.605052</td>\n",
              "      <td>rishna fearlessness singleness soul always str...</td>\n",
              "    </tr>\n",
              "    <tr>\n",
              "      <th>16</th>\n",
              "      <td>CHAPTER XVII</td>\n",
              "      <td>arjuna if men forsake the holy ordinance heedl...</td>\n",
              "      <td>641</td>\n",
              "      <td>0.170664</td>\n",
              "      <td>0.622867</td>\n",
              "      <td>arjuna men forsake holy ordinance heedless sha...</td>\n",
              "    </tr>\n",
              "    <tr>\n",
              "      <th>17</th>\n",
              "      <td>CHAPTER XVIII</td>\n",
              "      <td>arjuna fain would i better know thou glorious ...</td>\n",
              "      <td>2109</td>\n",
              "      <td>0.130688</td>\n",
              "      <td>0.550737</td>\n",
              "      <td>arjuna fain would better know thou glorious on...</td>\n",
              "    </tr>\n",
              "  </tbody>\n",
              "</table>\n",
              "</div>"
            ],
            "text/plain": [
              "          Chapter  ...                                            content\n",
              "0       CHAPTER I  ...  dhritirashtra ranged thus battle sacred plain ...\n",
              "1      CHAPTER II  ...  sanjaya filled compassion grief eyes tear dimm...\n",
              "2     CHAPTER III  ...  arjuna thou mortals praise janardana meditatio...\n",
              "3      CHAPTER IV  ...  krishna deathless yoga deep union taught vivas...\n",
              "4       CHAPTER V  ...  arjuna yet krishna one time thou dost laud sur...\n",
              "5      CHAPTER VI  ...  krishna therefore doeth work rightful seeking ...\n",
              "6     CHAPTER VII  ...  krishna learn dear prince thy soul set ever st...\n",
              "7    CHAPTER VIII  ...  arjuna brahma soul souls adhyatman thou best t...\n",
              "8      CHAPTER IX  ...  krishna open unto thee whose heart rejects las...\n",
              "9       CHAPTER X  ...  hear farther yet thou long armed lord latest w...\n",
              "10     CHAPTER XI  ...  arjuna soul peace heard thee unfolding mystery...\n",
              "11    CHAPTER XII  ...  arjuna lord men serve thee true heart god reve...\n",
              "12   CHAPTER XIII  ...  arjuna would hear gracious kesava fn life seem...\n",
              "13    CHAPTER XIV  ...  krishna yet farther open unto thee wisdom wisd...\n",
              "14     CHAPTER XV  ...  krishna men call aswattha banyan tree hath bou...\n",
              "15    CHAPTER XVI  ...  rishna fearlessness singleness soul always str...\n",
              "16   CHAPTER XVII  ...  arjuna men forsake holy ordinance heedless sha...\n",
              "17  CHAPTER XVIII  ...  arjuna fain would better know thou glorious on...\n",
              "\n",
              "[18 rows x 6 columns]"
            ]
          },
          "metadata": {
            "tags": []
          },
          "execution_count": 80
        }
      ]
    },
    {
      "cell_type": "code",
      "metadata": {
        "id": "d0qtcz4rKooP"
      },
      "source": [
        "df['tokenized'] = df.apply(lambda row: nltk.word_tokenize(row['content']), axis=1)"
      ],
      "execution_count": null,
      "outputs": []
    },
    {
      "cell_type": "code",
      "metadata": {
        "colab": {
          "base_uri": "https://localhost:8080/",
          "height": 587
        },
        "id": "_2L7uiYn8pE-",
        "outputId": "c159d7d5-dd7e-43c4-ecee-67884153ff12"
      },
      "source": [
        "df"
      ],
      "execution_count": null,
      "outputs": [
        {
          "output_type": "execute_result",
          "data": {
            "text/html": [
              "<div>\n",
              "<style scoped>\n",
              "    .dataframe tbody tr th:only-of-type {\n",
              "        vertical-align: middle;\n",
              "    }\n",
              "\n",
              "    .dataframe tbody tr th {\n",
              "        vertical-align: top;\n",
              "    }\n",
              "\n",
              "    .dataframe thead th {\n",
              "        text-align: right;\n",
              "    }\n",
              "</style>\n",
              "<table border=\"1\" class=\"dataframe\">\n",
              "  <thead>\n",
              "    <tr style=\"text-align: right;\">\n",
              "      <th></th>\n",
              "      <th>Chapter</th>\n",
              "      <th>Description</th>\n",
              "      <th>Word_Count</th>\n",
              "      <th>Polarity</th>\n",
              "      <th>Subjectivity</th>\n",
              "      <th>content</th>\n",
              "      <th>tokenized</th>\n",
              "    </tr>\n",
              "  </thead>\n",
              "  <tbody>\n",
              "    <tr>\n",
              "      <th>0</th>\n",
              "      <td>CHAPTER I</td>\n",
              "      <td>dhritirashtra ranged thus for battle on the sa...</td>\n",
              "      <td>1037</td>\n",
              "      <td>0.080852</td>\n",
              "      <td>0.593103</td>\n",
              "      <td>dhritirashtra ranged thus battle sacred plain ...</td>\n",
              "      <td>[dhritirashtra, ranged, thus, battle, sacred, ...</td>\n",
              "    </tr>\n",
              "    <tr>\n",
              "      <th>1</th>\n",
              "      <td>CHAPTER II</td>\n",
              "      <td>sanjaya him filled with such compassion and su...</td>\n",
              "      <td>2019</td>\n",
              "      <td>0.148465</td>\n",
              "      <td>0.555117</td>\n",
              "      <td>sanjaya filled compassion grief eyes tear dimm...</td>\n",
              "      <td>[sanjaya, filled, compassion, grief, eyes, tea...</td>\n",
              "    </tr>\n",
              "    <tr>\n",
              "      <th>2</th>\n",
              "      <td>CHAPTER III</td>\n",
              "      <td>arjuna thou whom all mortals praise janardana ...</td>\n",
              "      <td>1107</td>\n",
              "      <td>0.183326</td>\n",
              "      <td>0.575842</td>\n",
              "      <td>arjuna thou mortals praise janardana meditatio...</td>\n",
              "      <td>[arjuna, thou, mortals, praise, janardana, med...</td>\n",
              "    </tr>\n",
              "    <tr>\n",
              "      <th>3</th>\n",
              "      <td>CHAPTER IV</td>\n",
              "      <td>krishna this deathless yoga this deep union i ...</td>\n",
              "      <td>1190</td>\n",
              "      <td>0.127799</td>\n",
              "      <td>0.466798</td>\n",
              "      <td>krishna deathless yoga deep union taught vivas...</td>\n",
              "      <td>[krishna, deathless, yoga, deep, union, taught...</td>\n",
              "    </tr>\n",
              "    <tr>\n",
              "      <th>4</th>\n",
              "      <td>CHAPTER V</td>\n",
              "      <td>arjuna yet krishna at the one time thou dost l...</td>\n",
              "      <td>829</td>\n",
              "      <td>0.151562</td>\n",
              "      <td>0.518083</td>\n",
              "      <td>arjuna yet krishna one time thou dost laud sur...</td>\n",
              "      <td>[arjuna, yet, krishna, one, time, thou, dost, ...</td>\n",
              "    </tr>\n",
              "    <tr>\n",
              "      <th>5</th>\n",
              "      <td>CHAPTER VI</td>\n",
              "      <td>krishna therefore who doeth work rightful to d...</td>\n",
              "      <td>1204</td>\n",
              "      <td>0.186174</td>\n",
              "      <td>0.569743</td>\n",
              "      <td>krishna therefore doeth work rightful seeking ...</td>\n",
              "      <td>[krishna, therefore, doeth, work, rightful, se...</td>\n",
              "    </tr>\n",
              "    <tr>\n",
              "      <th>6</th>\n",
              "      <td>CHAPTER VII</td>\n",
              "      <td>krishna learn now dear prince how if thy soul ...</td>\n",
              "      <td>832</td>\n",
              "      <td>0.175584</td>\n",
              "      <td>0.545161</td>\n",
              "      <td>krishna learn dear prince thy soul set ever st...</td>\n",
              "      <td>[krishna, learn, dear, prince, thy, soul, set,...</td>\n",
              "    </tr>\n",
              "    <tr>\n",
              "      <th>7</th>\n",
              "      <td>CHAPTER VIII</td>\n",
              "      <td>arjuna who is that brahma what that soul of so...</td>\n",
              "      <td>727</td>\n",
              "      <td>0.237941</td>\n",
              "      <td>0.547478</td>\n",
              "      <td>arjuna brahma soul souls adhyatman thou best t...</td>\n",
              "      <td>[arjuna, brahma, soul, souls, adhyatman, thou,...</td>\n",
              "    </tr>\n",
              "    <tr>\n",
              "      <th>8</th>\n",
              "      <td>CHAPTER IX</td>\n",
              "      <td>krishna now will i open unto thee whose heart ...</td>\n",
              "      <td>1038</td>\n",
              "      <td>0.135154</td>\n",
              "      <td>0.559052</td>\n",
              "      <td>krishna open unto thee whose heart rejects las...</td>\n",
              "      <td>[krishna, open, unto, thee, whose, heart, reje...</td>\n",
              "    </tr>\n",
              "    <tr>\n",
              "      <th>9</th>\n",
              "      <td>CHAPTER X</td>\n",
              "      <td>hear farther yet thou long armed lord these la...</td>\n",
              "      <td>1104</td>\n",
              "      <td>0.254076</td>\n",
              "      <td>0.508346</td>\n",
              "      <td>hear farther yet thou long armed lord latest w...</td>\n",
              "      <td>[hear, farther, yet, thou, long, armed, lord, ...</td>\n",
              "    </tr>\n",
              "    <tr>\n",
              "      <th>10</th>\n",
              "      <td>CHAPTER XI</td>\n",
              "      <td>arjuna this for my soul s peace have i heard f...</td>\n",
              "      <td>2184</td>\n",
              "      <td>0.155817</td>\n",
              "      <td>0.584753</td>\n",
              "      <td>arjuna soul peace heard thee unfolding mystery...</td>\n",
              "      <td>[arjuna, soul, peace, heard, thee, unfolding, ...</td>\n",
              "    </tr>\n",
              "    <tr>\n",
              "      <th>11</th>\n",
              "      <td>CHAPTER XII</td>\n",
              "      <td>arjuna lord of the men who serve thee true in ...</td>\n",
              "      <td>537</td>\n",
              "      <td>0.186079</td>\n",
              "      <td>0.588723</td>\n",
              "      <td>arjuna lord men serve thee true heart god reve...</td>\n",
              "      <td>[arjuna, lord, men, serve, thee, true, heart, ...</td>\n",
              "    </tr>\n",
              "    <tr>\n",
              "      <th>12</th>\n",
              "      <td>CHAPTER XIII</td>\n",
              "      <td>arjuna now would i hear o gracious kesava fn o...</td>\n",
              "      <td>927</td>\n",
              "      <td>0.133605</td>\n",
              "      <td>0.605911</td>\n",
              "      <td>arjuna would hear gracious kesava fn life seem...</td>\n",
              "      <td>[arjuna, would, hear, gracious, kesava, fn, li...</td>\n",
              "    </tr>\n",
              "    <tr>\n",
              "      <th>13</th>\n",
              "      <td>CHAPTER XIV</td>\n",
              "      <td>krishna yet farther will i open unto thee this...</td>\n",
              "      <td>672</td>\n",
              "      <td>0.199434</td>\n",
              "      <td>0.498645</td>\n",
              "      <td>krishna yet farther open unto thee wisdom wisd...</td>\n",
              "      <td>[krishna, yet, farther, open, unto, thee, wisd...</td>\n",
              "    </tr>\n",
              "    <tr>\n",
              "      <th>14</th>\n",
              "      <td>CHAPTER XV</td>\n",
              "      <td>krishna men call the aswattha the banyan tree ...</td>\n",
              "      <td>647</td>\n",
              "      <td>0.064171</td>\n",
              "      <td>0.506634</td>\n",
              "      <td>krishna men call aswattha banyan tree hath bou...</td>\n",
              "      <td>[krishna, men, call, aswattha, banyan, tree, h...</td>\n",
              "    </tr>\n",
              "    <tr>\n",
              "      <th>15</th>\n",
              "      <td>CHAPTER XVI</td>\n",
              "      <td>rishna fearlessness singleness of soul the wil...</td>\n",
              "      <td>676</td>\n",
              "      <td>0.046027</td>\n",
              "      <td>0.605052</td>\n",
              "      <td>rishna fearlessness singleness soul always str...</td>\n",
              "      <td>[rishna, fearlessness, singleness, soul, alway...</td>\n",
              "    </tr>\n",
              "    <tr>\n",
              "      <th>16</th>\n",
              "      <td>CHAPTER XVII</td>\n",
              "      <td>arjuna if men forsake the holy ordinance heedl...</td>\n",
              "      <td>641</td>\n",
              "      <td>0.170664</td>\n",
              "      <td>0.622867</td>\n",
              "      <td>arjuna men forsake holy ordinance heedless sha...</td>\n",
              "      <td>[arjuna, men, forsake, holy, ordinance, heedle...</td>\n",
              "    </tr>\n",
              "    <tr>\n",
              "      <th>17</th>\n",
              "      <td>CHAPTER XVIII</td>\n",
              "      <td>arjuna fain would i better know thou glorious ...</td>\n",
              "      <td>2109</td>\n",
              "      <td>0.130688</td>\n",
              "      <td>0.550737</td>\n",
              "      <td>arjuna fain would better know thou glorious on...</td>\n",
              "      <td>[arjuna, fain, would, better, know, thou, glor...</td>\n",
              "    </tr>\n",
              "  </tbody>\n",
              "</table>\n",
              "</div>"
            ],
            "text/plain": [
              "          Chapter  ...                                          tokenized\n",
              "0       CHAPTER I  ...  [dhritirashtra, ranged, thus, battle, sacred, ...\n",
              "1      CHAPTER II  ...  [sanjaya, filled, compassion, grief, eyes, tea...\n",
              "2     CHAPTER III  ...  [arjuna, thou, mortals, praise, janardana, med...\n",
              "3      CHAPTER IV  ...  [krishna, deathless, yoga, deep, union, taught...\n",
              "4       CHAPTER V  ...  [arjuna, yet, krishna, one, time, thou, dost, ...\n",
              "5      CHAPTER VI  ...  [krishna, therefore, doeth, work, rightful, se...\n",
              "6     CHAPTER VII  ...  [krishna, learn, dear, prince, thy, soul, set,...\n",
              "7    CHAPTER VIII  ...  [arjuna, brahma, soul, souls, adhyatman, thou,...\n",
              "8      CHAPTER IX  ...  [krishna, open, unto, thee, whose, heart, reje...\n",
              "9       CHAPTER X  ...  [hear, farther, yet, thou, long, armed, lord, ...\n",
              "10     CHAPTER XI  ...  [arjuna, soul, peace, heard, thee, unfolding, ...\n",
              "11    CHAPTER XII  ...  [arjuna, lord, men, serve, thee, true, heart, ...\n",
              "12   CHAPTER XIII  ...  [arjuna, would, hear, gracious, kesava, fn, li...\n",
              "13    CHAPTER XIV  ...  [krishna, yet, farther, open, unto, thee, wisd...\n",
              "14     CHAPTER XV  ...  [krishna, men, call, aswattha, banyan, tree, h...\n",
              "15    CHAPTER XVI  ...  [rishna, fearlessness, singleness, soul, alway...\n",
              "16   CHAPTER XVII  ...  [arjuna, men, forsake, holy, ordinance, heedle...\n",
              "17  CHAPTER XVIII  ...  [arjuna, fain, would, better, know, thou, glor...\n",
              "\n",
              "[18 rows x 7 columns]"
            ]
          },
          "metadata": {
            "tags": []
          },
          "execution_count": 82
        }
      ]
    },
    {
      "cell_type": "code",
      "metadata": {
        "colab": {
          "base_uri": "https://localhost:8080/",
          "height": 587
        },
        "id": "8mGjZDA4Wr_l",
        "outputId": "e5714d1e-6fcc-4125-a1f0-8c80e9124fb0"
      },
      "source": [
        "df"
      ],
      "execution_count": null,
      "outputs": [
        {
          "output_type": "execute_result",
          "data": {
            "text/html": [
              "<div>\n",
              "<style scoped>\n",
              "    .dataframe tbody tr th:only-of-type {\n",
              "        vertical-align: middle;\n",
              "    }\n",
              "\n",
              "    .dataframe tbody tr th {\n",
              "        vertical-align: top;\n",
              "    }\n",
              "\n",
              "    .dataframe thead th {\n",
              "        text-align: right;\n",
              "    }\n",
              "</style>\n",
              "<table border=\"1\" class=\"dataframe\">\n",
              "  <thead>\n",
              "    <tr style=\"text-align: right;\">\n",
              "      <th></th>\n",
              "      <th>Chapter</th>\n",
              "      <th>Description</th>\n",
              "      <th>Word_Count</th>\n",
              "      <th>Polarity</th>\n",
              "      <th>Subjectivity</th>\n",
              "      <th>content</th>\n",
              "      <th>tokenized</th>\n",
              "    </tr>\n",
              "  </thead>\n",
              "  <tbody>\n",
              "    <tr>\n",
              "      <th>0</th>\n",
              "      <td>CHAPTER I</td>\n",
              "      <td>dhritirashtra ranged thus for battle on the sa...</td>\n",
              "      <td>1037</td>\n",
              "      <td>0.080852</td>\n",
              "      <td>0.593103</td>\n",
              "      <td>dhritirashtra ranged thus battle sacred plain ...</td>\n",
              "      <td>[dhritirashtra, ranged, thus, battle, sacred, ...</td>\n",
              "    </tr>\n",
              "    <tr>\n",
              "      <th>1</th>\n",
              "      <td>CHAPTER II</td>\n",
              "      <td>sanjaya him filled with such compassion and su...</td>\n",
              "      <td>2019</td>\n",
              "      <td>0.148465</td>\n",
              "      <td>0.555117</td>\n",
              "      <td>sanjaya filled compassion grief eyes tear dimm...</td>\n",
              "      <td>[sanjaya, filled, compassion, grief, eyes, tea...</td>\n",
              "    </tr>\n",
              "    <tr>\n",
              "      <th>2</th>\n",
              "      <td>CHAPTER III</td>\n",
              "      <td>arjuna thou whom all mortals praise janardana ...</td>\n",
              "      <td>1107</td>\n",
              "      <td>0.183326</td>\n",
              "      <td>0.575842</td>\n",
              "      <td>arjuna thou mortals praise janardana meditatio...</td>\n",
              "      <td>[arjuna, thou, mortals, praise, janardana, med...</td>\n",
              "    </tr>\n",
              "    <tr>\n",
              "      <th>3</th>\n",
              "      <td>CHAPTER IV</td>\n",
              "      <td>krishna this deathless yoga this deep union i ...</td>\n",
              "      <td>1190</td>\n",
              "      <td>0.127799</td>\n",
              "      <td>0.466798</td>\n",
              "      <td>krishna deathless yoga deep union taught vivas...</td>\n",
              "      <td>[krishna, deathless, yoga, deep, union, taught...</td>\n",
              "    </tr>\n",
              "    <tr>\n",
              "      <th>4</th>\n",
              "      <td>CHAPTER V</td>\n",
              "      <td>arjuna yet krishna at the one time thou dost l...</td>\n",
              "      <td>829</td>\n",
              "      <td>0.151562</td>\n",
              "      <td>0.518083</td>\n",
              "      <td>arjuna yet krishna one time thou dost laud sur...</td>\n",
              "      <td>[arjuna, yet, krishna, one, time, thou, dost, ...</td>\n",
              "    </tr>\n",
              "    <tr>\n",
              "      <th>5</th>\n",
              "      <td>CHAPTER VI</td>\n",
              "      <td>krishna therefore who doeth work rightful to d...</td>\n",
              "      <td>1204</td>\n",
              "      <td>0.186174</td>\n",
              "      <td>0.569743</td>\n",
              "      <td>krishna therefore doeth work rightful seeking ...</td>\n",
              "      <td>[krishna, therefore, doeth, work, rightful, se...</td>\n",
              "    </tr>\n",
              "    <tr>\n",
              "      <th>6</th>\n",
              "      <td>CHAPTER VII</td>\n",
              "      <td>krishna learn now dear prince how if thy soul ...</td>\n",
              "      <td>832</td>\n",
              "      <td>0.175584</td>\n",
              "      <td>0.545161</td>\n",
              "      <td>krishna learn dear prince thy soul set ever st...</td>\n",
              "      <td>[krishna, learn, dear, prince, thy, soul, set,...</td>\n",
              "    </tr>\n",
              "    <tr>\n",
              "      <th>7</th>\n",
              "      <td>CHAPTER VIII</td>\n",
              "      <td>arjuna who is that brahma what that soul of so...</td>\n",
              "      <td>727</td>\n",
              "      <td>0.237941</td>\n",
              "      <td>0.547478</td>\n",
              "      <td>arjuna brahma soul souls adhyatman thou best t...</td>\n",
              "      <td>[arjuna, brahma, soul, souls, adhyatman, thou,...</td>\n",
              "    </tr>\n",
              "    <tr>\n",
              "      <th>8</th>\n",
              "      <td>CHAPTER IX</td>\n",
              "      <td>krishna now will i open unto thee whose heart ...</td>\n",
              "      <td>1038</td>\n",
              "      <td>0.135154</td>\n",
              "      <td>0.559052</td>\n",
              "      <td>krishna open unto thee whose heart rejects las...</td>\n",
              "      <td>[krishna, open, unto, thee, whose, heart, reje...</td>\n",
              "    </tr>\n",
              "    <tr>\n",
              "      <th>9</th>\n",
              "      <td>CHAPTER X</td>\n",
              "      <td>hear farther yet thou long armed lord these la...</td>\n",
              "      <td>1104</td>\n",
              "      <td>0.254076</td>\n",
              "      <td>0.508346</td>\n",
              "      <td>hear farther yet thou long armed lord latest w...</td>\n",
              "      <td>[hear, farther, yet, thou, long, armed, lord, ...</td>\n",
              "    </tr>\n",
              "    <tr>\n",
              "      <th>10</th>\n",
              "      <td>CHAPTER XI</td>\n",
              "      <td>arjuna this for my soul s peace have i heard f...</td>\n",
              "      <td>2184</td>\n",
              "      <td>0.155817</td>\n",
              "      <td>0.584753</td>\n",
              "      <td>arjuna soul peace heard thee unfolding mystery...</td>\n",
              "      <td>[arjuna, soul, peace, heard, thee, unfolding, ...</td>\n",
              "    </tr>\n",
              "    <tr>\n",
              "      <th>11</th>\n",
              "      <td>CHAPTER XII</td>\n",
              "      <td>arjuna lord of the men who serve thee true in ...</td>\n",
              "      <td>537</td>\n",
              "      <td>0.186079</td>\n",
              "      <td>0.588723</td>\n",
              "      <td>arjuna lord men serve thee true heart god reve...</td>\n",
              "      <td>[arjuna, lord, men, serve, thee, true, heart, ...</td>\n",
              "    </tr>\n",
              "    <tr>\n",
              "      <th>12</th>\n",
              "      <td>CHAPTER XIII</td>\n",
              "      <td>arjuna now would i hear o gracious kesava fn o...</td>\n",
              "      <td>927</td>\n",
              "      <td>0.133605</td>\n",
              "      <td>0.605911</td>\n",
              "      <td>arjuna would hear gracious kesava fn life seem...</td>\n",
              "      <td>[arjuna, would, hear, gracious, kesava, fn, li...</td>\n",
              "    </tr>\n",
              "    <tr>\n",
              "      <th>13</th>\n",
              "      <td>CHAPTER XIV</td>\n",
              "      <td>krishna yet farther will i open unto thee this...</td>\n",
              "      <td>672</td>\n",
              "      <td>0.199434</td>\n",
              "      <td>0.498645</td>\n",
              "      <td>krishna yet farther open unto thee wisdom wisd...</td>\n",
              "      <td>[krishna, yet, farther, open, unto, thee, wisd...</td>\n",
              "    </tr>\n",
              "    <tr>\n",
              "      <th>14</th>\n",
              "      <td>CHAPTER XV</td>\n",
              "      <td>krishna men call the aswattha the banyan tree ...</td>\n",
              "      <td>647</td>\n",
              "      <td>0.064171</td>\n",
              "      <td>0.506634</td>\n",
              "      <td>krishna men call aswattha banyan tree hath bou...</td>\n",
              "      <td>[krishna, men, call, aswattha, banyan, tree, h...</td>\n",
              "    </tr>\n",
              "    <tr>\n",
              "      <th>15</th>\n",
              "      <td>CHAPTER XVI</td>\n",
              "      <td>rishna fearlessness singleness of soul the wil...</td>\n",
              "      <td>676</td>\n",
              "      <td>0.046027</td>\n",
              "      <td>0.605052</td>\n",
              "      <td>rishna fearlessness singleness soul always str...</td>\n",
              "      <td>[rishna, fearlessness, singleness, soul, alway...</td>\n",
              "    </tr>\n",
              "    <tr>\n",
              "      <th>16</th>\n",
              "      <td>CHAPTER XVII</td>\n",
              "      <td>arjuna if men forsake the holy ordinance heedl...</td>\n",
              "      <td>641</td>\n",
              "      <td>0.170664</td>\n",
              "      <td>0.622867</td>\n",
              "      <td>arjuna men forsake holy ordinance heedless sha...</td>\n",
              "      <td>[arjuna, men, forsake, holy, ordinance, heedle...</td>\n",
              "    </tr>\n",
              "    <tr>\n",
              "      <th>17</th>\n",
              "      <td>CHAPTER XVIII</td>\n",
              "      <td>arjuna fain would i better know thou glorious ...</td>\n",
              "      <td>2109</td>\n",
              "      <td>0.130688</td>\n",
              "      <td>0.550737</td>\n",
              "      <td>arjuna fain would better know thou glorious on...</td>\n",
              "      <td>[arjuna, fain, would, better, know, thou, glor...</td>\n",
              "    </tr>\n",
              "  </tbody>\n",
              "</table>\n",
              "</div>"
            ],
            "text/plain": [
              "          Chapter  ...                                          tokenized\n",
              "0       CHAPTER I  ...  [dhritirashtra, ranged, thus, battle, sacred, ...\n",
              "1      CHAPTER II  ...  [sanjaya, filled, compassion, grief, eyes, tea...\n",
              "2     CHAPTER III  ...  [arjuna, thou, mortals, praise, janardana, med...\n",
              "3      CHAPTER IV  ...  [krishna, deathless, yoga, deep, union, taught...\n",
              "4       CHAPTER V  ...  [arjuna, yet, krishna, one, time, thou, dost, ...\n",
              "5      CHAPTER VI  ...  [krishna, therefore, doeth, work, rightful, se...\n",
              "6     CHAPTER VII  ...  [krishna, learn, dear, prince, thy, soul, set,...\n",
              "7    CHAPTER VIII  ...  [arjuna, brahma, soul, souls, adhyatman, thou,...\n",
              "8      CHAPTER IX  ...  [krishna, open, unto, thee, whose, heart, reje...\n",
              "9       CHAPTER X  ...  [hear, farther, yet, thou, long, armed, lord, ...\n",
              "10     CHAPTER XI  ...  [arjuna, soul, peace, heard, thee, unfolding, ...\n",
              "11    CHAPTER XII  ...  [arjuna, lord, men, serve, thee, true, heart, ...\n",
              "12   CHAPTER XIII  ...  [arjuna, would, hear, gracious, kesava, fn, li...\n",
              "13    CHAPTER XIV  ...  [krishna, yet, farther, open, unto, thee, wisd...\n",
              "14     CHAPTER XV  ...  [krishna, men, call, aswattha, banyan, tree, h...\n",
              "15    CHAPTER XVI  ...  [rishna, fearlessness, singleness, soul, alway...\n",
              "16   CHAPTER XVII  ...  [arjuna, men, forsake, holy, ordinance, heedle...\n",
              "17  CHAPTER XVIII  ...  [arjuna, fain, would, better, know, thou, glor...\n",
              "\n",
              "[18 rows x 7 columns]"
            ]
          },
          "metadata": {
            "tags": []
          },
          "execution_count": 84
        }
      ]
    },
    {
      "cell_type": "code",
      "metadata": {
        "id": "Za8jXo2jW2nL"
      },
      "source": [
        "from nltk.stem import WordNetLemmatizer\n",
        "wordnet_lemmatizer = WordNetLemmatizer()\n",
        "\n",
        "def convert(text):\n",
        "    lemmatized_text = []\n",
        "    for i in text:\n",
        "        lemmatized_text.append(str(wordnet_lemmatizer.lemmatize(i)))\n",
        "\n",
        "    return ' '.join(lemmatized_text)\n",
        "\n",
        "df['Lemmatized'] = df['tokenized'].apply(lambda x: convert(x))"
      ],
      "execution_count": null,
      "outputs": []
    },
    {
      "cell_type": "code",
      "metadata": {
        "colab": {
          "base_uri": "https://localhost:8080/",
          "height": 787
        },
        "id": "9gHjPYdrW9QS",
        "outputId": "2d553e28-f555-4813-b8ab-27b0cf0e41ce"
      },
      "source": [
        "df"
      ],
      "execution_count": null,
      "outputs": [
        {
          "output_type": "execute_result",
          "data": {
            "text/html": [
              "<div>\n",
              "<style scoped>\n",
              "    .dataframe tbody tr th:only-of-type {\n",
              "        vertical-align: middle;\n",
              "    }\n",
              "\n",
              "    .dataframe tbody tr th {\n",
              "        vertical-align: top;\n",
              "    }\n",
              "\n",
              "    .dataframe thead th {\n",
              "        text-align: right;\n",
              "    }\n",
              "</style>\n",
              "<table border=\"1\" class=\"dataframe\">\n",
              "  <thead>\n",
              "    <tr style=\"text-align: right;\">\n",
              "      <th></th>\n",
              "      <th>Chapter</th>\n",
              "      <th>Description</th>\n",
              "      <th>Word_Count</th>\n",
              "      <th>Polarity</th>\n",
              "      <th>Subjectivity</th>\n",
              "      <th>content</th>\n",
              "      <th>tokenized</th>\n",
              "      <th>Lemmatized</th>\n",
              "    </tr>\n",
              "  </thead>\n",
              "  <tbody>\n",
              "    <tr>\n",
              "      <th>0</th>\n",
              "      <td>CHAPTER I</td>\n",
              "      <td>dhritirashtra ranged thus for battle on the sa...</td>\n",
              "      <td>1037</td>\n",
              "      <td>0.080852</td>\n",
              "      <td>0.593103</td>\n",
              "      <td>dhritirashtra ranged thus battle sacred plain ...</td>\n",
              "      <td>[dhritirashtra, ranged, thus, battle, sacred, ...</td>\n",
              "      <td>dhritirashtra ranged thus battle sacred plain ...</td>\n",
              "    </tr>\n",
              "    <tr>\n",
              "      <th>1</th>\n",
              "      <td>CHAPTER II</td>\n",
              "      <td>sanjaya him filled with such compassion and su...</td>\n",
              "      <td>2019</td>\n",
              "      <td>0.148465</td>\n",
              "      <td>0.555117</td>\n",
              "      <td>sanjaya filled compassion grief eyes tear dimm...</td>\n",
              "      <td>[sanjaya, filled, compassion, grief, eyes, tea...</td>\n",
              "      <td>sanjaya filled compassion grief eye tear dimme...</td>\n",
              "    </tr>\n",
              "    <tr>\n",
              "      <th>2</th>\n",
              "      <td>CHAPTER III</td>\n",
              "      <td>arjuna thou whom all mortals praise janardana ...</td>\n",
              "      <td>1107</td>\n",
              "      <td>0.183326</td>\n",
              "      <td>0.575842</td>\n",
              "      <td>arjuna thou mortals praise janardana meditatio...</td>\n",
              "      <td>[arjuna, thou, mortals, praise, janardana, med...</td>\n",
              "      <td>arjuna thou mortal praise janardana meditation...</td>\n",
              "    </tr>\n",
              "    <tr>\n",
              "      <th>3</th>\n",
              "      <td>CHAPTER IV</td>\n",
              "      <td>krishna this deathless yoga this deep union i ...</td>\n",
              "      <td>1190</td>\n",
              "      <td>0.127799</td>\n",
              "      <td>0.466798</td>\n",
              "      <td>krishna deathless yoga deep union taught vivas...</td>\n",
              "      <td>[krishna, deathless, yoga, deep, union, taught...</td>\n",
              "      <td>krishna deathless yoga deep union taught vivas...</td>\n",
              "    </tr>\n",
              "    <tr>\n",
              "      <th>4</th>\n",
              "      <td>CHAPTER V</td>\n",
              "      <td>arjuna yet krishna at the one time thou dost l...</td>\n",
              "      <td>829</td>\n",
              "      <td>0.151562</td>\n",
              "      <td>0.518083</td>\n",
              "      <td>arjuna yet krishna one time thou dost laud sur...</td>\n",
              "      <td>[arjuna, yet, krishna, one, time, thou, dost, ...</td>\n",
              "      <td>arjuna yet krishna one time thou dost laud sur...</td>\n",
              "    </tr>\n",
              "    <tr>\n",
              "      <th>5</th>\n",
              "      <td>CHAPTER VI</td>\n",
              "      <td>krishna therefore who doeth work rightful to d...</td>\n",
              "      <td>1204</td>\n",
              "      <td>0.186174</td>\n",
              "      <td>0.569743</td>\n",
              "      <td>krishna therefore doeth work rightful seeking ...</td>\n",
              "      <td>[krishna, therefore, doeth, work, rightful, se...</td>\n",
              "      <td>krishna therefore doeth work rightful seeking ...</td>\n",
              "    </tr>\n",
              "    <tr>\n",
              "      <th>6</th>\n",
              "      <td>CHAPTER VII</td>\n",
              "      <td>krishna learn now dear prince how if thy soul ...</td>\n",
              "      <td>832</td>\n",
              "      <td>0.175584</td>\n",
              "      <td>0.545161</td>\n",
              "      <td>krishna learn dear prince thy soul set ever st...</td>\n",
              "      <td>[krishna, learn, dear, prince, thy, soul, set,...</td>\n",
              "      <td>krishna learn dear prince thy soul set ever st...</td>\n",
              "    </tr>\n",
              "    <tr>\n",
              "      <th>7</th>\n",
              "      <td>CHAPTER VIII</td>\n",
              "      <td>arjuna who is that brahma what that soul of so...</td>\n",
              "      <td>727</td>\n",
              "      <td>0.237941</td>\n",
              "      <td>0.547478</td>\n",
              "      <td>arjuna brahma soul souls adhyatman thou best t...</td>\n",
              "      <td>[arjuna, brahma, soul, souls, adhyatman, thou,...</td>\n",
              "      <td>arjuna brahma soul soul adhyatman thou best th...</td>\n",
              "    </tr>\n",
              "    <tr>\n",
              "      <th>8</th>\n",
              "      <td>CHAPTER IX</td>\n",
              "      <td>krishna now will i open unto thee whose heart ...</td>\n",
              "      <td>1038</td>\n",
              "      <td>0.135154</td>\n",
              "      <td>0.559052</td>\n",
              "      <td>krishna open unto thee whose heart rejects las...</td>\n",
              "      <td>[krishna, open, unto, thee, whose, heart, reje...</td>\n",
              "      <td>krishna open unto thee whose heart reject last...</td>\n",
              "    </tr>\n",
              "    <tr>\n",
              "      <th>9</th>\n",
              "      <td>CHAPTER X</td>\n",
              "      <td>hear farther yet thou long armed lord these la...</td>\n",
              "      <td>1104</td>\n",
              "      <td>0.254076</td>\n",
              "      <td>0.508346</td>\n",
              "      <td>hear farther yet thou long armed lord latest w...</td>\n",
              "      <td>[hear, farther, yet, thou, long, armed, lord, ...</td>\n",
              "      <td>hear farther yet thou long armed lord latest w...</td>\n",
              "    </tr>\n",
              "    <tr>\n",
              "      <th>10</th>\n",
              "      <td>CHAPTER XI</td>\n",
              "      <td>arjuna this for my soul s peace have i heard f...</td>\n",
              "      <td>2184</td>\n",
              "      <td>0.155817</td>\n",
              "      <td>0.584753</td>\n",
              "      <td>arjuna soul peace heard thee unfolding mystery...</td>\n",
              "      <td>[arjuna, soul, peace, heard, thee, unfolding, ...</td>\n",
              "      <td>arjuna soul peace heard thee unfolding mystery...</td>\n",
              "    </tr>\n",
              "    <tr>\n",
              "      <th>11</th>\n",
              "      <td>CHAPTER XII</td>\n",
              "      <td>arjuna lord of the men who serve thee true in ...</td>\n",
              "      <td>537</td>\n",
              "      <td>0.186079</td>\n",
              "      <td>0.588723</td>\n",
              "      <td>arjuna lord men serve thee true heart god reve...</td>\n",
              "      <td>[arjuna, lord, men, serve, thee, true, heart, ...</td>\n",
              "      <td>arjuna lord men serve thee true heart god reve...</td>\n",
              "    </tr>\n",
              "    <tr>\n",
              "      <th>12</th>\n",
              "      <td>CHAPTER XIII</td>\n",
              "      <td>arjuna now would i hear o gracious kesava fn o...</td>\n",
              "      <td>927</td>\n",
              "      <td>0.133605</td>\n",
              "      <td>0.605911</td>\n",
              "      <td>arjuna would hear gracious kesava fn life seem...</td>\n",
              "      <td>[arjuna, would, hear, gracious, kesava, fn, li...</td>\n",
              "      <td>arjuna would hear gracious kesava fn life seem...</td>\n",
              "    </tr>\n",
              "    <tr>\n",
              "      <th>13</th>\n",
              "      <td>CHAPTER XIV</td>\n",
              "      <td>krishna yet farther will i open unto thee this...</td>\n",
              "      <td>672</td>\n",
              "      <td>0.199434</td>\n",
              "      <td>0.498645</td>\n",
              "      <td>krishna yet farther open unto thee wisdom wisd...</td>\n",
              "      <td>[krishna, yet, farther, open, unto, thee, wisd...</td>\n",
              "      <td>krishna yet farther open unto thee wisdom wisd...</td>\n",
              "    </tr>\n",
              "    <tr>\n",
              "      <th>14</th>\n",
              "      <td>CHAPTER XV</td>\n",
              "      <td>krishna men call the aswattha the banyan tree ...</td>\n",
              "      <td>647</td>\n",
              "      <td>0.064171</td>\n",
              "      <td>0.506634</td>\n",
              "      <td>krishna men call aswattha banyan tree hath bou...</td>\n",
              "      <td>[krishna, men, call, aswattha, banyan, tree, h...</td>\n",
              "      <td>krishna men call aswattha banyan tree hath bou...</td>\n",
              "    </tr>\n",
              "    <tr>\n",
              "      <th>15</th>\n",
              "      <td>CHAPTER XVI</td>\n",
              "      <td>rishna fearlessness singleness of soul the wil...</td>\n",
              "      <td>676</td>\n",
              "      <td>0.046027</td>\n",
              "      <td>0.605052</td>\n",
              "      <td>rishna fearlessness singleness soul always str...</td>\n",
              "      <td>[rishna, fearlessness, singleness, soul, alway...</td>\n",
              "      <td>rishna fearlessness singleness soul always str...</td>\n",
              "    </tr>\n",
              "    <tr>\n",
              "      <th>16</th>\n",
              "      <td>CHAPTER XVII</td>\n",
              "      <td>arjuna if men forsake the holy ordinance heedl...</td>\n",
              "      <td>641</td>\n",
              "      <td>0.170664</td>\n",
              "      <td>0.622867</td>\n",
              "      <td>arjuna men forsake holy ordinance heedless sha...</td>\n",
              "      <td>[arjuna, men, forsake, holy, ordinance, heedle...</td>\n",
              "      <td>arjuna men forsake holy ordinance heedless sha...</td>\n",
              "    </tr>\n",
              "    <tr>\n",
              "      <th>17</th>\n",
              "      <td>CHAPTER XVIII</td>\n",
              "      <td>arjuna fain would i better know thou glorious ...</td>\n",
              "      <td>2109</td>\n",
              "      <td>0.130688</td>\n",
              "      <td>0.550737</td>\n",
              "      <td>arjuna fain would better know thou glorious on...</td>\n",
              "      <td>[arjuna, fain, would, better, know, thou, glor...</td>\n",
              "      <td>arjuna fain would better know thou glorious on...</td>\n",
              "    </tr>\n",
              "  </tbody>\n",
              "</table>\n",
              "</div>"
            ],
            "text/plain": [
              "          Chapter  ...                                         Lemmatized\n",
              "0       CHAPTER I  ...  dhritirashtra ranged thus battle sacred plain ...\n",
              "1      CHAPTER II  ...  sanjaya filled compassion grief eye tear dimme...\n",
              "2     CHAPTER III  ...  arjuna thou mortal praise janardana meditation...\n",
              "3      CHAPTER IV  ...  krishna deathless yoga deep union taught vivas...\n",
              "4       CHAPTER V  ...  arjuna yet krishna one time thou dost laud sur...\n",
              "5      CHAPTER VI  ...  krishna therefore doeth work rightful seeking ...\n",
              "6     CHAPTER VII  ...  krishna learn dear prince thy soul set ever st...\n",
              "7    CHAPTER VIII  ...  arjuna brahma soul soul adhyatman thou best th...\n",
              "8      CHAPTER IX  ...  krishna open unto thee whose heart reject last...\n",
              "9       CHAPTER X  ...  hear farther yet thou long armed lord latest w...\n",
              "10     CHAPTER XI  ...  arjuna soul peace heard thee unfolding mystery...\n",
              "11    CHAPTER XII  ...  arjuna lord men serve thee true heart god reve...\n",
              "12   CHAPTER XIII  ...  arjuna would hear gracious kesava fn life seem...\n",
              "13    CHAPTER XIV  ...  krishna yet farther open unto thee wisdom wisd...\n",
              "14     CHAPTER XV  ...  krishna men call aswattha banyan tree hath bou...\n",
              "15    CHAPTER XVI  ...  rishna fearlessness singleness soul always str...\n",
              "16   CHAPTER XVII  ...  arjuna men forsake holy ordinance heedless sha...\n",
              "17  CHAPTER XVIII  ...  arjuna fain would better know thou glorious on...\n",
              "\n",
              "[18 rows x 8 columns]"
            ]
          },
          "metadata": {
            "tags": []
          },
          "execution_count": 86
        }
      ]
    },
    {
      "cell_type": "code",
      "metadata": {
        "id": "ln2HfvHHX7OL"
      },
      "source": [
        "df['tokenized_lemma'] = df.apply(lambda row: nltk.word_tokenize(row['Lemmatized']), axis=1)"
      ],
      "execution_count": null,
      "outputs": []
    },
    {
      "cell_type": "code",
      "metadata": {
        "colab": {
          "base_uri": "https://localhost:8080/",
          "height": 887
        },
        "id": "b9acCBa9bMgE",
        "outputId": "368be09f-917a-4c03-dad8-fb4a240aba33"
      },
      "source": [
        "df"
      ],
      "execution_count": null,
      "outputs": [
        {
          "output_type": "execute_result",
          "data": {
            "text/html": [
              "<div>\n",
              "<style scoped>\n",
              "    .dataframe tbody tr th:only-of-type {\n",
              "        vertical-align: middle;\n",
              "    }\n",
              "\n",
              "    .dataframe tbody tr th {\n",
              "        vertical-align: top;\n",
              "    }\n",
              "\n",
              "    .dataframe thead th {\n",
              "        text-align: right;\n",
              "    }\n",
              "</style>\n",
              "<table border=\"1\" class=\"dataframe\">\n",
              "  <thead>\n",
              "    <tr style=\"text-align: right;\">\n",
              "      <th></th>\n",
              "      <th>Chapter</th>\n",
              "      <th>Description</th>\n",
              "      <th>Word_Count</th>\n",
              "      <th>Polarity</th>\n",
              "      <th>Subjectivity</th>\n",
              "      <th>content</th>\n",
              "      <th>tokenized</th>\n",
              "      <th>Lemmatized</th>\n",
              "      <th>tokenized_lemma</th>\n",
              "    </tr>\n",
              "  </thead>\n",
              "  <tbody>\n",
              "    <tr>\n",
              "      <th>0</th>\n",
              "      <td>CHAPTER I</td>\n",
              "      <td>dhritirashtra ranged thus for battle on the sa...</td>\n",
              "      <td>1037</td>\n",
              "      <td>0.080852</td>\n",
              "      <td>0.593103</td>\n",
              "      <td>dhritirashtra ranged thus battle sacred plain ...</td>\n",
              "      <td>[dhritirashtra, ranged, thus, battle, sacred, ...</td>\n",
              "      <td>dhritirashtra ranged thus battle sacred plain ...</td>\n",
              "      <td>[dhritirashtra, ranged, thus, battle, sacred, ...</td>\n",
              "    </tr>\n",
              "    <tr>\n",
              "      <th>1</th>\n",
              "      <td>CHAPTER II</td>\n",
              "      <td>sanjaya him filled with such compassion and su...</td>\n",
              "      <td>2019</td>\n",
              "      <td>0.148465</td>\n",
              "      <td>0.555117</td>\n",
              "      <td>sanjaya filled compassion grief eyes tear dimm...</td>\n",
              "      <td>[sanjaya, filled, compassion, grief, eyes, tea...</td>\n",
              "      <td>sanjaya filled compassion grief eye tear dimme...</td>\n",
              "      <td>[sanjaya, filled, compassion, grief, eye, tear...</td>\n",
              "    </tr>\n",
              "    <tr>\n",
              "      <th>2</th>\n",
              "      <td>CHAPTER III</td>\n",
              "      <td>arjuna thou whom all mortals praise janardana ...</td>\n",
              "      <td>1107</td>\n",
              "      <td>0.183326</td>\n",
              "      <td>0.575842</td>\n",
              "      <td>arjuna thou mortals praise janardana meditatio...</td>\n",
              "      <td>[arjuna, thou, mortals, praise, janardana, med...</td>\n",
              "      <td>arjuna thou mortal praise janardana meditation...</td>\n",
              "      <td>[arjuna, thou, mortal, praise, janardana, medi...</td>\n",
              "    </tr>\n",
              "    <tr>\n",
              "      <th>3</th>\n",
              "      <td>CHAPTER IV</td>\n",
              "      <td>krishna this deathless yoga this deep union i ...</td>\n",
              "      <td>1190</td>\n",
              "      <td>0.127799</td>\n",
              "      <td>0.466798</td>\n",
              "      <td>krishna deathless yoga deep union taught vivas...</td>\n",
              "      <td>[krishna, deathless, yoga, deep, union, taught...</td>\n",
              "      <td>krishna deathless yoga deep union taught vivas...</td>\n",
              "      <td>[krishna, deathless, yoga, deep, union, taught...</td>\n",
              "    </tr>\n",
              "    <tr>\n",
              "      <th>4</th>\n",
              "      <td>CHAPTER V</td>\n",
              "      <td>arjuna yet krishna at the one time thou dost l...</td>\n",
              "      <td>829</td>\n",
              "      <td>0.151562</td>\n",
              "      <td>0.518083</td>\n",
              "      <td>arjuna yet krishna one time thou dost laud sur...</td>\n",
              "      <td>[arjuna, yet, krishna, one, time, thou, dost, ...</td>\n",
              "      <td>arjuna yet krishna one time thou dost laud sur...</td>\n",
              "      <td>[arjuna, yet, krishna, one, time, thou, dost, ...</td>\n",
              "    </tr>\n",
              "    <tr>\n",
              "      <th>5</th>\n",
              "      <td>CHAPTER VI</td>\n",
              "      <td>krishna therefore who doeth work rightful to d...</td>\n",
              "      <td>1204</td>\n",
              "      <td>0.186174</td>\n",
              "      <td>0.569743</td>\n",
              "      <td>krishna therefore doeth work rightful seeking ...</td>\n",
              "      <td>[krishna, therefore, doeth, work, rightful, se...</td>\n",
              "      <td>krishna therefore doeth work rightful seeking ...</td>\n",
              "      <td>[krishna, therefore, doeth, work, rightful, se...</td>\n",
              "    </tr>\n",
              "    <tr>\n",
              "      <th>6</th>\n",
              "      <td>CHAPTER VII</td>\n",
              "      <td>krishna learn now dear prince how if thy soul ...</td>\n",
              "      <td>832</td>\n",
              "      <td>0.175584</td>\n",
              "      <td>0.545161</td>\n",
              "      <td>krishna learn dear prince thy soul set ever st...</td>\n",
              "      <td>[krishna, learn, dear, prince, thy, soul, set,...</td>\n",
              "      <td>krishna learn dear prince thy soul set ever st...</td>\n",
              "      <td>[krishna, learn, dear, prince, thy, soul, set,...</td>\n",
              "    </tr>\n",
              "    <tr>\n",
              "      <th>7</th>\n",
              "      <td>CHAPTER VIII</td>\n",
              "      <td>arjuna who is that brahma what that soul of so...</td>\n",
              "      <td>727</td>\n",
              "      <td>0.237941</td>\n",
              "      <td>0.547478</td>\n",
              "      <td>arjuna brahma soul souls adhyatman thou best t...</td>\n",
              "      <td>[arjuna, brahma, soul, souls, adhyatman, thou,...</td>\n",
              "      <td>arjuna brahma soul soul adhyatman thou best th...</td>\n",
              "      <td>[arjuna, brahma, soul, soul, adhyatman, thou, ...</td>\n",
              "    </tr>\n",
              "    <tr>\n",
              "      <th>8</th>\n",
              "      <td>CHAPTER IX</td>\n",
              "      <td>krishna now will i open unto thee whose heart ...</td>\n",
              "      <td>1038</td>\n",
              "      <td>0.135154</td>\n",
              "      <td>0.559052</td>\n",
              "      <td>krishna open unto thee whose heart rejects las...</td>\n",
              "      <td>[krishna, open, unto, thee, whose, heart, reje...</td>\n",
              "      <td>krishna open unto thee whose heart reject last...</td>\n",
              "      <td>[krishna, open, unto, thee, whose, heart, reje...</td>\n",
              "    </tr>\n",
              "    <tr>\n",
              "      <th>9</th>\n",
              "      <td>CHAPTER X</td>\n",
              "      <td>hear farther yet thou long armed lord these la...</td>\n",
              "      <td>1104</td>\n",
              "      <td>0.254076</td>\n",
              "      <td>0.508346</td>\n",
              "      <td>hear farther yet thou long armed lord latest w...</td>\n",
              "      <td>[hear, farther, yet, thou, long, armed, lord, ...</td>\n",
              "      <td>hear farther yet thou long armed lord latest w...</td>\n",
              "      <td>[hear, farther, yet, thou, long, armed, lord, ...</td>\n",
              "    </tr>\n",
              "    <tr>\n",
              "      <th>10</th>\n",
              "      <td>CHAPTER XI</td>\n",
              "      <td>arjuna this for my soul s peace have i heard f...</td>\n",
              "      <td>2184</td>\n",
              "      <td>0.155817</td>\n",
              "      <td>0.584753</td>\n",
              "      <td>arjuna soul peace heard thee unfolding mystery...</td>\n",
              "      <td>[arjuna, soul, peace, heard, thee, unfolding, ...</td>\n",
              "      <td>arjuna soul peace heard thee unfolding mystery...</td>\n",
              "      <td>[arjuna, soul, peace, heard, thee, unfolding, ...</td>\n",
              "    </tr>\n",
              "    <tr>\n",
              "      <th>11</th>\n",
              "      <td>CHAPTER XII</td>\n",
              "      <td>arjuna lord of the men who serve thee true in ...</td>\n",
              "      <td>537</td>\n",
              "      <td>0.186079</td>\n",
              "      <td>0.588723</td>\n",
              "      <td>arjuna lord men serve thee true heart god reve...</td>\n",
              "      <td>[arjuna, lord, men, serve, thee, true, heart, ...</td>\n",
              "      <td>arjuna lord men serve thee true heart god reve...</td>\n",
              "      <td>[arjuna, lord, men, serve, thee, true, heart, ...</td>\n",
              "    </tr>\n",
              "    <tr>\n",
              "      <th>12</th>\n",
              "      <td>CHAPTER XIII</td>\n",
              "      <td>arjuna now would i hear o gracious kesava fn o...</td>\n",
              "      <td>927</td>\n",
              "      <td>0.133605</td>\n",
              "      <td>0.605911</td>\n",
              "      <td>arjuna would hear gracious kesava fn life seem...</td>\n",
              "      <td>[arjuna, would, hear, gracious, kesava, fn, li...</td>\n",
              "      <td>arjuna would hear gracious kesava fn life seem...</td>\n",
              "      <td>[arjuna, would, hear, gracious, kesava, fn, li...</td>\n",
              "    </tr>\n",
              "    <tr>\n",
              "      <th>13</th>\n",
              "      <td>CHAPTER XIV</td>\n",
              "      <td>krishna yet farther will i open unto thee this...</td>\n",
              "      <td>672</td>\n",
              "      <td>0.199434</td>\n",
              "      <td>0.498645</td>\n",
              "      <td>krishna yet farther open unto thee wisdom wisd...</td>\n",
              "      <td>[krishna, yet, farther, open, unto, thee, wisd...</td>\n",
              "      <td>krishna yet farther open unto thee wisdom wisd...</td>\n",
              "      <td>[krishna, yet, farther, open, unto, thee, wisd...</td>\n",
              "    </tr>\n",
              "    <tr>\n",
              "      <th>14</th>\n",
              "      <td>CHAPTER XV</td>\n",
              "      <td>krishna men call the aswattha the banyan tree ...</td>\n",
              "      <td>647</td>\n",
              "      <td>0.064171</td>\n",
              "      <td>0.506634</td>\n",
              "      <td>krishna men call aswattha banyan tree hath bou...</td>\n",
              "      <td>[krishna, men, call, aswattha, banyan, tree, h...</td>\n",
              "      <td>krishna men call aswattha banyan tree hath bou...</td>\n",
              "      <td>[krishna, men, call, aswattha, banyan, tree, h...</td>\n",
              "    </tr>\n",
              "    <tr>\n",
              "      <th>15</th>\n",
              "      <td>CHAPTER XVI</td>\n",
              "      <td>rishna fearlessness singleness of soul the wil...</td>\n",
              "      <td>676</td>\n",
              "      <td>0.046027</td>\n",
              "      <td>0.605052</td>\n",
              "      <td>rishna fearlessness singleness soul always str...</td>\n",
              "      <td>[rishna, fearlessness, singleness, soul, alway...</td>\n",
              "      <td>rishna fearlessness singleness soul always str...</td>\n",
              "      <td>[rishna, fearlessness, singleness, soul, alway...</td>\n",
              "    </tr>\n",
              "    <tr>\n",
              "      <th>16</th>\n",
              "      <td>CHAPTER XVII</td>\n",
              "      <td>arjuna if men forsake the holy ordinance heedl...</td>\n",
              "      <td>641</td>\n",
              "      <td>0.170664</td>\n",
              "      <td>0.622867</td>\n",
              "      <td>arjuna men forsake holy ordinance heedless sha...</td>\n",
              "      <td>[arjuna, men, forsake, holy, ordinance, heedle...</td>\n",
              "      <td>arjuna men forsake holy ordinance heedless sha...</td>\n",
              "      <td>[arjuna, men, forsake, holy, ordinance, heedle...</td>\n",
              "    </tr>\n",
              "    <tr>\n",
              "      <th>17</th>\n",
              "      <td>CHAPTER XVIII</td>\n",
              "      <td>arjuna fain would i better know thou glorious ...</td>\n",
              "      <td>2109</td>\n",
              "      <td>0.130688</td>\n",
              "      <td>0.550737</td>\n",
              "      <td>arjuna fain would better know thou glorious on...</td>\n",
              "      <td>[arjuna, fain, would, better, know, thou, glor...</td>\n",
              "      <td>arjuna fain would better know thou glorious on...</td>\n",
              "      <td>[arjuna, fain, would, better, know, thou, glor...</td>\n",
              "    </tr>\n",
              "  </tbody>\n",
              "</table>\n",
              "</div>"
            ],
            "text/plain": [
              "          Chapter  ...                                    tokenized_lemma\n",
              "0       CHAPTER I  ...  [dhritirashtra, ranged, thus, battle, sacred, ...\n",
              "1      CHAPTER II  ...  [sanjaya, filled, compassion, grief, eye, tear...\n",
              "2     CHAPTER III  ...  [arjuna, thou, mortal, praise, janardana, medi...\n",
              "3      CHAPTER IV  ...  [krishna, deathless, yoga, deep, union, taught...\n",
              "4       CHAPTER V  ...  [arjuna, yet, krishna, one, time, thou, dost, ...\n",
              "5      CHAPTER VI  ...  [krishna, therefore, doeth, work, rightful, se...\n",
              "6     CHAPTER VII  ...  [krishna, learn, dear, prince, thy, soul, set,...\n",
              "7    CHAPTER VIII  ...  [arjuna, brahma, soul, soul, adhyatman, thou, ...\n",
              "8      CHAPTER IX  ...  [krishna, open, unto, thee, whose, heart, reje...\n",
              "9       CHAPTER X  ...  [hear, farther, yet, thou, long, armed, lord, ...\n",
              "10     CHAPTER XI  ...  [arjuna, soul, peace, heard, thee, unfolding, ...\n",
              "11    CHAPTER XII  ...  [arjuna, lord, men, serve, thee, true, heart, ...\n",
              "12   CHAPTER XIII  ...  [arjuna, would, hear, gracious, kesava, fn, li...\n",
              "13    CHAPTER XIV  ...  [krishna, yet, farther, open, unto, thee, wisd...\n",
              "14     CHAPTER XV  ...  [krishna, men, call, aswattha, banyan, tree, h...\n",
              "15    CHAPTER XVI  ...  [rishna, fearlessness, singleness, soul, alway...\n",
              "16   CHAPTER XVII  ...  [arjuna, men, forsake, holy, ordinance, heedle...\n",
              "17  CHAPTER XVIII  ...  [arjuna, fain, would, better, know, thou, glor...\n",
              "\n",
              "[18 rows x 9 columns]"
            ]
          },
          "metadata": {
            "tags": []
          },
          "execution_count": 88
        }
      ]
    },
    {
      "cell_type": "markdown",
      "metadata": {
        "id": "f-aqbcYfKlZH"
      },
      "source": [
        "# Import of Libraries for Topic Modelling"
      ]
    },
    {
      "cell_type": "code",
      "metadata": {
        "id": "fB1Z_qU4_YsP"
      },
      "source": [
        "import pandas as pd\n",
        "import gensim #the library for Topic modelling\n",
        "from gensim.models.ldamulticore import LdaMulticore\n",
        "from gensim import corpora, models"
      ],
      "execution_count": null,
      "outputs": []
    },
    {
      "cell_type": "code",
      "metadata": {
        "id": "mvnNWDye_ci5"
      },
      "source": [
        "from gensim.corpora import Dictionary\n",
        "dictionary = corpora.Dictionary(df['tokenized_lemma'])"
      ],
      "execution_count": null,
      "outputs": []
    },
    {
      "cell_type": "code",
      "metadata": {
        "colab": {
          "base_uri": "https://localhost:8080/"
        },
        "id": "3AnAF7D-_gO6",
        "outputId": "d6dbaaf9-b508-45d1-e261-a23b7aab9718"
      },
      "source": [
        "print(dictionary.num_nnz)"
      ],
      "execution_count": null,
      "outputs": [
        {
          "output_type": "stream",
          "text": [
            "7093\n"
          ],
          "name": "stdout"
        }
      ]
    },
    {
      "cell_type": "code",
      "metadata": {
        "colab": {
          "base_uri": "https://localhost:8080/"
        },
        "id": "yl5e5A9f_lA0",
        "outputId": "6c52ae51-08cb-4c0f-9f1f-df6faa89ba27"
      },
      "source": [
        "print('Number of unique tokens: %d' % len(dictionary))"
      ],
      "execution_count": null,
      "outputs": [
        {
          "output_type": "stream",
          "text": [
            "Number of unique tokens: 2990\n"
          ],
          "name": "stdout"
        }
      ]
    },
    {
      "cell_type": "code",
      "metadata": {
        "id": "M9IvRHMs_rpf"
      },
      "source": [
        "import pandas as pd\n",
        "import gensim #the library for Topic modelling\n",
        "from gensim.models.ldamulticore import LdaMulticore\n",
        "from gensim import corpora, models\n",
        "from collections import Counter\n",
        "\n",
        "\n",
        "import warnings\n",
        "warnings.simplefilter('ignore')\n",
        "from itertools import chain"
      ],
      "execution_count": null,
      "outputs": []
    },
    {
      "cell_type": "code",
      "metadata": {
        "id": "etq31Uzm_5F4"
      },
      "source": [
        "Important_message = [dictionary.doc2bow(doc) for doc in df['tokenized_lemma']]"
      ],
      "execution_count": null,
      "outputs": []
    },
    {
      "cell_type": "code",
      "metadata": {
        "id": "HmzBwKVZ__OR"
      },
      "source": [
        "lda = gensim.models.ldamodel.LdaModel"
      ],
      "execution_count": null,
      "outputs": []
    },
    {
      "cell_type": "code",
      "metadata": {
        "colab": {
          "base_uri": "https://localhost:8080/"
        },
        "id": "dsq2YczcADRu",
        "outputId": "fe7221b9-a8bc-4c20-d186-e62e444d0279"
      },
      "source": [
        "num_topics=5\n",
        "%time ldamodel = lda(Important_message,num_topics=num_topics,id2word=dictionary,passes=10,minimum_probability=0)"
      ],
      "execution_count": null,
      "outputs": [
        {
          "output_type": "stream",
          "text": [
            "CPU times: user 541 ms, sys: 1.33 ms, total: 542 ms\n",
            "Wall time: 546 ms\n"
          ],
          "name": "stdout"
        }
      ]
    },
    {
      "cell_type": "code",
      "metadata": {
        "id": "9GnmU6KFAGze"
      },
      "source": [
        "Topic_Labels=ldamodel.print_topics(num_topics=num_topics)"
      ],
      "execution_count": null,
      "outputs": []
    },
    {
      "cell_type": "code",
      "metadata": {
        "id": "3WI66JzdzpF3"
      },
      "source": [
        "import numpy as np"
      ],
      "execution_count": null,
      "outputs": []
    },
    {
      "cell_type": "markdown",
      "metadata": {
        "id": "4U6dRQvQMZTi"
      },
      "source": [
        "# All Chapters of Bhagvad Gita can be divided in below 5 Topics"
      ]
    },
    {
      "cell_type": "code",
      "metadata": {
        "colab": {
          "base_uri": "https://localhost:8080/"
        },
        "id": "QniCW3VI1Zlw",
        "outputId": "f2a188d3-b611-4556-8f69-bc8cb50f3827"
      },
      "source": [
        "Topic_Labels"
      ],
      "execution_count": null,
      "outputs": [
        {
          "output_type": "execute_result",
          "data": {
            "text/plain": [
              "[(0,\n",
              "  '0.012*\"soul\" + 0.012*\"thou\" + 0.010*\"life\" + 0.010*\"one\" + 0.008*\"thy\" + 0.007*\"shall\" + 0.007*\"come\" + 0.007*\"know\" + 0.007*\"work\" + 0.006*\"man\"'),\n",
              " (1,\n",
              "  '0.009*\"soul\" + 0.006*\"heart\" + 0.006*\"one\" + 0.006*\"thou\" + 0.006*\"life\" + 0.006*\"self\" + 0.006*\"arjuna\" + 0.005*\"krishna\" + 0.004*\"see\" + 0.004*\"prince\"'),\n",
              " (2,\n",
              "  '0.018*\"thee\" + 0.015*\"thou\" + 0.013*\"thy\" + 0.009*\"one\" + 0.008*\"world\" + 0.008*\"see\" + 0.007*\"god\" + 0.007*\"lord\" + 0.006*\"know\" + 0.006*\"eye\"'),\n",
              " (3,\n",
              "  '0.001*\"thee\" + 0.001*\"thou\" + 0.001*\"thy\" + 0.001*\"one\" + 0.001*\"life\" + 0.001*\"know\" + 0.001*\"soul\" + 0.001*\"god\" + 0.001*\"see\" + 0.000*\"lord\"'),\n",
              " (4,\n",
              "  '0.011*\"work\" + 0.008*\"life\" + 0.008*\"thou\" + 0.008*\"one\" + 0.008*\"act\" + 0.007*\"prince\" + 0.007*\"thy\" + 0.006*\"soul\" + 0.006*\"hath\" + 0.005*\"heart\"')]"
            ]
          },
          "metadata": {
            "tags": []
          },
          "execution_count": 137
        }
      ]
    },
    {
      "cell_type": "code",
      "metadata": {
        "id": "SSDu4nUcu9GJ"
      },
      "source": [
        "dictionary.filter_n_most_frequent(15)"
      ],
      "execution_count": null,
      "outputs": []
    },
    {
      "cell_type": "code",
      "metadata": {
        "colab": {
          "base_uri": "https://localhost:8080/",
          "height": 197
        },
        "id": "1-1fMU2t5Ft_",
        "outputId": "a62a210c-f2f1-43d3-8462-5128c1f03077"
      },
      "source": [
        "Chap_=pd.DataFrame.from_dict(Topic_Labels)\n",
        "Chap_"
      ],
      "execution_count": null,
      "outputs": [
        {
          "output_type": "execute_result",
          "data": {
            "text/html": [
              "<div>\n",
              "<style scoped>\n",
              "    .dataframe tbody tr th:only-of-type {\n",
              "        vertical-align: middle;\n",
              "    }\n",
              "\n",
              "    .dataframe tbody tr th {\n",
              "        vertical-align: top;\n",
              "    }\n",
              "\n",
              "    .dataframe thead th {\n",
              "        text-align: right;\n",
              "    }\n",
              "</style>\n",
              "<table border=\"1\" class=\"dataframe\">\n",
              "  <thead>\n",
              "    <tr style=\"text-align: right;\">\n",
              "      <th></th>\n",
              "      <th>0</th>\n",
              "      <th>1</th>\n",
              "    </tr>\n",
              "  </thead>\n",
              "  <tbody>\n",
              "    <tr>\n",
              "      <th>0</th>\n",
              "      <td>0</td>\n",
              "      <td>0.012*\"soul\" + 0.012*\"thou\" + 0.010*\"life\" + 0...</td>\n",
              "    </tr>\n",
              "    <tr>\n",
              "      <th>1</th>\n",
              "      <td>1</td>\n",
              "      <td>0.009*\"soul\" + 0.006*\"heart\" + 0.006*\"one\" + 0...</td>\n",
              "    </tr>\n",
              "    <tr>\n",
              "      <th>2</th>\n",
              "      <td>2</td>\n",
              "      <td>0.018*\"thee\" + 0.015*\"thou\" + 0.013*\"thy\" + 0....</td>\n",
              "    </tr>\n",
              "    <tr>\n",
              "      <th>3</th>\n",
              "      <td>3</td>\n",
              "      <td>0.001*\"thee\" + 0.001*\"thou\" + 0.001*\"thy\" + 0....</td>\n",
              "    </tr>\n",
              "    <tr>\n",
              "      <th>4</th>\n",
              "      <td>4</td>\n",
              "      <td>0.011*\"work\" + 0.008*\"life\" + 0.008*\"thou\" + 0...</td>\n",
              "    </tr>\n",
              "  </tbody>\n",
              "</table>\n",
              "</div>"
            ],
            "text/plain": [
              "   0                                                  1\n",
              "0  0  0.012*\"soul\" + 0.012*\"thou\" + 0.010*\"life\" + 0...\n",
              "1  1  0.009*\"soul\" + 0.006*\"heart\" + 0.006*\"one\" + 0...\n",
              "2  2  0.018*\"thee\" + 0.015*\"thou\" + 0.013*\"thy\" + 0....\n",
              "3  3  0.001*\"thee\" + 0.001*\"thou\" + 0.001*\"thy\" + 0....\n",
              "4  4  0.011*\"work\" + 0.008*\"life\" + 0.008*\"thou\" + 0..."
            ]
          },
          "metadata": {
            "tags": []
          },
          "execution_count": 143
        }
      ]
    },
    {
      "cell_type": "code",
      "metadata": {
        "id": "rO1RTbGtnElf"
      },
      "source": [
        "lda_overall = ldamodel[Important_message]"
      ],
      "execution_count": null,
      "outputs": []
    },
    {
      "cell_type": "code",
      "metadata": {
        "colab": {
          "base_uri": "https://localhost:8080/"
        },
        "id": "1Dq7Cc9zuRsh",
        "outputId": "52aaecfc-5711-4b72-c41e-885e89817242"
      },
      "source": [
        "[doc for doc in lda_overall]"
      ],
      "execution_count": null,
      "outputs": [
        {
          "output_type": "execute_result",
          "data": {
            "text/plain": [
              "[[(0, 0.00032854936),\n",
              "  (1, 0.9986918),\n",
              "  (2, 0.0003284826),\n",
              "  (3, 0.0003238338),\n",
              "  (4, 0.00032735371)],\n",
              " [(0, 0.99930704),\n",
              "  (1, 0.00017413686),\n",
              "  (2, 0.00017366608),\n",
              "  (3, 0.00017118949),\n",
              "  (4, 0.00017392091)],\n",
              " [(0, 0.99873435),\n",
              "  (1, 0.0003178154),\n",
              "  (2, 0.00031688437),\n",
              "  (3, 0.00031268058),\n",
              "  (4, 0.00031820807)],\n",
              " [(0, 0.9881985),\n",
              "  (1, 0.00031649705),\n",
              "  (2, 0.00031592196),\n",
              "  (3, 0.0003102789),\n",
              "  (4, 0.010858746)],\n",
              " [(0, 0.3809067),\n",
              "  (1, 0.00043400115),\n",
              "  (2, 0.00043470872),\n",
              "  (3, 0.00042577772),\n",
              "  (4, 0.6177988)],\n",
              " [(0, 0.00030502482),\n",
              "  (1, 0.9987936),\n",
              "  (2, 0.00030132776),\n",
              "  (3, 0.00029690494),\n",
              "  (4, 0.0003031306)],\n",
              " [(0, 0.20172411),\n",
              "  (1, 0.00051309005),\n",
              "  (2, 0.79674673),\n",
              "  (3, 0.00050151226),\n",
              "  (4, 0.000514581)],\n",
              " [(0, 0.9979366),\n",
              "  (1, 0.00051854696),\n",
              "  (2, 0.0005207495),\n",
              "  (3, 0.00050916686),\n",
              "  (4, 0.0005149566)],\n",
              " [(0, 0.00037136636),\n",
              "  (1, 0.99852866),\n",
              "  (2, 0.00036891567),\n",
              "  (3, 0.0003625217),\n",
              "  (4, 0.0003685182)],\n",
              " [(0, 0.0003264241),\n",
              "  (1, 0.99869925),\n",
              "  (2, 0.0003291281),\n",
              "  (3, 0.00032021507),\n",
              "  (4, 0.00032497456)],\n",
              " [(0, 0.00015154078),\n",
              "  (1, 0.00015132267),\n",
              "  (2, 0.99939704),\n",
              "  (3, 0.00014921198),\n",
              "  (4, 0.00015088983)],\n",
              " [(0, 0.99734336),\n",
              "  (1, 0.00066686125),\n",
              "  (2, 0.0006648445),\n",
              "  (3, 0.00065605895),\n",
              "  (4, 0.0006688966)],\n",
              " [(0, 0.9983856),\n",
              "  (1, 0.00040604296),\n",
              "  (2, 0.00040444566),\n",
              "  (3, 0.00039862207),\n",
              "  (4, 0.00040525998)],\n",
              " [(0, 0.00053316425),\n",
              "  (1, 0.9978864),\n",
              "  (2, 0.0005284106),\n",
              "  (3, 0.0005211059),\n",
              "  (4, 0.000530862)],\n",
              " [(0, 0.0005853695),\n",
              "  (1, 0.0005816589),\n",
              "  (2, 0.99768233),\n",
              "  (3, 0.00057008315),\n",
              "  (4, 0.00058052904)],\n",
              " [(0, 0.00056108006),\n",
              "  (1, 0.00055931415),\n",
              "  (2, 0.0005571049),\n",
              "  (3, 0.00054971647),\n",
              "  (4, 0.9977728)],\n",
              " [(0, 0.00054611074),\n",
              "  (1, 0.9978275),\n",
              "  (2, 0.0005428822),\n",
              "  (3, 0.0005364718),\n",
              "  (4, 0.00054705987)],\n",
              " [(0, 0.00017695485),\n",
              "  (1, 0.00017639397),\n",
              "  (2, 0.00017588952),\n",
              "  (3, 0.00017338045),\n",
              "  (4, 0.9992974)]]"
            ]
          },
          "metadata": {
            "tags": []
          },
          "execution_count": 140
        }
      ]
    },
    {
      "cell_type": "code",
      "metadata": {
        "colab": {
          "base_uri": "https://localhost:8080/"
        },
        "id": "FWTZpSSHyhpA",
        "outputId": "0b563b36-674e-4d21-d297-c561ab0ef45d"
      },
      "source": [
        "df.tokenized_lemma.value_counts"
      ],
      "execution_count": null,
      "outputs": [
        {
          "output_type": "execute_result",
          "data": {
            "text/plain": [
              "<bound method IndexOpsMixin.value_counts of 0     [dhritirashtra, ranged, thus, battle, sacred, ...\n",
              "1     [sanjaya, filled, compassion, grief, eye, tear...\n",
              "2     [arjuna, thou, mortal, praise, janardana, medi...\n",
              "3     [krishna, deathless, yoga, deep, union, taught...\n",
              "4     [arjuna, yet, krishna, one, time, thou, dost, ...\n",
              "5     [krishna, therefore, doeth, work, rightful, se...\n",
              "6     [krishna, learn, dear, prince, thy, soul, set,...\n",
              "7     [arjuna, brahma, soul, soul, adhyatman, thou, ...\n",
              "8     [krishna, open, unto, thee, whose, heart, reje...\n",
              "9     [hear, farther, yet, thou, long, armed, lord, ...\n",
              "10    [arjuna, soul, peace, heard, thee, unfolding, ...\n",
              "11    [arjuna, lord, men, serve, thee, true, heart, ...\n",
              "12    [arjuna, would, hear, gracious, kesava, fn, li...\n",
              "13    [krishna, yet, farther, open, unto, thee, wisd...\n",
              "14    [krishna, men, call, aswattha, banyan, tree, h...\n",
              "15    [rishna, fearlessness, singleness, soul, alway...\n",
              "16    [arjuna, men, forsake, holy, ordinance, heedle...\n",
              "17    [arjuna, fain, would, better, know, thou, glor...\n",
              "Name: tokenized_lemma, dtype: object>"
            ]
          },
          "metadata": {
            "tags": []
          },
          "execution_count": 99
        }
      ]
    },
    {
      "cell_type": "code",
      "metadata": {
        "colab": {
          "base_uri": "https://localhost:8080/"
        },
        "id": "cy_KCC8v1TN1",
        "outputId": "ecd0873e-c0e1-48c3-caff-81fbb2832a0d"
      },
      "source": [
        "\n",
        "\n",
        "from collections import Counter\n",
        "frequent_words=Counter(\" \".join(df[\"Lemmatized\"]).split()).most_common(10)\n",
        "frequent_words"
      ],
      "execution_count": null,
      "outputs": [
        {
          "output_type": "execute_result",
          "data": {
            "text/plain": [
              "[('thou', 134),\n",
              " ('soul', 114),\n",
              " ('one', 107),\n",
              " ('life', 101),\n",
              " ('thy', 93),\n",
              " ('thee', 90),\n",
              " ('heart', 73),\n",
              " ('work', 69),\n",
              " ('know', 68),\n",
              " ('prince', 62)]"
            ]
          },
          "metadata": {
            "tags": []
          },
          "execution_count": 106
        }
      ]
    },
    {
      "cell_type": "code",
      "metadata": {
        "id": "eL4D-tWN6a7Z"
      },
      "source": [
        "df4 =pd.DataFrame(frequent_words, columns=['Words_','frequency'])"
      ],
      "execution_count": null,
      "outputs": []
    },
    {
      "cell_type": "code",
      "metadata": {
        "id": "COUqPwrG9SWA"
      },
      "source": [
        "import seaborn as sns\n",
        "import matplotlib.pyplot as plt"
      ],
      "execution_count": null,
      "outputs": []
    },
    {
      "cell_type": "code",
      "metadata": {
        "colab": {
          "base_uri": "https://localhost:8080/",
          "height": 301
        },
        "id": "eWpurL2C_8f_",
        "outputId": "11656950-3af4-4c35-98b9-59f90886ad51"
      },
      "source": [
        "sns.barplot(data=df4, x=\"Words_\",y=\"frequency\")"
      ],
      "execution_count": null,
      "outputs": [
        {
          "output_type": "execute_result",
          "data": {
            "text/plain": [
              "<matplotlib.axes._subplots.AxesSubplot at 0x7f9631ffcba8>"
            ]
          },
          "metadata": {
            "tags": []
          },
          "execution_count": 111
        },
        {
          "output_type": "display_data",
          "data": {
            "image/png": "[encoded data removed]",
            "text/plain": [
              "<Figure size 432x288 with 1 Axes>"
            ]
          },
          "metadata": {
            "tags": [],
            "needs_background": "light"
          }
        }
      ]
    },
    {
      "cell_type": "markdown",
      "metadata": {
        "id": "_BRef7r0M1Bu"
      },
      "source": [
        "\n",
        "\n",
        "```\n",
        "# This is formatted as code\n",
        "```\n",
        "\n",
        "# Above are Top 10 Frequent words used in Bhagvat Gita : You, Soul, One, Life,Work, Knowledge, "
      ]
    }
  ]
}