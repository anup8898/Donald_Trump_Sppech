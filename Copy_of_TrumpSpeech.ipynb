{
  "nbformat": 4,
  "nbformat_minor": 0,
  "metadata": {
    "colab": {
      "name": "Copy of TrumpSpeech.ipynb",
      "provenance": [],
      "collapsed_sections": [],
      "authorship_tag": "ABX9TyNy8IbMLhd4gfrSqgeseHDk",
      "include_colab_link": true
    },
    "kernelspec": {
      "name": "python3",
      "display_name": "Python 3"
    }
  },
  "cells": [
    {
      "cell_type": "markdown",
      "metadata": {
        "id": "view-in-github",
        "colab_type": "text"
      },
      "source": [
        "<a href=\"https://colab.research.google.com/github/anup8898/Donald_Trump_Sppech/blob/main/Copy_of_TrumpSpeech.ipynb\" target=\"_parent\"><img src=\"https://colab.research.google.com/assets/colab-badge.svg\" alt=\"Open In Colab\"/></a>"
      ]
    },
    {
      "cell_type": "markdown",
      "metadata": {
        "id": "zwGZkEPPQ0Iw"
      },
      "source": [
        "Import Libraries for this project"
      ]
    },
    {
      "cell_type": "code",
      "metadata": {
        "id": "nwBSBitYJbB3"
      },
      "source": [
        "from google.colab import files \r\n",
        "import pandas as pd\r\n"
      ],
      "execution_count": null,
      "outputs": []
    },
    {
      "cell_type": "code",
      "metadata": {
        "id": "huhFFKmhKK7i"
      },
      "source": [
        ""
      ],
      "execution_count": null,
      "outputs": []
    },
    {
      "cell_type": "code",
      "metadata": {
        "colab": {
          "resources": {
            "http://localhost:8080/nbextensions/google.colab/files.js": {
              "data": "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",
              "ok": true,
              "headers": [
                [
                  "content-type",
                  "application/javascript"
                ]
              ],
              "status": 200,
              "status_text": ""
            }
          },
          "base_uri": "https://localhost:8080/",
          "height": 56
        },
        "id": "S0JsLqw8Jj2U",
        "outputId": "dcb691dc-9a45-4a0f-c6b4-e27aa8019234"
      },
      "source": [
        "uploaded = files.upload()"
      ],
      "execution_count": null,
      "outputs": [
        {
          "output_type": "display_data",
          "data": {
            "text/html": [
              "\n",
              "     <input type=\"file\" id=\"files-b49952c8-b0ed-40d4-81e7-478af45c2a90\" name=\"files[]\" multiple disabled\n",
              "        style=\"border:none\" />\n",
              "     <output id=\"result-b49952c8-b0ed-40d4-81e7-478af45c2a90\">\n",
              "      Upload widget is only available when the cell has been executed in the\n",
              "      current browser session. Please rerun this cell to enable.\n",
              "      </output>\n",
              "      <script src=\"/nbextensions/google.colab/files.js\"></script> "
            ],
            "text/plain": [
              "<IPython.core.display.HTML object>"
            ]
          },
          "metadata": {
            "tags": []
          }
        },
        {
          "output_type": "stream",
          "text": [
            "Saving donaldtrump.xlsx to donaldtrump (2).xlsx\n"
          ],
          "name": "stdout"
        }
      ]
    },
    {
      "cell_type": "code",
      "metadata": {
        "id": "8ggiwGuRKNZb"
      },
      "source": [
        "\r\n",
        "import io\r\n",
        "df= pd.read_excel(io.BytesIO(uploaded['donaldtrump.xlsx']))"
      ],
      "execution_count": null,
      "outputs": []
    },
    {
      "cell_type": "markdown",
      "metadata": {
        "id": "M_KMxJOrQ_je"
      },
      "source": [
        "**Our Raw Data frame for** **processing**"
      ]
    },
    {
      "cell_type": "code",
      "metadata": {
        "colab": {
          "base_uri": "https://localhost:8080/",
          "height": 406
        },
        "id": "DSt0dmoIQNjs",
        "outputId": "3e4991fc-65db-43d9-948c-a3a4d3a3ccd9"
      },
      "source": [
        "df"
      ],
      "execution_count": null,
      "outputs": [
        {
          "output_type": "execute_result",
          "data": {
            "text/html": [
              "<div>\n",
              "<style scoped>\n",
              "    .dataframe tbody tr th:only-of-type {\n",
              "        vertical-align: middle;\n",
              "    }\n",
              "\n",
              "    .dataframe tbody tr th {\n",
              "        vertical-align: top;\n",
              "    }\n",
              "\n",
              "    .dataframe thead th {\n",
              "        text-align: right;\n",
              "    }\n",
              "</style>\n",
              "<table border=\"1\" class=\"dataframe\">\n",
              "  <thead>\n",
              "    <tr style=\"text-align: right;\">\n",
              "      <th></th>\n",
              "      <th>Unnamed: 0</th>\n",
              "      <th>Unnamed: 1</th>\n",
              "      <th>Unnamed: 2</th>\n",
              "      <th>Unnamed: 3</th>\n",
              "    </tr>\n",
              "  </thead>\n",
              "  <tbody>\n",
              "    <tr>\n",
              "      <th>0</th>\n",
              "      <td>NaN</td>\n",
              "      <td>NaN</td>\n",
              "      <td>NaN</td>\n",
              "      <td>NaN</td>\n",
              "    </tr>\n",
              "    <tr>\n",
              "      <th>1</th>\n",
              "      <td>NaN</td>\n",
              "      <td>NaN</td>\n",
              "      <td>NaN</td>\n",
              "      <td>NaN</td>\n",
              "    </tr>\n",
              "    <tr>\n",
              "      <th>2</th>\n",
              "      <td>NaN</td>\n",
              "      <td>Donald Trump: (02:44)</td>\n",
              "      <td>NaN</td>\n",
              "      <td>he media will not show the magnitude of this c...</td>\n",
              "    </tr>\n",
              "    <tr>\n",
              "      <th>3</th>\n",
              "      <td>NaN</td>\n",
              "      <td>NaN</td>\n",
              "      <td>NaN</td>\n",
              "      <td>NaN</td>\n",
              "    </tr>\n",
              "    <tr>\n",
              "      <th>4</th>\n",
              "      <td>NaN</td>\n",
              "      <td>Donald Trump: (04:42)</td>\n",
              "      <td>NaN</td>\n",
              "      <td>Our country has had enough. We will not take i...</td>\n",
              "    </tr>\n",
              "    <tr>\n",
              "      <th>...</th>\n",
              "      <td>...</td>\n",
              "      <td>...</td>\n",
              "      <td>...</td>\n",
              "      <td>...</td>\n",
              "    </tr>\n",
              "    <tr>\n",
              "      <th>81</th>\n",
              "      <td>NaN</td>\n",
              "      <td>Donald Trump: (01:10:52)</td>\n",
              "      <td>NaN</td>\n",
              "      <td>We did a great job in the wall. Remember the w...</td>\n",
              "    </tr>\n",
              "    <tr>\n",
              "      <th>82</th>\n",
              "      <td>NaN</td>\n",
              "      <td>Donald Trump: (01:11:44)</td>\n",
              "      <td>NaN</td>\n",
              "      <td>Our brightest days are before us, our greatest...</td>\n",
              "    </tr>\n",
              "    <tr>\n",
              "      <th>83</th>\n",
              "      <td>NaN</td>\n",
              "      <td>Donald Trump: (01:12:21)</td>\n",
              "      <td>NaN</td>\n",
              "      <td>Our exciting adventures and boldest endeavors ...</td>\n",
              "    </tr>\n",
              "    <tr>\n",
              "      <th>84</th>\n",
              "      <td>NaN</td>\n",
              "      <td>Donald Trump: (01:12:43)</td>\n",
              "      <td>NaN</td>\n",
              "      <td>So we’re going to, we’re going to walk down Pe...</td>\n",
              "    </tr>\n",
              "    <tr>\n",
              "      <th>85</th>\n",
              "      <td>NaN</td>\n",
              "      <td>Donald Trump: (01:13:19)</td>\n",
              "      <td>NaN</td>\n",
              "      <td>So let’s walk down Pennsylvania Avenue. I want...</td>\n",
              "    </tr>\n",
              "  </tbody>\n",
              "</table>\n",
              "<p>86 rows × 4 columns</p>\n",
              "</div>"
            ],
            "text/plain": [
              "    Unnamed: 0  ...                                         Unnamed: 3\n",
              "0          NaN  ...                                                NaN\n",
              "1          NaN  ...                                                NaN\n",
              "2          NaN  ...  he media will not show the magnitude of this c...\n",
              "3          NaN  ...                                                NaN\n",
              "4          NaN  ...  Our country has had enough. We will not take i...\n",
              "..         ...  ...                                                ...\n",
              "81         NaN  ...  We did a great job in the wall. Remember the w...\n",
              "82         NaN  ...  Our brightest days are before us, our greatest...\n",
              "83         NaN  ...  Our exciting adventures and boldest endeavors ...\n",
              "84         NaN  ...  So we’re going to, we’re going to walk down Pe...\n",
              "85         NaN  ...  So let’s walk down Pennsylvania Avenue. I want...\n",
              "\n",
              "[86 rows x 4 columns]"
            ]
          },
          "metadata": {
            "tags": []
          },
          "execution_count": 324
        }
      ]
    },
    {
      "cell_type": "code",
      "metadata": {
        "colab": {
          "base_uri": "https://localhost:8080/",
          "height": 406
        },
        "id": "G-1hOsMMQVu5",
        "outputId": "86ea4c9d-586a-4cf3-a36e-5d0503929436"
      },
      "source": [
        "df.dropna(axis=1,how='all',inplace=True)\r\n",
        "df"
      ],
      "execution_count": null,
      "outputs": [
        {
          "output_type": "execute_result",
          "data": {
            "text/html": [
              "<div>\n",
              "<style scoped>\n",
              "    .dataframe tbody tr th:only-of-type {\n",
              "        vertical-align: middle;\n",
              "    }\n",
              "\n",
              "    .dataframe tbody tr th {\n",
              "        vertical-align: top;\n",
              "    }\n",
              "\n",
              "    .dataframe thead th {\n",
              "        text-align: right;\n",
              "    }\n",
              "</style>\n",
              "<table border=\"1\" class=\"dataframe\">\n",
              "  <thead>\n",
              "    <tr style=\"text-align: right;\">\n",
              "      <th></th>\n",
              "      <th>Unnamed: 1</th>\n",
              "      <th>Unnamed: 3</th>\n",
              "    </tr>\n",
              "  </thead>\n",
              "  <tbody>\n",
              "    <tr>\n",
              "      <th>0</th>\n",
              "      <td>NaN</td>\n",
              "      <td>NaN</td>\n",
              "    </tr>\n",
              "    <tr>\n",
              "      <th>1</th>\n",
              "      <td>NaN</td>\n",
              "      <td>NaN</td>\n",
              "    </tr>\n",
              "    <tr>\n",
              "      <th>2</th>\n",
              "      <td>Donald Trump: (02:44)</td>\n",
              "      <td>he media will not show the magnitude of this c...</td>\n",
              "    </tr>\n",
              "    <tr>\n",
              "      <th>3</th>\n",
              "      <td>NaN</td>\n",
              "      <td>NaN</td>\n",
              "    </tr>\n",
              "    <tr>\n",
              "      <th>4</th>\n",
              "      <td>Donald Trump: (04:42)</td>\n",
              "      <td>Our country has had enough. We will not take i...</td>\n",
              "    </tr>\n",
              "    <tr>\n",
              "      <th>...</th>\n",
              "      <td>...</td>\n",
              "      <td>...</td>\n",
              "    </tr>\n",
              "    <tr>\n",
              "      <th>81</th>\n",
              "      <td>Donald Trump: (01:10:52)</td>\n",
              "      <td>We did a great job in the wall. Remember the w...</td>\n",
              "    </tr>\n",
              "    <tr>\n",
              "      <th>82</th>\n",
              "      <td>Donald Trump: (01:11:44)</td>\n",
              "      <td>Our brightest days are before us, our greatest...</td>\n",
              "    </tr>\n",
              "    <tr>\n",
              "      <th>83</th>\n",
              "      <td>Donald Trump: (01:12:21)</td>\n",
              "      <td>Our exciting adventures and boldest endeavors ...</td>\n",
              "    </tr>\n",
              "    <tr>\n",
              "      <th>84</th>\n",
              "      <td>Donald Trump: (01:12:43)</td>\n",
              "      <td>So we’re going to, we’re going to walk down Pe...</td>\n",
              "    </tr>\n",
              "    <tr>\n",
              "      <th>85</th>\n",
              "      <td>Donald Trump: (01:13:19)</td>\n",
              "      <td>So let’s walk down Pennsylvania Avenue. I want...</td>\n",
              "    </tr>\n",
              "  </tbody>\n",
              "</table>\n",
              "<p>86 rows × 2 columns</p>\n",
              "</div>"
            ],
            "text/plain": [
              "                  Unnamed: 1                                         Unnamed: 3\n",
              "0                        NaN                                                NaN\n",
              "1                        NaN                                                NaN\n",
              "2      Donald Trump: (02:44)  he media will not show the magnitude of this c...\n",
              "3                        NaN                                                NaN\n",
              "4      Donald Trump: (04:42)  Our country has had enough. We will not take i...\n",
              "..                       ...                                                ...\n",
              "81  Donald Trump: (01:10:52)  We did a great job in the wall. Remember the w...\n",
              "82  Donald Trump: (01:11:44)  Our brightest days are before us, our greatest...\n",
              "83  Donald Trump: (01:12:21)  Our exciting adventures and boldest endeavors ...\n",
              "84  Donald Trump: (01:12:43)  So we’re going to, we’re going to walk down Pe...\n",
              "85  Donald Trump: (01:13:19)  So let’s walk down Pennsylvania Avenue. I want...\n",
              "\n",
              "[86 rows x 2 columns]"
            ]
          },
          "metadata": {
            "tags": []
          },
          "execution_count": 325
        }
      ]
    },
    {
      "cell_type": "code",
      "metadata": {
        "id": "uQyKZFl1cbE1"
      },
      "source": [
        ""
      ],
      "execution_count": null,
      "outputs": []
    },
    {
      "cell_type": "code",
      "metadata": {
        "colab": {
          "base_uri": "https://localhost:8080/",
          "height": 406
        },
        "id": "EqhpLjcScfWM",
        "outputId": "c84a2abe-e1f8-4723-e980-0e9c52725d3d"
      },
      "source": [
        "df.dropna(axis=0,how='all',inplace=True)\r\n",
        "df"
      ],
      "execution_count": null,
      "outputs": [
        {
          "output_type": "execute_result",
          "data": {
            "text/html": [
              "<div>\n",
              "<style scoped>\n",
              "    .dataframe tbody tr th:only-of-type {\n",
              "        vertical-align: middle;\n",
              "    }\n",
              "\n",
              "    .dataframe tbody tr th {\n",
              "        vertical-align: top;\n",
              "    }\n",
              "\n",
              "    .dataframe thead th {\n",
              "        text-align: right;\n",
              "    }\n",
              "</style>\n",
              "<table border=\"1\" class=\"dataframe\">\n",
              "  <thead>\n",
              "    <tr style=\"text-align: right;\">\n",
              "      <th></th>\n",
              "      <th>Unnamed: 1</th>\n",
              "      <th>Unnamed: 3</th>\n",
              "    </tr>\n",
              "  </thead>\n",
              "  <tbody>\n",
              "    <tr>\n",
              "      <th>2</th>\n",
              "      <td>Donald Trump: (02:44)</td>\n",
              "      <td>he media will not show the magnitude of this c...</td>\n",
              "    </tr>\n",
              "    <tr>\n",
              "      <th>4</th>\n",
              "      <td>Donald Trump: (04:42)</td>\n",
              "      <td>Our country has had enough. We will not take i...</td>\n",
              "    </tr>\n",
              "    <tr>\n",
              "      <th>5</th>\n",
              "      <td>Donald Trump: (06:08)</td>\n",
              "      <td>By the way, does anybody believe that Joe had ...</td>\n",
              "    </tr>\n",
              "    <tr>\n",
              "      <th>6</th>\n",
              "      <td>Crowd: (07:11)</td>\n",
              "      <td>Fight for Trump! Fight for Trump! Fight for Tr...</td>\n",
              "    </tr>\n",
              "    <tr>\n",
              "      <th>7</th>\n",
              "      <td>Donald Trump: (07:11)</td>\n",
              "      <td>Thank you. I’d love to have, if those tens of ...</td>\n",
              "    </tr>\n",
              "    <tr>\n",
              "      <th>...</th>\n",
              "      <td>...</td>\n",
              "      <td>...</td>\n",
              "    </tr>\n",
              "    <tr>\n",
              "      <th>81</th>\n",
              "      <td>Donald Trump: (01:10:52)</td>\n",
              "      <td>We did a great job in the wall. Remember the w...</td>\n",
              "    </tr>\n",
              "    <tr>\n",
              "      <th>82</th>\n",
              "      <td>Donald Trump: (01:11:44)</td>\n",
              "      <td>Our brightest days are before us, our greatest...</td>\n",
              "    </tr>\n",
              "    <tr>\n",
              "      <th>83</th>\n",
              "      <td>Donald Trump: (01:12:21)</td>\n",
              "      <td>Our exciting adventures and boldest endeavors ...</td>\n",
              "    </tr>\n",
              "    <tr>\n",
              "      <th>84</th>\n",
              "      <td>Donald Trump: (01:12:43)</td>\n",
              "      <td>So we’re going to, we’re going to walk down Pe...</td>\n",
              "    </tr>\n",
              "    <tr>\n",
              "      <th>85</th>\n",
              "      <td>Donald Trump: (01:13:19)</td>\n",
              "      <td>So let’s walk down Pennsylvania Avenue. I want...</td>\n",
              "    </tr>\n",
              "  </tbody>\n",
              "</table>\n",
              "<p>83 rows × 2 columns</p>\n",
              "</div>"
            ],
            "text/plain": [
              "                  Unnamed: 1                                         Unnamed: 3\n",
              "2      Donald Trump: (02:44)  he media will not show the magnitude of this c...\n",
              "4      Donald Trump: (04:42)  Our country has had enough. We will not take i...\n",
              "5      Donald Trump: (06:08)  By the way, does anybody believe that Joe had ...\n",
              "6             Crowd: (07:11)  Fight for Trump! Fight for Trump! Fight for Tr...\n",
              "7      Donald Trump: (07:11)  Thank you. I’d love to have, if those tens of ...\n",
              "..                       ...                                                ...\n",
              "81  Donald Trump: (01:10:52)  We did a great job in the wall. Remember the w...\n",
              "82  Donald Trump: (01:11:44)  Our brightest days are before us, our greatest...\n",
              "83  Donald Trump: (01:12:21)  Our exciting adventures and boldest endeavors ...\n",
              "84  Donald Trump: (01:12:43)  So we’re going to, we’re going to walk down Pe...\n",
              "85  Donald Trump: (01:13:19)  So let’s walk down Pennsylvania Avenue. I want...\n",
              "\n",
              "[83 rows x 2 columns]"
            ]
          },
          "metadata": {
            "tags": []
          },
          "execution_count": 326
        }
      ]
    },
    {
      "cell_type": "code",
      "metadata": {
        "id": "V4PXosV_Qu5D"
      },
      "source": [
        "df.rename(columns={\"Unnamed: 1\": \"Time\",\"Unnamed: 2\t\": \"c\",\"Unnamed: 3\": \"content\"},inplace=True)"
      ],
      "execution_count": null,
      "outputs": []
    },
    {
      "cell_type": "code",
      "metadata": {
        "colab": {
          "base_uri": "https://localhost:8080/",
          "height": 406
        },
        "id": "Avzov-snRFXA",
        "outputId": "9bcb02dd-3d50-4c29-b629-390920bf0c3d"
      },
      "source": [
        "df"
      ],
      "execution_count": null,
      "outputs": [
        {
          "output_type": "execute_result",
          "data": {
            "text/html": [
              "<div>\n",
              "<style scoped>\n",
              "    .dataframe tbody tr th:only-of-type {\n",
              "        vertical-align: middle;\n",
              "    }\n",
              "\n",
              "    .dataframe tbody tr th {\n",
              "        vertical-align: top;\n",
              "    }\n",
              "\n",
              "    .dataframe thead th {\n",
              "        text-align: right;\n",
              "    }\n",
              "</style>\n",
              "<table border=\"1\" class=\"dataframe\">\n",
              "  <thead>\n",
              "    <tr style=\"text-align: right;\">\n",
              "      <th></th>\n",
              "      <th>Time</th>\n",
              "      <th>content</th>\n",
              "    </tr>\n",
              "  </thead>\n",
              "  <tbody>\n",
              "    <tr>\n",
              "      <th>2</th>\n",
              "      <td>Donald Trump: (02:44)</td>\n",
              "      <td>he media will not show the magnitude of this c...</td>\n",
              "    </tr>\n",
              "    <tr>\n",
              "      <th>4</th>\n",
              "      <td>Donald Trump: (04:42)</td>\n",
              "      <td>Our country has had enough. We will not take i...</td>\n",
              "    </tr>\n",
              "    <tr>\n",
              "      <th>5</th>\n",
              "      <td>Donald Trump: (06:08)</td>\n",
              "      <td>By the way, does anybody believe that Joe had ...</td>\n",
              "    </tr>\n",
              "    <tr>\n",
              "      <th>6</th>\n",
              "      <td>Crowd: (07:11)</td>\n",
              "      <td>Fight for Trump! Fight for Trump! Fight for Tr...</td>\n",
              "    </tr>\n",
              "    <tr>\n",
              "      <th>7</th>\n",
              "      <td>Donald Trump: (07:11)</td>\n",
              "      <td>Thank you. I’d love to have, if those tens of ...</td>\n",
              "    </tr>\n",
              "    <tr>\n",
              "      <th>...</th>\n",
              "      <td>...</td>\n",
              "      <td>...</td>\n",
              "    </tr>\n",
              "    <tr>\n",
              "      <th>81</th>\n",
              "      <td>Donald Trump: (01:10:52)</td>\n",
              "      <td>We did a great job in the wall. Remember the w...</td>\n",
              "    </tr>\n",
              "    <tr>\n",
              "      <th>82</th>\n",
              "      <td>Donald Trump: (01:11:44)</td>\n",
              "      <td>Our brightest days are before us, our greatest...</td>\n",
              "    </tr>\n",
              "    <tr>\n",
              "      <th>83</th>\n",
              "      <td>Donald Trump: (01:12:21)</td>\n",
              "      <td>Our exciting adventures and boldest endeavors ...</td>\n",
              "    </tr>\n",
              "    <tr>\n",
              "      <th>84</th>\n",
              "      <td>Donald Trump: (01:12:43)</td>\n",
              "      <td>So we’re going to, we’re going to walk down Pe...</td>\n",
              "    </tr>\n",
              "    <tr>\n",
              "      <th>85</th>\n",
              "      <td>Donald Trump: (01:13:19)</td>\n",
              "      <td>So let’s walk down Pennsylvania Avenue. I want...</td>\n",
              "    </tr>\n",
              "  </tbody>\n",
              "</table>\n",
              "<p>83 rows × 2 columns</p>\n",
              "</div>"
            ],
            "text/plain": [
              "                        Time                                            content\n",
              "2      Donald Trump: (02:44)  he media will not show the magnitude of this c...\n",
              "4      Donald Trump: (04:42)  Our country has had enough. We will not take i...\n",
              "5      Donald Trump: (06:08)  By the way, does anybody believe that Joe had ...\n",
              "6             Crowd: (07:11)  Fight for Trump! Fight for Trump! Fight for Tr...\n",
              "7      Donald Trump: (07:11)  Thank you. I’d love to have, if those tens of ...\n",
              "..                       ...                                                ...\n",
              "81  Donald Trump: (01:10:52)  We did a great job in the wall. Remember the w...\n",
              "82  Donald Trump: (01:11:44)  Our brightest days are before us, our greatest...\n",
              "83  Donald Trump: (01:12:21)  Our exciting adventures and boldest endeavors ...\n",
              "84  Donald Trump: (01:12:43)  So we’re going to, we’re going to walk down Pe...\n",
              "85  Donald Trump: (01:13:19)  So let’s walk down Pennsylvania Avenue. I want...\n",
              "\n",
              "[83 rows x 2 columns]"
            ]
          },
          "metadata": {
            "tags": []
          },
          "execution_count": 328
        }
      ]
    },
    {
      "cell_type": "markdown",
      "metadata": {
        "id": "JkOjtBkGRTFY"
      },
      "source": [
        "## Seperating Duration and Speaker in Seperate Column"
      ]
    },
    {
      "cell_type": "code",
      "metadata": {
        "id": "D1o65NnfTUhc"
      },
      "source": [
        "df[['Time', 'Speaker']] = df['Time'].str.split(': ', 1, expand=True)"
      ],
      "execution_count": null,
      "outputs": []
    },
    {
      "cell_type": "code",
      "metadata": {
        "colab": {
          "base_uri": "https://localhost:8080/",
          "height": 406
        },
        "id": "hNxjrhrEezoG",
        "outputId": "c34fa6ee-3758-489a-ae96-8f0dee935007"
      },
      "source": [
        "df"
      ],
      "execution_count": null,
      "outputs": [
        {
          "output_type": "execute_result",
          "data": {
            "text/html": [
              "<div>\n",
              "<style scoped>\n",
              "    .dataframe tbody tr th:only-of-type {\n",
              "        vertical-align: middle;\n",
              "    }\n",
              "\n",
              "    .dataframe tbody tr th {\n",
              "        vertical-align: top;\n",
              "    }\n",
              "\n",
              "    .dataframe thead th {\n",
              "        text-align: right;\n",
              "    }\n",
              "</style>\n",
              "<table border=\"1\" class=\"dataframe\">\n",
              "  <thead>\n",
              "    <tr style=\"text-align: right;\">\n",
              "      <th></th>\n",
              "      <th>Time</th>\n",
              "      <th>content</th>\n",
              "      <th>Speaker</th>\n",
              "    </tr>\n",
              "  </thead>\n",
              "  <tbody>\n",
              "    <tr>\n",
              "      <th>2</th>\n",
              "      <td>Donald Trump</td>\n",
              "      <td>he media will not show the magnitude of this c...</td>\n",
              "      <td>(02:44)</td>\n",
              "    </tr>\n",
              "    <tr>\n",
              "      <th>4</th>\n",
              "      <td>Donald Trump</td>\n",
              "      <td>Our country has had enough. We will not take i...</td>\n",
              "      <td>(04:42)</td>\n",
              "    </tr>\n",
              "    <tr>\n",
              "      <th>5</th>\n",
              "      <td>Donald Trump</td>\n",
              "      <td>By the way, does anybody believe that Joe had ...</td>\n",
              "      <td>(06:08)</td>\n",
              "    </tr>\n",
              "    <tr>\n",
              "      <th>6</th>\n",
              "      <td>Crowd</td>\n",
              "      <td>Fight for Trump! Fight for Trump! Fight for Tr...</td>\n",
              "      <td>(07:11)</td>\n",
              "    </tr>\n",
              "    <tr>\n",
              "      <th>7</th>\n",
              "      <td>Donald Trump</td>\n",
              "      <td>Thank you. I’d love to have, if those tens of ...</td>\n",
              "      <td>(07:11)</td>\n",
              "    </tr>\n",
              "    <tr>\n",
              "      <th>...</th>\n",
              "      <td>...</td>\n",
              "      <td>...</td>\n",
              "      <td>...</td>\n",
              "    </tr>\n",
              "    <tr>\n",
              "      <th>81</th>\n",
              "      <td>Donald Trump</td>\n",
              "      <td>We did a great job in the wall. Remember the w...</td>\n",
              "      <td>(01:10:52)</td>\n",
              "    </tr>\n",
              "    <tr>\n",
              "      <th>82</th>\n",
              "      <td>Donald Trump</td>\n",
              "      <td>Our brightest days are before us, our greatest...</td>\n",
              "      <td>(01:11:44)</td>\n",
              "    </tr>\n",
              "    <tr>\n",
              "      <th>83</th>\n",
              "      <td>Donald Trump</td>\n",
              "      <td>Our exciting adventures and boldest endeavors ...</td>\n",
              "      <td>(01:12:21)</td>\n",
              "    </tr>\n",
              "    <tr>\n",
              "      <th>84</th>\n",
              "      <td>Donald Trump</td>\n",
              "      <td>So we’re going to, we’re going to walk down Pe...</td>\n",
              "      <td>(01:12:43)</td>\n",
              "    </tr>\n",
              "    <tr>\n",
              "      <th>85</th>\n",
              "      <td>Donald Trump</td>\n",
              "      <td>So let’s walk down Pennsylvania Avenue. I want...</td>\n",
              "      <td>(01:13:19)</td>\n",
              "    </tr>\n",
              "  </tbody>\n",
              "</table>\n",
              "<p>83 rows × 3 columns</p>\n",
              "</div>"
            ],
            "text/plain": [
              "            Time                                            content     Speaker\n",
              "2   Donald Trump  he media will not show the magnitude of this c...     (02:44)\n",
              "4   Donald Trump  Our country has had enough. We will not take i...     (04:42)\n",
              "5   Donald Trump  By the way, does anybody believe that Joe had ...     (06:08)\n",
              "6          Crowd  Fight for Trump! Fight for Trump! Fight for Tr...     (07:11)\n",
              "7   Donald Trump  Thank you. I’d love to have, if those tens of ...     (07:11)\n",
              "..           ...                                                ...         ...\n",
              "81  Donald Trump  We did a great job in the wall. Remember the w...  (01:10:52)\n",
              "82  Donald Trump  Our brightest days are before us, our greatest...  (01:11:44)\n",
              "83  Donald Trump  Our exciting adventures and boldest endeavors ...  (01:12:21)\n",
              "84  Donald Trump  So we’re going to, we’re going to walk down Pe...  (01:12:43)\n",
              "85  Donald Trump  So let’s walk down Pennsylvania Avenue. I want...  (01:13:19)\n",
              "\n",
              "[83 rows x 3 columns]"
            ]
          },
          "metadata": {
            "tags": []
          },
          "execution_count": 330
        }
      ]
    },
    {
      "cell_type": "code",
      "metadata": {
        "id": "Q4l_Nf1-hj81"
      },
      "source": [
        "df.rename(columns={\"Time\": \"Speaker_\",},inplace=True)"
      ],
      "execution_count": null,
      "outputs": []
    },
    {
      "cell_type": "code",
      "metadata": {
        "colab": {
          "base_uri": "https://localhost:8080/",
          "height": 406
        },
        "id": "1xGs7PyIh7sx",
        "outputId": "6df7754f-87a6-4eb2-fb09-713b27b2cb76"
      },
      "source": [
        "df"
      ],
      "execution_count": null,
      "outputs": [
        {
          "output_type": "execute_result",
          "data": {
            "text/html": [
              "<div>\n",
              "<style scoped>\n",
              "    .dataframe tbody tr th:only-of-type {\n",
              "        vertical-align: middle;\n",
              "    }\n",
              "\n",
              "    .dataframe tbody tr th {\n",
              "        vertical-align: top;\n",
              "    }\n",
              "\n",
              "    .dataframe thead th {\n",
              "        text-align: right;\n",
              "    }\n",
              "</style>\n",
              "<table border=\"1\" class=\"dataframe\">\n",
              "  <thead>\n",
              "    <tr style=\"text-align: right;\">\n",
              "      <th></th>\n",
              "      <th>Speaker_</th>\n",
              "      <th>content</th>\n",
              "      <th>Speaker</th>\n",
              "    </tr>\n",
              "  </thead>\n",
              "  <tbody>\n",
              "    <tr>\n",
              "      <th>2</th>\n",
              "      <td>Donald Trump</td>\n",
              "      <td>he media will not show the magnitude of this c...</td>\n",
              "      <td>(02:44)</td>\n",
              "    </tr>\n",
              "    <tr>\n",
              "      <th>4</th>\n",
              "      <td>Donald Trump</td>\n",
              "      <td>Our country has had enough. We will not take i...</td>\n",
              "      <td>(04:42)</td>\n",
              "    </tr>\n",
              "    <tr>\n",
              "      <th>5</th>\n",
              "      <td>Donald Trump</td>\n",
              "      <td>By the way, does anybody believe that Joe had ...</td>\n",
              "      <td>(06:08)</td>\n",
              "    </tr>\n",
              "    <tr>\n",
              "      <th>6</th>\n",
              "      <td>Crowd</td>\n",
              "      <td>Fight for Trump! Fight for Trump! Fight for Tr...</td>\n",
              "      <td>(07:11)</td>\n",
              "    </tr>\n",
              "    <tr>\n",
              "      <th>7</th>\n",
              "      <td>Donald Trump</td>\n",
              "      <td>Thank you. I’d love to have, if those tens of ...</td>\n",
              "      <td>(07:11)</td>\n",
              "    </tr>\n",
              "    <tr>\n",
              "      <th>...</th>\n",
              "      <td>...</td>\n",
              "      <td>...</td>\n",
              "      <td>...</td>\n",
              "    </tr>\n",
              "    <tr>\n",
              "      <th>81</th>\n",
              "      <td>Donald Trump</td>\n",
              "      <td>We did a great job in the wall. Remember the w...</td>\n",
              "      <td>(01:10:52)</td>\n",
              "    </tr>\n",
              "    <tr>\n",
              "      <th>82</th>\n",
              "      <td>Donald Trump</td>\n",
              "      <td>Our brightest days are before us, our greatest...</td>\n",
              "      <td>(01:11:44)</td>\n",
              "    </tr>\n",
              "    <tr>\n",
              "      <th>83</th>\n",
              "      <td>Donald Trump</td>\n",
              "      <td>Our exciting adventures and boldest endeavors ...</td>\n",
              "      <td>(01:12:21)</td>\n",
              "    </tr>\n",
              "    <tr>\n",
              "      <th>84</th>\n",
              "      <td>Donald Trump</td>\n",
              "      <td>So we’re going to, we’re going to walk down Pe...</td>\n",
              "      <td>(01:12:43)</td>\n",
              "    </tr>\n",
              "    <tr>\n",
              "      <th>85</th>\n",
              "      <td>Donald Trump</td>\n",
              "      <td>So let’s walk down Pennsylvania Avenue. I want...</td>\n",
              "      <td>(01:13:19)</td>\n",
              "    </tr>\n",
              "  </tbody>\n",
              "</table>\n",
              "<p>83 rows × 3 columns</p>\n",
              "</div>"
            ],
            "text/plain": [
              "        Speaker_                                            content     Speaker\n",
              "2   Donald Trump  he media will not show the magnitude of this c...     (02:44)\n",
              "4   Donald Trump  Our country has had enough. We will not take i...     (04:42)\n",
              "5   Donald Trump  By the way, does anybody believe that Joe had ...     (06:08)\n",
              "6          Crowd  Fight for Trump! Fight for Trump! Fight for Tr...     (07:11)\n",
              "7   Donald Trump  Thank you. I’d love to have, if those tens of ...     (07:11)\n",
              "..           ...                                                ...         ...\n",
              "81  Donald Trump  We did a great job in the wall. Remember the w...  (01:10:52)\n",
              "82  Donald Trump  Our brightest days are before us, our greatest...  (01:11:44)\n",
              "83  Donald Trump  Our exciting adventures and boldest endeavors ...  (01:12:21)\n",
              "84  Donald Trump  So we’re going to, we’re going to walk down Pe...  (01:12:43)\n",
              "85  Donald Trump  So let’s walk down Pennsylvania Avenue. I want...  (01:13:19)\n",
              "\n",
              "[83 rows x 3 columns]"
            ]
          },
          "metadata": {
            "tags": []
          },
          "execution_count": 332
        }
      ]
    },
    {
      "cell_type": "code",
      "metadata": {
        "id": "l9C1o0VhiPQh"
      },
      "source": [
        "df.rename(columns={\"Speaker\": \"duration\"},inplace=True)"
      ],
      "execution_count": null,
      "outputs": []
    },
    {
      "cell_type": "code",
      "metadata": {
        "colab": {
          "base_uri": "https://localhost:8080/",
          "height": 406
        },
        "id": "VHPLUuI4ibZD",
        "outputId": "e30078c5-b51c-448f-d940-eda03362fea8"
      },
      "source": [
        "df"
      ],
      "execution_count": null,
      "outputs": [
        {
          "output_type": "execute_result",
          "data": {
            "text/html": [
              "<div>\n",
              "<style scoped>\n",
              "    .dataframe tbody tr th:only-of-type {\n",
              "        vertical-align: middle;\n",
              "    }\n",
              "\n",
              "    .dataframe tbody tr th {\n",
              "        vertical-align: top;\n",
              "    }\n",
              "\n",
              "    .dataframe thead th {\n",
              "        text-align: right;\n",
              "    }\n",
              "</style>\n",
              "<table border=\"1\" class=\"dataframe\">\n",
              "  <thead>\n",
              "    <tr style=\"text-align: right;\">\n",
              "      <th></th>\n",
              "      <th>Speaker_</th>\n",
              "      <th>content</th>\n",
              "      <th>duration</th>\n",
              "    </tr>\n",
              "  </thead>\n",
              "  <tbody>\n",
              "    <tr>\n",
              "      <th>2</th>\n",
              "      <td>Donald Trump</td>\n",
              "      <td>he media will not show the magnitude of this c...</td>\n",
              "      <td>(02:44)</td>\n",
              "    </tr>\n",
              "    <tr>\n",
              "      <th>4</th>\n",
              "      <td>Donald Trump</td>\n",
              "      <td>Our country has had enough. We will not take i...</td>\n",
              "      <td>(04:42)</td>\n",
              "    </tr>\n",
              "    <tr>\n",
              "      <th>5</th>\n",
              "      <td>Donald Trump</td>\n",
              "      <td>By the way, does anybody believe that Joe had ...</td>\n",
              "      <td>(06:08)</td>\n",
              "    </tr>\n",
              "    <tr>\n",
              "      <th>6</th>\n",
              "      <td>Crowd</td>\n",
              "      <td>Fight for Trump! Fight for Trump! Fight for Tr...</td>\n",
              "      <td>(07:11)</td>\n",
              "    </tr>\n",
              "    <tr>\n",
              "      <th>7</th>\n",
              "      <td>Donald Trump</td>\n",
              "      <td>Thank you. I’d love to have, if those tens of ...</td>\n",
              "      <td>(07:11)</td>\n",
              "    </tr>\n",
              "    <tr>\n",
              "      <th>...</th>\n",
              "      <td>...</td>\n",
              "      <td>...</td>\n",
              "      <td>...</td>\n",
              "    </tr>\n",
              "    <tr>\n",
              "      <th>81</th>\n",
              "      <td>Donald Trump</td>\n",
              "      <td>We did a great job in the wall. Remember the w...</td>\n",
              "      <td>(01:10:52)</td>\n",
              "    </tr>\n",
              "    <tr>\n",
              "      <th>82</th>\n",
              "      <td>Donald Trump</td>\n",
              "      <td>Our brightest days are before us, our greatest...</td>\n",
              "      <td>(01:11:44)</td>\n",
              "    </tr>\n",
              "    <tr>\n",
              "      <th>83</th>\n",
              "      <td>Donald Trump</td>\n",
              "      <td>Our exciting adventures and boldest endeavors ...</td>\n",
              "      <td>(01:12:21)</td>\n",
              "    </tr>\n",
              "    <tr>\n",
              "      <th>84</th>\n",
              "      <td>Donald Trump</td>\n",
              "      <td>So we’re going to, we’re going to walk down Pe...</td>\n",
              "      <td>(01:12:43)</td>\n",
              "    </tr>\n",
              "    <tr>\n",
              "      <th>85</th>\n",
              "      <td>Donald Trump</td>\n",
              "      <td>So let’s walk down Pennsylvania Avenue. I want...</td>\n",
              "      <td>(01:13:19)</td>\n",
              "    </tr>\n",
              "  </tbody>\n",
              "</table>\n",
              "<p>83 rows × 3 columns</p>\n",
              "</div>"
            ],
            "text/plain": [
              "        Speaker_                                            content    duration\n",
              "2   Donald Trump  he media will not show the magnitude of this c...     (02:44)\n",
              "4   Donald Trump  Our country has had enough. We will not take i...     (04:42)\n",
              "5   Donald Trump  By the way, does anybody believe that Joe had ...     (06:08)\n",
              "6          Crowd  Fight for Trump! Fight for Trump! Fight for Tr...     (07:11)\n",
              "7   Donald Trump  Thank you. I’d love to have, if those tens of ...     (07:11)\n",
              "..           ...                                                ...         ...\n",
              "81  Donald Trump  We did a great job in the wall. Remember the w...  (01:10:52)\n",
              "82  Donald Trump  Our brightest days are before us, our greatest...  (01:11:44)\n",
              "83  Donald Trump  Our exciting adventures and boldest endeavors ...  (01:12:21)\n",
              "84  Donald Trump  So we’re going to, we’re going to walk down Pe...  (01:12:43)\n",
              "85  Donald Trump  So let’s walk down Pennsylvania Avenue. I want...  (01:13:19)\n",
              "\n",
              "[83 rows x 3 columns]"
            ]
          },
          "metadata": {
            "tags": []
          },
          "execution_count": 334
        }
      ]
    },
    {
      "cell_type": "code",
      "metadata": {
        "id": "L-r14zdj1Ag3"
      },
      "source": [
        ""
      ],
      "execution_count": null,
      "outputs": []
    },
    {
      "cell_type": "code",
      "metadata": {
        "colab": {
          "base_uri": "https://localhost:8080/",
          "height": 406
        },
        "id": "epV_vOTy1CCF",
        "outputId": "2476a904-df74-4439-c6d5-ff5b9e3e2029"
      },
      "source": [
        "df.dropna(axis=0,how='all',inplace=True)\r\n",
        "df"
      ],
      "execution_count": null,
      "outputs": [
        {
          "output_type": "execute_result",
          "data": {
            "text/html": [
              "<div>\n",
              "<style scoped>\n",
              "    .dataframe tbody tr th:only-of-type {\n",
              "        vertical-align: middle;\n",
              "    }\n",
              "\n",
              "    .dataframe tbody tr th {\n",
              "        vertical-align: top;\n",
              "    }\n",
              "\n",
              "    .dataframe thead th {\n",
              "        text-align: right;\n",
              "    }\n",
              "</style>\n",
              "<table border=\"1\" class=\"dataframe\">\n",
              "  <thead>\n",
              "    <tr style=\"text-align: right;\">\n",
              "      <th></th>\n",
              "      <th>Speaker_</th>\n",
              "      <th>content</th>\n",
              "      <th>duration</th>\n",
              "    </tr>\n",
              "  </thead>\n",
              "  <tbody>\n",
              "    <tr>\n",
              "      <th>2</th>\n",
              "      <td>Donald Trump</td>\n",
              "      <td>he media will not show the magnitude of this c...</td>\n",
              "      <td>(02:44)</td>\n",
              "    </tr>\n",
              "    <tr>\n",
              "      <th>4</th>\n",
              "      <td>Donald Trump</td>\n",
              "      <td>Our country has had enough. We will not take i...</td>\n",
              "      <td>(04:42)</td>\n",
              "    </tr>\n",
              "    <tr>\n",
              "      <th>5</th>\n",
              "      <td>Donald Trump</td>\n",
              "      <td>By the way, does anybody believe that Joe had ...</td>\n",
              "      <td>(06:08)</td>\n",
              "    </tr>\n",
              "    <tr>\n",
              "      <th>6</th>\n",
              "      <td>Crowd</td>\n",
              "      <td>Fight for Trump! Fight for Trump! Fight for Tr...</td>\n",
              "      <td>(07:11)</td>\n",
              "    </tr>\n",
              "    <tr>\n",
              "      <th>7</th>\n",
              "      <td>Donald Trump</td>\n",
              "      <td>Thank you. I’d love to have, if those tens of ...</td>\n",
              "      <td>(07:11)</td>\n",
              "    </tr>\n",
              "    <tr>\n",
              "      <th>...</th>\n",
              "      <td>...</td>\n",
              "      <td>...</td>\n",
              "      <td>...</td>\n",
              "    </tr>\n",
              "    <tr>\n",
              "      <th>81</th>\n",
              "      <td>Donald Trump</td>\n",
              "      <td>We did a great job in the wall. Remember the w...</td>\n",
              "      <td>(01:10:52)</td>\n",
              "    </tr>\n",
              "    <tr>\n",
              "      <th>82</th>\n",
              "      <td>Donald Trump</td>\n",
              "      <td>Our brightest days are before us, our greatest...</td>\n",
              "      <td>(01:11:44)</td>\n",
              "    </tr>\n",
              "    <tr>\n",
              "      <th>83</th>\n",
              "      <td>Donald Trump</td>\n",
              "      <td>Our exciting adventures and boldest endeavors ...</td>\n",
              "      <td>(01:12:21)</td>\n",
              "    </tr>\n",
              "    <tr>\n",
              "      <th>84</th>\n",
              "      <td>Donald Trump</td>\n",
              "      <td>So we’re going to, we’re going to walk down Pe...</td>\n",
              "      <td>(01:12:43)</td>\n",
              "    </tr>\n",
              "    <tr>\n",
              "      <th>85</th>\n",
              "      <td>Donald Trump</td>\n",
              "      <td>So let’s walk down Pennsylvania Avenue. I want...</td>\n",
              "      <td>(01:13:19)</td>\n",
              "    </tr>\n",
              "  </tbody>\n",
              "</table>\n",
              "<p>83 rows × 3 columns</p>\n",
              "</div>"
            ],
            "text/plain": [
              "        Speaker_                                            content    duration\n",
              "2   Donald Trump  he media will not show the magnitude of this c...     (02:44)\n",
              "4   Donald Trump  Our country has had enough. We will not take i...     (04:42)\n",
              "5   Donald Trump  By the way, does anybody believe that Joe had ...     (06:08)\n",
              "6          Crowd  Fight for Trump! Fight for Trump! Fight for Tr...     (07:11)\n",
              "7   Donald Trump  Thank you. I’d love to have, if those tens of ...     (07:11)\n",
              "..           ...                                                ...         ...\n",
              "81  Donald Trump  We did a great job in the wall. Remember the w...  (01:10:52)\n",
              "82  Donald Trump  Our brightest days are before us, our greatest...  (01:11:44)\n",
              "83  Donald Trump  Our exciting adventures and boldest endeavors ...  (01:12:21)\n",
              "84  Donald Trump  So we’re going to, we’re going to walk down Pe...  (01:12:43)\n",
              "85  Donald Trump  So let’s walk down Pennsylvania Avenue. I want...  (01:13:19)\n",
              "\n",
              "[83 rows x 3 columns]"
            ]
          },
          "metadata": {
            "tags": []
          },
          "execution_count": 335
        }
      ]
    },
    {
      "cell_type": "code",
      "metadata": {
        "id": "qdPaY2PhRqOE"
      },
      "source": [
        ""
      ],
      "execution_count": null,
      "outputs": []
    },
    {
      "cell_type": "markdown",
      "metadata": {
        "id": "7JPwIXLyRm6l"
      },
      "source": [
        "## Data cleaning like Removal of Spaces or Special character"
      ]
    },
    {
      "cell_type": "code",
      "metadata": {
        "id": "1c9RBzNMl9_a"
      },
      "source": [
        "df['content'] = df['content'].str.replace('\\d+', ' ')\r\n"
      ],
      "execution_count": null,
      "outputs": []
    },
    {
      "cell_type": "code",
      "metadata": {
        "colab": {
          "base_uri": "https://localhost:8080/",
          "height": 406
        },
        "id": "viwzA-GqmLhg",
        "outputId": "e4167624-1ad6-4737-bba2-a3a91b6df184"
      },
      "source": [
        "df"
      ],
      "execution_count": null,
      "outputs": [
        {
          "output_type": "execute_result",
          "data": {
            "text/html": [
              "<div>\n",
              "<style scoped>\n",
              "    .dataframe tbody tr th:only-of-type {\n",
              "        vertical-align: middle;\n",
              "    }\n",
              "\n",
              "    .dataframe tbody tr th {\n",
              "        vertical-align: top;\n",
              "    }\n",
              "\n",
              "    .dataframe thead th {\n",
              "        text-align: right;\n",
              "    }\n",
              "</style>\n",
              "<table border=\"1\" class=\"dataframe\">\n",
              "  <thead>\n",
              "    <tr style=\"text-align: right;\">\n",
              "      <th></th>\n",
              "      <th>Speaker_</th>\n",
              "      <th>content</th>\n",
              "      <th>duration</th>\n",
              "    </tr>\n",
              "  </thead>\n",
              "  <tbody>\n",
              "    <tr>\n",
              "      <th>2</th>\n",
              "      <td>Donald Trump</td>\n",
              "      <td>he media will not show the magnitude of this c...</td>\n",
              "      <td>(02:44)</td>\n",
              "    </tr>\n",
              "    <tr>\n",
              "      <th>4</th>\n",
              "      <td>Donald Trump</td>\n",
              "      <td>Our country has had enough. We will not take i...</td>\n",
              "      <td>(04:42)</td>\n",
              "    </tr>\n",
              "    <tr>\n",
              "      <th>5</th>\n",
              "      <td>Donald Trump</td>\n",
              "      <td>By the way, does anybody believe that Joe had ...</td>\n",
              "      <td>(06:08)</td>\n",
              "    </tr>\n",
              "    <tr>\n",
              "      <th>6</th>\n",
              "      <td>Crowd</td>\n",
              "      <td>Fight for Trump! Fight for Trump! Fight for Tr...</td>\n",
              "      <td>(07:11)</td>\n",
              "    </tr>\n",
              "    <tr>\n",
              "      <th>7</th>\n",
              "      <td>Donald Trump</td>\n",
              "      <td>Thank you. I’d love to have, if those tens of ...</td>\n",
              "      <td>(07:11)</td>\n",
              "    </tr>\n",
              "    <tr>\n",
              "      <th>...</th>\n",
              "      <td>...</td>\n",
              "      <td>...</td>\n",
              "      <td>...</td>\n",
              "    </tr>\n",
              "    <tr>\n",
              "      <th>81</th>\n",
              "      <td>Donald Trump</td>\n",
              "      <td>We did a great job in the wall. Remember the w...</td>\n",
              "      <td>(01:10:52)</td>\n",
              "    </tr>\n",
              "    <tr>\n",
              "      <th>82</th>\n",
              "      <td>Donald Trump</td>\n",
              "      <td>Our brightest days are before us, our greatest...</td>\n",
              "      <td>(01:11:44)</td>\n",
              "    </tr>\n",
              "    <tr>\n",
              "      <th>83</th>\n",
              "      <td>Donald Trump</td>\n",
              "      <td>Our exciting adventures and boldest endeavors ...</td>\n",
              "      <td>(01:12:21)</td>\n",
              "    </tr>\n",
              "    <tr>\n",
              "      <th>84</th>\n",
              "      <td>Donald Trump</td>\n",
              "      <td>So we’re going to, we’re going to walk down Pe...</td>\n",
              "      <td>(01:12:43)</td>\n",
              "    </tr>\n",
              "    <tr>\n",
              "      <th>85</th>\n",
              "      <td>Donald Trump</td>\n",
              "      <td>So let’s walk down Pennsylvania Avenue. I want...</td>\n",
              "      <td>(01:13:19)</td>\n",
              "    </tr>\n",
              "  </tbody>\n",
              "</table>\n",
              "<p>83 rows × 3 columns</p>\n",
              "</div>"
            ],
            "text/plain": [
              "        Speaker_                                            content    duration\n",
              "2   Donald Trump  he media will not show the magnitude of this c...     (02:44)\n",
              "4   Donald Trump  Our country has had enough. We will not take i...     (04:42)\n",
              "5   Donald Trump  By the way, does anybody believe that Joe had ...     (06:08)\n",
              "6          Crowd  Fight for Trump! Fight for Trump! Fight for Tr...     (07:11)\n",
              "7   Donald Trump  Thank you. I’d love to have, if those tens of ...     (07:11)\n",
              "..           ...                                                ...         ...\n",
              "81  Donald Trump  We did a great job in the wall. Remember the w...  (01:10:52)\n",
              "82  Donald Trump  Our brightest days are before us, our greatest...  (01:11:44)\n",
              "83  Donald Trump  Our exciting adventures and boldest endeavors ...  (01:12:21)\n",
              "84  Donald Trump  So we’re going to, we’re going to walk down Pe...  (01:12:43)\n",
              "85  Donald Trump  So let’s walk down Pennsylvania Avenue. I want...  (01:13:19)\n",
              "\n",
              "[83 rows x 3 columns]"
            ]
          },
          "metadata": {
            "tags": []
          },
          "execution_count": 337
        }
      ]
    },
    {
      "cell_type": "code",
      "metadata": {
        "id": "FMlcq-Hen1V1"
      },
      "source": [
        "df['content'] = df['content'].str.replace('[^0-9a-zA-Z]+', ' ')\r\n"
      ],
      "execution_count": null,
      "outputs": []
    },
    {
      "cell_type": "code",
      "metadata": {
        "colab": {
          "base_uri": "https://localhost:8080/",
          "height": 406
        },
        "id": "d7lH4YUloE_r",
        "outputId": "26069e3f-4057-40ab-d4f5-4c07f57735a2"
      },
      "source": [
        "df"
      ],
      "execution_count": null,
      "outputs": [
        {
          "output_type": "execute_result",
          "data": {
            "text/html": [
              "<div>\n",
              "<style scoped>\n",
              "    .dataframe tbody tr th:only-of-type {\n",
              "        vertical-align: middle;\n",
              "    }\n",
              "\n",
              "    .dataframe tbody tr th {\n",
              "        vertical-align: top;\n",
              "    }\n",
              "\n",
              "    .dataframe thead th {\n",
              "        text-align: right;\n",
              "    }\n",
              "</style>\n",
              "<table border=\"1\" class=\"dataframe\">\n",
              "  <thead>\n",
              "    <tr style=\"text-align: right;\">\n",
              "      <th></th>\n",
              "      <th>Speaker_</th>\n",
              "      <th>content</th>\n",
              "      <th>duration</th>\n",
              "    </tr>\n",
              "  </thead>\n",
              "  <tbody>\n",
              "    <tr>\n",
              "      <th>2</th>\n",
              "      <td>Donald Trump</td>\n",
              "      <td>he media will not show the magnitude of this c...</td>\n",
              "      <td>(02:44)</td>\n",
              "    </tr>\n",
              "    <tr>\n",
              "      <th>4</th>\n",
              "      <td>Donald Trump</td>\n",
              "      <td>Our country has had enough We will not take it...</td>\n",
              "      <td>(04:42)</td>\n",
              "    </tr>\n",
              "    <tr>\n",
              "      <th>5</th>\n",
              "      <td>Donald Trump</td>\n",
              "      <td>By the way does anybody believe that Joe had m...</td>\n",
              "      <td>(06:08)</td>\n",
              "    </tr>\n",
              "    <tr>\n",
              "      <th>6</th>\n",
              "      <td>Crowd</td>\n",
              "      <td>Fight for Trump Fight for Trump Fight for Trump</td>\n",
              "      <td>(07:11)</td>\n",
              "    </tr>\n",
              "    <tr>\n",
              "      <th>7</th>\n",
              "      <td>Donald Trump</td>\n",
              "      <td>Thank you I d love to have if those tens of th...</td>\n",
              "      <td>(07:11)</td>\n",
              "    </tr>\n",
              "    <tr>\n",
              "      <th>...</th>\n",
              "      <td>...</td>\n",
              "      <td>...</td>\n",
              "      <td>...</td>\n",
              "    </tr>\n",
              "    <tr>\n",
              "      <th>81</th>\n",
              "      <td>Donald Trump</td>\n",
              "      <td>We did a great job in the wall Remember the wa...</td>\n",
              "      <td>(01:10:52)</td>\n",
              "    </tr>\n",
              "    <tr>\n",
              "      <th>82</th>\n",
              "      <td>Donald Trump</td>\n",
              "      <td>Our brightest days are before us our greatest ...</td>\n",
              "      <td>(01:11:44)</td>\n",
              "    </tr>\n",
              "    <tr>\n",
              "      <th>83</th>\n",
              "      <td>Donald Trump</td>\n",
              "      <td>Our exciting adventures and boldest endeavors ...</td>\n",
              "      <td>(01:12:21)</td>\n",
              "    </tr>\n",
              "    <tr>\n",
              "      <th>84</th>\n",
              "      <td>Donald Trump</td>\n",
              "      <td>So we re going to we re going to walk down Pen...</td>\n",
              "      <td>(01:12:43)</td>\n",
              "    </tr>\n",
              "    <tr>\n",
              "      <th>85</th>\n",
              "      <td>Donald Trump</td>\n",
              "      <td>So let s walk down Pennsylvania Avenue I want ...</td>\n",
              "      <td>(01:13:19)</td>\n",
              "    </tr>\n",
              "  </tbody>\n",
              "</table>\n",
              "<p>83 rows × 3 columns</p>\n",
              "</div>"
            ],
            "text/plain": [
              "        Speaker_                                            content    duration\n",
              "2   Donald Trump  he media will not show the magnitude of this c...     (02:44)\n",
              "4   Donald Trump  Our country has had enough We will not take it...     (04:42)\n",
              "5   Donald Trump  By the way does anybody believe that Joe had m...     (06:08)\n",
              "6          Crowd   Fight for Trump Fight for Trump Fight for Trump      (07:11)\n",
              "7   Donald Trump  Thank you I d love to have if those tens of th...     (07:11)\n",
              "..           ...                                                ...         ...\n",
              "81  Donald Trump  We did a great job in the wall Remember the wa...  (01:10:52)\n",
              "82  Donald Trump  Our brightest days are before us our greatest ...  (01:11:44)\n",
              "83  Donald Trump  Our exciting adventures and boldest endeavors ...  (01:12:21)\n",
              "84  Donald Trump  So we re going to we re going to walk down Pen...  (01:12:43)\n",
              "85  Donald Trump  So let s walk down Pennsylvania Avenue I want ...  (01:13:19)\n",
              "\n",
              "[83 rows x 3 columns]"
            ]
          },
          "metadata": {
            "tags": []
          },
          "execution_count": 339
        }
      ]
    },
    {
      "cell_type": "code",
      "metadata": {
        "id": "UCebr4JpsPE5"
      },
      "source": [
        "df['content'] = df['content'].str.lower()\r\n"
      ],
      "execution_count": null,
      "outputs": []
    },
    {
      "cell_type": "code",
      "metadata": {
        "colab": {
          "base_uri": "https://localhost:8080/",
          "height": 406
        },
        "id": "fqyKr3fVh_uK",
        "outputId": "08a22155-5bfc-4efe-cb06-2b93d081a1f5"
      },
      "source": [
        "df"
      ],
      "execution_count": null,
      "outputs": [
        {
          "output_type": "execute_result",
          "data": {
            "text/html": [
              "<div>\n",
              "<style scoped>\n",
              "    .dataframe tbody tr th:only-of-type {\n",
              "        vertical-align: middle;\n",
              "    }\n",
              "\n",
              "    .dataframe tbody tr th {\n",
              "        vertical-align: top;\n",
              "    }\n",
              "\n",
              "    .dataframe thead th {\n",
              "        text-align: right;\n",
              "    }\n",
              "</style>\n",
              "<table border=\"1\" class=\"dataframe\">\n",
              "  <thead>\n",
              "    <tr style=\"text-align: right;\">\n",
              "      <th></th>\n",
              "      <th>Speaker_</th>\n",
              "      <th>content</th>\n",
              "      <th>duration</th>\n",
              "    </tr>\n",
              "  </thead>\n",
              "  <tbody>\n",
              "    <tr>\n",
              "      <th>2</th>\n",
              "      <td>Donald Trump</td>\n",
              "      <td>he media will not show the magnitude of this c...</td>\n",
              "      <td>(02:44)</td>\n",
              "    </tr>\n",
              "    <tr>\n",
              "      <th>4</th>\n",
              "      <td>Donald Trump</td>\n",
              "      <td>our country has had enough we will not take it...</td>\n",
              "      <td>(04:42)</td>\n",
              "    </tr>\n",
              "    <tr>\n",
              "      <th>5</th>\n",
              "      <td>Donald Trump</td>\n",
              "      <td>by the way does anybody believe that joe had m...</td>\n",
              "      <td>(06:08)</td>\n",
              "    </tr>\n",
              "    <tr>\n",
              "      <th>6</th>\n",
              "      <td>Crowd</td>\n",
              "      <td>fight for trump fight for trump fight for trump</td>\n",
              "      <td>(07:11)</td>\n",
              "    </tr>\n",
              "    <tr>\n",
              "      <th>7</th>\n",
              "      <td>Donald Trump</td>\n",
              "      <td>thank you i d love to have if those tens of th...</td>\n",
              "      <td>(07:11)</td>\n",
              "    </tr>\n",
              "    <tr>\n",
              "      <th>...</th>\n",
              "      <td>...</td>\n",
              "      <td>...</td>\n",
              "      <td>...</td>\n",
              "    </tr>\n",
              "    <tr>\n",
              "      <th>81</th>\n",
              "      <td>Donald Trump</td>\n",
              "      <td>we did a great job in the wall remember the wa...</td>\n",
              "      <td>(01:10:52)</td>\n",
              "    </tr>\n",
              "    <tr>\n",
              "      <th>82</th>\n",
              "      <td>Donald Trump</td>\n",
              "      <td>our brightest days are before us our greatest ...</td>\n",
              "      <td>(01:11:44)</td>\n",
              "    </tr>\n",
              "    <tr>\n",
              "      <th>83</th>\n",
              "      <td>Donald Trump</td>\n",
              "      <td>our exciting adventures and boldest endeavors ...</td>\n",
              "      <td>(01:12:21)</td>\n",
              "    </tr>\n",
              "    <tr>\n",
              "      <th>84</th>\n",
              "      <td>Donald Trump</td>\n",
              "      <td>so we re going to we re going to walk down pen...</td>\n",
              "      <td>(01:12:43)</td>\n",
              "    </tr>\n",
              "    <tr>\n",
              "      <th>85</th>\n",
              "      <td>Donald Trump</td>\n",
              "      <td>so let s walk down pennsylvania avenue i want ...</td>\n",
              "      <td>(01:13:19)</td>\n",
              "    </tr>\n",
              "  </tbody>\n",
              "</table>\n",
              "<p>83 rows × 3 columns</p>\n",
              "</div>"
            ],
            "text/plain": [
              "        Speaker_                                            content    duration\n",
              "2   Donald Trump  he media will not show the magnitude of this c...     (02:44)\n",
              "4   Donald Trump  our country has had enough we will not take it...     (04:42)\n",
              "5   Donald Trump  by the way does anybody believe that joe had m...     (06:08)\n",
              "6          Crowd   fight for trump fight for trump fight for trump      (07:11)\n",
              "7   Donald Trump  thank you i d love to have if those tens of th...     (07:11)\n",
              "..           ...                                                ...         ...\n",
              "81  Donald Trump  we did a great job in the wall remember the wa...  (01:10:52)\n",
              "82  Donald Trump  our brightest days are before us our greatest ...  (01:11:44)\n",
              "83  Donald Trump  our exciting adventures and boldest endeavors ...  (01:12:21)\n",
              "84  Donald Trump  so we re going to we re going to walk down pen...  (01:12:43)\n",
              "85  Donald Trump  so let s walk down pennsylvania avenue i want ...  (01:13:19)\n",
              "\n",
              "[83 rows x 3 columns]"
            ]
          },
          "metadata": {
            "tags": []
          },
          "execution_count": 341
        }
      ]
    },
    {
      "cell_type": "code",
      "metadata": {
        "id": "9iYO1yc1R3DX"
      },
      "source": [
        ""
      ],
      "execution_count": null,
      "outputs": []
    },
    {
      "cell_type": "markdown",
      "metadata": {
        "id": "-D_Y_V7pR4j3"
      },
      "source": [
        "### Important Task like removing Stopwords, Lemmanising, Tokenising"
      ]
    },
    {
      "cell_type": "code",
      "metadata": {
        "id": "5JhU-8MPttoV"
      },
      "source": [
        "import nltk\r\n"
      ],
      "execution_count": null,
      "outputs": []
    },
    {
      "cell_type": "code",
      "metadata": {
        "id": "A6uN-OKnt1Rt"
      },
      "source": [
        "from nltk.corpus import stopwords\r\n"
      ],
      "execution_count": null,
      "outputs": []
    },
    {
      "cell_type": "code",
      "metadata": {
        "colab": {
          "base_uri": "https://localhost:8080/"
        },
        "id": "7eaD8Y7dxAIY",
        "outputId": "38e2110d-0915-4fb7-ec2e-c494feef4f91"
      },
      "source": [
        "import nltk\r\n",
        "nltk.download('punkt')\r\n",
        "from nltk.tokenize import RegexpTokenizer\r\n",
        "from nltk.corpus import stopwords\r\n",
        "from nltk.stem.porter import PorterStemmer\r\n",
        "nltk.download('stopwords')"
      ],
      "execution_count": null,
      "outputs": [
        {
          "output_type": "stream",
          "text": [
            "[nltk_data] Downloading package punkt to /root/nltk_data...\n",
            "[nltk_data]   Package punkt is already up-to-date!\n",
            "[nltk_data] Downloading package stopwords to /root/nltk_data...\n",
            "[nltk_data]   Package stopwords is already up-to-date!\n"
          ],
          "name": "stdout"
        },
        {
          "output_type": "execute_result",
          "data": {
            "text/plain": [
              "True"
            ]
          },
          "metadata": {
            "tags": []
          },
          "execution_count": 344
        }
      ]
    },
    {
      "cell_type": "code",
      "metadata": {
        "id": "P5EIQuNknbE-"
      },
      "source": [
        "from nltk.corpus import stopwords\r\n",
        "stop = stopwords.words('english')\r\n",
        "stopwords = nltk.corpus.stopwords.words(\"english\")\r\n",
        "df['without_stopwords'] = df['content'].apply(lambda x: ' '.join([word for word in x.split() if word not in (stopwords)]))"
      ],
      "execution_count": null,
      "outputs": []
    },
    {
      "cell_type": "code",
      "metadata": {
        "colab": {
          "base_uri": "https://localhost:8080/",
          "height": 406
        },
        "id": "c3S-dstcoHhe",
        "outputId": "cdddda7d-cec5-42f1-f9f4-7e5365a5bb6c"
      },
      "source": [
        "df"
      ],
      "execution_count": null,
      "outputs": [
        {
          "output_type": "execute_result",
          "data": {
            "text/html": [
              "<div>\n",
              "<style scoped>\n",
              "    .dataframe tbody tr th:only-of-type {\n",
              "        vertical-align: middle;\n",
              "    }\n",
              "\n",
              "    .dataframe tbody tr th {\n",
              "        vertical-align: top;\n",
              "    }\n",
              "\n",
              "    .dataframe thead th {\n",
              "        text-align: right;\n",
              "    }\n",
              "</style>\n",
              "<table border=\"1\" class=\"dataframe\">\n",
              "  <thead>\n",
              "    <tr style=\"text-align: right;\">\n",
              "      <th></th>\n",
              "      <th>Speaker_</th>\n",
              "      <th>content</th>\n",
              "      <th>duration</th>\n",
              "      <th>without_stopwords</th>\n",
              "    </tr>\n",
              "  </thead>\n",
              "  <tbody>\n",
              "    <tr>\n",
              "      <th>2</th>\n",
              "      <td>Donald Trump</td>\n",
              "      <td>he media will not show the magnitude of this c...</td>\n",
              "      <td>(02:44)</td>\n",
              "      <td>media show magnitude crowd even turned today l...</td>\n",
              "    </tr>\n",
              "    <tr>\n",
              "      <th>4</th>\n",
              "      <td>Donald Trump</td>\n",
              "      <td>our country has had enough we will not take it...</td>\n",
              "      <td>(04:42)</td>\n",
              "      <td>country enough take anymore use favorite term ...</td>\n",
              "    </tr>\n",
              "    <tr>\n",
              "      <th>5</th>\n",
              "      <td>Donald Trump</td>\n",
              "      <td>by the way does anybody believe that joe had m...</td>\n",
              "      <td>(06:08)</td>\n",
              "      <td>way anybody believe joe million votes anybody ...</td>\n",
              "    </tr>\n",
              "    <tr>\n",
              "      <th>6</th>\n",
              "      <td>Crowd</td>\n",
              "      <td>fight for trump fight for trump fight for trump</td>\n",
              "      <td>(07:11)</td>\n",
              "      <td>fight trump fight trump fight trump</td>\n",
              "    </tr>\n",
              "    <tr>\n",
              "      <th>7</th>\n",
              "      <td>Donald Trump</td>\n",
              "      <td>thank you i d love to have if those tens of th...</td>\n",
              "      <td>(07:11)</td>\n",
              "      <td>thank love tens thousands people would allowed...</td>\n",
              "    </tr>\n",
              "    <tr>\n",
              "      <th>...</th>\n",
              "      <td>...</td>\n",
              "      <td>...</td>\n",
              "      <td>...</td>\n",
              "      <td>...</td>\n",
              "    </tr>\n",
              "    <tr>\n",
              "      <th>81</th>\n",
              "      <td>Donald Trump</td>\n",
              "      <td>we did a great job in the wall remember the wa...</td>\n",
              "      <td>(01:10:52)</td>\n",
              "      <td>great job wall remember wall said could never ...</td>\n",
              "    </tr>\n",
              "    <tr>\n",
              "      <th>82</th>\n",
              "      <td>Donald Trump</td>\n",
              "      <td>our brightest days are before us our greatest ...</td>\n",
              "      <td>(01:11:44)</td>\n",
              "      <td>brightest days us greatest achievements still ...</td>\n",
              "    </tr>\n",
              "    <tr>\n",
              "      <th>83</th>\n",
              "      <td>Donald Trump</td>\n",
              "      <td>our exciting adventures and boldest endeavors ...</td>\n",
              "      <td>(01:12:21)</td>\n",
              "      <td>exciting adventures boldest endeavors yet begu...</td>\n",
              "    </tr>\n",
              "    <tr>\n",
              "      <th>84</th>\n",
              "      <td>Donald Trump</td>\n",
              "      <td>so we re going to we re going to walk down pen...</td>\n",
              "      <td>(01:12:43)</td>\n",
              "      <td>going going walk pennsylvania avenue love penn...</td>\n",
              "    </tr>\n",
              "    <tr>\n",
              "      <th>85</th>\n",
              "      <td>Donald Trump</td>\n",
              "      <td>so let s walk down pennsylvania avenue i want ...</td>\n",
              "      <td>(01:13:19)</td>\n",
              "      <td>let walk pennsylvania avenue want thank god bl...</td>\n",
              "    </tr>\n",
              "  </tbody>\n",
              "</table>\n",
              "<p>83 rows × 4 columns</p>\n",
              "</div>"
            ],
            "text/plain": [
              "        Speaker_  ...                                  without_stopwords\n",
              "2   Donald Trump  ...  media show magnitude crowd even turned today l...\n",
              "4   Donald Trump  ...  country enough take anymore use favorite term ...\n",
              "5   Donald Trump  ...  way anybody believe joe million votes anybody ...\n",
              "6          Crowd  ...                fight trump fight trump fight trump\n",
              "7   Donald Trump  ...  thank love tens thousands people would allowed...\n",
              "..           ...  ...                                                ...\n",
              "81  Donald Trump  ...  great job wall remember wall said could never ...\n",
              "82  Donald Trump  ...  brightest days us greatest achievements still ...\n",
              "83  Donald Trump  ...  exciting adventures boldest endeavors yet begu...\n",
              "84  Donald Trump  ...  going going walk pennsylvania avenue love penn...\n",
              "85  Donald Trump  ...  let walk pennsylvania avenue want thank god bl...\n",
              "\n",
              "[83 rows x 4 columns]"
            ]
          },
          "metadata": {
            "tags": []
          },
          "execution_count": 346
        }
      ]
    },
    {
      "cell_type": "markdown",
      "metadata": {
        "id": "G-V0ntfKSJvy"
      },
      "source": [
        "## Polarity Analysis on every duration"
      ]
    },
    {
      "cell_type": "code",
      "metadata": {
        "id": "E08WU10eAZe3"
      },
      "source": [
        "from textblob import TextBlob"
      ],
      "execution_count": null,
      "outputs": []
    },
    {
      "cell_type": "code",
      "metadata": {
        "id": "Px3XWFZ5cVq4"
      },
      "source": [
        "def senti(x):\r\n",
        "    return TextBlob(x).polarity\r\n",
        "\r\n",
        "df['polarity_content'] = df['content'].apply(senti)\r\n",
        "\r\n",
        "\r\n",
        "  "
      ],
      "execution_count": null,
      "outputs": []
    },
    {
      "cell_type": "code",
      "metadata": {
        "colab": {
          "base_uri": "https://localhost:8080/",
          "height": 406
        },
        "id": "0I3WiOV6nWgX",
        "outputId": "9586717c-231d-47b6-fd24-11edfa7fba71"
      },
      "source": [
        "df"
      ],
      "execution_count": null,
      "outputs": [
        {
          "output_type": "execute_result",
          "data": {
            "text/html": [
              "<div>\n",
              "<style scoped>\n",
              "    .dataframe tbody tr th:only-of-type {\n",
              "        vertical-align: middle;\n",
              "    }\n",
              "\n",
              "    .dataframe tbody tr th {\n",
              "        vertical-align: top;\n",
              "    }\n",
              "\n",
              "    .dataframe thead th {\n",
              "        text-align: right;\n",
              "    }\n",
              "</style>\n",
              "<table border=\"1\" class=\"dataframe\">\n",
              "  <thead>\n",
              "    <tr style=\"text-align: right;\">\n",
              "      <th></th>\n",
              "      <th>Speaker_</th>\n",
              "      <th>content</th>\n",
              "      <th>duration</th>\n",
              "      <th>without_stopwords</th>\n",
              "      <th>polarity_content</th>\n",
              "    </tr>\n",
              "  </thead>\n",
              "  <tbody>\n",
              "    <tr>\n",
              "      <th>2</th>\n",
              "      <td>Donald Trump</td>\n",
              "      <td>he media will not show the magnitude of this c...</td>\n",
              "      <td>(02:44)</td>\n",
              "      <td>media show magnitude crowd even turned today l...</td>\n",
              "      <td>0.092208</td>\n",
              "    </tr>\n",
              "    <tr>\n",
              "      <th>4</th>\n",
              "      <td>Donald Trump</td>\n",
              "      <td>our country has had enough we will not take it...</td>\n",
              "      <td>(04:42)</td>\n",
              "      <td>country enough take anymore use favorite term ...</td>\n",
              "      <td>0.270833</td>\n",
              "    </tr>\n",
              "    <tr>\n",
              "      <th>5</th>\n",
              "      <td>Donald Trump</td>\n",
              "      <td>by the way does anybody believe that joe had m...</td>\n",
              "      <td>(06:08)</td>\n",
              "      <td>way anybody believe joe million votes anybody ...</td>\n",
              "      <td>0.220000</td>\n",
              "    </tr>\n",
              "    <tr>\n",
              "      <th>6</th>\n",
              "      <td>Crowd</td>\n",
              "      <td>fight for trump fight for trump fight for trump</td>\n",
              "      <td>(07:11)</td>\n",
              "      <td>fight trump fight trump fight trump</td>\n",
              "      <td>0.000000</td>\n",
              "    </tr>\n",
              "    <tr>\n",
              "      <th>7</th>\n",
              "      <td>Donald Trump</td>\n",
              "      <td>thank you i d love to have if those tens of th...</td>\n",
              "      <td>(07:11)</td>\n",
              "      <td>thank love tens thousands people would allowed...</td>\n",
              "      <td>0.337122</td>\n",
              "    </tr>\n",
              "    <tr>\n",
              "      <th>...</th>\n",
              "      <td>...</td>\n",
              "      <td>...</td>\n",
              "      <td>...</td>\n",
              "      <td>...</td>\n",
              "      <td>...</td>\n",
              "    </tr>\n",
              "    <tr>\n",
              "      <th>81</th>\n",
              "      <td>Donald Trump</td>\n",
              "      <td>we did a great job in the wall remember the wa...</td>\n",
              "      <td>(01:10:52)</td>\n",
              "      <td>great job wall remember wall said could never ...</td>\n",
              "      <td>0.356970</td>\n",
              "    </tr>\n",
              "    <tr>\n",
              "      <th>82</th>\n",
              "      <td>Donald Trump</td>\n",
              "      <td>our brightest days are before us our greatest ...</td>\n",
              "      <td>(01:11:44)</td>\n",
              "      <td>brightest days us greatest achievements still ...</td>\n",
              "      <td>0.116875</td>\n",
              "    </tr>\n",
              "    <tr>\n",
              "      <th>83</th>\n",
              "      <td>Donald Trump</td>\n",
              "      <td>our exciting adventures and boldest endeavors ...</td>\n",
              "      <td>(01:12:21)</td>\n",
              "      <td>exciting adventures boldest endeavors yet begu...</td>\n",
              "      <td>0.666667</td>\n",
              "    </tr>\n",
              "    <tr>\n",
              "      <th>84</th>\n",
              "      <td>Donald Trump</td>\n",
              "      <td>so we re going to we re going to walk down pen...</td>\n",
              "      <td>(01:12:43)</td>\n",
              "      <td>going going walk pennsylvania avenue love penn...</td>\n",
              "      <td>0.167130</td>\n",
              "    </tr>\n",
              "    <tr>\n",
              "      <th>85</th>\n",
              "      <td>Donald Trump</td>\n",
              "      <td>so let s walk down pennsylvania avenue i want ...</td>\n",
              "      <td>(01:13:19)</td>\n",
              "      <td>let walk pennsylvania avenue want thank god bl...</td>\n",
              "      <td>0.334815</td>\n",
              "    </tr>\n",
              "  </tbody>\n",
              "</table>\n",
              "<p>83 rows × 5 columns</p>\n",
              "</div>"
            ],
            "text/plain": [
              "        Speaker_  ... polarity_content\n",
              "2   Donald Trump  ...         0.092208\n",
              "4   Donald Trump  ...         0.270833\n",
              "5   Donald Trump  ...         0.220000\n",
              "6          Crowd  ...         0.000000\n",
              "7   Donald Trump  ...         0.337122\n",
              "..           ...  ...              ...\n",
              "81  Donald Trump  ...         0.356970\n",
              "82  Donald Trump  ...         0.116875\n",
              "83  Donald Trump  ...         0.666667\n",
              "84  Donald Trump  ...         0.167130\n",
              "85  Donald Trump  ...         0.334815\n",
              "\n",
              "[83 rows x 5 columns]"
            ]
          },
          "metadata": {
            "tags": []
          },
          "execution_count": 349
        }
      ]
    },
    {
      "cell_type": "markdown",
      "metadata": {
        "id": "Fg9N-N93S4CD"
      },
      "source": [
        "## Sentiment  Analysis on every duration which displays Polarity & Subjectivity for every **duration**"
      ]
    },
    {
      "cell_type": "code",
      "metadata": {
        "colab": {
          "base_uri": "https://localhost:8080/"
        },
        "id": "2ve3tPZZzzCk",
        "outputId": "b0758473-4c5e-4d65-af83-ee6db5656045"
      },
      "source": [
        "def sentii(x):\r\n",
        "    return TextBlob(x).sentiment\r\n",
        "\r\n",
        "df['senti_score'] = df['content'].apply(sentii)\r\n",
        "\r\n",
        "df.senti_score.head()\r\n",
        "  "
      ],
      "execution_count": null,
      "outputs": [
        {
          "output_type": "execute_result",
          "data": {
            "text/plain": [
              "2     (0.09220779220779222, 0.5658008658008657)\n",
              "4      (0.2708333333333333, 0.4611111111111111)\n",
              "5    (0.22000000000000003, 0.29333333333333333)\n",
              "6                                    (0.0, 0.0)\n",
              "7     (0.33712169312169316, 0.6786031746031747)\n",
              "Name: senti_score, dtype: object"
            ]
          },
          "metadata": {
            "tags": []
          },
          "execution_count": 350
        }
      ]
    },
    {
      "cell_type": "markdown",
      "metadata": {
        "id": "xsv6Uah6TPWm"
      },
      "source": [
        "## Subjectivity  Analysis on every duration which displays  Subjectivity for every **duration**"
      ]
    },
    {
      "cell_type": "code",
      "metadata": {
        "id": "F3s44_AqmaPQ"
      },
      "source": [
        "def sub(x):\r\n",
        "    return TextBlob(x).subjectivity\r\n",
        "\r\n",
        "df['subjec_content'] = df['content'].apply(sub)\r\n",
        "\r\n",
        "\r\n",
        "  "
      ],
      "execution_count": null,
      "outputs": []
    },
    {
      "cell_type": "code",
      "metadata": {
        "colab": {
          "base_uri": "https://localhost:8080/",
          "height": 406
        },
        "id": "qrCNiymN0FTe",
        "outputId": "28baf878-8c0c-4c5c-c99f-d1698faafa90"
      },
      "source": [
        "df"
      ],
      "execution_count": null,
      "outputs": [
        {
          "output_type": "execute_result",
          "data": {
            "text/html": [
              "<div>\n",
              "<style scoped>\n",
              "    .dataframe tbody tr th:only-of-type {\n",
              "        vertical-align: middle;\n",
              "    }\n",
              "\n",
              "    .dataframe tbody tr th {\n",
              "        vertical-align: top;\n",
              "    }\n",
              "\n",
              "    .dataframe thead th {\n",
              "        text-align: right;\n",
              "    }\n",
              "</style>\n",
              "<table border=\"1\" class=\"dataframe\">\n",
              "  <thead>\n",
              "    <tr style=\"text-align: right;\">\n",
              "      <th></th>\n",
              "      <th>Speaker_</th>\n",
              "      <th>content</th>\n",
              "      <th>duration</th>\n",
              "      <th>without_stopwords</th>\n",
              "      <th>polarity_content</th>\n",
              "      <th>senti_score</th>\n",
              "      <th>subjec_content</th>\n",
              "    </tr>\n",
              "  </thead>\n",
              "  <tbody>\n",
              "    <tr>\n",
              "      <th>2</th>\n",
              "      <td>Donald Trump</td>\n",
              "      <td>he media will not show the magnitude of this c...</td>\n",
              "      <td>(02:44)</td>\n",
              "      <td>media show magnitude crowd even turned today l...</td>\n",
              "      <td>0.092208</td>\n",
              "      <td>(0.09220779220779222, 0.5658008658008657)</td>\n",
              "      <td>0.565801</td>\n",
              "    </tr>\n",
              "    <tr>\n",
              "      <th>4</th>\n",
              "      <td>Donald Trump</td>\n",
              "      <td>our country has had enough we will not take it...</td>\n",
              "      <td>(04:42)</td>\n",
              "      <td>country enough take anymore use favorite term ...</td>\n",
              "      <td>0.270833</td>\n",
              "      <td>(0.2708333333333333, 0.4611111111111111)</td>\n",
              "      <td>0.461111</td>\n",
              "    </tr>\n",
              "    <tr>\n",
              "      <th>5</th>\n",
              "      <td>Donald Trump</td>\n",
              "      <td>by the way does anybody believe that joe had m...</td>\n",
              "      <td>(06:08)</td>\n",
              "      <td>way anybody believe joe million votes anybody ...</td>\n",
              "      <td>0.220000</td>\n",
              "      <td>(0.22000000000000003, 0.29333333333333333)</td>\n",
              "      <td>0.293333</td>\n",
              "    </tr>\n",
              "    <tr>\n",
              "      <th>6</th>\n",
              "      <td>Crowd</td>\n",
              "      <td>fight for trump fight for trump fight for trump</td>\n",
              "      <td>(07:11)</td>\n",
              "      <td>fight trump fight trump fight trump</td>\n",
              "      <td>0.000000</td>\n",
              "      <td>(0.0, 0.0)</td>\n",
              "      <td>0.000000</td>\n",
              "    </tr>\n",
              "    <tr>\n",
              "      <th>7</th>\n",
              "      <td>Donald Trump</td>\n",
              "      <td>thank you i d love to have if those tens of th...</td>\n",
              "      <td>(07:11)</td>\n",
              "      <td>thank love tens thousands people would allowed...</td>\n",
              "      <td>0.337122</td>\n",
              "      <td>(0.33712169312169316, 0.6786031746031747)</td>\n",
              "      <td>0.678603</td>\n",
              "    </tr>\n",
              "    <tr>\n",
              "      <th>...</th>\n",
              "      <td>...</td>\n",
              "      <td>...</td>\n",
              "      <td>...</td>\n",
              "      <td>...</td>\n",
              "      <td>...</td>\n",
              "      <td>...</td>\n",
              "      <td>...</td>\n",
              "    </tr>\n",
              "    <tr>\n",
              "      <th>81</th>\n",
              "      <td>Donald Trump</td>\n",
              "      <td>we did a great job in the wall remember the wa...</td>\n",
              "      <td>(01:10:52)</td>\n",
              "      <td>great job wall remember wall said could never ...</td>\n",
              "      <td>0.356970</td>\n",
              "      <td>(0.35696969696969694, 0.69)</td>\n",
              "      <td>0.690000</td>\n",
              "    </tr>\n",
              "    <tr>\n",
              "      <th>82</th>\n",
              "      <td>Donald Trump</td>\n",
              "      <td>our brightest days are before us our greatest ...</td>\n",
              "      <td>(01:11:44)</td>\n",
              "      <td>brightest days us greatest achievements still ...</td>\n",
              "      <td>0.116875</td>\n",
              "      <td>(0.116875, 0.7106250000000001)</td>\n",
              "      <td>0.710625</td>\n",
              "    </tr>\n",
              "    <tr>\n",
              "      <th>83</th>\n",
              "      <td>Donald Trump</td>\n",
              "      <td>our exciting adventures and boldest endeavors ...</td>\n",
              "      <td>(01:12:21)</td>\n",
              "      <td>exciting adventures boldest endeavors yet begu...</td>\n",
              "      <td>0.666667</td>\n",
              "      <td>(0.6666666666666666, 0.7000000000000001)</td>\n",
              "      <td>0.700000</td>\n",
              "    </tr>\n",
              "    <tr>\n",
              "      <th>84</th>\n",
              "      <td>Donald Trump</td>\n",
              "      <td>so we re going to we re going to walk down pen...</td>\n",
              "      <td>(01:12:43)</td>\n",
              "      <td>going going walk pennsylvania avenue love penn...</td>\n",
              "      <td>0.167130</td>\n",
              "      <td>(0.16712962962962963, 0.524537037037037)</td>\n",
              "      <td>0.524537</td>\n",
              "    </tr>\n",
              "    <tr>\n",
              "      <th>85</th>\n",
              "      <td>Donald Trump</td>\n",
              "      <td>so let s walk down pennsylvania avenue i want ...</td>\n",
              "      <td>(01:13:19)</td>\n",
              "      <td>let walk pennsylvania avenue want thank god bl...</td>\n",
              "      <td>0.334815</td>\n",
              "      <td>(0.33481481481481484, 0.482962962962963)</td>\n",
              "      <td>0.482963</td>\n",
              "    </tr>\n",
              "  </tbody>\n",
              "</table>\n",
              "<p>83 rows × 7 columns</p>\n",
              "</div>"
            ],
            "text/plain": [
              "        Speaker_  ... subjec_content\n",
              "2   Donald Trump  ...       0.565801\n",
              "4   Donald Trump  ...       0.461111\n",
              "5   Donald Trump  ...       0.293333\n",
              "6          Crowd  ...       0.000000\n",
              "7   Donald Trump  ...       0.678603\n",
              "..           ...  ...            ...\n",
              "81  Donald Trump  ...       0.690000\n",
              "82  Donald Trump  ...       0.710625\n",
              "83  Donald Trump  ...       0.700000\n",
              "84  Donald Trump  ...       0.524537\n",
              "85  Donald Trump  ...       0.482963\n",
              "\n",
              "[83 rows x 7 columns]"
            ]
          },
          "metadata": {
            "tags": []
          },
          "execution_count": 352
        }
      ]
    },
    {
      "cell_type": "markdown",
      "metadata": {
        "id": "qJWk58CAcBiO"
      },
      "source": [
        "## Import Libraries for Visualisation Analysis on whole Speech"
      ]
    },
    {
      "cell_type": "code",
      "metadata": {
        "id": "QXC8wRR25KM6"
      },
      "source": [
        "import matplotlib.pyplot as plt\r\n",
        "import seaborn as sns"
      ],
      "execution_count": null,
      "outputs": []
    },
    {
      "cell_type": "code",
      "metadata": {
        "colab": {
          "base_uri": "https://localhost:8080/",
          "height": 364
        },
        "id": "XWHcilWn5ORK",
        "outputId": "ab790fff-8115-4222-94ba-17a86721fe45"
      },
      "source": [
        "g = sns.relplot(x=\"duration\", y=\"polarity_content\", kind=\"scatter\", data=df)\r\n",
        "g.fig.autofmt_xdate()"
      ],
      "execution_count": null,
      "outputs": [
        {
          "output_type": "display_data",
          "data": {
            "image/png": "[encoded data removed]",
            "text/plain": [
              "<Figure size 360x360 with 1 Axes>"
            ]
          },
          "metadata": {
            "tags": [],
            "needs_background": "light"
          }
        }
      ]
    },
    {
      "cell_type": "markdown",
      "metadata": {
        "id": "rJ37_CU3cZOl"
      },
      "source": [
        "## In above polarity Graph, values are given -1 to 1 . There are durations with Negative Polarity but there are only 4 durations with Negative Polarity more than -.02\r\n"
      ]
    },
    {
      "cell_type": "code",
      "metadata": {
        "colab": {
          "base_uri": "https://localhost:8080/",
          "height": 71
        },
        "id": "k6x7Of0LffN3",
        "outputId": "5d9f86b5-a483-4bd7-8332-45a09ede5ad7"
      },
      "source": [
        "df.content[23]"
      ],
      "execution_count": null,
      "outputs": [
        {
          "output_type": "execute_result",
          "data": {
            "application/vnd.google.colaboratory.intrinsic+json": {
              "type": "string"
            },
            "text/plain": [
              "'and now we have the right to fire bad people in the va we had people that treated our veterans horribly in primetime they would not have treated our veterans badly but they treated our veterans horribly and we have what s called the va accountability act and the accountability says if we see somebody in there that doesn t treat our vets well or they steal they rob they do things badly we say joe you re fired get out of here before you couldn t do that you couldn t do that before '"
            ]
          },
          "metadata": {
            "tags": []
          },
          "execution_count": 389
        }
      ]
    },
    {
      "cell_type": "markdown",
      "metadata": {
        "id": "t1TsiapTf7_s"
      },
      "source": [
        ""
      ]
    },
    {
      "cell_type": "code",
      "metadata": {
        "colab": {
          "base_uri": "https://localhost:8080/",
          "height": 88
        },
        "id": "i7msmrspgIpZ",
        "outputId": "3ee4109a-d3c1-43cd-bc69-bd4496e7812a"
      },
      "source": [
        "df.content[33]"
      ],
      "execution_count": null,
      "outputs": [
        {
          "output_type": "execute_result",
          "data": {
            "application/vnd.google.colaboratory.intrinsic+json": {
              "type": "string"
            },
            "text/plain": [
              "'but it used to be that they d argue with me i d fight so i d fight they d fight i d fight they d fight boop boop you d believe me you d believe them somebody comes out they had their point of view i had my point of view but you d have an argument now what they do is they go silent it s called suppression and that s what happens in a communist country that s what they do they suppress you don t fight with them anymore unless it s a bad they have a little bad story about me they ll make it times worse and it s a major headline but hunter biden they don t talk about him what happened to hunter where s hunter where is hunter they don t talk about him '"
            ]
          },
          "metadata": {
            "tags": []
          },
          "execution_count": 390
        }
      ]
    },
    {
      "cell_type": "code",
      "metadata": {
        "colab": {
          "base_uri": "https://localhost:8080/",
          "height": 71
        },
        "id": "Gq7fl2Y3gHxy",
        "outputId": "29bf6619-cc1f-4db9-d529-b69ae93d5da4"
      },
      "source": [
        "df.content[32]"
      ],
      "execution_count": null,
      "outputs": [
        {
          "output_type": "execute_result",
          "data": {
            "application/vnd.google.colaboratory.intrinsic+json": {
              "type": "string"
            },
            "text/plain": [
              "'as you know the media is constantly asserted the outrageous lie that there was no evidence of widespread fraud you ever see these people while there is no evidence of fraud oh really well i m going to read you pages i hope you don t get bored listening to it promise don t get bored listening to it all those hundreds of thousands of people back there move them up please yeah all these people don t get bored don t get angry at me because you re going to get bored because it s so much the american people do not believe the corrupt fake news anymore they have ruined their reputation '"
            ]
          },
          "metadata": {
            "tags": []
          },
          "execution_count": 393
        }
      ]
    },
    {
      "cell_type": "code",
      "metadata": {
        "colab": {
          "base_uri": "https://localhost:8080/",
          "height": 88
        },
        "id": "3FgU-lXlgomX",
        "outputId": "8d886d7e-d555-40c2-cf12-d36837e3e60c"
      },
      "source": [
        "df.content[34]"
      ],
      "execution_count": null,
      "outputs": [
        {
          "output_type": "execute_result",
          "data": {
            "application/vnd.google.colaboratory.intrinsic+json": {
              "type": "string"
            },
            "text/plain": [
              "'now watch all the sets will go off well they can t do that because they get good ratings the ratings are too good now where is hunter and how come joe was allowed to give a billion dollars of money to get rid of the prosecutor in ukraine how does that happen i d ask you that question how does that happen can you imagine if i said that if i said that it would be a whole different ball game and how come hunter gets three and a half million dollars from the mayor of moscow s wife and gets hundreds of thousands of dollars to sit on an energy board even though he admits he has no knowledge of energy and millions of dollars up front and how come they go into china and they leave with billions of dollars to manage have you managed money before no i haven t oh that s good here s about billion '"
            ]
          },
          "metadata": {
            "tags": []
          },
          "execution_count": 392
        }
      ]
    },
    {
      "cell_type": "code",
      "metadata": {
        "colab": {
          "base_uri": "https://localhost:8080/",
          "height": 556
        },
        "id": "zW4wmGjidlDk",
        "outputId": "ffdd53ac-452e-4b67-8013-6cba1f8041e4"
      },
      "source": [
        "rslt_df = df.sort_values([\"polarity_content\"], ascending = True)\r\n",
        "rslt_df "
      ],
      "execution_count": null,
      "outputs": [
        {
          "output_type": "execute_result",
          "data": {
            "text/html": [
              "<div>\n",
              "<style scoped>\n",
              "    .dataframe tbody tr th:only-of-type {\n",
              "        vertical-align: middle;\n",
              "    }\n",
              "\n",
              "    .dataframe tbody tr th {\n",
              "        vertical-align: top;\n",
              "    }\n",
              "\n",
              "    .dataframe thead th {\n",
              "        text-align: right;\n",
              "    }\n",
              "</style>\n",
              "<table border=\"1\" class=\"dataframe\">\n",
              "  <thead>\n",
              "    <tr style=\"text-align: right;\">\n",
              "      <th></th>\n",
              "      <th>Speaker_</th>\n",
              "      <th>content</th>\n",
              "      <th>duration</th>\n",
              "      <th>without_stopwords</th>\n",
              "      <th>polarity_content</th>\n",
              "      <th>senti_score</th>\n",
              "      <th>subjec_content</th>\n",
              "      <th>tokenized</th>\n",
              "    </tr>\n",
              "  </thead>\n",
              "  <tbody>\n",
              "    <tr>\n",
              "      <th>23</th>\n",
              "      <td>Donald Trump</td>\n",
              "      <td>and now we have the right to fire bad people i...</td>\n",
              "      <td>(20:49)</td>\n",
              "      <td>right fire bad people va people treated vetera...</td>\n",
              "      <td>-0.635714</td>\n",
              "      <td>(-0.6357142857142856, 0.7559523809523809)</td>\n",
              "      <td>0.755952</td>\n",
              "      <td>[right, fire, bad, people, va, people, treat, ...</td>\n",
              "    </tr>\n",
              "    <tr>\n",
              "      <th>33</th>\n",
              "      <td>Donald Trump</td>\n",
              "      <td>but it used to be that they d argue with me i ...</td>\n",
              "      <td>(27:57)</td>\n",
              "      <td>used argue fight fight fight fight fight boop ...</td>\n",
              "      <td>-0.320833</td>\n",
              "      <td>(-0.3208333333333333, 0.5055555555555555)</td>\n",
              "      <td>0.505556</td>\n",
              "      <td>[use, argue, fight, fight, fight, fight, fight...</td>\n",
              "    </tr>\n",
              "    <tr>\n",
              "      <th>32</th>\n",
              "      <td>Donald Trump</td>\n",
              "      <td>as you know the media is constantly asserted t...</td>\n",
              "      <td>(27:19)</td>\n",
              "      <td>know media constantly asserted outrageous lie ...</td>\n",
              "      <td>-0.315385</td>\n",
              "      <td>(-0.3153846153846154, 0.6717948717948719)</td>\n",
              "      <td>0.671795</td>\n",
              "      <td>[know, media, constantly, assert, outrageous, ...</td>\n",
              "    </tr>\n",
              "    <tr>\n",
              "      <th>40</th>\n",
              "      <td>Donald Trump</td>\n",
              "      <td>but it shows you the media s genius in fact pr...</td>\n",
              "      <td>(33:41)</td>\n",
              "      <td>shows media genius fact probably media way hat...</td>\n",
              "      <td>-0.266667</td>\n",
              "      <td>(-0.26666666666666666, 0.5499999999999999)</td>\n",
              "      <td>0.550000</td>\n",
              "      <td>[show, media, genius, fact, probably, media, w...</td>\n",
              "    </tr>\n",
              "    <tr>\n",
              "      <th>43</th>\n",
              "      <td>Donald Trump</td>\n",
              "      <td>so just in a nutshell you can t make a change ...</td>\n",
              "      <td>(34:34)</td>\n",
              "      <td>nutshell make change voting federal election u...</td>\n",
              "      <td>-0.185000</td>\n",
              "      <td>(-0.185, 0.565)</td>\n",
              "      <td>0.565000</td>\n",
              "      <td>[nutshell, make, change, vote, federal, electi...</td>\n",
              "    </tr>\n",
              "    <tr>\n",
              "      <th>...</th>\n",
              "      <td>...</td>\n",
              "      <td>...</td>\n",
              "      <td>...</td>\n",
              "      <td>...</td>\n",
              "      <td>...</td>\n",
              "      <td>...</td>\n",
              "      <td>...</td>\n",
              "      <td>...</td>\n",
              "    </tr>\n",
              "    <tr>\n",
              "      <th>9</th>\n",
              "      <td>Donald Trump</td>\n",
              "      <td>i just spoke to mike i said mike that doesn t ...</td>\n",
              "      <td>(09:08)</td>\n",
              "      <td>spoke mike said mike take courage takes courag...</td>\n",
              "      <td>0.444781</td>\n",
              "      <td>(0.4447811447811448, 0.7222222222222222)</td>\n",
              "      <td>0.722222</td>\n",
              "      <td>[speak, mike, say, mike, take, courage, take, ...</td>\n",
              "    </tr>\n",
              "    <tr>\n",
              "      <th>10</th>\n",
              "      <td>Crowd</td>\n",
              "      <td>we love trump we love trump we love trump</td>\n",
              "      <td>(09:44)</td>\n",
              "      <td>love trump love trump love trump</td>\n",
              "      <td>0.500000</td>\n",
              "      <td>(0.5, 0.6)</td>\n",
              "      <td>0.600000</td>\n",
              "      <td>[love, trump, love, trump, love, trump]</td>\n",
              "    </tr>\n",
              "    <tr>\n",
              "      <th>73</th>\n",
              "      <td>Speaker 1</td>\n",
              "      <td>we love you we love you we love you we love yo...</td>\n",
              "      <td>(01:02:52)</td>\n",
              "      <td>love love love love love love love love</td>\n",
              "      <td>0.500000</td>\n",
              "      <td>(0.5, 0.6)</td>\n",
              "      <td>0.600000</td>\n",
              "      <td>[love, love, love, love, love, love, love, love]</td>\n",
              "    </tr>\n",
              "    <tr>\n",
              "      <th>66</th>\n",
              "      <td>Donald Trump</td>\n",
              "      <td>any of these things would have taken care of t...</td>\n",
              "      <td>(57:03)</td>\n",
              "      <td>things would taken care situation would nevada...</td>\n",
              "      <td>0.504762</td>\n",
              "      <td>(0.5047619047619047, 0.5214285714285715)</td>\n",
              "      <td>0.521429</td>\n",
              "      <td>[things, would, take, care, situation, would, ...</td>\n",
              "    </tr>\n",
              "    <tr>\n",
              "      <th>83</th>\n",
              "      <td>Donald Trump</td>\n",
              "      <td>our exciting adventures and boldest endeavors ...</td>\n",
              "      <td>(01:12:21)</td>\n",
              "      <td>exciting adventures boldest endeavors yet begu...</td>\n",
              "      <td>0.666667</td>\n",
              "      <td>(0.6666666666666666, 0.7000000000000001)</td>\n",
              "      <td>0.700000</td>\n",
              "      <td>[excite, adventure, boldest, endeavor, yet, be...</td>\n",
              "    </tr>\n",
              "  </tbody>\n",
              "</table>\n",
              "<p>83 rows × 8 columns</p>\n",
              "</div>"
            ],
            "text/plain": [
              "        Speaker_  ...                                          tokenized\n",
              "23  Donald Trump  ...  [right, fire, bad, people, va, people, treat, ...\n",
              "33  Donald Trump  ...  [use, argue, fight, fight, fight, fight, fight...\n",
              "32  Donald Trump  ...  [know, media, constantly, assert, outrageous, ...\n",
              "40  Donald Trump  ...  [show, media, genius, fact, probably, media, w...\n",
              "43  Donald Trump  ...  [nutshell, make, change, vote, federal, electi...\n",
              "..           ...  ...                                                ...\n",
              "9   Donald Trump  ...  [speak, mike, say, mike, take, courage, take, ...\n",
              "10         Crowd  ...            [love, trump, love, trump, love, trump]\n",
              "73     Speaker 1  ...   [love, love, love, love, love, love, love, love]\n",
              "66  Donald Trump  ...  [things, would, take, care, situation, would, ...\n",
              "83  Donald Trump  ...  [excite, adventure, boldest, endeavor, yet, be...\n",
              "\n",
              "[83 rows x 8 columns]"
            ]
          },
          "metadata": {
            "tags": []
          },
          "execution_count": 386
        }
      ]
    },
    {
      "cell_type": "code",
      "metadata": {
        "colab": {
          "base_uri": "https://localhost:8080/",
          "height": 364
        },
        "id": "h2O4U-9h61W3",
        "outputId": "7767f680-8af4-42e7-d57c-d1fc4ad15c1a"
      },
      "source": [
        "g = sns.relplot(x=\"duration\", y=\"subjec_content\", kind=\"scatter\", data=df)\r\n",
        "g.fig.autofmt_xdate()"
      ],
      "execution_count": null,
      "outputs": [
        {
          "output_type": "display_data",
          "data": {
            "image/png": "[encoded data removed]",
            "text/plain": [
              "<Figure size 360x360 with 1 Axes>"
            ]
          },
          "metadata": {
            "tags": [],
            "needs_background": "light"
          }
        }
      ]
    },
    {
      "cell_type": "markdown",
      "metadata": {
        "id": "w8NGityXhsMB"
      },
      "source": [
        "## In above Subjectivity  Graph, values are given 0 to1 . There are durations with more subjective facts. Things to be noted that duration** having highest subjective Score also have highest Negative Polarity Score**\r\n"
      ]
    },
    {
      "cell_type": "code",
      "metadata": {
        "id": "Qi342Em6jBlX"
      },
      "source": [
        ""
      ],
      "execution_count": null,
      "outputs": []
    },
    {
      "cell_type": "code",
      "metadata": {
        "colab": {
          "base_uri": "https://localhost:8080/",
          "height": 556
        },
        "id": "Y4KoaLTkjCND",
        "outputId": "515ebf67-4d15-46ef-cf74-ce5d80c3a7ac"
      },
      "source": [
        "sub_df = df.sort_values([\"polarity_content\"], ascending = True)\r\n",
        "sub_df "
      ],
      "execution_count": null,
      "outputs": [
        {
          "output_type": "execute_result",
          "data": {
            "text/html": [
              "<div>\n",
              "<style scoped>\n",
              "    .dataframe tbody tr th:only-of-type {\n",
              "        vertical-align: middle;\n",
              "    }\n",
              "\n",
              "    .dataframe tbody tr th {\n",
              "        vertical-align: top;\n",
              "    }\n",
              "\n",
              "    .dataframe thead th {\n",
              "        text-align: right;\n",
              "    }\n",
              "</style>\n",
              "<table border=\"1\" class=\"dataframe\">\n",
              "  <thead>\n",
              "    <tr style=\"text-align: right;\">\n",
              "      <th></th>\n",
              "      <th>Speaker_</th>\n",
              "      <th>content</th>\n",
              "      <th>duration</th>\n",
              "      <th>without_stopwords</th>\n",
              "      <th>polarity_content</th>\n",
              "      <th>senti_score</th>\n",
              "      <th>subjec_content</th>\n",
              "      <th>tokenized</th>\n",
              "    </tr>\n",
              "  </thead>\n",
              "  <tbody>\n",
              "    <tr>\n",
              "      <th>23</th>\n",
              "      <td>Donald Trump</td>\n",
              "      <td>and now we have the right to fire bad people i...</td>\n",
              "      <td>(20:49)</td>\n",
              "      <td>right fire bad people va people treated vetera...</td>\n",
              "      <td>-0.635714</td>\n",
              "      <td>(-0.6357142857142856, 0.7559523809523809)</td>\n",
              "      <td>0.755952</td>\n",
              "      <td>[right, fire, bad, people, va, people, treat, ...</td>\n",
              "    </tr>\n",
              "    <tr>\n",
              "      <th>33</th>\n",
              "      <td>Donald Trump</td>\n",
              "      <td>but it used to be that they d argue with me i ...</td>\n",
              "      <td>(27:57)</td>\n",
              "      <td>used argue fight fight fight fight fight boop ...</td>\n",
              "      <td>-0.320833</td>\n",
              "      <td>(-0.3208333333333333, 0.5055555555555555)</td>\n",
              "      <td>0.505556</td>\n",
              "      <td>[use, argue, fight, fight, fight, fight, fight...</td>\n",
              "    </tr>\n",
              "    <tr>\n",
              "      <th>32</th>\n",
              "      <td>Donald Trump</td>\n",
              "      <td>as you know the media is constantly asserted t...</td>\n",
              "      <td>(27:19)</td>\n",
              "      <td>know media constantly asserted outrageous lie ...</td>\n",
              "      <td>-0.315385</td>\n",
              "      <td>(-0.3153846153846154, 0.6717948717948719)</td>\n",
              "      <td>0.671795</td>\n",
              "      <td>[know, media, constantly, assert, outrageous, ...</td>\n",
              "    </tr>\n",
              "    <tr>\n",
              "      <th>40</th>\n",
              "      <td>Donald Trump</td>\n",
              "      <td>but it shows you the media s genius in fact pr...</td>\n",
              "      <td>(33:41)</td>\n",
              "      <td>shows media genius fact probably media way hat...</td>\n",
              "      <td>-0.266667</td>\n",
              "      <td>(-0.26666666666666666, 0.5499999999999999)</td>\n",
              "      <td>0.550000</td>\n",
              "      <td>[show, media, genius, fact, probably, media, w...</td>\n",
              "    </tr>\n",
              "    <tr>\n",
              "      <th>43</th>\n",
              "      <td>Donald Trump</td>\n",
              "      <td>so just in a nutshell you can t make a change ...</td>\n",
              "      <td>(34:34)</td>\n",
              "      <td>nutshell make change voting federal election u...</td>\n",
              "      <td>-0.185000</td>\n",
              "      <td>(-0.185, 0.565)</td>\n",
              "      <td>0.565000</td>\n",
              "      <td>[nutshell, make, change, vote, federal, electi...</td>\n",
              "    </tr>\n",
              "    <tr>\n",
              "      <th>...</th>\n",
              "      <td>...</td>\n",
              "      <td>...</td>\n",
              "      <td>...</td>\n",
              "      <td>...</td>\n",
              "      <td>...</td>\n",
              "      <td>...</td>\n",
              "      <td>...</td>\n",
              "      <td>...</td>\n",
              "    </tr>\n",
              "    <tr>\n",
              "      <th>9</th>\n",
              "      <td>Donald Trump</td>\n",
              "      <td>i just spoke to mike i said mike that doesn t ...</td>\n",
              "      <td>(09:08)</td>\n",
              "      <td>spoke mike said mike take courage takes courag...</td>\n",
              "      <td>0.444781</td>\n",
              "      <td>(0.4447811447811448, 0.7222222222222222)</td>\n",
              "      <td>0.722222</td>\n",
              "      <td>[speak, mike, say, mike, take, courage, take, ...</td>\n",
              "    </tr>\n",
              "    <tr>\n",
              "      <th>10</th>\n",
              "      <td>Crowd</td>\n",
              "      <td>we love trump we love trump we love trump</td>\n",
              "      <td>(09:44)</td>\n",
              "      <td>love trump love trump love trump</td>\n",
              "      <td>0.500000</td>\n",
              "      <td>(0.5, 0.6)</td>\n",
              "      <td>0.600000</td>\n",
              "      <td>[love, trump, love, trump, love, trump]</td>\n",
              "    </tr>\n",
              "    <tr>\n",
              "      <th>73</th>\n",
              "      <td>Speaker 1</td>\n",
              "      <td>we love you we love you we love you we love yo...</td>\n",
              "      <td>(01:02:52)</td>\n",
              "      <td>love love love love love love love love</td>\n",
              "      <td>0.500000</td>\n",
              "      <td>(0.5, 0.6)</td>\n",
              "      <td>0.600000</td>\n",
              "      <td>[love, love, love, love, love, love, love, love]</td>\n",
              "    </tr>\n",
              "    <tr>\n",
              "      <th>66</th>\n",
              "      <td>Donald Trump</td>\n",
              "      <td>any of these things would have taken care of t...</td>\n",
              "      <td>(57:03)</td>\n",
              "      <td>things would taken care situation would nevada...</td>\n",
              "      <td>0.504762</td>\n",
              "      <td>(0.5047619047619047, 0.5214285714285715)</td>\n",
              "      <td>0.521429</td>\n",
              "      <td>[things, would, take, care, situation, would, ...</td>\n",
              "    </tr>\n",
              "    <tr>\n",
              "      <th>83</th>\n",
              "      <td>Donald Trump</td>\n",
              "      <td>our exciting adventures and boldest endeavors ...</td>\n",
              "      <td>(01:12:21)</td>\n",
              "      <td>exciting adventures boldest endeavors yet begu...</td>\n",
              "      <td>0.666667</td>\n",
              "      <td>(0.6666666666666666, 0.7000000000000001)</td>\n",
              "      <td>0.700000</td>\n",
              "      <td>[excite, adventure, boldest, endeavor, yet, be...</td>\n",
              "    </tr>\n",
              "  </tbody>\n",
              "</table>\n",
              "<p>83 rows × 8 columns</p>\n",
              "</div>"
            ],
            "text/plain": [
              "        Speaker_  ...                                          tokenized\n",
              "23  Donald Trump  ...  [right, fire, bad, people, va, people, treat, ...\n",
              "33  Donald Trump  ...  [use, argue, fight, fight, fight, fight, fight...\n",
              "32  Donald Trump  ...  [know, media, constantly, assert, outrageous, ...\n",
              "40  Donald Trump  ...  [show, media, genius, fact, probably, media, w...\n",
              "43  Donald Trump  ...  [nutshell, make, change, vote, federal, electi...\n",
              "..           ...  ...                                                ...\n",
              "9   Donald Trump  ...  [speak, mike, say, mike, take, courage, take, ...\n",
              "10         Crowd  ...            [love, trump, love, trump, love, trump]\n",
              "73     Speaker 1  ...   [love, love, love, love, love, love, love, love]\n",
              "66  Donald Trump  ...  [things, would, take, care, situation, would, ...\n",
              "83  Donald Trump  ...  [excite, adventure, boldest, endeavor, yet, be...\n",
              "\n",
              "[83 rows x 8 columns]"
            ]
          },
          "metadata": {
            "tags": []
          },
          "execution_count": 395
        }
      ]
    },
    {
      "cell_type": "code",
      "metadata": {
        "colab": {
          "base_uri": "https://localhost:8080/",
          "height": 346
        },
        "id": "R830rnj___jM",
        "outputId": "8b427b86-34a8-40c3-d20a-665fce92e1db"
      },
      "source": [
        "g = sns.relplot(x=\"subjec_content\", y=\"polarity_content\", kind=\"scatter\", data=df)\r\n",
        "g.fig.autofmt_xdate()"
      ],
      "execution_count": null,
      "outputs": [
        {
          "output_type": "display_data",
          "data": {
            "image/png": "[encoded data removed]",
            "text/plain": [
              "<Figure size 360x360 with 1 Axes>"
            ]
          },
          "metadata": {
            "tags": [],
            "needs_background": "light"
          }
        }
      ]
    },
    {
      "cell_type": "markdown",
      "metadata": {
        "id": "Y5j1Suvgku07"
      },
      "source": [
        "## Above scatter plots describe that overall trump has done subjective Positive talks. But many positive talks has low Objective score between\r\n",
        "## (.4to . 5) which shows kind of Balancing Act"
      ]
    },
    {
      "cell_type": "code",
      "metadata": {
        "colab": {
          "base_uri": "https://localhost:8080/",
          "height": 386
        },
        "id": "2657BMJoCUVF",
        "outputId": "2ca84b0f-cfc0-4576-f24f-c4e86a4bef19"
      },
      "source": [
        "sns.displot(x=\"subjec_content\", y=\"polarity_content\", data=df)"
      ],
      "execution_count": null,
      "outputs": [
        {
          "output_type": "execute_result",
          "data": {
            "text/plain": [
              "<seaborn.axisgrid.FacetGrid at 0x7f4ae01ea048>"
            ]
          },
          "metadata": {
            "tags": []
          },
          "execution_count": 358
        },
        {
          "output_type": "display_data",
          "data": {
            "image/png": "[encoded data removed]",
            "text/plain": [
              "<Figure size 360x360 with 1 Axes>"
            ]
          },
          "metadata": {
            "tags": [],
            "needs_background": "light"
          }
        }
      ]
    },
    {
      "cell_type": "markdown",
      "metadata": {
        "id": "iMkREQBsmTYU"
      },
      "source": [
        "## Above is also distribution chart which show Positive Subjective Talks in overall Speech"
      ]
    },
    {
      "cell_type": "code",
      "metadata": {
        "colab": {
          "base_uri": "https://localhost:8080/",
          "height": 386
        },
        "id": "c9V6hvZCCv_J",
        "outputId": "9d620ed0-0c3e-41d7-e5b7-2c19d1e8c570"
      },
      "source": [
        "sns.displot(data=df, x=\"subjec_content\",bins=10)"
      ],
      "execution_count": null,
      "outputs": [
        {
          "output_type": "execute_result",
          "data": {
            "text/plain": [
              "<seaborn.axisgrid.FacetGrid at 0x7f4ae0396240>"
            ]
          },
          "metadata": {
            "tags": []
          },
          "execution_count": 359
        },
        {
          "output_type": "display_data",
          "data": {
            "image/png": "[encoded data removed]",
            "text/plain": [
              "<Figure size 360x360 with 1 Axes>"
            ]
          },
          "metadata": {
            "tags": [],
            "needs_background": "light"
          }
        }
      ]
    },
    {
      "cell_type": "markdown",
      "metadata": {
        "id": "vemq4viTmq4_"
      },
      "source": [
        "## Most of duration Trump has remained subjective(70 durations) during his Speeech with low objective Talks (14 durations)"
      ]
    },
    {
      "cell_type": "code",
      "metadata": {
        "colab": {
          "base_uri": "https://localhost:8080/",
          "height": 386
        },
        "id": "nzDx-Z5XC7oP",
        "outputId": "f950b21d-00ff-4ab9-cfb8-5f01a9d157a9"
      },
      "source": [
        "sns.displot(data=df, x=\"polarity_content\",bins=10)"
      ],
      "execution_count": null,
      "outputs": [
        {
          "output_type": "execute_result",
          "data": {
            "text/plain": [
              "<seaborn.axisgrid.FacetGrid at 0x7f4ae03967b8>"
            ]
          },
          "metadata": {
            "tags": []
          },
          "execution_count": 360
        },
        {
          "output_type": "display_data",
          "data": {
            "image/png": "[encoded data removed]",
            "text/plain": [
              "<Figure size 360x360 with 1 Axes>"
            ]
          },
          "metadata": {
            "tags": [],
            "needs_background": "light"
          }
        }
      ]
    },
    {
      "cell_type": "markdown",
      "metadata": {
        "id": "dlQRzwkDncwt"
      },
      "source": [
        "### Most of duration , trump has remained positive but not taken Middle path of not sounding too Negative . Most of duration lies between( Low Negative to Less Positive )"
      ]
    },
    {
      "cell_type": "code",
      "metadata": {
        "colab": {
          "base_uri": "https://localhost:8080/"
        },
        "id": "QJqwY3BAMGWp",
        "outputId": "edcedddf-a0b6-4429-f90a-403b96817445"
      },
      "source": [
        "  >>> import nltk\r\n",
        "  >>> nltk.download('wordnet')"
      ],
      "execution_count": null,
      "outputs": [
        {
          "output_type": "stream",
          "text": [
            "[nltk_data] Downloading package wordnet to /root/nltk_data...\n",
            "[nltk_data]   Package wordnet is already up-to-date!\n"
          ],
          "name": "stdout"
        },
        {
          "output_type": "execute_result",
          "data": {
            "text/plain": [
              "True"
            ]
          },
          "metadata": {
            "tags": []
          },
          "execution_count": 396
        }
      ]
    },
    {
      "cell_type": "markdown",
      "metadata": {
        "id": "nvzZivm6qH0U"
      },
      "source": [
        "## Processing Dataset for Topic Extraction. This wil help us to evaluate the Topic of each duration. We will try to divide 83 durations between 3 or 10 Topics"
      ]
    },
    {
      "cell_type": "code",
      "metadata": {
        "id": "cjaVMTs998_M"
      },
      "source": [
        "df['tokenized'] = df.apply(lambda row: nltk.word_tokenize(row['without_stopwords']), axis=1)"
      ],
      "execution_count": null,
      "outputs": []
    },
    {
      "cell_type": "code",
      "metadata": {
        "colab": {
          "base_uri": "https://localhost:8080/",
          "height": 556
        },
        "id": "yGeYQorq-1Al",
        "outputId": "86278479-d8f7-4de1-a272-59b1466f826a"
      },
      "source": [
        "df"
      ],
      "execution_count": null,
      "outputs": [
        {
          "output_type": "execute_result",
          "data": {
            "text/html": [
              "<div>\n",
              "<style scoped>\n",
              "    .dataframe tbody tr th:only-of-type {\n",
              "        vertical-align: middle;\n",
              "    }\n",
              "\n",
              "    .dataframe tbody tr th {\n",
              "        vertical-align: top;\n",
              "    }\n",
              "\n",
              "    .dataframe thead th {\n",
              "        text-align: right;\n",
              "    }\n",
              "</style>\n",
              "<table border=\"1\" class=\"dataframe\">\n",
              "  <thead>\n",
              "    <tr style=\"text-align: right;\">\n",
              "      <th></th>\n",
              "      <th>Speaker_</th>\n",
              "      <th>content</th>\n",
              "      <th>duration</th>\n",
              "      <th>without_stopwords</th>\n",
              "      <th>polarity_content</th>\n",
              "      <th>senti_score</th>\n",
              "      <th>subjec_content</th>\n",
              "      <th>tokenized</th>\n",
              "    </tr>\n",
              "  </thead>\n",
              "  <tbody>\n",
              "    <tr>\n",
              "      <th>2</th>\n",
              "      <td>Donald Trump</td>\n",
              "      <td>he media will not show the magnitude of this c...</td>\n",
              "      <td>(02:44)</td>\n",
              "      <td>media show magnitude crowd even turned today l...</td>\n",
              "      <td>0.092208</td>\n",
              "      <td>(0.09220779220779222, 0.5658008658008657)</td>\n",
              "      <td>0.565801</td>\n",
              "      <td>[media, show, magnitude, crowd, even, turned, ...</td>\n",
              "    </tr>\n",
              "    <tr>\n",
              "      <th>4</th>\n",
              "      <td>Donald Trump</td>\n",
              "      <td>our country has had enough we will not take it...</td>\n",
              "      <td>(04:42)</td>\n",
              "      <td>country enough take anymore use favorite term ...</td>\n",
              "      <td>0.270833</td>\n",
              "      <td>(0.2708333333333333, 0.4611111111111111)</td>\n",
              "      <td>0.461111</td>\n",
              "      <td>[country, enough, take, anymore, use, favorite...</td>\n",
              "    </tr>\n",
              "    <tr>\n",
              "      <th>5</th>\n",
              "      <td>Donald Trump</td>\n",
              "      <td>by the way does anybody believe that joe had m...</td>\n",
              "      <td>(06:08)</td>\n",
              "      <td>way anybody believe joe million votes anybody ...</td>\n",
              "      <td>0.220000</td>\n",
              "      <td>(0.22000000000000003, 0.29333333333333333)</td>\n",
              "      <td>0.293333</td>\n",
              "      <td>[way, anybody, believe, joe, million, votes, a...</td>\n",
              "    </tr>\n",
              "    <tr>\n",
              "      <th>6</th>\n",
              "      <td>Crowd</td>\n",
              "      <td>fight for trump fight for trump fight for trump</td>\n",
              "      <td>(07:11)</td>\n",
              "      <td>fight trump fight trump fight trump</td>\n",
              "      <td>0.000000</td>\n",
              "      <td>(0.0, 0.0)</td>\n",
              "      <td>0.000000</td>\n",
              "      <td>[fight, trump, fight, trump, fight, trump]</td>\n",
              "    </tr>\n",
              "    <tr>\n",
              "      <th>7</th>\n",
              "      <td>Donald Trump</td>\n",
              "      <td>thank you i d love to have if those tens of th...</td>\n",
              "      <td>(07:11)</td>\n",
              "      <td>thank love tens thousands people would allowed...</td>\n",
              "      <td>0.337122</td>\n",
              "      <td>(0.33712169312169316, 0.6786031746031747)</td>\n",
              "      <td>0.678603</td>\n",
              "      <td>[thank, love, tens, thousands, people, would, ...</td>\n",
              "    </tr>\n",
              "    <tr>\n",
              "      <th>...</th>\n",
              "      <td>...</td>\n",
              "      <td>...</td>\n",
              "      <td>...</td>\n",
              "      <td>...</td>\n",
              "      <td>...</td>\n",
              "      <td>...</td>\n",
              "      <td>...</td>\n",
              "      <td>...</td>\n",
              "    </tr>\n",
              "    <tr>\n",
              "      <th>81</th>\n",
              "      <td>Donald Trump</td>\n",
              "      <td>we did a great job in the wall remember the wa...</td>\n",
              "      <td>(01:10:52)</td>\n",
              "      <td>great job wall remember wall said could never ...</td>\n",
              "      <td>0.356970</td>\n",
              "      <td>(0.35696969696969694, 0.69)</td>\n",
              "      <td>0.690000</td>\n",
              "      <td>[great, job, wall, remember, wall, said, could...</td>\n",
              "    </tr>\n",
              "    <tr>\n",
              "      <th>82</th>\n",
              "      <td>Donald Trump</td>\n",
              "      <td>our brightest days are before us our greatest ...</td>\n",
              "      <td>(01:11:44)</td>\n",
              "      <td>brightest days us greatest achievements still ...</td>\n",
              "      <td>0.116875</td>\n",
              "      <td>(0.116875, 0.7106250000000001)</td>\n",
              "      <td>0.710625</td>\n",
              "      <td>[brightest, days, us, greatest, achievements, ...</td>\n",
              "    </tr>\n",
              "    <tr>\n",
              "      <th>83</th>\n",
              "      <td>Donald Trump</td>\n",
              "      <td>our exciting adventures and boldest endeavors ...</td>\n",
              "      <td>(01:12:21)</td>\n",
              "      <td>exciting adventures boldest endeavors yet begu...</td>\n",
              "      <td>0.666667</td>\n",
              "      <td>(0.6666666666666666, 0.7000000000000001)</td>\n",
              "      <td>0.700000</td>\n",
              "      <td>[exciting, adventures, boldest, endeavors, yet...</td>\n",
              "    </tr>\n",
              "    <tr>\n",
              "      <th>84</th>\n",
              "      <td>Donald Trump</td>\n",
              "      <td>so we re going to we re going to walk down pen...</td>\n",
              "      <td>(01:12:43)</td>\n",
              "      <td>going going walk pennsylvania avenue love penn...</td>\n",
              "      <td>0.167130</td>\n",
              "      <td>(0.16712962962962963, 0.524537037037037)</td>\n",
              "      <td>0.524537</td>\n",
              "      <td>[going, going, walk, pennsylvania, avenue, lov...</td>\n",
              "    </tr>\n",
              "    <tr>\n",
              "      <th>85</th>\n",
              "      <td>Donald Trump</td>\n",
              "      <td>so let s walk down pennsylvania avenue i want ...</td>\n",
              "      <td>(01:13:19)</td>\n",
              "      <td>let walk pennsylvania avenue want thank god bl...</td>\n",
              "      <td>0.334815</td>\n",
              "      <td>(0.33481481481481484, 0.482962962962963)</td>\n",
              "      <td>0.482963</td>\n",
              "      <td>[let, walk, pennsylvania, avenue, want, thank,...</td>\n",
              "    </tr>\n",
              "  </tbody>\n",
              "</table>\n",
              "<p>83 rows × 8 columns</p>\n",
              "</div>"
            ],
            "text/plain": [
              "        Speaker_  ...                                          tokenized\n",
              "2   Donald Trump  ...  [media, show, magnitude, crowd, even, turned, ...\n",
              "4   Donald Trump  ...  [country, enough, take, anymore, use, favorite...\n",
              "5   Donald Trump  ...  [way, anybody, believe, joe, million, votes, a...\n",
              "6          Crowd  ...         [fight, trump, fight, trump, fight, trump]\n",
              "7   Donald Trump  ...  [thank, love, tens, thousands, people, would, ...\n",
              "..           ...  ...                                                ...\n",
              "81  Donald Trump  ...  [great, job, wall, remember, wall, said, could...\n",
              "82  Donald Trump  ...  [brightest, days, us, greatest, achievements, ...\n",
              "83  Donald Trump  ...  [exciting, adventures, boldest, endeavors, yet...\n",
              "84  Donald Trump  ...  [going, going, walk, pennsylvania, avenue, lov...\n",
              "85  Donald Trump  ...  [let, walk, pennsylvania, avenue, want, thank,...\n",
              "\n",
              "[83 rows x 8 columns]"
            ]
          },
          "metadata": {
            "tags": []
          },
          "execution_count": 406
        }
      ]
    },
    {
      "cell_type": "code",
      "metadata": {
        "id": "pciwGDFzUtA8"
      },
      "source": [
        "from nltk.stem import WordNetLemmatizer\r\n",
        "wordnet_lemmatizer = WordNetLemmatizer()\r\n",
        "\r\n",
        "def convert(text):\r\n",
        "    lemmatized_text = []\r\n",
        "    for i in text:\r\n",
        "        lemmatized_text.append(str(wordnet_lemmatizer.lemmatize(i,pos=\"v\")))\r\n",
        "\r\n",
        "    return ' '.join(lemmatized_text)\r\n",
        "\r\n",
        "df['tokenized'] = df['tokenized'].apply(lambda x: convert(x))"
      ],
      "execution_count": null,
      "outputs": []
    },
    {
      "cell_type": "code",
      "metadata": {
        "colab": {
          "base_uri": "https://localhost:8080/",
          "height": 556
        },
        "id": "KQBnTQLitBSG",
        "outputId": "cb936605-b6cd-4b02-d861-c58698c67331"
      },
      "source": [
        "df"
      ],
      "execution_count": null,
      "outputs": [
        {
          "output_type": "execute_result",
          "data": {
            "text/html": [
              "<div>\n",
              "<style scoped>\n",
              "    .dataframe tbody tr th:only-of-type {\n",
              "        vertical-align: middle;\n",
              "    }\n",
              "\n",
              "    .dataframe tbody tr th {\n",
              "        vertical-align: top;\n",
              "    }\n",
              "\n",
              "    .dataframe thead th {\n",
              "        text-align: right;\n",
              "    }\n",
              "</style>\n",
              "<table border=\"1\" class=\"dataframe\">\n",
              "  <thead>\n",
              "    <tr style=\"text-align: right;\">\n",
              "      <th></th>\n",
              "      <th>Speaker_</th>\n",
              "      <th>content</th>\n",
              "      <th>duration</th>\n",
              "      <th>without_stopwords</th>\n",
              "      <th>polarity_content</th>\n",
              "      <th>senti_score</th>\n",
              "      <th>subjec_content</th>\n",
              "      <th>tokenized</th>\n",
              "    </tr>\n",
              "  </thead>\n",
              "  <tbody>\n",
              "    <tr>\n",
              "      <th>2</th>\n",
              "      <td>Donald Trump</td>\n",
              "      <td>he media will not show the magnitude of this c...</td>\n",
              "      <td>(02:44)</td>\n",
              "      <td>media show magnitude crowd even turned today l...</td>\n",
              "      <td>0.092208</td>\n",
              "      <td>(0.09220779220779222, 0.5658008658008657)</td>\n",
              "      <td>0.565801</td>\n",
              "      <td>media show magnitude crowd even turn today loo...</td>\n",
              "    </tr>\n",
              "    <tr>\n",
              "      <th>4</th>\n",
              "      <td>Donald Trump</td>\n",
              "      <td>our country has had enough we will not take it...</td>\n",
              "      <td>(04:42)</td>\n",
              "      <td>country enough take anymore use favorite term ...</td>\n",
              "      <td>0.270833</td>\n",
              "      <td>(0.2708333333333333, 0.4611111111111111)</td>\n",
              "      <td>0.461111</td>\n",
              "      <td>country enough take anymore use favorite term ...</td>\n",
              "    </tr>\n",
              "    <tr>\n",
              "      <th>5</th>\n",
              "      <td>Donald Trump</td>\n",
              "      <td>by the way does anybody believe that joe had m...</td>\n",
              "      <td>(06:08)</td>\n",
              "      <td>way anybody believe joe million votes anybody ...</td>\n",
              "      <td>0.220000</td>\n",
              "      <td>(0.22000000000000003, 0.29333333333333333)</td>\n",
              "      <td>0.293333</td>\n",
              "      <td>way anybody believe joe million vote anybody b...</td>\n",
              "    </tr>\n",
              "    <tr>\n",
              "      <th>6</th>\n",
              "      <td>Crowd</td>\n",
              "      <td>fight for trump fight for trump fight for trump</td>\n",
              "      <td>(07:11)</td>\n",
              "      <td>fight trump fight trump fight trump</td>\n",
              "      <td>0.000000</td>\n",
              "      <td>(0.0, 0.0)</td>\n",
              "      <td>0.000000</td>\n",
              "      <td>fight trump fight trump fight trump</td>\n",
              "    </tr>\n",
              "    <tr>\n",
              "      <th>7</th>\n",
              "      <td>Donald Trump</td>\n",
              "      <td>thank you i d love to have if those tens of th...</td>\n",
              "      <td>(07:11)</td>\n",
              "      <td>thank love tens thousands people would allowed...</td>\n",
              "      <td>0.337122</td>\n",
              "      <td>(0.33712169312169316, 0.6786031746031747)</td>\n",
              "      <td>0.678603</td>\n",
              "      <td>thank love tens thousands people would allow m...</td>\n",
              "    </tr>\n",
              "    <tr>\n",
              "      <th>...</th>\n",
              "      <td>...</td>\n",
              "      <td>...</td>\n",
              "      <td>...</td>\n",
              "      <td>...</td>\n",
              "      <td>...</td>\n",
              "      <td>...</td>\n",
              "      <td>...</td>\n",
              "      <td>...</td>\n",
              "    </tr>\n",
              "    <tr>\n",
              "      <th>81</th>\n",
              "      <td>Donald Trump</td>\n",
              "      <td>we did a great job in the wall remember the wa...</td>\n",
              "      <td>(01:10:52)</td>\n",
              "      <td>great job wall remember wall said could never ...</td>\n",
              "      <td>0.356970</td>\n",
              "      <td>(0.35696969696969694, 0.69)</td>\n",
              "      <td>0.690000</td>\n",
              "      <td>great job wall remember wall say could never d...</td>\n",
              "    </tr>\n",
              "    <tr>\n",
              "      <th>82</th>\n",
              "      <td>Donald Trump</td>\n",
              "      <td>our brightest days are before us our greatest ...</td>\n",
              "      <td>(01:11:44)</td>\n",
              "      <td>brightest days us greatest achievements still ...</td>\n",
              "      <td>0.116875</td>\n",
              "      <td>(0.116875, 0.7106250000000001)</td>\n",
              "      <td>0.710625</td>\n",
              "      <td>brightest days us greatest achievements still ...</td>\n",
              "    </tr>\n",
              "    <tr>\n",
              "      <th>83</th>\n",
              "      <td>Donald Trump</td>\n",
              "      <td>our exciting adventures and boldest endeavors ...</td>\n",
              "      <td>(01:12:21)</td>\n",
              "      <td>exciting adventures boldest endeavors yet begu...</td>\n",
              "      <td>0.666667</td>\n",
              "      <td>(0.6666666666666666, 0.7000000000000001)</td>\n",
              "      <td>0.700000</td>\n",
              "      <td>excite adventure boldest endeavor yet begin fe...</td>\n",
              "    </tr>\n",
              "    <tr>\n",
              "      <th>84</th>\n",
              "      <td>Donald Trump</td>\n",
              "      <td>so we re going to we re going to walk down pen...</td>\n",
              "      <td>(01:12:43)</td>\n",
              "      <td>going going walk pennsylvania avenue love penn...</td>\n",
              "      <td>0.167130</td>\n",
              "      <td>(0.16712962962962963, 0.524537037037037)</td>\n",
              "      <td>0.524537</td>\n",
              "      <td>go go walk pennsylvania avenue love pennsylvan...</td>\n",
              "    </tr>\n",
              "    <tr>\n",
              "      <th>85</th>\n",
              "      <td>Donald Trump</td>\n",
              "      <td>so let s walk down pennsylvania avenue i want ...</td>\n",
              "      <td>(01:13:19)</td>\n",
              "      <td>let walk pennsylvania avenue want thank god bl...</td>\n",
              "      <td>0.334815</td>\n",
              "      <td>(0.33481481481481484, 0.482962962962963)</td>\n",
              "      <td>0.482963</td>\n",
              "      <td>let walk pennsylvania avenue want thank god bl...</td>\n",
              "    </tr>\n",
              "  </tbody>\n",
              "</table>\n",
              "<p>83 rows × 8 columns</p>\n",
              "</div>"
            ],
            "text/plain": [
              "        Speaker_  ...                                          tokenized\n",
              "2   Donald Trump  ...  media show magnitude crowd even turn today loo...\n",
              "4   Donald Trump  ...  country enough take anymore use favorite term ...\n",
              "5   Donald Trump  ...  way anybody believe joe million vote anybody b...\n",
              "6          Crowd  ...                fight trump fight trump fight trump\n",
              "7   Donald Trump  ...  thank love tens thousands people would allow m...\n",
              "..           ...  ...                                                ...\n",
              "81  Donald Trump  ...  great job wall remember wall say could never d...\n",
              "82  Donald Trump  ...  brightest days us greatest achievements still ...\n",
              "83  Donald Trump  ...  excite adventure boldest endeavor yet begin fe...\n",
              "84  Donald Trump  ...  go go walk pennsylvania avenue love pennsylvan...\n",
              "85  Donald Trump  ...  let walk pennsylvania avenue want thank god bl...\n",
              "\n",
              "[83 rows x 8 columns]"
            ]
          },
          "metadata": {
            "tags": []
          },
          "execution_count": 408
        }
      ]
    },
    {
      "cell_type": "code",
      "metadata": {
        "colab": {
          "base_uri": "https://localhost:8080/",
          "height": 106
        },
        "id": "VYTPjaFaXJGK",
        "outputId": "0846256e-5171-411c-e6eb-3ca58c3dfef9"
      },
      "source": [
        "df.content[2]"
      ],
      "execution_count": null,
      "outputs": [
        {
          "output_type": "execute_result",
          "data": {
            "application/vnd.google.colaboratory.intrinsic+json": {
              "type": "string"
            },
            "text/plain": [
              "'he media will not show the magnitude of this crowd even i when i turned on today i looked and i saw thousands of people here but you don t see hundreds of thousands of people behind you because they don t want to show that we have hundreds of thousands of people here and i just want them to be recognized by the fake news media turn your cameras please and show what s really happening out here because these people are not going to take it any longer they re not going to take it any longer go ahead turn your cameras please would you show they came from all over the world actually but they came from all over our country i just really want to see what they do i just want to see how they covered i ve never seen anything like it but it would be really great if we could be covered fairly by the media the media is the biggest problem we have as far as i m concerned single biggest problem the fake news and the big tech big tech is now coming into their own we beat them four years ago we surprised them we took them by surprise and this year they rigged an election they rigged it like they ve never rigged an election before by the way last night they didn t do a bad job either if you notice i m honest i just again i want to thank you it s just a great honor to have this kind of crowd and to be before you hundreds of thousands of american patriots are committed to the honesty of our elections and the integrity of our glorious republic all of us here today do not want to see our election victory stolen by emboldened radical left democrats which is what they re doing and stolen by the fake news media that s what they ve done and what they re doing we will never give up we will never concede it doesn t happen you don t concede when there s theft involved '"
            ]
          },
          "metadata": {
            "tags": []
          },
          "execution_count": 401
        }
      ]
    },
    {
      "cell_type": "code",
      "metadata": {
        "colab": {
          "base_uri": "https://localhost:8080/",
          "height": 106
        },
        "id": "TDWw5lkzXPLI",
        "outputId": "0a4b4f9d-f2d0-4bb0-ccd4-feffe3db3b22"
      },
      "source": [
        "df.tokenized[2]"
      ],
      "execution_count": null,
      "outputs": [
        {
          "output_type": "execute_result",
          "data": {
            "application/vnd.google.colaboratory.intrinsic+json": {
              "type": "string"
            },
            "text/plain": [
              "'media show magnitude crowd even turn today look saw thousands people see hundreds thousands people behind want show hundreds thousands people want recognize fake news media turn cameras please show really happen people go take longer go take longer go ahead turn cameras please would show come world actually come country really want see want see cover never see anything like would really great could cover fairly media media biggest problem far concern single biggest problem fake news big tech big tech come beat four years ago surprise take surprise year rig election rig like never rig election way last night bad job either notice honest want thank great honor kind crowd hundreds thousands american patriots commit honesty elections integrity glorious republic us today want see election victory steal embolden radical leave democrats steal fake news media do never give never concede happen concede theft involve'"
            ]
          },
          "metadata": {
            "tags": []
          },
          "execution_count": 402
        }
      ]
    },
    {
      "cell_type": "code",
      "metadata": {
        "id": "G6SSYDZswKYM"
      },
      "source": [
        "df['tokenized'] = df.apply(lambda row: nltk.word_tokenize(row['tokenized']), axis=1)"
      ],
      "execution_count": null,
      "outputs": []
    },
    {
      "cell_type": "code",
      "metadata": {
        "colab": {
          "base_uri": "https://localhost:8080/",
          "height": 556
        },
        "id": "9OeNS9VPwJCp",
        "outputId": "a4b73df8-ac4a-43fe-86aa-74f87905668c"
      },
      "source": [
        "df"
      ],
      "execution_count": null,
      "outputs": [
        {
          "output_type": "execute_result",
          "data": {
            "text/html": [
              "<div>\n",
              "<style scoped>\n",
              "    .dataframe tbody tr th:only-of-type {\n",
              "        vertical-align: middle;\n",
              "    }\n",
              "\n",
              "    .dataframe tbody tr th {\n",
              "        vertical-align: top;\n",
              "    }\n",
              "\n",
              "    .dataframe thead th {\n",
              "        text-align: right;\n",
              "    }\n",
              "</style>\n",
              "<table border=\"1\" class=\"dataframe\">\n",
              "  <thead>\n",
              "    <tr style=\"text-align: right;\">\n",
              "      <th></th>\n",
              "      <th>Speaker_</th>\n",
              "      <th>content</th>\n",
              "      <th>duration</th>\n",
              "      <th>without_stopwords</th>\n",
              "      <th>polarity_content</th>\n",
              "      <th>senti_score</th>\n",
              "      <th>subjec_content</th>\n",
              "      <th>tokenized</th>\n",
              "    </tr>\n",
              "  </thead>\n",
              "  <tbody>\n",
              "    <tr>\n",
              "      <th>2</th>\n",
              "      <td>Donald Trump</td>\n",
              "      <td>he media will not show the magnitude of this c...</td>\n",
              "      <td>(02:44)</td>\n",
              "      <td>media show magnitude crowd even turned today l...</td>\n",
              "      <td>0.092208</td>\n",
              "      <td>(0.09220779220779222, 0.5658008658008657)</td>\n",
              "      <td>0.565801</td>\n",
              "      <td>[media, show, magnitude, crowd, even, turn, to...</td>\n",
              "    </tr>\n",
              "    <tr>\n",
              "      <th>4</th>\n",
              "      <td>Donald Trump</td>\n",
              "      <td>our country has had enough we will not take it...</td>\n",
              "      <td>(04:42)</td>\n",
              "      <td>country enough take anymore use favorite term ...</td>\n",
              "      <td>0.270833</td>\n",
              "      <td>(0.2708333333333333, 0.4611111111111111)</td>\n",
              "      <td>0.461111</td>\n",
              "      <td>[country, enough, take, anymore, use, favorite...</td>\n",
              "    </tr>\n",
              "    <tr>\n",
              "      <th>5</th>\n",
              "      <td>Donald Trump</td>\n",
              "      <td>by the way does anybody believe that joe had m...</td>\n",
              "      <td>(06:08)</td>\n",
              "      <td>way anybody believe joe million votes anybody ...</td>\n",
              "      <td>0.220000</td>\n",
              "      <td>(0.22000000000000003, 0.29333333333333333)</td>\n",
              "      <td>0.293333</td>\n",
              "      <td>[way, anybody, believe, joe, million, vote, an...</td>\n",
              "    </tr>\n",
              "    <tr>\n",
              "      <th>6</th>\n",
              "      <td>Crowd</td>\n",
              "      <td>fight for trump fight for trump fight for trump</td>\n",
              "      <td>(07:11)</td>\n",
              "      <td>fight trump fight trump fight trump</td>\n",
              "      <td>0.000000</td>\n",
              "      <td>(0.0, 0.0)</td>\n",
              "      <td>0.000000</td>\n",
              "      <td>[fight, trump, fight, trump, fight, trump]</td>\n",
              "    </tr>\n",
              "    <tr>\n",
              "      <th>7</th>\n",
              "      <td>Donald Trump</td>\n",
              "      <td>thank you i d love to have if those tens of th...</td>\n",
              "      <td>(07:11)</td>\n",
              "      <td>thank love tens thousands people would allowed...</td>\n",
              "      <td>0.337122</td>\n",
              "      <td>(0.33712169312169316, 0.6786031746031747)</td>\n",
              "      <td>0.678603</td>\n",
              "      <td>[thank, love, tens, thousands, people, would, ...</td>\n",
              "    </tr>\n",
              "    <tr>\n",
              "      <th>...</th>\n",
              "      <td>...</td>\n",
              "      <td>...</td>\n",
              "      <td>...</td>\n",
              "      <td>...</td>\n",
              "      <td>...</td>\n",
              "      <td>...</td>\n",
              "      <td>...</td>\n",
              "      <td>...</td>\n",
              "    </tr>\n",
              "    <tr>\n",
              "      <th>81</th>\n",
              "      <td>Donald Trump</td>\n",
              "      <td>we did a great job in the wall remember the wa...</td>\n",
              "      <td>(01:10:52)</td>\n",
              "      <td>great job wall remember wall said could never ...</td>\n",
              "      <td>0.356970</td>\n",
              "      <td>(0.35696969696969694, 0.69)</td>\n",
              "      <td>0.690000</td>\n",
              "      <td>[great, job, wall, remember, wall, say, could,...</td>\n",
              "    </tr>\n",
              "    <tr>\n",
              "      <th>82</th>\n",
              "      <td>Donald Trump</td>\n",
              "      <td>our brightest days are before us our greatest ...</td>\n",
              "      <td>(01:11:44)</td>\n",
              "      <td>brightest days us greatest achievements still ...</td>\n",
              "      <td>0.116875</td>\n",
              "      <td>(0.116875, 0.7106250000000001)</td>\n",
              "      <td>0.710625</td>\n",
              "      <td>[brightest, days, us, greatest, achievements, ...</td>\n",
              "    </tr>\n",
              "    <tr>\n",
              "      <th>83</th>\n",
              "      <td>Donald Trump</td>\n",
              "      <td>our exciting adventures and boldest endeavors ...</td>\n",
              "      <td>(01:12:21)</td>\n",
              "      <td>exciting adventures boldest endeavors yet begu...</td>\n",
              "      <td>0.666667</td>\n",
              "      <td>(0.6666666666666666, 0.7000000000000001)</td>\n",
              "      <td>0.700000</td>\n",
              "      <td>[excite, adventure, boldest, endeavor, yet, be...</td>\n",
              "    </tr>\n",
              "    <tr>\n",
              "      <th>84</th>\n",
              "      <td>Donald Trump</td>\n",
              "      <td>so we re going to we re going to walk down pen...</td>\n",
              "      <td>(01:12:43)</td>\n",
              "      <td>going going walk pennsylvania avenue love penn...</td>\n",
              "      <td>0.167130</td>\n",
              "      <td>(0.16712962962962963, 0.524537037037037)</td>\n",
              "      <td>0.524537</td>\n",
              "      <td>[go, go, walk, pennsylvania, avenue, love, pen...</td>\n",
              "    </tr>\n",
              "    <tr>\n",
              "      <th>85</th>\n",
              "      <td>Donald Trump</td>\n",
              "      <td>so let s walk down pennsylvania avenue i want ...</td>\n",
              "      <td>(01:13:19)</td>\n",
              "      <td>let walk pennsylvania avenue want thank god bl...</td>\n",
              "      <td>0.334815</td>\n",
              "      <td>(0.33481481481481484, 0.482962962962963)</td>\n",
              "      <td>0.482963</td>\n",
              "      <td>[let, walk, pennsylvania, avenue, want, thank,...</td>\n",
              "    </tr>\n",
              "  </tbody>\n",
              "</table>\n",
              "<p>83 rows × 8 columns</p>\n",
              "</div>"
            ],
            "text/plain": [
              "        Speaker_  ...                                          tokenized\n",
              "2   Donald Trump  ...  [media, show, magnitude, crowd, even, turn, to...\n",
              "4   Donald Trump  ...  [country, enough, take, anymore, use, favorite...\n",
              "5   Donald Trump  ...  [way, anybody, believe, joe, million, vote, an...\n",
              "6          Crowd  ...         [fight, trump, fight, trump, fight, trump]\n",
              "7   Donald Trump  ...  [thank, love, tens, thousands, people, would, ...\n",
              "..           ...  ...                                                ...\n",
              "81  Donald Trump  ...  [great, job, wall, remember, wall, say, could,...\n",
              "82  Donald Trump  ...  [brightest, days, us, greatest, achievements, ...\n",
              "83  Donald Trump  ...  [excite, adventure, boldest, endeavor, yet, be...\n",
              "84  Donald Trump  ...  [go, go, walk, pennsylvania, avenue, love, pen...\n",
              "85  Donald Trump  ...  [let, walk, pennsylvania, avenue, want, thank,...\n",
              "\n",
              "[83 rows x 8 columns]"
            ]
          },
          "metadata": {
            "tags": []
          },
          "execution_count": 404
        }
      ]
    },
    {
      "cell_type": "code",
      "metadata": {
        "id": "RBK5Xu-5p7-i"
      },
      "source": [
        ""
      ],
      "execution_count": null,
      "outputs": []
    },
    {
      "cell_type": "markdown",
      "metadata": {
        "id": "8aTausCMq8kf"
      },
      "source": [
        "### In below, We wil us LDA Model . All words will be processed by removing Stopwords, Lemmanised Verbs and Tokenised. A Dictonary of words is created from which Topics will be created.\r\n",
        "\r\n",
        "> Indented block\r\n",
        "\r\n"
      ]
    },
    {
      "cell_type": "code",
      "metadata": {
        "id": "bfR0f6tkXxkt"
      },
      "source": [
        "import pandas as pd\r\n",
        "import gensim #the library for Topic modelling\r\n",
        "from gensim.models.ldamulticore import LdaMulticore\r\n",
        "from gensim import corpora, models"
      ],
      "execution_count": null,
      "outputs": []
    },
    {
      "cell_type": "code",
      "metadata": {
        "id": "QfKSsOiUa7qt"
      },
      "source": [
        "\r\n",
        "from gensim.corpora import Dictionary\r\n",
        "dictionary = corpora.Dictionary(df['tokenized'])\r\n"
      ],
      "execution_count": null,
      "outputs": []
    },
    {
      "cell_type": "code",
      "metadata": {
        "colab": {
          "base_uri": "https://localhost:8080/"
        },
        "id": "Z8ikQoqQct67",
        "outputId": "72b0463b-4d30-4d48-bd35-f1878c13a73a"
      },
      "source": [
        "print(dictionary.num_nnz)"
      ],
      "execution_count": null,
      "outputs": [
        {
          "output_type": "stream",
          "text": [
            "3535\n"
          ],
          "name": "stdout"
        }
      ]
    },
    {
      "cell_type": "code",
      "metadata": {
        "colab": {
          "base_uri": "https://localhost:8080/"
        },
        "id": "pYxEyvP2eUiv",
        "outputId": "112e3baf-d755-4a29-c699-4f18b94286ba"
      },
      "source": [
        "print('Number of unique tokens: %d' % len(dictionary))\r\n"
      ],
      "execution_count": null,
      "outputs": [
        {
          "output_type": "stream",
          "text": [
            "Number of unique tokens: 1197\n"
          ],
          "name": "stdout"
        }
      ]
    },
    {
      "cell_type": "code",
      "metadata": {
        "id": "5Bk-pFNIfE3L"
      },
      "source": [
        "import pandas as pd\r\n",
        "import gensim #the library for Topic modelling\r\n",
        "from gensim.models.ldamulticore import LdaMulticore\r\n",
        "from gensim import corpora, models\r\n",
        "\r\n",
        "\r\n",
        "from nltk.corpus import stopwords\r\n",
        "import string\r\n",
        "from nltk.stem.wordnet import WordNetLemmatizer\r\n",
        "\r\n",
        "import warnings\r\n",
        "warnings.simplefilter('ignore')\r\n",
        "from itertools import chain\r\n"
      ],
      "execution_count": null,
      "outputs": []
    },
    {
      "cell_type": "code",
      "metadata": {
        "colab": {
          "base_uri": "https://localhost:8080/"
        },
        "id": "nlyNt0iixHY8",
        "outputId": "c44cbb60-2fa1-48d5-c38e-dfec7e5a3df8"
      },
      "source": [
        "Important_message = [dictionary.doc2bow(doc) for doc in df['tokenized'] ]\r\n",
        "print(len(Important_message))"
      ],
      "execution_count": null,
      "outputs": [
        {
          "output_type": "stream",
          "text": [
            "83\n"
          ],
          "name": "stdout"
        }
      ]
    },
    {
      "cell_type": "code",
      "metadata": {
        "id": "jd9FUAmGfgV8"
      },
      "source": [
        "\r\n",
        "lda = gensim.models.ldamodel.LdaModel"
      ],
      "execution_count": null,
      "outputs": []
    },
    {
      "cell_type": "code",
      "metadata": {
        "colab": {
          "base_uri": "https://localhost:8080/"
        },
        "id": "RNn_8QddfnRM",
        "outputId": "5767dc5e-a738-465c-8476-aca173df1d01"
      },
      "source": [
        "num_topics=3\r\n",
        "%time ldamodel = lda(Important_message,num_topics=num_topics,id2word=dictionary,passes=50,minimum_probability=0)"
      ],
      "execution_count": null,
      "outputs": [
        {
          "output_type": "stream",
          "text": [
            "CPU times: user 3.78 s, sys: 3.37 ms, total: 3.78 s\n",
            "Wall time: 3.81 s\n"
          ],
          "name": "stdout"
        }
      ]
    },
    {
      "cell_type": "markdown",
      "metadata": {
        "id": "23tfKN7lrj-4"
      },
      "source": [
        "### Below are 3 Topics . All 83 durations can be seggrated into these 3 Topics"
      ]
    },
    {
      "cell_type": "code",
      "metadata": {
        "colab": {
          "base_uri": "https://localhost:8080/"
        },
        "id": "YkEhcAxFfwfw",
        "outputId": "50006974-abd9-4593-ba9d-27a13ce06b92"
      },
      "source": [
        "\r\n",
        "ldamodel.print_topics(num_topics=num_topics)"
      ],
      "execution_count": null,
      "outputs": [
        {
          "output_type": "execute_result",
          "data": {
            "text/plain": [
              "[(0,\n",
              "  '0.021*\"go\" + 0.018*\"say\" + 0.015*\"state\" + 0.015*\"people\" + 0.014*\"vote\" + 0.010*\"get\" + 0.010*\"love\" + 0.010*\"one\" + 0.009*\"know\" + 0.008*\"country\"'),\n",
              " (1,\n",
              "  '0.030*\"go\" + 0.026*\"get\" + 0.016*\"want\" + 0.015*\"people\" + 0.014*\"say\" + 0.012*\"happen\" + 0.011*\"take\" + 0.010*\"like\" + 0.010*\"fight\" + 0.009*\"country\"'),\n",
              " (2,\n",
              "  '0.025*\"ballot\" + 0.024*\"vote\" + 0.011*\"state\" + 0.011*\"get\" + 0.011*\"people\" + 0.011*\"want\" + 0.009*\"georgia\" + 0.009*\"cast\" + 0.009*\"back\" + 0.009*\"election\"')]"
            ]
          },
          "metadata": {
            "tags": []
          },
          "execution_count": 378
        }
      ]
    },
    {
      "cell_type": "code",
      "metadata": {
        "colab": {
          "base_uri": "https://localhost:8080/"
        },
        "id": "ICrw8AjRkOLS",
        "outputId": "579de344-71b1-445e-f712-2228d983c359"
      },
      "source": [
        "num_topics=10\r\n",
        "%time ldamodel = lda(Important_message,num_topics=num_topics,id2word=dictionary,passes=100,minimum_probability=0)"
      ],
      "execution_count": null,
      "outputs": [
        {
          "output_type": "stream",
          "text": [
            "CPU times: user 6 s, sys: 1.48 ms, total: 6 s\n",
            "Wall time: 6.01 s\n"
          ],
          "name": "stdout"
        }
      ]
    },
    {
      "cell_type": "markdown",
      "metadata": {
        "id": "dOsdJnhnr4oZ"
      },
      "source": [
        "## Below are 10 Topics. All 83 duration can be seggrated in these 10 Topics. This Model will try to categorise every duration with 10 Topics. Topic with highest score will be related to that duration"
      ]
    },
    {
      "cell_type": "code",
      "metadata": {
        "colab": {
          "base_uri": "https://localhost:8080/"
        },
        "id": "ZR-k7OVokXQq",
        "outputId": "b1b816c6-e9c9-4d15-94c4-260034b54251"
      },
      "source": [
        "ldamodel.print_topics(num_topics=num_topics)"
      ],
      "execution_count": null,
      "outputs": [
        {
          "output_type": "execute_result",
          "data": {
            "text/plain": [
              "[(0,\n",
              "  '0.033*\"ballot\" + 0.028*\"state\" + 0.019*\"people\" + 0.019*\"cast\" + 0.018*\"georgia\" + 0.018*\"individuals\" + 0.017*\"one\" + 0.016*\"vote\" + 0.011*\"whose\" + 0.011*\"election\"'),\n",
              " (1,\n",
              "  '0.022*\"vote\" + 0.015*\"trump\" + 0.014*\"ballot\" + 0.013*\"election\" + 0.012*\"want\" + 0.012*\"good\" + 0.011*\"would\" + 0.010*\"country\" + 0.009*\"go\" + 0.009*\"voter\"'),\n",
              " (2,\n",
              "  '0.039*\"go\" + 0.026*\"vote\" + 0.019*\"happen\" + 0.017*\"back\" + 0.014*\"way\" + 0.012*\"want\" + 0.012*\"look\" + 0.012*\"know\" + 0.012*\"like\" + 0.012*\"take\"'),\n",
              " (3,\n",
              "  '0.026*\"say\" + 0.023*\"vote\" + 0.021*\"go\" + 0.017*\"biden\" + 0.017*\"president\" + 0.016*\"state\" + 0.015*\"ballot\" + 0.011*\"get\" + 0.010*\"people\" + 0.009*\"wisconsin\"'),\n",
              " (4,\n",
              "  '0.025*\"get\" + 0.024*\"go\" + 0.017*\"want\" + 0.016*\"say\" + 0.015*\"vote\" + 0.014*\"never\" + 0.013*\"people\" + 0.012*\"let\" + 0.011*\"take\" + 0.011*\"years\"'),\n",
              " (5,\n",
              "  '0.021*\"rudy\" + 0.017*\"treat\" + 0.017*\"county\" + 0.013*\"stop\" + 0.013*\"veterans\" + 0.013*\"fulton\" + 0.011*\"say\" + 0.011*\"go\" + 0.010*\"get\" + 0.009*\"take\"'),\n",
              " (6,\n",
              "  '0.018*\"want\" + 0.014*\"people\" + 0.013*\"think\" + 0.013*\"get\" + 0.013*\"go\" + 0.013*\"incredible\" + 0.010*\"lot\" + 0.009*\"children\" + 0.009*\"let\" + 0.009*\"big\"'),\n",
              " (7,\n",
              "  '0.020*\"know\" + 0.017*\"think\" + 0.016*\"get\" + 0.014*\"want\" + 0.012*\"people\" + 0.012*\"doctor\" + 0.012*\"beat\" + 0.011*\"signature\" + 0.011*\"pennsylvania\" + 0.011*\"state\"'),\n",
              " (8,\n",
              "  '0.030*\"people\" + 0.016*\"go\" + 0.016*\"say\" + 0.015*\"get\" + 0.014*\"state\" + 0.013*\"vote\" + 0.013*\"country\" + 0.013*\"think\" + 0.012*\"ballot\" + 0.011*\"want\"'),\n",
              " (9,\n",
              "  '0.035*\"go\" + 0.030*\"get\" + 0.029*\"fight\" + 0.020*\"people\" + 0.014*\"love\" + 0.013*\"like\" + 0.012*\"back\" + 0.011*\"republicans\" + 0.011*\"want\" + 0.010*\"country\"')]"
            ]
          },
          "metadata": {
            "tags": []
          },
          "execution_count": 380
        }
      ]
    },
    {
      "cell_type": "code",
      "metadata": {
        "id": "zepg1Pi01zJk"
      },
      "source": [
        ""
      ],
      "execution_count": null,
      "outputs": []
    },
    {
      "cell_type": "code",
      "metadata": {
        "id": "rO1RTbGtnElf"
      },
      "source": [
        "lda_overall = ldamodel[Important_message]"
      ],
      "execution_count": null,
      "outputs": []
    },
    {
      "cell_type": "markdown",
      "metadata": {
        "id": "bF7_8PVas6WY"
      },
      "source": [
        "In below example, duration 1 has highest score for Topic 4 (0.993). So first duration can be categorised as Topic 4 "
      ]
    },
    {
      "cell_type": "code",
      "metadata": {
        "colab": {
          "base_uri": "https://localhost:8080/"
        },
        "id": "siy2H4qxotGA",
        "outputId": "4b3a74cf-6e87-4c93-ec4a-118068d8c2f7"
      },
      "source": [
        "\r\n",
        "[doc for doc in lda_overall]"
      ],
      "execution_count": null,
      "outputs": [
        {
          "output_type": "execute_result",
          "data": {
            "text/plain": [
              "[[(0, 0.00068033213),\n",
              "  (1, 0.0006803562),\n",
              "  (2, 0.0006804185),\n",
              "  (3, 0.00068035274),\n",
              "  (4, 0.99387676),\n",
              "  (5, 0.0006803343),\n",
              "  (6, 0.0006803383),\n",
              "  (7, 0.0006803719),\n",
              "  (8, 0.00068038475),\n",
              "  (9, 0.0006803823)],\n",
              " [(0, 0.0013700182),\n",
              "  (1, 0.0013700216),\n",
              "  (2, 0.0013700486),\n",
              "  (3, 0.0013701733),\n",
              "  (4, 0.9876695),\n",
              "  (5, 0.0013699788),\n",
              "  (6, 0.0013699313),\n",
              "  (7, 0.0013699636),\n",
              "  (8, 0.001370101),\n",
              "  (9, 0.0013702007)],\n",
              " [(0, 0.0016670084),\n",
              "  (1, 0.0016667697),\n",
              "  (2, 0.8871376),\n",
              "  (3, 0.0016671589),\n",
              "  (4, 0.0995272),\n",
              "  (5, 0.0016669469),\n",
              "  (6, 0.001666745),\n",
              "  (7, 0.0016667941),\n",
              "  (8, 0.0016668544),\n",
              "  (9, 0.0016669536)],\n",
              " [(0, 0.0142862275),\n",
              "  (1, 0.4428535),\n",
              "  (2, 0.014286109),\n",
              "  (3, 0.014288464),\n",
              "  (4, 0.014286158),\n",
              "  (5, 0.014285714),\n",
              "  (6, 0.014285714),\n",
              "  (7, 0.014285714),\n",
              "  (8, 0.014285878),\n",
              "  (9, 0.44285652)],\n",
              " [(0, 0.0013160149),\n",
              "  (1, 0.0013159852),\n",
              "  (2, 0.001316003),\n",
              "  (3, 0.9881558),\n",
              "  (4, 0.0013160988),\n",
              "  (5, 0.0013160553),\n",
              "  (6, 0.0013159646),\n",
              "  (7, 0.001315907),\n",
              "  (8, 0.0013160479),\n",
              "  (9, 0.0013161838)],\n",
              " [(0, 0.0018871179),\n",
              "  (1, 0.0018870877),\n",
              "  (2, 0.0018871344),\n",
              "  (3, 0.9830163),\n",
              "  (4, 0.0018871704),\n",
              "  (5, 0.0018868587),\n",
              "  (6, 0.001886919),\n",
              "  (7, 0.0018869616),\n",
              "  (8, 0.0018873288),\n",
              "  (9, 0.0018871088)],\n",
              " [(0, 0.0023259888),\n",
              "  (1, 0.00232598),\n",
              "  (2, 0.0023260296),\n",
              "  (3, 0.002325982),\n",
              "  (4, 0.9790664),\n",
              "  (5, 0.0023256554),\n",
              "  (6, 0.0023257318),\n",
              "  (7, 0.0023258599),\n",
              "  (8, 0.0023261516),\n",
              "  (9, 0.0023262745)],\n",
              " [(0, 0.0142902),\n",
              "  (1, 0.8714103),\n",
              "  (2, 0.014287405),\n",
              "  (3, 0.014288884),\n",
              "  (4, 0.014286399),\n",
              "  (5, 0.014285713),\n",
              "  (6, 0.014285713),\n",
              "  (7, 0.014285713),\n",
              "  (8, 0.014286962),\n",
              "  (9, 0.014292671)],\n",
              " [(0, 0.0014927398),\n",
              "  (1, 0.0014926944),\n",
              "  (2, 0.98656523),\n",
              "  (3, 0.0014926901),\n",
              "  (4, 0.0014929945),\n",
              "  (5, 0.0014926713),\n",
              "  (6, 0.001492729),\n",
              "  (7, 0.001492729),\n",
              "  (8, 0.0014927689),\n",
              "  (9, 0.0014927746)],\n",
              " [(0, 0.002127782),\n",
              "  (1, 0.0021278139),\n",
              "  (2, 0.002128048),\n",
              "  (3, 0.0021278458),\n",
              "  (4, 0.0021279976),\n",
              "  (5, 0.980849),\n",
              "  (6, 0.0021278549),\n",
              "  (7, 0.002127827),\n",
              "  (8, 0.0021278814),\n",
              "  (9, 0.002127976)],\n",
              " [(0, 0.0011112794),\n",
              "  (1, 0.0011113568),\n",
              "  (2, 0.73035204),\n",
              "  (3, 0.0011113636),\n",
              "  (4, 0.26075757),\n",
              "  (5, 0.0011111877),\n",
              "  (6, 0.0011112448),\n",
              "  (7, 0.0011113072),\n",
              "  (8, 0.0011113689),\n",
              "  (9, 0.0011113165)],\n",
              " [(0, 0.001265987),\n",
              "  (1, 0.48733974),\n",
              "  (2, 0.0012661917),\n",
              "  (3, 0.0012661786),\n",
              "  (4, 0.0012661943),\n",
              "  (5, 0.0012659809),\n",
              "  (6, 0.0012660983),\n",
              "  (7, 0.0012660405),\n",
              "  (8, 0.0012660299),\n",
              "  (9, 0.5025316)],\n",
              " [(0, 0.0012658775),\n",
              "  (1, 0.0012659046),\n",
              "  (2, 0.0012659938),\n",
              "  (3, 0.0012660493),\n",
              "  (4, 0.0012661516),\n",
              "  (5, 0.0012659124),\n",
              "  (6, 0.0012659583),\n",
              "  (7, 0.0012659344),\n",
              "  (8, 0.0012659826),\n",
              "  (9, 0.9886062)],\n",
              " [(0, 0.0022230216),\n",
              "  (1, 0.002222667),\n",
              "  (2, 0.0022225806),\n",
              "  (3, 0.0022230858),\n",
              "  (4, 0.9799962),\n",
              "  (5, 0.0022222584),\n",
              "  (6, 0.002222358),\n",
              "  (7, 0.0022223678),\n",
              "  (8, 0.0022227762),\n",
              "  (9, 0.0022226865)],\n",
              " [(0, 0.05),\n",
              "  (1, 0.05),\n",
              "  (2, 0.05),\n",
              "  (3, 0.05),\n",
              "  (4, 0.05),\n",
              "  (5, 0.55),\n",
              "  (6, 0.05),\n",
              "  (7, 0.05),\n",
              "  (8, 0.05),\n",
              "  (9, 0.05)],\n",
              " [(0, 0.0014493938),\n",
              "  (1, 0.0014493694),\n",
              "  (2, 0.98695517),\n",
              "  (3, 0.001449395),\n",
              "  (4, 0.0014495244),\n",
              "  (5, 0.0014494049),\n",
              "  (6, 0.0014493514),\n",
              "  (7, 0.0014494336),\n",
              "  (8, 0.0014494164),\n",
              "  (9, 0.0014495611)],\n",
              " [(0, 0.0010417666),\n",
              "  (1, 0.0010417684),\n",
              "  (2, 0.0010418652),\n",
              "  (3, 0.001041776),\n",
              "  (4, 0.0010418721),\n",
              "  (5, 0.0010417356),\n",
              "  (6, 0.0010417651),\n",
              "  (7, 0.0010417431),\n",
              "  (8, 0.0010418049),\n",
              "  (9, 0.9906239)],\n",
              " [(0, 0.0017544816),\n",
              "  (1, 0.9842086),\n",
              "  (2, 0.001754693),\n",
              "  (3, 0.0017545859),\n",
              "  (4, 0.0017548333),\n",
              "  (5, 0.001754448),\n",
              "  (6, 0.001754531),\n",
              "  (7, 0.001754613),\n",
              "  (8, 0.0017546061),\n",
              "  (9, 0.0017546467)],\n",
              " [(0, 0.0014086504),\n",
              "  (1, 0.0014086345),\n",
              "  (2, 0.0014086533),\n",
              "  (3, 0.0014085748),\n",
              "  (4, 0.9873224),\n",
              "  (5, 0.00140853),\n",
              "  (6, 0.0014085828),\n",
              "  (7, 0.001408618),\n",
              "  (8, 0.0014086806),\n",
              "  (9, 0.0014086319)],\n",
              " [(0, 0.0012988197),\n",
              "  (1, 0.0012987982),\n",
              "  (2, 0.0012988801),\n",
              "  (3, 0.0012988324),\n",
              "  (4, 0.0012989345),\n",
              "  (5, 0.0012988058),\n",
              "  (6, 0.0012987918),\n",
              "  (7, 0.9883104),\n",
              "  (8, 0.0012988882),\n",
              "  (9, 0.0012988826)],\n",
              " [(0, 0.0027029938),\n",
              "  (1, 0.0027028648),\n",
              "  (2, 0.0027029836),\n",
              "  (3, 0.0027030874),\n",
              "  (4, 0.0027032832),\n",
              "  (5, 0.9756727),\n",
              "  (6, 0.0027028688),\n",
              "  (7, 0.0027030574),\n",
              "  (8, 0.0027030811),\n",
              "  (9, 0.0027030623)],\n",
              " [(0, 0.0021280472),\n",
              "  (1, 0.0021278579),\n",
              "  (2, 0.0021281126),\n",
              "  (3, 0.0021279645),\n",
              "  (4, 0.0021283089),\n",
              "  (5, 0.0021279107),\n",
              "  (6, 0.0021279785),\n",
              "  (7, 0.0021281533),\n",
              "  (8, 0.98084706),\n",
              "  (9, 0.0021286104)],\n",
              " [(0, 0.0016667792),\n",
              "  (1, 0.0016667885),\n",
              "  (2, 0.0016669759),\n",
              "  (3, 0.98499835),\n",
              "  (4, 0.00166694),\n",
              "  (5, 0.0016667027),\n",
              "  (6, 0.0016668163),\n",
              "  (7, 0.0016668882),\n",
              "  (8, 0.0016668525),\n",
              "  (9, 0.0016669437)],\n",
              " [(0, 0.0019610943),\n",
              "  (1, 0.0019610294),\n",
              "  (2, 0.001961049),\n",
              "  (3, 0.0019610478),\n",
              "  (4, 0.9823509),\n",
              "  (5, 0.001960835),\n",
              "  (6, 0.0019608415),\n",
              "  (7, 0.001960992),\n",
              "  (8, 0.001961148),\n",
              "  (9, 0.0019610426)],\n",
              " [(0, 0.0027028902),\n",
              "  (1, 0.0027030006),\n",
              "  (2, 0.002702922),\n",
              "  (3, 0.08000882),\n",
              "  (4, 0.0027033829),\n",
              "  (5, 0.0027027838),\n",
              "  (6, 0.0027027163),\n",
              "  (7, 0.0027030478),\n",
              "  (8, 0.8983673),\n",
              "  (9, 0.002703165)],\n",
              " [(0, 0.0014494293),\n",
              "  (1, 0.0014495134),\n",
              "  (2, 0.0014496977),\n",
              "  (3, 0.0014494787),\n",
              "  (4, 0.9869546),\n",
              "  (5, 0.0014494349),\n",
              "  (6, 0.0014493268),\n",
              "  (7, 0.0014495221),\n",
              "  (8, 0.0014495297),\n",
              "  (9, 0.0014494776)],\n",
              " [(0, 0.0011766056),\n",
              "  (1, 0.0011765972),\n",
              "  (2, 0.0011765672),\n",
              "  (3, 0.0011765945),\n",
              "  (4, 0.98941076),\n",
              "  (5, 0.0011765334),\n",
              "  (6, 0.0011765189),\n",
              "  (7, 0.0011765771),\n",
              "  (8, 0.001176604),\n",
              "  (9, 0.0011766825)],\n",
              " [(0, 0.0015874075),\n",
              "  (1, 0.0015874938),\n",
              "  (2, 0.0015875234),\n",
              "  (3, 0.0015875488),\n",
              "  (4, 0.0015876273),\n",
              "  (5, 0.0015873802),\n",
              "  (6, 0.0015874519),\n",
              "  (7, 0.0015874173),\n",
              "  (8, 0.9857127),\n",
              "  (9, 0.0015874519)],\n",
              " [(0, 0.0031256522),\n",
              "  (1, 0.0031254669),\n",
              "  (2, 0.003125543),\n",
              "  (3, 0.0031256564),\n",
              "  (4, 0.0031259065),\n",
              "  (5, 0.0031255072),\n",
              "  (6, 0.0031252461),\n",
              "  (7, 0.0031257004),\n",
              "  (8, 0.9718698),\n",
              "  (9, 0.0031255297)],\n",
              " [(0, 0.0018519908),\n",
              "  (1, 0.0018520104),\n",
              "  (2, 0.0018520667),\n",
              "  (3, 0.0018521233),\n",
              "  (4, 0.0018523129),\n",
              "  (5, 0.0018519388),\n",
              "  (6, 0.0018519528),\n",
              "  (7, 0.001852004),\n",
              "  (8, 0.0018522323),\n",
              "  (9, 0.9833314)],\n",
              " [(0, 0.0021277778),\n",
              "  (1, 0.0021278665),\n",
              "  (2, 0.002127875),\n",
              "  (3, 0.0021279883),\n",
              "  (4, 0.002127881),\n",
              "  (5, 0.0021278316),\n",
              "  (6, 0.002127737),\n",
              "  (7, 0.0021278388),\n",
              "  (8, 0.0021278497),\n",
              "  (9, 0.9808493)],\n",
              " [(0, 0.001408573),\n",
              "  (1, 0.0014085654),\n",
              "  (2, 0.001408558),\n",
              "  (3, 0.0014086952),\n",
              "  (4, 0.9873226),\n",
              "  (5, 0.0014085033),\n",
              "  (6, 0.0014084738),\n",
              "  (7, 0.001408675),\n",
              "  (8, 0.0014086473),\n",
              "  (9, 0.0014086567)],\n",
              " [(0, 0.0015386387),\n",
              "  (1, 0.46900085),\n",
              "  (2, 0.0015387838),\n",
              "  (3, 0.001538724),\n",
              "  (4, 0.0015388342),\n",
              "  (5, 0.0015385399),\n",
              "  (6, 0.0015385255),\n",
              "  (7, 0.0015387271),\n",
              "  (8, 0.0015387479),\n",
              "  (9, 0.5186897)],\n",
              " [(0, 0.0014086199),\n",
              "  (1, 0.0014085358),\n",
              "  (2, 0.0014086323),\n",
              "  (3, 0.0014086365),\n",
              "  (4, 0.0014086332),\n",
              "  (5, 0.0014085261),\n",
              "  (6, 0.0014084906),\n",
              "  (7, 0.9873226),\n",
              "  (8, 0.0014086224),\n",
              "  (9, 0.001408656)],\n",
              " [(0, 0.002564184),\n",
              "  (1, 0.0025641841),\n",
              "  (2, 0.00256459),\n",
              "  (3, 0.9769211),\n",
              "  (4, 0.0025643443),\n",
              "  (5, 0.0025642484),\n",
              "  (6, 0.0025641413),\n",
              "  (7, 0.0025645115),\n",
              "  (8, 0.0025644514),\n",
              "  (9, 0.002564283)],\n",
              " [(0, 0.98815536),\n",
              "  (1, 0.0013159827),\n",
              "  (2, 0.001316159),\n",
              "  (3, 0.0013160468),\n",
              "  (4, 0.001316136),\n",
              "  (5, 0.001315935),\n",
              "  (6, 0.0013159193),\n",
              "  (7, 0.0013159706),\n",
              "  (8, 0.0013160505),\n",
              "  (9, 0.001316387)],\n",
              " [(0, 0.0014494577),\n",
              "  (1, 0.9869545),\n",
              "  (2, 0.0014496177),\n",
              "  (3, 0.001449498),\n",
              "  (4, 0.0014496383),\n",
              "  (5, 0.001449409),\n",
              "  (6, 0.00144938),\n",
              "  (7, 0.0014494389),\n",
              "  (8, 0.00144956),\n",
              "  (9, 0.0014495244)],\n",
              " [(0, 0.0037038147),\n",
              "  (1, 0.0037041402),\n",
              "  (2, 0.0037042117),\n",
              "  (3, 0.0037040224),\n",
              "  (4, 0.0037044357),\n",
              "  (5, 0.0037038757),\n",
              "  (6, 0.0037041656),\n",
              "  (7, 0.0037039581),\n",
              "  (8, 0.0037044),\n",
              "  (9, 0.966663)],\n",
              " [(0, 0.05),\n",
              "  (1, 0.05),\n",
              "  (2, 0.05),\n",
              "  (3, 0.050006066),\n",
              "  (4, 0.05),\n",
              "  (5, 0.05),\n",
              "  (6, 0.05),\n",
              "  (7, 0.05),\n",
              "  (8, 0.54999393),\n",
              "  (9, 0.05)],\n",
              " [(0, 0.0027786894),\n",
              "  (1, 0.002778088),\n",
              "  (2, 0.00277845),\n",
              "  (3, 0.002778268),\n",
              "  (4, 0.002778593),\n",
              "  (5, 0.002777914),\n",
              "  (6, 0.0027779958),\n",
              "  (7, 0.0027780395),\n",
              "  (8, 0.9749959),\n",
              "  (9, 0.0027780624)],\n",
              " [(0, 0.0024393296),\n",
              "  (1, 0.0024394104),\n",
              "  (2, 0.00243937),\n",
              "  (3, 0.0024393352),\n",
              "  (4, 0.97804594),\n",
              "  (5, 0.002439072),\n",
              "  (6, 0.0024391836),\n",
              "  (7, 0.0024395366),\n",
              "  (8, 0.002439371),\n",
              "  (9, 0.0024394237)],\n",
              " [(0, 0.0012823605),\n",
              "  (1, 0.26706675),\n",
              "  (2, 0.0012822596),\n",
              "  (3, 0.0012823144),\n",
              "  (4, 0.0012823074),\n",
              "  (5, 0.0012821106),\n",
              "  (6, 0.0012821213),\n",
              "  (7, 0.72267514),\n",
              "  (8, 0.0012823628),\n",
              "  (9, 0.0012823163)],\n",
              " [(0, 0.39139262),\n",
              "  (1, 0.0027035736),\n",
              "  (2, 0.0027036492),\n",
              "  (3, 0.0027031242),\n",
              "  (4, 0.002703759),\n",
              "  (5, 0.0027028292),\n",
              "  (6, 0.07033258),\n",
              "  (7, 0.0027043608),\n",
              "  (8, 0.51935023),\n",
              "  (9, 0.0027033268)],\n",
              " [(0, 0.001563216),\n",
              "  (1, 0.0015629507),\n",
              "  (2, 0.0015628912),\n",
              "  (3, 0.0015630106),\n",
              "  (4, 0.0015628973),\n",
              "  (5, 0.0015625875),\n",
              "  (6, 0.0015625363),\n",
              "  (7, 0.0015627842),\n",
              "  (8, 0.0015629157),\n",
              "  (9, 0.9859342)],\n",
              " [(0, 0.0034491054),\n",
              "  (1, 0.0034489597),\n",
              "  (2, 0.0034487576),\n",
              "  (3, 0.96895933),\n",
              "  (4, 0.0034490319),\n",
              "  (5, 0.0034485005),\n",
              "  (6, 0.0034487164),\n",
              "  (7, 0.0034487231),\n",
              "  (8, 0.0034491315),\n",
              "  (9, 0.0034497494)],\n",
              " [(0, 0.36533856),\n",
              "  (1, 0.6223518),\n",
              "  (2, 0.0015386718),\n",
              "  (3, 0.0015388026),\n",
              "  (4, 0.0015388237),\n",
              "  (5, 0.0015385387),\n",
              "  (6, 0.0015385936),\n",
              "  (7, 0.0015387214),\n",
              "  (8, 0.0015387643),\n",
              "  (9, 0.0015386926)],\n",
              " [(0, 0.0038464055),\n",
              "  (1, 0.0038466582),\n",
              "  (2, 0.9653801),\n",
              "  (3, 0.0038473296),\n",
              "  (4, 0.0038469273),\n",
              "  (5, 0.003846304),\n",
              "  (6, 0.00384636),\n",
              "  (7, 0.0038465972),\n",
              "  (8, 0.0038467103),\n",
              "  (9, 0.0038465906)],\n",
              " [(0, 0.0014086196),\n",
              "  (1, 0.0014086579),\n",
              "  (2, 0.0014087803),\n",
              "  (3, 0.001408852),\n",
              "  (4, 0.9873217),\n",
              "  (5, 0.0014085664),\n",
              "  (6, 0.0014085544),\n",
              "  (7, 0.0014086862),\n",
              "  (8, 0.0014088759),\n",
              "  (9, 0.0014087547)],\n",
              " [(0, 0.0016394855),\n",
              "  (1, 0.0016394887),\n",
              "  (2, 0.0016396444),\n",
              "  (3, 0.0016397631),\n",
              "  (4, 0.9852438),\n",
              "  (5, 0.0016394159),\n",
              "  (6, 0.0016395476),\n",
              "  (7, 0.001639479),\n",
              "  (8, 0.0016396411),\n",
              "  (9, 0.0016397313)],\n",
              " [(0, 0.0012502108),\n",
              "  (1, 0.0012501575),\n",
              "  (2, 0.0012504358),\n",
              "  (3, 0.9658898),\n",
              "  (4, 0.0012503817),\n",
              "  (5, 0.0012500961),\n",
              "  (6, 0.0012501167),\n",
              "  (7, 0.001250251),\n",
              "  (8, 0.0012502413),\n",
              "  (9, 0.024108294)],\n",
              " [(0, 0.0012987882),\n",
              "  (1, 0.0012988782),\n",
              "  (2, 0.0012988991),\n",
              "  (3, 0.001298886),\n",
              "  (4, 0.9883101),\n",
              "  (5, 0.0012988093),\n",
              "  (6, 0.0012988849),\n",
              "  (7, 0.0012989031),\n",
              "  (8, 0.0012988446),\n",
              "  (9, 0.0012990435)],\n",
              " [(0, 0.0016668217),\n",
              "  (1, 0.0016668183),\n",
              "  (2, 0.0016669868),\n",
              "  (3, 0.0016669274),\n",
              "  (4, 0.0016670943),\n",
              "  (5, 0.0016667882),\n",
              "  (6, 0.98499787),\n",
              "  (7, 0.0016668352),\n",
              "  (8, 0.0016668983),\n",
              "  (9, 0.0016669611)],\n",
              " [(0, 0.0006667908),\n",
              "  (1, 0.00066675973),\n",
              "  (2, 0.00066681526),\n",
              "  (3, 0.00066675665),\n",
              "  (4, 0.9939991),\n",
              "  (5, 0.00066669594),\n",
              "  (6, 0.0006667376),\n",
              "  (7, 0.0006667676),\n",
              "  (8, 0.0006667795),\n",
              "  (9, 0.0006668094)],\n",
              " [(0, 0.0012824486),\n",
              "  (1, 0.00128224),\n",
              "  (2, 0.98845947),\n",
              "  (3, 0.0012823332),\n",
              "  (4, 0.0012823164),\n",
              "  (5, 0.0012821842),\n",
              "  (6, 0.0012821379),\n",
              "  (7, 0.0012822457),\n",
              "  (8, 0.0012823979),\n",
              "  (9, 0.0012822537)],\n",
              " [(0, 0.9892842),\n",
              "  (1, 0.0011905519),\n",
              "  (2, 0.0011907199),\n",
              "  (3, 0.001190698),\n",
              "  (4, 0.0011906552),\n",
              "  (5, 0.0011905289),\n",
              "  (6, 0.0011905689),\n",
              "  (7, 0.0011906616),\n",
              "  (8, 0.0011906489),\n",
              "  (9, 0.0011906928)],\n",
              " [(0, 0.0014708102),\n",
              "  (1, 0.001470782),\n",
              "  (2, 0.0014709211),\n",
              "  (3, 0.0014709259),\n",
              "  (4, 0.21580514),\n",
              "  (5, 0.56815857),\n",
              "  (6, 0.0014707285),\n",
              "  (7, 0.20574036),\n",
              "  (8, 0.0014709531),\n",
              "  (9, 0.0014708478)],\n",
              " [(0, 0.0014709192),\n",
              "  (1, 0.0014708713),\n",
              "  (2, 0.0014707996),\n",
              "  (3, 0.0014708377),\n",
              "  (4, 0.0014708024),\n",
              "  (5, 0.001470633),\n",
              "  (6, 0.0014706358),\n",
              "  (7, 0.0014706178),\n",
              "  (8, 0.9867631),\n",
              "  (9, 0.0014707823)],\n",
              " [(0, 0.0013892124),\n",
              "  (1, 0.987498),\n",
              "  (2, 0.0013891188),\n",
              "  (3, 0.0013891868),\n",
              "  (4, 0.0013891569),\n",
              "  (5, 0.00138907),\n",
              "  (6, 0.001388993),\n",
              "  (7, 0.0013890009),\n",
              "  (8, 0.0013891584),\n",
              "  (9, 0.0013890864)],\n",
              " [(0, 0.0013159695),\n",
              "  (1, 0.0013159672),\n",
              "  (2, 0.0013159317),\n",
              "  (3, 0.98815656),\n",
              "  (4, 0.0013160158),\n",
              "  (5, 0.0013158497),\n",
              "  (6, 0.0013158428),\n",
              "  (7, 0.0013158885),\n",
              "  (8, 0.0013159811),\n",
              "  (9, 0.0013159476)],\n",
              " [(0, 0.98988694),\n",
              "  (1, 0.0011237026),\n",
              "  (2, 0.0011236484),\n",
              "  (3, 0.0011236842),\n",
              "  (4, 0.0011236791),\n",
              "  (5, 0.0011236784),\n",
              "  (6, 0.0011236187),\n",
              "  (7, 0.0011236669),\n",
              "  (8, 0.0011237045),\n",
              "  (9, 0.0011236549)],\n",
              " [(0, 0.9884604),\n",
              "  (1, 0.0012822098),\n",
              "  (2, 0.0012822086),\n",
              "  (3, 0.0012822142),\n",
              "  (4, 0.0012821979),\n",
              "  (5, 0.0012821126),\n",
              "  (6, 0.0012821021),\n",
              "  (7, 0.0012821036),\n",
              "  (8, 0.0012822322),\n",
              "  (9, 0.0012821748)],\n",
              " [(0, 0.0037052194),\n",
              "  (1, 0.003704603),\n",
              "  (2, 0.0037040215),\n",
              "  (3, 0.96666175),\n",
              "  (4, 0.0037041192),\n",
              "  (5, 0.003703733),\n",
              "  (6, 0.0037037337),\n",
              "  (7, 0.0037040066),\n",
              "  (8, 0.0037044594),\n",
              "  (9, 0.0037043616)],\n",
              " [(0, 0.4332236),\n",
              "  (1, 0.55596423),\n",
              "  (2, 0.0013514893),\n",
              "  (3, 0.0013514498),\n",
              "  (4, 0.001351534),\n",
              "  (5, 0.0013515977),\n",
              "  (6, 0.0013513947),\n",
              "  (7, 0.0013516201),\n",
              "  (8, 0.0013515457),\n",
              "  (9, 0.0013515308)],\n",
              " [(0, 0.42349446),\n",
              "  (1, 0.0011768129),\n",
              "  (2, 0.0011765877),\n",
              "  (3, 0.0011767762),\n",
              "  (4, 0.0011767254),\n",
              "  (5, 0.0011765546),\n",
              "  (6, 0.0011765483),\n",
              "  (7, 0.0011766643),\n",
              "  (8, 0.0011766994),\n",
              "  (9, 0.5670922)],\n",
              " [(0, 0.0013896605),\n",
              "  (1, 0.0013894183),\n",
              "  (2, 0.0013890577),\n",
              "  (3, 0.0013891909),\n",
              "  (4, 0.9874973),\n",
              "  (5, 0.0013890506),\n",
              "  (6, 0.0013889137),\n",
              "  (7, 0.001388988),\n",
              "  (8, 0.0013892177),\n",
              "  (9, 0.0013891798)],\n",
              " [(0, 0.0015875082),\n",
              "  (1, 0.0015873992),\n",
              "  (2, 0.0015874802),\n",
              "  (3, 0.985713),\n",
              "  (4, 0.0015874521),\n",
              "  (5, 0.001587358),\n",
              "  (6, 0.0015874007),\n",
              "  (7, 0.0015874696),\n",
              "  (8, 0.0015874726),\n",
              "  (9, 0.0015874879)],\n",
              " [(0, 0.0023815767),\n",
              "  (1, 0.0023813609),\n",
              "  (2, 0.9785685),\n",
              "  (3, 0.0023815923),\n",
              "  (4, 0.0023812253),\n",
              "  (5, 0.0023812335),\n",
              "  (6, 0.0023809648),\n",
              "  (7, 0.0023810265),\n",
              "  (8, 0.0023813043),\n",
              "  (9, 0.0023812333)],\n",
              " [(0, 0.0012347933),\n",
              "  (1, 0.77762914),\n",
              "  (2, 0.0012347533),\n",
              "  (3, 0.21249288),\n",
              "  (4, 0.0012347687),\n",
              "  (5, 0.0012346432),\n",
              "  (6, 0.0012346809),\n",
              "  (7, 0.0012346823),\n",
              "  (8, 0.0012348259),\n",
              "  (9, 0.0012347569)],\n",
              " [(0, 0.0018186291),\n",
              "  (1, 0.0018186991),\n",
              "  (2, 0.0018186372),\n",
              "  (3, 0.35297757),\n",
              "  (4, 0.6324744),\n",
              "  (5, 0.0018187419),\n",
              "  (6, 0.0018182524),\n",
              "  (7, 0.0018182226),\n",
              "  (8, 0.0018184014),\n",
              "  (9, 0.0018183611)],\n",
              " [(0, 0.0052643446),\n",
              "  (1, 0.0052641863),\n",
              "  (2, 0.9526229),\n",
              "  (3, 0.005263905),\n",
              "  (4, 0.0052644066),\n",
              "  (5, 0.005263485),\n",
              "  (6, 0.0052634547),\n",
              "  (7, 0.00526415),\n",
              "  (8, 0.005264677),\n",
              "  (9, 0.005264516)],\n",
              " [(0, 0.011113553),\n",
              "  (1, 0.011112275),\n",
              "  (2, 0.011111882),\n",
              "  (3, 0.0111121815),\n",
              "  (4, 0.0111114),\n",
              "  (5, 0.011111111),\n",
              "  (6, 0.011111111),\n",
              "  (7, 0.011111111),\n",
              "  (8, 0.01111175),\n",
              "  (9, 0.8999936)],\n",
              " [(0, 0.001852071),\n",
              "  (1, 0.0018527597),\n",
              "  (2, 0.0018523585),\n",
              "  (3, 0.0018523112),\n",
              "  (4, 0.98332983),\n",
              "  (5, 0.0018519522),\n",
              "  (6, 0.0018520348),\n",
              "  (7, 0.0018521444),\n",
              "  (8, 0.0018523065),\n",
              "  (9, 0.0018521971)],\n",
              " [(0, 0.0007520866),\n",
              "  (1, 0.00075201783),\n",
              "  (2, 0.00075197424),\n",
              "  (3, 0.0007520165),\n",
              "  (4, 0.00075203466),\n",
              "  (5, 0.0007519123),\n",
              "  (6, 0.000751944),\n",
              "  (7, 0.00075196306),\n",
              "  (8, 0.9932321),\n",
              "  (9, 0.0007520027)],\n",
              " [(0, 0.0015152796),\n",
              "  (1, 0.0015154016),\n",
              "  (2, 0.001515512),\n",
              "  (3, 0.0015153687),\n",
              "  (4, 0.0015154909),\n",
              "  (5, 0.0015153275),\n",
              "  (6, 0.0015152992),\n",
              "  (7, 0.0015153349),\n",
              "  (8, 0.98636144),\n",
              "  (9, 0.0015155778)],\n",
              " [(0, 0.0011766237),\n",
              "  (1, 0.0011766304),\n",
              "  (2, 0.0011767637),\n",
              "  (3, 0.0011766625),\n",
              "  (4, 0.9894099),\n",
              "  (5, 0.0011766261),\n",
              "  (6, 0.0011765831),\n",
              "  (7, 0.001176601),\n",
              "  (8, 0.001176734),\n",
              "  (9, 0.0011768595)],\n",
              " [(0, 0.00084761914),\n",
              "  (1, 0.9277731),\n",
              "  (2, 0.0008476408),\n",
              "  (3, 0.00084756623),\n",
              "  (4, 0.06544621),\n",
              "  (5, 0.00084748876),\n",
              "  (6, 0.00084757013),\n",
              "  (7, 0.00084752066),\n",
              "  (8, 0.00084765727),\n",
              "  (9, 0.00084761175)],\n",
              " [(0, 0.0017544851),\n",
              "  (1, 0.0017545128),\n",
              "  (2, 0.0017545965),\n",
              "  (3, 0.0017545752),\n",
              "  (4, 0.0017546149),\n",
              "  (5, 0.0017545143),\n",
              "  (6, 0.98420894),\n",
              "  (7, 0.0017544947),\n",
              "  (8, 0.0017546411),\n",
              "  (9, 0.001754608)],\n",
              " [(0, 0.0016396208),\n",
              "  (1, 0.0016395627),\n",
              "  (2, 0.0016395939),\n",
              "  (3, 0.0016397836),\n",
              "  (4, 0.9852438),\n",
              "  (5, 0.0016394705),\n",
              "  (6, 0.0016395429),\n",
              "  (7, 0.0016394429),\n",
              "  (8, 0.0016395983),\n",
              "  (9, 0.0016395835)],\n",
              " [(0, 0.0015385919),\n",
              "  (1, 0.0015386123),\n",
              "  (2, 0.0015386832),\n",
              "  (3, 0.0015387712),\n",
              "  (4, 0.001538756),\n",
              "  (5, 0.0015385696),\n",
              "  (6, 0.0015386707),\n",
              "  (7, 0.0015385823),\n",
              "  (8, 0.98615193),\n",
              "  (9, 0.0015387745)],\n",
              " [(0, 0.002127935),\n",
              "  (1, 0.0021279645),\n",
              "  (2, 0.002128229),\n",
              "  (3, 0.002128015),\n",
              "  (4, 0.0021280993),\n",
              "  (5, 0.0021277799),\n",
              "  (6, 0.002127869),\n",
              "  (7, 0.0021279352),\n",
              "  (8, 0.0021279964),\n",
              "  (9, 0.9808482)],\n",
              " [(0, 0.005263573),\n",
              "  (1, 0.0052634096),\n",
              "  (2, 0.0052638045),\n",
              "  (3, 0.005263758),\n",
              "  (4, 0.005263979),\n",
              "  (5, 0.005263275),\n",
              "  (6, 0.0052641807),\n",
              "  (7, 0.0052635544),\n",
              "  (8, 0.95262676),\n",
              "  (9, 0.0052637137)],\n",
              " [(0, 0.0023811716),\n",
              "  (1, 0.0023813874),\n",
              "  (2, 0.97856855),\n",
              "  (3, 0.0023811837),\n",
              "  (4, 0.0023812873),\n",
              "  (5, 0.002381046),\n",
              "  (6, 0.0023811844),\n",
              "  (7, 0.0023811338),\n",
              "  (8, 0.0023812435),\n",
              "  (9, 0.0023818344)],\n",
              " [(0, 0.005882421),\n",
              "  (1, 0.005883309),\n",
              "  (2, 0.005884229),\n",
              "  (3, 0.0058830096),\n",
              "  (4, 0.94704753),\n",
              "  (5, 0.00588243),\n",
              "  (6, 0.0058856937),\n",
              "  (7, 0.0058827894),\n",
              "  (8, 0.005883228),\n",
              "  (9, 0.005885318)]]"
            ]
          },
          "metadata": {
            "tags": []
          },
          "execution_count": 382
        }
      ]
    },
    {
      "cell_type": "code",
      "metadata": {
        "id": "s1mkDSmf60xO"
      },
      "source": [
        ""
      ],
      "execution_count": null,
      "outputs": []
    },
    {
      "cell_type": "code",
      "metadata": {
        "id": "lpCmjWbK_-3p"
      },
      "source": [
        ""
      ],
      "execution_count": null,
      "outputs": []
    },
    {
      "cell_type": "code",
      "metadata": {
        "id": "JsXLKZC8f_9W"
      },
      "source": [
        ""
      ],
      "execution_count": null,
      "outputs": []
    },
    {
      "cell_type": "markdown",
      "metadata": {
        "id": "veOxwhYchiKI"
      },
      "source": [
        ""
      ]
    }
  ]
}